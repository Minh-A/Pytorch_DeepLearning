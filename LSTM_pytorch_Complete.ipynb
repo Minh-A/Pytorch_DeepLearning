{
  "nbformat": 4,
  "nbformat_minor": 0,
  "metadata": {
    "colab": {
      "name": "LSTM_pytorch_1.ipynb",
      "provenance": [],
      "collapsed_sections": [],
      "toc_visible": true,
      "authorship_tag": "ABX9TyPJtyFQXPZ4/ik+ZUoSWE5K",
      "include_colab_link": true
    },
    "kernelspec": {
      "name": "python3",
      "display_name": "Python 3"
    },
    "accelerator": "GPU"
  },
  "cells": [
    {
      "cell_type": "markdown",
      "metadata": {
        "id": "view-in-github",
        "colab_type": "text"
      },
      "source": [
        "<a href=\"https://colab.research.google.com/github/Minh-A/Pytorch_DeepLearning/blob/main/LSTM_pytorch_Complete.ipynb\" target=\"_parent\"><img src=\"https://colab.research.google.com/assets/colab-badge.svg\" alt=\"Open In Colab\"/></a>"
      ]
    },
    {
      "cell_type": "markdown",
      "metadata": {
        "id": "Y_8ei1RXuJ9H"
      },
      "source": [
        "# Library"
      ]
    },
    {
      "cell_type": "code",
      "metadata": {
        "colab": {
          "base_uri": "https://localhost:8080/"
        },
        "id": "i8Z9rgdPu2Vp",
        "outputId": "d401ce76-24d2-4b53-b3ff-d2c9bcdace97"
      },
      "source": [
        "# 구글드라이브 연결\r\n",
        "from google.colab import drive\r\n",
        "drive.mount('/content/drive')"
      ],
      "execution_count": 1,
      "outputs": [
        {
          "output_type": "stream",
          "text": [
            "Mounted at /content/drive\n"
          ],
          "name": "stdout"
        }
      ]
    },
    {
      "cell_type": "code",
      "metadata": {
        "id": "xzzhI5Mgt5Il"
      },
      "source": [
        "import pandas as pd\r\n",
        "import numpy as np\r\n",
        "import warnings\r\n",
        "warnings.filterwarnings(action='ignore')\r\n",
        "import torch\r\n",
        "import torch.nn as nn\r\n",
        "import torch.nn.functional as F\r\n",
        "import torchvision\r\n",
        "import torchvision.transforms as transforms\r\n",
        "from torch.utils.data import Dataset,DataLoader\r\n",
        "import torch.optim as optim\r\n",
        "torch.manual_seed(1015) ###### <- 이거 뭐냐?(랜덤시드 같은 것)\r\n",
        "\r\n",
        "# define 'device' to upload tensor in gpu\r\n",
        "device = torch.device(\"cuda:0\" if torch.cuda.is_available() else \"cpu\")\r\n",
        "\r\n",
        "#시간을 계산하는 함수\r\n",
        "import time, datetime\r\n",
        "def clock(start):\r\n",
        "    sec = time.time() - start #현재시간 - 시스템초기시간\r\n",
        "    times = str(datetime.timedelta(seconds = sec)).split(\".\") # 시간:분:초로 변환\r\n",
        "    times = times[0]\r\n",
        "    return times"
      ],
      "execution_count": 2,
      "outputs": []
    },
    {
      "cell_type": "markdown",
      "metadata": {
        "id": "muM3grbHuNgS"
      },
      "source": [
        "# Data Load"
      ]
    },
    {
      "cell_type": "code",
      "metadata": {
        "id": "fMN_EN3St9ma"
      },
      "source": [
        "train = pd.read_csv(\"/content/drive/MyDrive/Colab Notebooks/LSTM_pytorch(Dacon)/input/train.csv\", encoding = 'euc-kr')\r\n",
        "train['DateTime'] = pd.to_datetime(train.DateTime)  # 데이터 타입을 object에서 datetime으로\r\n",
        "train['date'] = train.DateTime.dt.date  # 날짜만 뽑음\r\n",
        "train  = train.groupby('date').sum().reset_index()  # 날짜별로 묶음"
      ],
      "execution_count": 3,
      "outputs": []
    },
    {
      "cell_type": "code",
      "metadata": {
        "colab": {
          "base_uri": "https://localhost:8080/",
          "height": 419
        },
        "id": "HsydKfrIvkwl",
        "outputId": "6e16985f-85ae-4060-d218-e3528c21ebfb"
      },
      "source": [
        "train"
      ],
      "execution_count": 4,
      "outputs": [
        {
          "output_type": "execute_result",
          "data": {
            "text/html": [
              "<div>\n",
              "<style scoped>\n",
              "    .dataframe tbody tr th:only-of-type {\n",
              "        vertical-align: middle;\n",
              "    }\n",
              "\n",
              "    .dataframe tbody tr th {\n",
              "        vertical-align: top;\n",
              "    }\n",
              "\n",
              "    .dataframe thead th {\n",
              "        text-align: right;\n",
              "    }\n",
              "</style>\n",
              "<table border=\"1\" class=\"dataframe\">\n",
              "  <thead>\n",
              "    <tr style=\"text-align: right;\">\n",
              "      <th></th>\n",
              "      <th>date</th>\n",
              "      <th>사용자</th>\n",
              "      <th>세션</th>\n",
              "      <th>신규방문자</th>\n",
              "      <th>페이지뷰</th>\n",
              "    </tr>\n",
              "  </thead>\n",
              "  <tbody>\n",
              "    <tr>\n",
              "      <th>0</th>\n",
              "      <td>2018-09-09</td>\n",
              "      <td>281</td>\n",
              "      <td>266</td>\n",
              "      <td>73</td>\n",
              "      <td>1826</td>\n",
              "    </tr>\n",
              "    <tr>\n",
              "      <th>1</th>\n",
              "      <td>2018-09-10</td>\n",
              "      <td>264</td>\n",
              "      <td>247</td>\n",
              "      <td>51</td>\n",
              "      <td>2092</td>\n",
              "    </tr>\n",
              "    <tr>\n",
              "      <th>2</th>\n",
              "      <td>2018-09-11</td>\n",
              "      <td>329</td>\n",
              "      <td>310</td>\n",
              "      <td>58</td>\n",
              "      <td>1998</td>\n",
              "    </tr>\n",
              "    <tr>\n",
              "      <th>3</th>\n",
              "      <td>2018-09-12</td>\n",
              "      <td>300</td>\n",
              "      <td>287</td>\n",
              "      <td>45</td>\n",
              "      <td>2595</td>\n",
              "    </tr>\n",
              "    <tr>\n",
              "      <th>4</th>\n",
              "      <td>2018-09-13</td>\n",
              "      <td>378</td>\n",
              "      <td>344</td>\n",
              "      <td>50</td>\n",
              "      <td>3845</td>\n",
              "    </tr>\n",
              "    <tr>\n",
              "      <th>...</th>\n",
              "      <td>...</td>\n",
              "      <td>...</td>\n",
              "      <td>...</td>\n",
              "      <td>...</td>\n",
              "      <td>...</td>\n",
              "    </tr>\n",
              "    <tr>\n",
              "      <th>787</th>\n",
              "      <td>2020-11-04</td>\n",
              "      <td>4516</td>\n",
              "      <td>4472</td>\n",
              "      <td>1196</td>\n",
              "      <td>112683</td>\n",
              "    </tr>\n",
              "    <tr>\n",
              "      <th>788</th>\n",
              "      <td>2020-11-05</td>\n",
              "      <td>4155</td>\n",
              "      <td>4037</td>\n",
              "      <td>1044</td>\n",
              "      <td>102901</td>\n",
              "    </tr>\n",
              "    <tr>\n",
              "      <th>789</th>\n",
              "      <td>2020-11-06</td>\n",
              "      <td>3663</td>\n",
              "      <td>3576</td>\n",
              "      <td>825</td>\n",
              "      <td>88015</td>\n",
              "    </tr>\n",
              "    <tr>\n",
              "      <th>790</th>\n",
              "      <td>2020-11-07</td>\n",
              "      <td>2472</td>\n",
              "      <td>2417</td>\n",
              "      <td>531</td>\n",
              "      <td>57386</td>\n",
              "    </tr>\n",
              "    <tr>\n",
              "      <th>791</th>\n",
              "      <td>2020-11-08</td>\n",
              "      <td>2492</td>\n",
              "      <td>2420</td>\n",
              "      <td>522</td>\n",
              "      <td>50486</td>\n",
              "    </tr>\n",
              "  </tbody>\n",
              "</table>\n",
              "<p>792 rows × 5 columns</p>\n",
              "</div>"
            ],
            "text/plain": [
              "           date   사용자    세션  신규방문자    페이지뷰\n",
              "0    2018-09-09   281   266     73    1826\n",
              "1    2018-09-10   264   247     51    2092\n",
              "2    2018-09-11   329   310     58    1998\n",
              "3    2018-09-12   300   287     45    2595\n",
              "4    2018-09-13   378   344     50    3845\n",
              "..          ...   ...   ...    ...     ...\n",
              "787  2020-11-04  4516  4472   1196  112683\n",
              "788  2020-11-05  4155  4037   1044  102901\n",
              "789  2020-11-06  3663  3576    825   88015\n",
              "790  2020-11-07  2472  2417    531   57386\n",
              "791  2020-11-08  2492  2420    522   50486\n",
              "\n",
              "[792 rows x 5 columns]"
            ]
          },
          "metadata": {
            "tags": []
          },
          "execution_count": 4
        }
      ]
    },
    {
      "cell_type": "code",
      "metadata": {
        "colab": {
          "base_uri": "https://localhost:8080/"
        },
        "id": "dhBAoXcyEIyz",
        "outputId": "cd921c91-b52d-4a89-eef6-5d0d08a61462"
      },
      "source": [
        "792/30"
      ],
      "execution_count": 5,
      "outputs": [
        {
          "output_type": "execute_result",
          "data": {
            "text/plain": [
              "26.4"
            ]
          },
          "metadata": {
            "tags": []
          },
          "execution_count": 5
        }
      ]
    },
    {
      "cell_type": "code",
      "metadata": {
        "colab": {
          "base_uri": "https://localhost:8080/"
        },
        "id": "LRCST8A-DzpW",
        "outputId": "7198d5b1-f2a5-4526-efe4-fe6f64271c08"
      },
      "source": [
        "train['date']"
      ],
      "execution_count": null,
      "outputs": [
        {
          "output_type": "execute_result",
          "data": {
            "text/plain": [
              "0      2018-09-09\n",
              "1      2018-09-10\n",
              "2      2018-09-11\n",
              "3      2018-09-12\n",
              "4      2018-09-13\n",
              "          ...    \n",
              "787    2020-11-04\n",
              "788    2020-11-05\n",
              "789    2020-11-06\n",
              "790    2020-11-07\n",
              "791    2020-11-08\n",
              "Name: date, Length: 792, dtype: object"
            ]
          },
          "metadata": {
            "tags": []
          },
          "execution_count": 69
        }
      ]
    },
    {
      "cell_type": "markdown",
      "metadata": {
        "id": "a7Q6q5PUV8J6"
      },
      "source": [
        "# 데이터 불러오기"
      ]
    },
    {
      "cell_type": "code",
      "metadata": {
        "id": "tMGc4Aker6BD"
      },
      "source": [
        "# 그냥 한번\r\n",
        "train = pd.read_csv(\"/content/drive/MyDrive/Colab Notebooks/LSTM_pytorch(Dacon)/input/train.csv\", encoding = 'euc-kr')\r\n",
        "train['DateTime'] = pd.to_datetime(train.DateTime)  # 데이터 타입을 object에서 datetime으로"
      ],
      "execution_count": 109,
      "outputs": []
    },
    {
      "cell_type": "code",
      "metadata": {
        "colab": {
          "base_uri": "https://localhost:8080/",
          "height": 419
        },
        "id": "RHpG8hWAsA8M",
        "outputId": "be8ab746-0e90-4c50-fbee-c867e62e79d6"
      },
      "source": [
        "train"
      ],
      "execution_count": 110,
      "outputs": [
        {
          "output_type": "execute_result",
          "data": {
            "text/html": [
              "<div>\n",
              "<style scoped>\n",
              "    .dataframe tbody tr th:only-of-type {\n",
              "        vertical-align: middle;\n",
              "    }\n",
              "\n",
              "    .dataframe tbody tr th {\n",
              "        vertical-align: top;\n",
              "    }\n",
              "\n",
              "    .dataframe thead th {\n",
              "        text-align: right;\n",
              "    }\n",
              "</style>\n",
              "<table border=\"1\" class=\"dataframe\">\n",
              "  <thead>\n",
              "    <tr style=\"text-align: right;\">\n",
              "      <th></th>\n",
              "      <th>DateTime</th>\n",
              "      <th>사용자</th>\n",
              "      <th>세션</th>\n",
              "      <th>신규방문자</th>\n",
              "      <th>페이지뷰</th>\n",
              "    </tr>\n",
              "  </thead>\n",
              "  <tbody>\n",
              "    <tr>\n",
              "      <th>0</th>\n",
              "      <td>2018-09-09 00:00:00</td>\n",
              "      <td>19</td>\n",
              "      <td>19</td>\n",
              "      <td>8</td>\n",
              "      <td>206</td>\n",
              "    </tr>\n",
              "    <tr>\n",
              "      <th>1</th>\n",
              "      <td>2018-09-09 01:00:00</td>\n",
              "      <td>20</td>\n",
              "      <td>19</td>\n",
              "      <td>9</td>\n",
              "      <td>259</td>\n",
              "    </tr>\n",
              "    <tr>\n",
              "      <th>2</th>\n",
              "      <td>2018-09-09 02:00:00</td>\n",
              "      <td>12</td>\n",
              "      <td>9</td>\n",
              "      <td>1</td>\n",
              "      <td>48</td>\n",
              "    </tr>\n",
              "    <tr>\n",
              "      <th>3</th>\n",
              "      <td>2018-09-09 03:00:00</td>\n",
              "      <td>10</td>\n",
              "      <td>10</td>\n",
              "      <td>2</td>\n",
              "      <td>102</td>\n",
              "    </tr>\n",
              "    <tr>\n",
              "      <th>4</th>\n",
              "      <td>2018-09-09 04:00:00</td>\n",
              "      <td>6</td>\n",
              "      <td>5</td>\n",
              "      <td>3</td>\n",
              "      <td>18</td>\n",
              "    </tr>\n",
              "    <tr>\n",
              "      <th>...</th>\n",
              "      <td>...</td>\n",
              "      <td>...</td>\n",
              "      <td>...</td>\n",
              "      <td>...</td>\n",
              "      <td>...</td>\n",
              "    </tr>\n",
              "    <tr>\n",
              "      <th>19003</th>\n",
              "      <td>2020-11-08 19:00:00</td>\n",
              "      <td>124</td>\n",
              "      <td>123</td>\n",
              "      <td>19</td>\n",
              "      <td>3128</td>\n",
              "    </tr>\n",
              "    <tr>\n",
              "      <th>19004</th>\n",
              "      <td>2020-11-08 20:00:00</td>\n",
              "      <td>166</td>\n",
              "      <td>159</td>\n",
              "      <td>29</td>\n",
              "      <td>4864</td>\n",
              "    </tr>\n",
              "    <tr>\n",
              "      <th>19005</th>\n",
              "      <td>2020-11-08 21:00:00</td>\n",
              "      <td>184</td>\n",
              "      <td>173</td>\n",
              "      <td>32</td>\n",
              "      <td>3426</td>\n",
              "    </tr>\n",
              "    <tr>\n",
              "      <th>19006</th>\n",
              "      <td>2020-11-08 22:00:00</td>\n",
              "      <td>163</td>\n",
              "      <td>155</td>\n",
              "      <td>34</td>\n",
              "      <td>2845</td>\n",
              "    </tr>\n",
              "    <tr>\n",
              "      <th>19007</th>\n",
              "      <td>2020-11-08 23:00:00</td>\n",
              "      <td>160</td>\n",
              "      <td>152</td>\n",
              "      <td>33</td>\n",
              "      <td>3293</td>\n",
              "    </tr>\n",
              "  </tbody>\n",
              "</table>\n",
              "<p>19008 rows × 5 columns</p>\n",
              "</div>"
            ],
            "text/plain": [
              "                 DateTime  사용자   세션  신규방문자  페이지뷰\n",
              "0     2018-09-09 00:00:00   19   19      8   206\n",
              "1     2018-09-09 01:00:00   20   19      9   259\n",
              "2     2018-09-09 02:00:00   12    9      1    48\n",
              "3     2018-09-09 03:00:00   10   10      2   102\n",
              "4     2018-09-09 04:00:00    6    5      3    18\n",
              "...                   ...  ...  ...    ...   ...\n",
              "19003 2020-11-08 19:00:00  124  123     19  3128\n",
              "19004 2020-11-08 20:00:00  166  159     29  4864\n",
              "19005 2020-11-08 21:00:00  184  173     32  3426\n",
              "19006 2020-11-08 22:00:00  163  155     34  2845\n",
              "19007 2020-11-08 23:00:00  160  152     33  3293\n",
              "\n",
              "[19008 rows x 5 columns]"
            ]
          },
          "metadata": {
            "tags": []
          },
          "execution_count": 110
        }
      ]
    },
    {
      "cell_type": "code",
      "metadata": {
        "id": "-9Q7b_K0DCai"
      },
      "source": [
        "train['date'] = pd.to_datetime(train['date'])"
      ],
      "execution_count": null,
      "outputs": []
    },
    {
      "cell_type": "code",
      "metadata": {
        "id": "AFCKNYl9DKRw"
      },
      "source": [
        "train['YearMonth'] = train['date'].dt.to_period('M')\r\n",
        "year_month = train.groupby('YearMonth').mean().reset_index()"
      ],
      "execution_count": null,
      "outputs": []
    },
    {
      "cell_type": "code",
      "metadata": {
        "colab": {
          "base_uri": "https://localhost:8080/",
          "height": 204
        },
        "id": "BN31rFusDNWT",
        "outputId": "5296daa1-a594-4583-c70e-dacdfa339867"
      },
      "source": [
        "year_month.head()"
      ],
      "execution_count": null,
      "outputs": [
        {
          "output_type": "execute_result",
          "data": {
            "text/html": [
              "<div>\n",
              "<style scoped>\n",
              "    .dataframe tbody tr th:only-of-type {\n",
              "        vertical-align: middle;\n",
              "    }\n",
              "\n",
              "    .dataframe tbody tr th {\n",
              "        vertical-align: top;\n",
              "    }\n",
              "\n",
              "    .dataframe thead th {\n",
              "        text-align: right;\n",
              "    }\n",
              "</style>\n",
              "<table border=\"1\" class=\"dataframe\">\n",
              "  <thead>\n",
              "    <tr style=\"text-align: right;\">\n",
              "      <th></th>\n",
              "      <th>YearMonth</th>\n",
              "      <th>사용자</th>\n",
              "      <th>세션</th>\n",
              "      <th>신규방문자</th>\n",
              "      <th>페이지뷰</th>\n",
              "    </tr>\n",
              "  </thead>\n",
              "  <tbody>\n",
              "    <tr>\n",
              "      <th>0</th>\n",
              "      <td>2018-09</td>\n",
              "      <td>226.409091</td>\n",
              "      <td>213.409091</td>\n",
              "      <td>47.227273</td>\n",
              "      <td>1615.590909</td>\n",
              "    </tr>\n",
              "    <tr>\n",
              "      <th>1</th>\n",
              "      <td>2018-10</td>\n",
              "      <td>149.129032</td>\n",
              "      <td>148.774194</td>\n",
              "      <td>53.064516</td>\n",
              "      <td>909.645161</td>\n",
              "    </tr>\n",
              "    <tr>\n",
              "      <th>2</th>\n",
              "      <td>2018-11</td>\n",
              "      <td>222.233333</td>\n",
              "      <td>226.066667</td>\n",
              "      <td>84.033333</td>\n",
              "      <td>1704.900000</td>\n",
              "    </tr>\n",
              "    <tr>\n",
              "      <th>3</th>\n",
              "      <td>2018-12</td>\n",
              "      <td>236.161290</td>\n",
              "      <td>234.064516</td>\n",
              "      <td>63.774194</td>\n",
              "      <td>2245.741935</td>\n",
              "    </tr>\n",
              "    <tr>\n",
              "      <th>4</th>\n",
              "      <td>2019-01</td>\n",
              "      <td>302.387097</td>\n",
              "      <td>300.870968</td>\n",
              "      <td>84.032258</td>\n",
              "      <td>2434.612903</td>\n",
              "    </tr>\n",
              "  </tbody>\n",
              "</table>\n",
              "</div>"
            ],
            "text/plain": [
              "  YearMonth         사용자          세션      신규방문자         페이지뷰\n",
              "0   2018-09  226.409091  213.409091  47.227273  1615.590909\n",
              "1   2018-10  149.129032  148.774194  53.064516   909.645161\n",
              "2   2018-11  222.233333  226.066667  84.033333  1704.900000\n",
              "3   2018-12  236.161290  234.064516  63.774194  2245.741935\n",
              "4   2019-01  302.387097  300.870968  84.032258  2434.612903"
            ]
          },
          "metadata": {
            "tags": []
          },
          "execution_count": 58
        }
      ]
    },
    {
      "cell_type": "code",
      "metadata": {
        "colab": {
          "base_uri": "https://localhost:8080/",
          "height": 1000
        },
        "id": "Gr__eOsSDRIt",
        "outputId": "c392de2e-3b28-43cd-8474-9069ef220f06"
      },
      "source": [
        "#시각화\r\n",
        "import os.path\r\n",
        "import pandas as pd\r\n",
        "import matplotlib.pyplot as plt\r\n",
        "\r\n",
        "fig, axes = plt.subplots(4, 1, figsize=(14, 20))\r\n",
        "axes[0].plot(year_month['YearMonth'].dt.strftime('%y%m'), year_month['사용자'], 'r')\r\n",
        "axes[1].plot(year_month['YearMonth'].dt.strftime('%y%m'), year_month['세션'], 'g')\r\n",
        "axes[2].plot(year_month['YearMonth'].dt.strftime('%y%m'), year_month['신규방문자'], 'b')\r\n",
        "axes[3].plot(year_month['YearMonth'].dt.strftime('%y%m'), year_month['페이지뷰'], 'c')\r\n",
        "\r\n",
        "for i, title in enumerate(['Users', 'Sessions', 'NewVisitors', 'PageViews']):\r\n",
        "    axes[i].set_title(title)\r\n",
        "plt.show()"
      ],
      "execution_count": null,
      "outputs": [
        {
          "output_type": "display_data",
          "data": {
            "image/png": "[encoded data removed]",
            "text/plain": [
              "<Figure size 1008x1440 with 4 Axes>"
            ]
          },
          "metadata": {
            "tags": [],
            "needs_background": "light"
          }
        }
      ]
    },
    {
      "cell_type": "code",
      "metadata": {
        "colab": {
          "base_uri": "https://localhost:8080/"
        },
        "id": "ERJSxyoICFLg",
        "outputId": "95fc2fcf-7317-40f9-d267-a987559974f5"
      },
      "source": [
        "#시각화\r\n",
        "import os.path\r\n",
        "import pandas as pd\r\n",
        "import matplotlib.pyplot as plt\r\n",
        "\r\n",
        "\r\n",
        "train.iloc[:,2].plot"
      ],
      "execution_count": null,
      "outputs": [
        {
          "output_type": "execute_result",
          "data": {
            "text/plain": [
              "<pandas.plotting._core.PlotAccessor object at 0x7f62f5b86320>"
            ]
          },
          "metadata": {
            "tags": []
          },
          "execution_count": 52
        }
      ]
    },
    {
      "cell_type": "code",
      "metadata": {
        "colab": {
          "base_uri": "https://localhost:8080/",
          "height": 419
        },
        "id": "CeNxRcAsDsJ_",
        "outputId": "e5b1dfcb-4423-49aa-a975-7a78aa010235"
      },
      "source": [
        "train"
      ],
      "execution_count": null,
      "outputs": [
        {
          "output_type": "execute_result",
          "data": {
            "text/html": [
              "<div>\n",
              "<style scoped>\n",
              "    .dataframe tbody tr th:only-of-type {\n",
              "        vertical-align: middle;\n",
              "    }\n",
              "\n",
              "    .dataframe tbody tr th {\n",
              "        vertical-align: top;\n",
              "    }\n",
              "\n",
              "    .dataframe thead th {\n",
              "        text-align: right;\n",
              "    }\n",
              "</style>\n",
              "<table border=\"1\" class=\"dataframe\">\n",
              "  <thead>\n",
              "    <tr style=\"text-align: right;\">\n",
              "      <th></th>\n",
              "      <th>date</th>\n",
              "      <th>사용자</th>\n",
              "      <th>세션</th>\n",
              "      <th>신규방문자</th>\n",
              "      <th>페이지뷰</th>\n",
              "      <th>YearMonth</th>\n",
              "    </tr>\n",
              "  </thead>\n",
              "  <tbody>\n",
              "    <tr>\n",
              "      <th>0</th>\n",
              "      <td>2018-09-09</td>\n",
              "      <td>281</td>\n",
              "      <td>266</td>\n",
              "      <td>73</td>\n",
              "      <td>1826</td>\n",
              "      <td>2018-09</td>\n",
              "    </tr>\n",
              "    <tr>\n",
              "      <th>1</th>\n",
              "      <td>2018-09-10</td>\n",
              "      <td>264</td>\n",
              "      <td>247</td>\n",
              "      <td>51</td>\n",
              "      <td>2092</td>\n",
              "      <td>2018-09</td>\n",
              "    </tr>\n",
              "    <tr>\n",
              "      <th>2</th>\n",
              "      <td>2018-09-11</td>\n",
              "      <td>329</td>\n",
              "      <td>310</td>\n",
              "      <td>58</td>\n",
              "      <td>1998</td>\n",
              "      <td>2018-09</td>\n",
              "    </tr>\n",
              "    <tr>\n",
              "      <th>3</th>\n",
              "      <td>2018-09-12</td>\n",
              "      <td>300</td>\n",
              "      <td>287</td>\n",
              "      <td>45</td>\n",
              "      <td>2595</td>\n",
              "      <td>2018-09</td>\n",
              "    </tr>\n",
              "    <tr>\n",
              "      <th>4</th>\n",
              "      <td>2018-09-13</td>\n",
              "      <td>378</td>\n",
              "      <td>344</td>\n",
              "      <td>50</td>\n",
              "      <td>3845</td>\n",
              "      <td>2018-09</td>\n",
              "    </tr>\n",
              "    <tr>\n",
              "      <th>...</th>\n",
              "      <td>...</td>\n",
              "      <td>...</td>\n",
              "      <td>...</td>\n",
              "      <td>...</td>\n",
              "      <td>...</td>\n",
              "      <td>...</td>\n",
              "    </tr>\n",
              "    <tr>\n",
              "      <th>787</th>\n",
              "      <td>2020-11-04</td>\n",
              "      <td>4516</td>\n",
              "      <td>4472</td>\n",
              "      <td>1196</td>\n",
              "      <td>112683</td>\n",
              "      <td>2020-11</td>\n",
              "    </tr>\n",
              "    <tr>\n",
              "      <th>788</th>\n",
              "      <td>2020-11-05</td>\n",
              "      <td>4155</td>\n",
              "      <td>4037</td>\n",
              "      <td>1044</td>\n",
              "      <td>102901</td>\n",
              "      <td>2020-11</td>\n",
              "    </tr>\n",
              "    <tr>\n",
              "      <th>789</th>\n",
              "      <td>2020-11-06</td>\n",
              "      <td>3663</td>\n",
              "      <td>3576</td>\n",
              "      <td>825</td>\n",
              "      <td>88015</td>\n",
              "      <td>2020-11</td>\n",
              "    </tr>\n",
              "    <tr>\n",
              "      <th>790</th>\n",
              "      <td>2020-11-07</td>\n",
              "      <td>2472</td>\n",
              "      <td>2417</td>\n",
              "      <td>531</td>\n",
              "      <td>57386</td>\n",
              "      <td>2020-11</td>\n",
              "    </tr>\n",
              "    <tr>\n",
              "      <th>791</th>\n",
              "      <td>2020-11-08</td>\n",
              "      <td>2492</td>\n",
              "      <td>2420</td>\n",
              "      <td>522</td>\n",
              "      <td>50486</td>\n",
              "      <td>2020-11</td>\n",
              "    </tr>\n",
              "  </tbody>\n",
              "</table>\n",
              "<p>792 rows × 6 columns</p>\n",
              "</div>"
            ],
            "text/plain": [
              "          date   사용자    세션  신규방문자    페이지뷰 YearMonth\n",
              "0   2018-09-09   281   266     73    1826   2018-09\n",
              "1   2018-09-10   264   247     51    2092   2018-09\n",
              "2   2018-09-11   329   310     58    1998   2018-09\n",
              "3   2018-09-12   300   287     45    2595   2018-09\n",
              "4   2018-09-13   378   344     50    3845   2018-09\n",
              "..         ...   ...   ...    ...     ...       ...\n",
              "787 2020-11-04  4516  4472   1196  112683   2020-11\n",
              "788 2020-11-05  4155  4037   1044  102901   2020-11\n",
              "789 2020-11-06  3663  3576    825   88015   2020-11\n",
              "790 2020-11-07  2472  2417    531   57386   2020-11\n",
              "791 2020-11-08  2492  2420    522   50486   2020-11\n",
              "\n",
              "[792 rows x 6 columns]"
            ]
          },
          "metadata": {
            "tags": []
          },
          "execution_count": 62
        }
      ]
    },
    {
      "cell_type": "code",
      "metadata": {
        "id": "p1VZxE3KEa8-"
      },
      "source": [
        "train['date'] = pd.to_datetime(train['date'])"
      ],
      "execution_count": null,
      "outputs": []
    },
    {
      "cell_type": "code",
      "metadata": {
        "id": "dzF10VHaEW6Y"
      },
      "source": [
        "train['YearMonth'] = train['date'].dt.to_period('D')\r\n",
        "year_month = train.groupby('YearMonth').mean().reset_index()"
      ],
      "execution_count": null,
      "outputs": []
    },
    {
      "cell_type": "code",
      "metadata": {
        "colab": {
          "base_uri": "https://localhost:8080/",
          "height": 419
        },
        "id": "coktPw7hEl97",
        "outputId": "ab29117e-60ab-41a2-dc23-9a6144e40394"
      },
      "source": [
        "year_month"
      ],
      "execution_count": null,
      "outputs": [
        {
          "output_type": "execute_result",
          "data": {
            "text/html": [
              "<div>\n",
              "<style scoped>\n",
              "    .dataframe tbody tr th:only-of-type {\n",
              "        vertical-align: middle;\n",
              "    }\n",
              "\n",
              "    .dataframe tbody tr th {\n",
              "        vertical-align: top;\n",
              "    }\n",
              "\n",
              "    .dataframe thead th {\n",
              "        text-align: right;\n",
              "    }\n",
              "</style>\n",
              "<table border=\"1\" class=\"dataframe\">\n",
              "  <thead>\n",
              "    <tr style=\"text-align: right;\">\n",
              "      <th></th>\n",
              "      <th>YearMonth</th>\n",
              "      <th>사용자</th>\n",
              "      <th>세션</th>\n",
              "      <th>신규방문자</th>\n",
              "      <th>페이지뷰</th>\n",
              "    </tr>\n",
              "  </thead>\n",
              "  <tbody>\n",
              "    <tr>\n",
              "      <th>0</th>\n",
              "      <td>2018-09-09</td>\n",
              "      <td>281</td>\n",
              "      <td>266</td>\n",
              "      <td>73</td>\n",
              "      <td>1826</td>\n",
              "    </tr>\n",
              "    <tr>\n",
              "      <th>1</th>\n",
              "      <td>2018-09-10</td>\n",
              "      <td>264</td>\n",
              "      <td>247</td>\n",
              "      <td>51</td>\n",
              "      <td>2092</td>\n",
              "    </tr>\n",
              "    <tr>\n",
              "      <th>2</th>\n",
              "      <td>2018-09-11</td>\n",
              "      <td>329</td>\n",
              "      <td>310</td>\n",
              "      <td>58</td>\n",
              "      <td>1998</td>\n",
              "    </tr>\n",
              "    <tr>\n",
              "      <th>3</th>\n",
              "      <td>2018-09-12</td>\n",
              "      <td>300</td>\n",
              "      <td>287</td>\n",
              "      <td>45</td>\n",
              "      <td>2595</td>\n",
              "    </tr>\n",
              "    <tr>\n",
              "      <th>4</th>\n",
              "      <td>2018-09-13</td>\n",
              "      <td>378</td>\n",
              "      <td>344</td>\n",
              "      <td>50</td>\n",
              "      <td>3845</td>\n",
              "    </tr>\n",
              "    <tr>\n",
              "      <th>...</th>\n",
              "      <td>...</td>\n",
              "      <td>...</td>\n",
              "      <td>...</td>\n",
              "      <td>...</td>\n",
              "      <td>...</td>\n",
              "    </tr>\n",
              "    <tr>\n",
              "      <th>787</th>\n",
              "      <td>2020-11-04</td>\n",
              "      <td>4516</td>\n",
              "      <td>4472</td>\n",
              "      <td>1196</td>\n",
              "      <td>112683</td>\n",
              "    </tr>\n",
              "    <tr>\n",
              "      <th>788</th>\n",
              "      <td>2020-11-05</td>\n",
              "      <td>4155</td>\n",
              "      <td>4037</td>\n",
              "      <td>1044</td>\n",
              "      <td>102901</td>\n",
              "    </tr>\n",
              "    <tr>\n",
              "      <th>789</th>\n",
              "      <td>2020-11-06</td>\n",
              "      <td>3663</td>\n",
              "      <td>3576</td>\n",
              "      <td>825</td>\n",
              "      <td>88015</td>\n",
              "    </tr>\n",
              "    <tr>\n",
              "      <th>790</th>\n",
              "      <td>2020-11-07</td>\n",
              "      <td>2472</td>\n",
              "      <td>2417</td>\n",
              "      <td>531</td>\n",
              "      <td>57386</td>\n",
              "    </tr>\n",
              "    <tr>\n",
              "      <th>791</th>\n",
              "      <td>2020-11-08</td>\n",
              "      <td>2492</td>\n",
              "      <td>2420</td>\n",
              "      <td>522</td>\n",
              "      <td>50486</td>\n",
              "    </tr>\n",
              "  </tbody>\n",
              "</table>\n",
              "<p>792 rows × 5 columns</p>\n",
              "</div>"
            ],
            "text/plain": [
              "      YearMonth   사용자    세션  신규방문자    페이지뷰\n",
              "0    2018-09-09   281   266     73    1826\n",
              "1    2018-09-10   264   247     51    2092\n",
              "2    2018-09-11   329   310     58    1998\n",
              "3    2018-09-12   300   287     45    2595\n",
              "4    2018-09-13   378   344     50    3845\n",
              "..          ...   ...   ...    ...     ...\n",
              "787  2020-11-04  4516  4472   1196  112683\n",
              "788  2020-11-05  4155  4037   1044  102901\n",
              "789  2020-11-06  3663  3576    825   88015\n",
              "790  2020-11-07  2472  2417    531   57386\n",
              "791  2020-11-08  2492  2420    522   50486\n",
              "\n",
              "[792 rows x 5 columns]"
            ]
          },
          "metadata": {
            "tags": []
          },
          "execution_count": 78
        }
      ]
    },
    {
      "cell_type": "code",
      "metadata": {
        "colab": {
          "base_uri": "https://localhost:8080/",
          "height": 1000
        },
        "id": "hl9TnGJtA59p",
        "outputId": "95a23bd4-16e4-4c2e-87d6-00dc9b0f8ab2"
      },
      "source": [
        "#시각화\r\n",
        "import os.path\r\n",
        "import pandas as pd\r\n",
        "import matplotlib.pyplot as plt\r\n",
        "\r\n",
        "fig, axes = plt.subplots(4, 1, figsize=(14, 20))\r\n",
        "axes[0].plot(train['YearMonth'].dt.strftime('%y%m%d'), train['사용자'], 'r')\r\n",
        "axes[1].plot(train['YearMonth'].dt.strftime('%y%m%d'), train['세션'], 'g')\r\n",
        "axes[2].plot(train['YearMonth'].dt.strftime('%y%m%d'), train['신규방문자'], 'b')\r\n",
        "axes[3].plot(train['YearMonth'].dt.strftime('%y%m%d'), train['페이지뷰'], 'c')\r\n",
        "\r\n",
        "for i, title in enumerate(['Users', 'Sessions', 'NewVisitors', 'PageViews']):\r\n",
        "    axes[i].set_title(title)\r\n",
        "plt.show()"
      ],
      "execution_count": null,
      "outputs": [
        {
          "output_type": "display_data",
          "data": {
            "image/png": "[encoded data removed]",
            "text/plain": [
              "<Figure size 1008x1440 with 4 Axes>"
            ]
          },
          "metadata": {
            "tags": [],
            "needs_background": "light"
          }
        }
      ]
    },
    {
      "cell_type": "code",
      "metadata": {
        "colab": {
          "base_uri": "https://localhost:8080/",
          "height": 419
        },
        "id": "RhMBvNypG7if",
        "outputId": "8d2d0f2c-7497-4640-f093-ad39e4bc2b12"
      },
      "source": [
        "train"
      ],
      "execution_count": null,
      "outputs": [
        {
          "output_type": "execute_result",
          "data": {
            "text/html": [
              "<div>\n",
              "<style scoped>\n",
              "    .dataframe tbody tr th:only-of-type {\n",
              "        vertical-align: middle;\n",
              "    }\n",
              "\n",
              "    .dataframe tbody tr th {\n",
              "        vertical-align: top;\n",
              "    }\n",
              "\n",
              "    .dataframe thead th {\n",
              "        text-align: right;\n",
              "    }\n",
              "</style>\n",
              "<table border=\"1\" class=\"dataframe\">\n",
              "  <thead>\n",
              "    <tr style=\"text-align: right;\">\n",
              "      <th></th>\n",
              "      <th>DateTime</th>\n",
              "      <th>사용자</th>\n",
              "      <th>세션</th>\n",
              "      <th>신규방문자</th>\n",
              "      <th>페이지뷰</th>\n",
              "      <th>Hour</th>\n",
              "      <th>WeekDay</th>\n",
              "    </tr>\n",
              "  </thead>\n",
              "  <tbody>\n",
              "    <tr>\n",
              "      <th>0</th>\n",
              "      <td>2018-09-09 00:00:00</td>\n",
              "      <td>19</td>\n",
              "      <td>19</td>\n",
              "      <td>8</td>\n",
              "      <td>206</td>\n",
              "      <td>0</td>\n",
              "      <td>6</td>\n",
              "    </tr>\n",
              "    <tr>\n",
              "      <th>1</th>\n",
              "      <td>2018-09-09 01:00:00</td>\n",
              "      <td>20</td>\n",
              "      <td>19</td>\n",
              "      <td>9</td>\n",
              "      <td>259</td>\n",
              "      <td>1</td>\n",
              "      <td>6</td>\n",
              "    </tr>\n",
              "    <tr>\n",
              "      <th>2</th>\n",
              "      <td>2018-09-09 02:00:00</td>\n",
              "      <td>12</td>\n",
              "      <td>9</td>\n",
              "      <td>1</td>\n",
              "      <td>48</td>\n",
              "      <td>2</td>\n",
              "      <td>6</td>\n",
              "    </tr>\n",
              "    <tr>\n",
              "      <th>3</th>\n",
              "      <td>2018-09-09 03:00:00</td>\n",
              "      <td>10</td>\n",
              "      <td>10</td>\n",
              "      <td>2</td>\n",
              "      <td>102</td>\n",
              "      <td>3</td>\n",
              "      <td>6</td>\n",
              "    </tr>\n",
              "    <tr>\n",
              "      <th>4</th>\n",
              "      <td>2018-09-09 04:00:00</td>\n",
              "      <td>6</td>\n",
              "      <td>5</td>\n",
              "      <td>3</td>\n",
              "      <td>18</td>\n",
              "      <td>4</td>\n",
              "      <td>6</td>\n",
              "    </tr>\n",
              "    <tr>\n",
              "      <th>...</th>\n",
              "      <td>...</td>\n",
              "      <td>...</td>\n",
              "      <td>...</td>\n",
              "      <td>...</td>\n",
              "      <td>...</td>\n",
              "      <td>...</td>\n",
              "      <td>...</td>\n",
              "    </tr>\n",
              "    <tr>\n",
              "      <th>19003</th>\n",
              "      <td>2020-11-08 19:00:00</td>\n",
              "      <td>124</td>\n",
              "      <td>123</td>\n",
              "      <td>19</td>\n",
              "      <td>3128</td>\n",
              "      <td>19</td>\n",
              "      <td>6</td>\n",
              "    </tr>\n",
              "    <tr>\n",
              "      <th>19004</th>\n",
              "      <td>2020-11-08 20:00:00</td>\n",
              "      <td>166</td>\n",
              "      <td>159</td>\n",
              "      <td>29</td>\n",
              "      <td>4864</td>\n",
              "      <td>20</td>\n",
              "      <td>6</td>\n",
              "    </tr>\n",
              "    <tr>\n",
              "      <th>19005</th>\n",
              "      <td>2020-11-08 21:00:00</td>\n",
              "      <td>184</td>\n",
              "      <td>173</td>\n",
              "      <td>32</td>\n",
              "      <td>3426</td>\n",
              "      <td>21</td>\n",
              "      <td>6</td>\n",
              "    </tr>\n",
              "    <tr>\n",
              "      <th>19006</th>\n",
              "      <td>2020-11-08 22:00:00</td>\n",
              "      <td>163</td>\n",
              "      <td>155</td>\n",
              "      <td>34</td>\n",
              "      <td>2845</td>\n",
              "      <td>22</td>\n",
              "      <td>6</td>\n",
              "    </tr>\n",
              "    <tr>\n",
              "      <th>19007</th>\n",
              "      <td>2020-11-08 23:00:00</td>\n",
              "      <td>160</td>\n",
              "      <td>152</td>\n",
              "      <td>33</td>\n",
              "      <td>3293</td>\n",
              "      <td>23</td>\n",
              "      <td>6</td>\n",
              "    </tr>\n",
              "  </tbody>\n",
              "</table>\n",
              "<p>19008 rows × 7 columns</p>\n",
              "</div>"
            ],
            "text/plain": [
              "                 DateTime  사용자   세션  신규방문자  페이지뷰  Hour  WeekDay\n",
              "0     2018-09-09 00:00:00   19   19      8   206     0        6\n",
              "1     2018-09-09 01:00:00   20   19      9   259     1        6\n",
              "2     2018-09-09 02:00:00   12    9      1    48     2        6\n",
              "3     2018-09-09 03:00:00   10   10      2   102     3        6\n",
              "4     2018-09-09 04:00:00    6    5      3    18     4        6\n",
              "...                   ...  ...  ...    ...   ...   ...      ...\n",
              "19003 2020-11-08 19:00:00  124  123     19  3128    19        6\n",
              "19004 2020-11-08 20:00:00  166  159     29  4864    20        6\n",
              "19005 2020-11-08 21:00:00  184  173     32  3426    21        6\n",
              "19006 2020-11-08 22:00:00  163  155     34  2845    22        6\n",
              "19007 2020-11-08 23:00:00  160  152     33  3293    23        6\n",
              "\n",
              "[19008 rows x 7 columns]"
            ]
          },
          "metadata": {
            "tags": []
          },
          "execution_count": 127
        }
      ]
    },
    {
      "cell_type": "code",
      "metadata": {
        "id": "lhxVhzpBH3pp"
      },
      "source": [
        "train['DateTime'] = pd.to_datetime(train['DateTime'])"
      ],
      "execution_count": null,
      "outputs": []
    },
    {
      "cell_type": "code",
      "metadata": {
        "id": "avw7mfkmKJg-"
      },
      "source": [
        "#시각화\r\n",
        "import os.path\r\n",
        "import pandas as pd\r\n",
        "import matplotlib.pyplot as plt"
      ],
      "execution_count": null,
      "outputs": []
    },
    {
      "cell_type": "code",
      "metadata": {
        "colab": {
          "base_uri": "https://localhost:8080/"
        },
        "id": "sPgxwIqjP-Oh",
        "outputId": "027eeb07-6936-4443-c5f6-49176b232489"
      },
      "source": [
        "train['DateTime'].dt.day"
      ],
      "execution_count": null,
      "outputs": [
        {
          "output_type": "execute_result",
          "data": {
            "text/plain": [
              "0        9\n",
              "1        9\n",
              "2        9\n",
              "3        9\n",
              "4        9\n",
              "        ..\n",
              "19003    8\n",
              "19004    8\n",
              "19005    8\n",
              "19006    8\n",
              "19007    8\n",
              "Name: DateTime, Length: 19008, dtype: int64"
            ]
          },
          "metadata": {
            "tags": []
          },
          "execution_count": 135
        }
      ]
    },
    {
      "cell_type": "code",
      "metadata": {
        "colab": {
          "base_uri": "https://localhost:8080/",
          "height": 266
        },
        "id": "uSjW2x0bA56f",
        "outputId": "d477b114-c56f-4c50-b8d3-315e69d6b35f"
      },
      "source": [
        "categories = ['Sunday', 'Monday', 'Tuesday', 'Wednesday', 'Thursday', 'Friday', 'Saturday']\r\n",
        "train['WeekDay'] = train['DateTime'].dt.day_name()\r\n",
        "week_day = train.groupby('WeekDay').mean().reindex(categories).reset_index()\r\n",
        "week_day"
      ],
      "execution_count": null,
      "outputs": [
        {
          "output_type": "execute_result",
          "data": {
            "text/html": [
              "<div>\n",
              "<style scoped>\n",
              "    .dataframe tbody tr th:only-of-type {\n",
              "        vertical-align: middle;\n",
              "    }\n",
              "\n",
              "    .dataframe tbody tr th {\n",
              "        vertical-align: top;\n",
              "    }\n",
              "\n",
              "    .dataframe thead th {\n",
              "        text-align: right;\n",
              "    }\n",
              "</style>\n",
              "<table border=\"1\" class=\"dataframe\">\n",
              "  <thead>\n",
              "    <tr style=\"text-align: right;\">\n",
              "      <th></th>\n",
              "      <th>WeekDay</th>\n",
              "      <th>사용자</th>\n",
              "      <th>세션</th>\n",
              "      <th>신규방문자</th>\n",
              "      <th>페이지뷰</th>\n",
              "      <th>Hour</th>\n",
              "    </tr>\n",
              "  </thead>\n",
              "  <tbody>\n",
              "    <tr>\n",
              "      <th>0</th>\n",
              "      <td>Sunday</td>\n",
              "      <td>NaN</td>\n",
              "      <td>NaN</td>\n",
              "      <td>NaN</td>\n",
              "      <td>NaN</td>\n",
              "      <td>NaN</td>\n",
              "    </tr>\n",
              "    <tr>\n",
              "      <th>1</th>\n",
              "      <td>Monday</td>\n",
              "      <td>NaN</td>\n",
              "      <td>NaN</td>\n",
              "      <td>NaN</td>\n",
              "      <td>NaN</td>\n",
              "      <td>NaN</td>\n",
              "    </tr>\n",
              "    <tr>\n",
              "      <th>2</th>\n",
              "      <td>Tuesday</td>\n",
              "      <td>NaN</td>\n",
              "      <td>NaN</td>\n",
              "      <td>NaN</td>\n",
              "      <td>NaN</td>\n",
              "      <td>NaN</td>\n",
              "    </tr>\n",
              "    <tr>\n",
              "      <th>3</th>\n",
              "      <td>Wednesday</td>\n",
              "      <td>NaN</td>\n",
              "      <td>NaN</td>\n",
              "      <td>NaN</td>\n",
              "      <td>NaN</td>\n",
              "      <td>NaN</td>\n",
              "    </tr>\n",
              "    <tr>\n",
              "      <th>4</th>\n",
              "      <td>Thursday</td>\n",
              "      <td>NaN</td>\n",
              "      <td>NaN</td>\n",
              "      <td>NaN</td>\n",
              "      <td>NaN</td>\n",
              "      <td>NaN</td>\n",
              "    </tr>\n",
              "    <tr>\n",
              "      <th>5</th>\n",
              "      <td>Friday</td>\n",
              "      <td>NaN</td>\n",
              "      <td>NaN</td>\n",
              "      <td>NaN</td>\n",
              "      <td>NaN</td>\n",
              "      <td>NaN</td>\n",
              "    </tr>\n",
              "    <tr>\n",
              "      <th>6</th>\n",
              "      <td>Saturday</td>\n",
              "      <td>NaN</td>\n",
              "      <td>NaN</td>\n",
              "      <td>NaN</td>\n",
              "      <td>NaN</td>\n",
              "      <td>NaN</td>\n",
              "    </tr>\n",
              "  </tbody>\n",
              "</table>\n",
              "</div>"
            ],
            "text/plain": [
              "     WeekDay  사용자  세션  신규방문자  페이지뷰  Hour\n",
              "0     Sunday  NaN NaN    NaN   NaN   NaN\n",
              "1     Monday  NaN NaN    NaN   NaN   NaN\n",
              "2    Tuesday  NaN NaN    NaN   NaN   NaN\n",
              "3  Wednesday  NaN NaN    NaN   NaN   NaN\n",
              "4   Thursday  NaN NaN    NaN   NaN   NaN\n",
              "5     Friday  NaN NaN    NaN   NaN   NaN\n",
              "6   Saturday  NaN NaN    NaN   NaN   NaN"
            ]
          },
          "metadata": {
            "tags": []
          },
          "execution_count": 139
        }
      ]
    },
    {
      "cell_type": "code",
      "metadata": {
        "colab": {
          "base_uri": "https://localhost:8080/"
        },
        "id": "zgR8QZJiIuo7",
        "outputId": "ba85e749-9efc-4e53-f9fe-ffe9781ff07a"
      },
      "source": [
        "!pip install --upgrade pandas"
      ],
      "execution_count": null,
      "outputs": [
        {
          "output_type": "stream",
          "text": [
            "Requirement already up-to-date: pandas in /usr/local/lib/python3.6/dist-packages (1.1.5)\n",
            "Requirement already satisfied, skipping upgrade: numpy>=1.15.4 in /usr/local/lib/python3.6/dist-packages (from pandas) (1.19.4)\n",
            "Requirement already satisfied, skipping upgrade: python-dateutil>=2.7.3 in /usr/local/lib/python3.6/dist-packages (from pandas) (2.8.1)\n",
            "Requirement already satisfied, skipping upgrade: pytz>=2017.2 in /usr/local/lib/python3.6/dist-packages (from pandas) (2018.9)\n",
            "Requirement already satisfied, skipping upgrade: six>=1.5 in /usr/local/lib/python3.6/dist-packages (from python-dateutil>=2.7.3->pandas) (1.15.0)\n"
          ],
          "name": "stdout"
        }
      ]
    },
    {
      "cell_type": "code",
      "metadata": {
        "id": "neEuXAoXA53p"
      },
      "source": [
        ""
      ],
      "execution_count": null,
      "outputs": []
    },
    {
      "cell_type": "code",
      "metadata": {
        "id": "Nd07xEDtA5zE"
      },
      "source": [
        ""
      ],
      "execution_count": null,
      "outputs": []
    },
    {
      "cell_type": "code",
      "metadata": {
        "colab": {
          "base_uri": "https://localhost:8080/",
          "height": 297
        },
        "id": "UJJyAIc3PMYu",
        "outputId": "58953a4a-aeff-4157-8f65-4bd8c3f5af35"
      },
      "source": [
        "train.describe()"
      ],
      "execution_count": 14,
      "outputs": [
        {
          "output_type": "execute_result",
          "data": {
            "text/html": [
              "<div>\n",
              "<style scoped>\n",
              "    .dataframe tbody tr th:only-of-type {\n",
              "        vertical-align: middle;\n",
              "    }\n",
              "\n",
              "    .dataframe tbody tr th {\n",
              "        vertical-align: top;\n",
              "    }\n",
              "\n",
              "    .dataframe thead th {\n",
              "        text-align: right;\n",
              "    }\n",
              "</style>\n",
              "<table border=\"1\" class=\"dataframe\">\n",
              "  <thead>\n",
              "    <tr style=\"text-align: right;\">\n",
              "      <th></th>\n",
              "      <th>사용자</th>\n",
              "      <th>세션</th>\n",
              "      <th>신규방문자</th>\n",
              "      <th>페이지뷰</th>\n",
              "    </tr>\n",
              "  </thead>\n",
              "  <tbody>\n",
              "    <tr>\n",
              "      <th>count</th>\n",
              "      <td>19008.000000</td>\n",
              "      <td>19008.000000</td>\n",
              "      <td>19008.000000</td>\n",
              "      <td>19008.000000</td>\n",
              "    </tr>\n",
              "    <tr>\n",
              "      <th>mean</th>\n",
              "      <td>45.633944</td>\n",
              "      <td>45.280356</td>\n",
              "      <td>11.169613</td>\n",
              "      <td>1009.841435</td>\n",
              "    </tr>\n",
              "    <tr>\n",
              "      <th>std</th>\n",
              "      <td>55.111373</td>\n",
              "      <td>54.534009</td>\n",
              "      <td>15.108557</td>\n",
              "      <td>1588.200273</td>\n",
              "    </tr>\n",
              "    <tr>\n",
              "      <th>min</th>\n",
              "      <td>0.000000</td>\n",
              "      <td>0.000000</td>\n",
              "      <td>0.000000</td>\n",
              "      <td>0.000000</td>\n",
              "    </tr>\n",
              "    <tr>\n",
              "      <th>25%</th>\n",
              "      <td>9.000000</td>\n",
              "      <td>9.000000</td>\n",
              "      <td>2.000000</td>\n",
              "      <td>69.000000</td>\n",
              "    </tr>\n",
              "    <tr>\n",
              "      <th>50%</th>\n",
              "      <td>21.000000</td>\n",
              "      <td>21.000000</td>\n",
              "      <td>6.000000</td>\n",
              "      <td>270.000000</td>\n",
              "    </tr>\n",
              "    <tr>\n",
              "      <th>75%</th>\n",
              "      <td>70.000000</td>\n",
              "      <td>70.000000</td>\n",
              "      <td>15.000000</td>\n",
              "      <td>1277.000000</td>\n",
              "    </tr>\n",
              "    <tr>\n",
              "      <th>max</th>\n",
              "      <td>668.000000</td>\n",
              "      <td>815.000000</td>\n",
              "      <td>335.000000</td>\n",
              "      <td>27884.000000</td>\n",
              "    </tr>\n",
              "  </tbody>\n",
              "</table>\n",
              "</div>"
            ],
            "text/plain": [
              "                사용자            세션         신규방문자          페이지뷰\n",
              "count  19008.000000  19008.000000  19008.000000  19008.000000\n",
              "mean      45.633944     45.280356     11.169613   1009.841435\n",
              "std       55.111373     54.534009     15.108557   1588.200273\n",
              "min        0.000000      0.000000      0.000000      0.000000\n",
              "25%        9.000000      9.000000      2.000000     69.000000\n",
              "50%       21.000000     21.000000      6.000000    270.000000\n",
              "75%       70.000000     70.000000     15.000000   1277.000000\n",
              "max      668.000000    815.000000    335.000000  27884.000000"
            ]
          },
          "metadata": {
            "tags": []
          },
          "execution_count": 14
        }
      ]
    },
    {
      "cell_type": "code",
      "metadata": {
        "id": "FzuSTb5xN8O0"
      },
      "source": [
        "train = pd.read_csv(\"/content/drive/MyDrive/Colab Notebooks/LSTM_pytorch(Dacon)/input/train.csv\", encoding = 'euc-kr')"
      ],
      "execution_count": 80,
      "outputs": []
    },
    {
      "cell_type": "code",
      "metadata": {
        "colab": {
          "base_uri": "https://localhost:8080/",
          "height": 419
        },
        "id": "ngs6ogbpN8Mj",
        "outputId": "849d923b-90a4-49fa-e5f2-9acb93a8d4cb"
      },
      "source": [
        "train"
      ],
      "execution_count": 60,
      "outputs": [
        {
          "output_type": "execute_result",
          "data": {
            "text/html": [
              "<div>\n",
              "<style scoped>\n",
              "    .dataframe tbody tr th:only-of-type {\n",
              "        vertical-align: middle;\n",
              "    }\n",
              "\n",
              "    .dataframe tbody tr th {\n",
              "        vertical-align: top;\n",
              "    }\n",
              "\n",
              "    .dataframe thead th {\n",
              "        text-align: right;\n",
              "    }\n",
              "</style>\n",
              "<table border=\"1\" class=\"dataframe\">\n",
              "  <thead>\n",
              "    <tr style=\"text-align: right;\">\n",
              "      <th></th>\n",
              "      <th>DateTime</th>\n",
              "      <th>사용자</th>\n",
              "      <th>세션</th>\n",
              "      <th>신규방문자</th>\n",
              "      <th>페이지뷰</th>\n",
              "    </tr>\n",
              "  </thead>\n",
              "  <tbody>\n",
              "    <tr>\n",
              "      <th>0</th>\n",
              "      <td>2018-09-09 00:00:00</td>\n",
              "      <td>19</td>\n",
              "      <td>19</td>\n",
              "      <td>8</td>\n",
              "      <td>206</td>\n",
              "    </tr>\n",
              "    <tr>\n",
              "      <th>1</th>\n",
              "      <td>2018-09-09 01:00:00</td>\n",
              "      <td>20</td>\n",
              "      <td>19</td>\n",
              "      <td>9</td>\n",
              "      <td>259</td>\n",
              "    </tr>\n",
              "    <tr>\n",
              "      <th>2</th>\n",
              "      <td>2018-09-09 02:00:00</td>\n",
              "      <td>12</td>\n",
              "      <td>9</td>\n",
              "      <td>1</td>\n",
              "      <td>48</td>\n",
              "    </tr>\n",
              "    <tr>\n",
              "      <th>3</th>\n",
              "      <td>2018-09-09 03:00:00</td>\n",
              "      <td>10</td>\n",
              "      <td>10</td>\n",
              "      <td>2</td>\n",
              "      <td>102</td>\n",
              "    </tr>\n",
              "    <tr>\n",
              "      <th>4</th>\n",
              "      <td>2018-09-09 04:00:00</td>\n",
              "      <td>6</td>\n",
              "      <td>5</td>\n",
              "      <td>3</td>\n",
              "      <td>18</td>\n",
              "    </tr>\n",
              "    <tr>\n",
              "      <th>...</th>\n",
              "      <td>...</td>\n",
              "      <td>...</td>\n",
              "      <td>...</td>\n",
              "      <td>...</td>\n",
              "      <td>...</td>\n",
              "    </tr>\n",
              "    <tr>\n",
              "      <th>19003</th>\n",
              "      <td>2020-11-08 19:00:00</td>\n",
              "      <td>124</td>\n",
              "      <td>123</td>\n",
              "      <td>19</td>\n",
              "      <td>3128</td>\n",
              "    </tr>\n",
              "    <tr>\n",
              "      <th>19004</th>\n",
              "      <td>2020-11-08 20:00:00</td>\n",
              "      <td>166</td>\n",
              "      <td>159</td>\n",
              "      <td>29</td>\n",
              "      <td>4864</td>\n",
              "    </tr>\n",
              "    <tr>\n",
              "      <th>19005</th>\n",
              "      <td>2020-11-08 21:00:00</td>\n",
              "      <td>184</td>\n",
              "      <td>173</td>\n",
              "      <td>32</td>\n",
              "      <td>3426</td>\n",
              "    </tr>\n",
              "    <tr>\n",
              "      <th>19006</th>\n",
              "      <td>2020-11-08 22:00:00</td>\n",
              "      <td>163</td>\n",
              "      <td>155</td>\n",
              "      <td>34</td>\n",
              "      <td>2845</td>\n",
              "    </tr>\n",
              "    <tr>\n",
              "      <th>19007</th>\n",
              "      <td>2020-11-08 23:00:00</td>\n",
              "      <td>160</td>\n",
              "      <td>152</td>\n",
              "      <td>33</td>\n",
              "      <td>3293</td>\n",
              "    </tr>\n",
              "  </tbody>\n",
              "</table>\n",
              "<p>19008 rows × 5 columns</p>\n",
              "</div>"
            ],
            "text/plain": [
              "                  DateTime  사용자   세션  신규방문자  페이지뷰\n",
              "0      2018-09-09 00:00:00   19   19      8   206\n",
              "1      2018-09-09 01:00:00   20   19      9   259\n",
              "2      2018-09-09 02:00:00   12    9      1    48\n",
              "3      2018-09-09 03:00:00   10   10      2   102\n",
              "4      2018-09-09 04:00:00    6    5      3    18\n",
              "...                    ...  ...  ...    ...   ...\n",
              "19003  2020-11-08 19:00:00  124  123     19  3128\n",
              "19004  2020-11-08 20:00:00  166  159     29  4864\n",
              "19005  2020-11-08 21:00:00  184  173     32  3426\n",
              "19006  2020-11-08 22:00:00  163  155     34  2845\n",
              "19007  2020-11-08 23:00:00  160  152     33  3293\n",
              "\n",
              "[19008 rows x 5 columns]"
            ]
          },
          "metadata": {
            "tags": []
          },
          "execution_count": 60
        }
      ]
    },
    {
      "cell_type": "markdown",
      "metadata": {
        "id": "SaAxN41uvMLV"
      },
      "source": [
        "792일이 존재"
      ]
    },
    {
      "cell_type": "code",
      "metadata": {
        "colab": {
          "base_uri": "https://localhost:8080/",
          "height": 793
        },
        "id": "qoHIdu21Jxro",
        "outputId": "31750362-1687-40d8-eba6-513f549bd884"
      },
      "source": [
        "train['Hour'] = train['DateTime'].dt.hour\r\n",
        "hour = train.groupby('Hour').mean().reset_index()\r\n",
        "hour"
      ],
      "execution_count": null,
      "outputs": [
        {
          "output_type": "execute_result",
          "data": {
            "text/html": [
              "<div>\n",
              "<style scoped>\n",
              "    .dataframe tbody tr th:only-of-type {\n",
              "        vertical-align: middle;\n",
              "    }\n",
              "\n",
              "    .dataframe tbody tr th {\n",
              "        vertical-align: top;\n",
              "    }\n",
              "\n",
              "    .dataframe thead th {\n",
              "        text-align: right;\n",
              "    }\n",
              "</style>\n",
              "<table border=\"1\" class=\"dataframe\">\n",
              "  <thead>\n",
              "    <tr style=\"text-align: right;\">\n",
              "      <th></th>\n",
              "      <th>Hour</th>\n",
              "      <th>사용자</th>\n",
              "      <th>세션</th>\n",
              "      <th>신규방문자</th>\n",
              "      <th>페이지뷰</th>\n",
              "      <th>WeekDay</th>\n",
              "    </tr>\n",
              "  </thead>\n",
              "  <tbody>\n",
              "    <tr>\n",
              "      <th>0</th>\n",
              "      <td>0</td>\n",
              "      <td>46.270202</td>\n",
              "      <td>50.710859</td>\n",
              "      <td>10.125000</td>\n",
              "      <td>1064.257576</td>\n",
              "      <td>3.003788</td>\n",
              "    </tr>\n",
              "    <tr>\n",
              "      <th>1</th>\n",
              "      <td>1</td>\n",
              "      <td>29.064394</td>\n",
              "      <td>27.231061</td>\n",
              "      <td>6.170455</td>\n",
              "      <td>623.564394</td>\n",
              "      <td>3.003788</td>\n",
              "    </tr>\n",
              "    <tr>\n",
              "      <th>2</th>\n",
              "      <td>2</td>\n",
              "      <td>18.179293</td>\n",
              "      <td>17.118687</td>\n",
              "      <td>3.853535</td>\n",
              "      <td>379.474747</td>\n",
              "      <td>3.003788</td>\n",
              "    </tr>\n",
              "    <tr>\n",
              "      <th>3</th>\n",
              "      <td>3</td>\n",
              "      <td>11.486111</td>\n",
              "      <td>10.780303</td>\n",
              "      <td>2.606061</td>\n",
              "      <td>236.808081</td>\n",
              "      <td>3.003788</td>\n",
              "    </tr>\n",
              "    <tr>\n",
              "      <th>4</th>\n",
              "      <td>4</td>\n",
              "      <td>7.443182</td>\n",
              "      <td>7.023990</td>\n",
              "      <td>1.827020</td>\n",
              "      <td>141.917929</td>\n",
              "      <td>3.003788</td>\n",
              "    </tr>\n",
              "    <tr>\n",
              "      <th>5</th>\n",
              "      <td>5</td>\n",
              "      <td>5.949495</td>\n",
              "      <td>5.787879</td>\n",
              "      <td>1.583333</td>\n",
              "      <td>107.553030</td>\n",
              "      <td>3.003788</td>\n",
              "    </tr>\n",
              "    <tr>\n",
              "      <th>6</th>\n",
              "      <td>6</td>\n",
              "      <td>7.066919</td>\n",
              "      <td>7.011364</td>\n",
              "      <td>2.066919</td>\n",
              "      <td>108.974747</td>\n",
              "      <td>3.003788</td>\n",
              "    </tr>\n",
              "    <tr>\n",
              "      <th>7</th>\n",
              "      <td>7</td>\n",
              "      <td>12.013889</td>\n",
              "      <td>12.166667</td>\n",
              "      <td>3.362374</td>\n",
              "      <td>174.809343</td>\n",
              "      <td>3.003788</td>\n",
              "    </tr>\n",
              "    <tr>\n",
              "      <th>8</th>\n",
              "      <td>8</td>\n",
              "      <td>24.150253</td>\n",
              "      <td>24.806818</td>\n",
              "      <td>6.857323</td>\n",
              "      <td>381.575758</td>\n",
              "      <td>3.003788</td>\n",
              "    </tr>\n",
              "    <tr>\n",
              "      <th>9</th>\n",
              "      <td>9</td>\n",
              "      <td>44.409091</td>\n",
              "      <td>45.780303</td>\n",
              "      <td>12.150253</td>\n",
              "      <td>860.137626</td>\n",
              "      <td>3.003788</td>\n",
              "    </tr>\n",
              "    <tr>\n",
              "      <th>10</th>\n",
              "      <td>10</td>\n",
              "      <td>55.137626</td>\n",
              "      <td>55.551768</td>\n",
              "      <td>14.656566</td>\n",
              "      <td>1168.489899</td>\n",
              "      <td>3.003788</td>\n",
              "    </tr>\n",
              "    <tr>\n",
              "      <th>11</th>\n",
              "      <td>11</td>\n",
              "      <td>57.666667</td>\n",
              "      <td>56.563131</td>\n",
              "      <td>14.887626</td>\n",
              "      <td>1224.856061</td>\n",
              "      <td>3.003788</td>\n",
              "    </tr>\n",
              "    <tr>\n",
              "      <th>12</th>\n",
              "      <td>12</td>\n",
              "      <td>51.641414</td>\n",
              "      <td>51.138889</td>\n",
              "      <td>12.988636</td>\n",
              "      <td>1045.482323</td>\n",
              "      <td>3.003788</td>\n",
              "    </tr>\n",
              "    <tr>\n",
              "      <th>13</th>\n",
              "      <td>13</td>\n",
              "      <td>68.151515</td>\n",
              "      <td>69.498737</td>\n",
              "      <td>17.840909</td>\n",
              "      <td>1476.271465</td>\n",
              "      <td>3.003788</td>\n",
              "    </tr>\n",
              "    <tr>\n",
              "      <th>14</th>\n",
              "      <td>14</td>\n",
              "      <td>76.213384</td>\n",
              "      <td>76.063131</td>\n",
              "      <td>19.506313</td>\n",
              "      <td>1787.959596</td>\n",
              "      <td>3.003788</td>\n",
              "    </tr>\n",
              "    <tr>\n",
              "      <th>15</th>\n",
              "      <td>15</td>\n",
              "      <td>80.198232</td>\n",
              "      <td>79.633838</td>\n",
              "      <td>19.762626</td>\n",
              "      <td>1936.154040</td>\n",
              "      <td>3.003788</td>\n",
              "    </tr>\n",
              "    <tr>\n",
              "      <th>16</th>\n",
              "      <td>16</td>\n",
              "      <td>81.410354</td>\n",
              "      <td>79.773990</td>\n",
              "      <td>19.797980</td>\n",
              "      <td>1951.623737</td>\n",
              "      <td>3.003788</td>\n",
              "    </tr>\n",
              "    <tr>\n",
              "      <th>17</th>\n",
              "      <td>17</td>\n",
              "      <td>78.371212</td>\n",
              "      <td>76.315657</td>\n",
              "      <td>19.419192</td>\n",
              "      <td>1835.635101</td>\n",
              "      <td>3.003788</td>\n",
              "    </tr>\n",
              "    <tr>\n",
              "      <th>18</th>\n",
              "      <td>18</td>\n",
              "      <td>61.209596</td>\n",
              "      <td>58.800505</td>\n",
              "      <td>14.714646</td>\n",
              "      <td>1338.994949</td>\n",
              "      <td>3.003788</td>\n",
              "    </tr>\n",
              "    <tr>\n",
              "      <th>19</th>\n",
              "      <td>19</td>\n",
              "      <td>54.321970</td>\n",
              "      <td>53.820707</td>\n",
              "      <td>13.099747</td>\n",
              "      <td>1200.824495</td>\n",
              "      <td>3.003788</td>\n",
              "    </tr>\n",
              "    <tr>\n",
              "      <th>20</th>\n",
              "      <td>20</td>\n",
              "      <td>56.183081</td>\n",
              "      <td>55.819444</td>\n",
              "      <td>13.001263</td>\n",
              "      <td>1317.372475</td>\n",
              "      <td>3.003788</td>\n",
              "    </tr>\n",
              "    <tr>\n",
              "      <th>21</th>\n",
              "      <td>21</td>\n",
              "      <td>57.334596</td>\n",
              "      <td>56.202020</td>\n",
              "      <td>12.967172</td>\n",
              "      <td>1311.289141</td>\n",
              "      <td>3.003788</td>\n",
              "    </tr>\n",
              "    <tr>\n",
              "      <th>22</th>\n",
              "      <td>22</td>\n",
              "      <td>56.905303</td>\n",
              "      <td>55.851010</td>\n",
              "      <td>12.948232</td>\n",
              "      <td>1313.500000</td>\n",
              "      <td>3.003788</td>\n",
              "    </tr>\n",
              "    <tr>\n",
              "      <th>23</th>\n",
              "      <td>23</td>\n",
              "      <td>54.436869</td>\n",
              "      <td>53.277778</td>\n",
              "      <td>11.877525</td>\n",
              "      <td>1248.667929</td>\n",
              "      <td>3.003788</td>\n",
              "    </tr>\n",
              "  </tbody>\n",
              "</table>\n",
              "</div>"
            ],
            "text/plain": [
              "    Hour        사용자         세션      신규방문자         페이지뷰   WeekDay\n",
              "0      0  46.270202  50.710859  10.125000  1064.257576  3.003788\n",
              "1      1  29.064394  27.231061   6.170455   623.564394  3.003788\n",
              "2      2  18.179293  17.118687   3.853535   379.474747  3.003788\n",
              "3      3  11.486111  10.780303   2.606061   236.808081  3.003788\n",
              "4      4   7.443182   7.023990   1.827020   141.917929  3.003788\n",
              "5      5   5.949495   5.787879   1.583333   107.553030  3.003788\n",
              "6      6   7.066919   7.011364   2.066919   108.974747  3.003788\n",
              "7      7  12.013889  12.166667   3.362374   174.809343  3.003788\n",
              "8      8  24.150253  24.806818   6.857323   381.575758  3.003788\n",
              "9      9  44.409091  45.780303  12.150253   860.137626  3.003788\n",
              "10    10  55.137626  55.551768  14.656566  1168.489899  3.003788\n",
              "11    11  57.666667  56.563131  14.887626  1224.856061  3.003788\n",
              "12    12  51.641414  51.138889  12.988636  1045.482323  3.003788\n",
              "13    13  68.151515  69.498737  17.840909  1476.271465  3.003788\n",
              "14    14  76.213384  76.063131  19.506313  1787.959596  3.003788\n",
              "15    15  80.198232  79.633838  19.762626  1936.154040  3.003788\n",
              "16    16  81.410354  79.773990  19.797980  1951.623737  3.003788\n",
              "17    17  78.371212  76.315657  19.419192  1835.635101  3.003788\n",
              "18    18  61.209596  58.800505  14.714646  1338.994949  3.003788\n",
              "19    19  54.321970  53.820707  13.099747  1200.824495  3.003788\n",
              "20    20  56.183081  55.819444  13.001263  1317.372475  3.003788\n",
              "21    21  57.334596  56.202020  12.967172  1311.289141  3.003788\n",
              "22    22  56.905303  55.851010  12.948232  1313.500000  3.003788\n",
              "23    23  54.436869  53.277778  11.877525  1248.667929  3.003788"
            ]
          },
          "metadata": {
            "tags": []
          },
          "execution_count": 134
        }
      ]
    },
    {
      "cell_type": "code",
      "metadata": {
        "colab": {
          "base_uri": "https://localhost:8080/",
          "height": 1000
        },
        "id": "TeRYfWzDJxoq",
        "outputId": "87a717f0-a5ec-4cce-ec80-a0d678bcb23c"
      },
      "source": [
        "fig, axes = plt.subplots(4, 1, figsize=(8, 20))\r\n",
        "axes[0].bar(hour['Hour'], hour['사용자'], color='r')\r\n",
        "axes[1].bar(hour['Hour'], hour['세션'], color='g')\r\n",
        "axes[2].bar(hour['Hour'], hour['신규방문자'], color='b')\r\n",
        "axes[3].bar(hour['Hour'], hour['페이지뷰'], color='c')\r\n",
        "for i, title in enumerate(['Users', 'Sessions', 'NewVisitors', 'PageViews']):\r\n",
        "    axes[i].set_title(title)\r\n",
        "plt.show()"
      ],
      "execution_count": null,
      "outputs": [
        {
          "output_type": "display_data",
          "data": {
            "image/png": "[encoded data removed]",
            "text/plain": [
              "<Figure size 576x1440 with 4 Axes>"
            ]
          },
          "metadata": {
            "tags": [],
            "needs_background": "light"
          }
        }
      ]
    },
    {
      "cell_type": "code",
      "metadata": {
        "id": "LDSwm1ubJxmE"
      },
      "source": [
        ""
      ],
      "execution_count": null,
      "outputs": []
    },
    {
      "cell_type": "code",
      "metadata": {
        "id": "9K2HqMtLJxjA"
      },
      "source": [
        ""
      ],
      "execution_count": null,
      "outputs": []
    },
    {
      "cell_type": "code",
      "metadata": {
        "id": "RWct93EoJxgY"
      },
      "source": [
        ""
      ],
      "execution_count": null,
      "outputs": []
    },
    {
      "cell_type": "code",
      "metadata": {
        "id": "ic6PMjwFJxd-"
      },
      "source": [
        ""
      ],
      "execution_count": null,
      "outputs": []
    },
    {
      "cell_type": "code",
      "metadata": {
        "id": "F0_wHgdWN8KL"
      },
      "source": [
        ""
      ],
      "execution_count": null,
      "outputs": []
    },
    {
      "cell_type": "markdown",
      "metadata": {
        "id": "7AU-G9yUuS4k"
      },
      "source": [
        "# Data Preprocessing"
      ]
    },
    {
      "cell_type": "code",
      "metadata": {
        "colab": {
          "base_uri": "https://localhost:8080/"
        },
        "id": "LKOLleUwRaEh",
        "outputId": "3ccbeaf3-883a-4a0f-e27a-d790db7967be"
      },
      "source": [
        "train.shape"
      ],
      "execution_count": 35,
      "outputs": [
        {
          "output_type": "execute_result",
          "data": {
            "text/plain": [
              "(19008, 5)"
            ]
          },
          "metadata": {
            "tags": []
          },
          "execution_count": 35
        }
      ]
    },
    {
      "cell_type": "code",
      "metadata": {
        "colab": {
          "base_uri": "https://localhost:8080/"
        },
        "id": "JNmBszGiPm2d",
        "outputId": "368fe0fe-edb7-47bd-9f92-0a9acd78a2f9"
      },
      "source": [
        "from sklearn.preprocessing import StandardScaler\r\n",
        "\r\n",
        "#iloc만 해도 데이터 셋 자체가 바뀌어짐\r\n",
        "# 표준화\r\n",
        "mini = train.iloc[:,1:].min()\r\n",
        "size = train.iloc[:,1:].max() - train.iloc[:,1:].min()\r\n",
        "\r\n",
        "train.iloc[:,1:]\r\n",
        "scaler = StandardScaler()\r\n",
        "scaler.fit(train.iloc[:,1:])\r\n",
        "train.iloc[:,1:] = scaler.transform(train.iloc[:,1:])\r\n",
        "train.iloc[:,1:].shape"
      ],
      "execution_count": null,
      "outputs": [
        {
          "output_type": "execute_result",
          "data": {
            "text/plain": [
              "(792, 4)"
            ]
          },
          "metadata": {
            "tags": []
          },
          "execution_count": 22
        }
      ]
    },
    {
      "cell_type": "code",
      "metadata": {
        "colab": {
          "base_uri": "https://localhost:8080/",
          "height": 419
        },
        "id": "X15MKmXd_myP",
        "outputId": "d11749ce-f277-4483-a893-3384634eaa0a"
      },
      "source": [
        "train"
      ],
      "execution_count": null,
      "outputs": [
        {
          "output_type": "execute_result",
          "data": {
            "text/html": [
              "<div>\n",
              "<style scoped>\n",
              "    .dataframe tbody tr th:only-of-type {\n",
              "        vertical-align: middle;\n",
              "    }\n",
              "\n",
              "    .dataframe tbody tr th {\n",
              "        vertical-align: top;\n",
              "    }\n",
              "\n",
              "    .dataframe thead th {\n",
              "        text-align: right;\n",
              "    }\n",
              "</style>\n",
              "<table border=\"1\" class=\"dataframe\">\n",
              "  <thead>\n",
              "    <tr style=\"text-align: right;\">\n",
              "      <th></th>\n",
              "      <th>date</th>\n",
              "      <th>사용자</th>\n",
              "      <th>세션</th>\n",
              "      <th>신규방문자</th>\n",
              "      <th>페이지뷰</th>\n",
              "    </tr>\n",
              "  </thead>\n",
              "  <tbody>\n",
              "    <tr>\n",
              "      <th>0</th>\n",
              "      <td>2018-09-09</td>\n",
              "      <td>-0.831585</td>\n",
              "      <td>-0.854682</td>\n",
              "      <td>-0.808095</td>\n",
              "      <td>-0.786990</td>\n",
              "    </tr>\n",
              "    <tr>\n",
              "      <th>1</th>\n",
              "      <td>2018-09-10</td>\n",
              "      <td>-0.848948</td>\n",
              "      <td>-0.874468</td>\n",
              "      <td>-0.899232</td>\n",
              "      <td>-0.777649</td>\n",
              "    </tr>\n",
              "    <tr>\n",
              "      <th>2</th>\n",
              "      <td>2018-09-11</td>\n",
              "      <td>-0.782561</td>\n",
              "      <td>-0.808862</td>\n",
              "      <td>-0.870234</td>\n",
              "      <td>-0.780950</td>\n",
              "    </tr>\n",
              "    <tr>\n",
              "      <th>3</th>\n",
              "      <td>2018-09-12</td>\n",
              "      <td>-0.812180</td>\n",
              "      <td>-0.832813</td>\n",
              "      <td>-0.924087</td>\n",
              "      <td>-0.759985</td>\n",
              "    </tr>\n",
              "    <tr>\n",
              "      <th>4</th>\n",
              "      <td>2018-09-13</td>\n",
              "      <td>-0.732516</td>\n",
              "      <td>-0.773455</td>\n",
              "      <td>-0.903374</td>\n",
              "      <td>-0.716088</td>\n",
              "    </tr>\n",
              "    <tr>\n",
              "      <th>...</th>\n",
              "      <td>...</td>\n",
              "      <td>...</td>\n",
              "      <td>...</td>\n",
              "      <td>...</td>\n",
              "      <td>...</td>\n",
              "    </tr>\n",
              "    <tr>\n",
              "      <th>787</th>\n",
              "      <td>2020-11-04</td>\n",
              "      <td>3.493765</td>\n",
              "      <td>3.525320</td>\n",
              "      <td>3.844017</td>\n",
              "      <td>3.106030</td>\n",
              "    </tr>\n",
              "    <tr>\n",
              "      <th>788</th>\n",
              "      <td>2020-11-05</td>\n",
              "      <td>3.125064</td>\n",
              "      <td>3.072324</td>\n",
              "      <td>3.214345</td>\n",
              "      <td>2.762511</td>\n",
              "    </tr>\n",
              "    <tr>\n",
              "      <th>789</th>\n",
              "      <td>2020-11-06</td>\n",
              "      <td>2.622567</td>\n",
              "      <td>2.592253</td>\n",
              "      <td>2.307121</td>\n",
              "      <td>2.239752</td>\n",
              "    </tr>\n",
              "    <tr>\n",
              "      <th>790</th>\n",
              "      <td>2020-11-07</td>\n",
              "      <td>1.406158</td>\n",
              "      <td>1.385305</td>\n",
              "      <td>1.089204</td>\n",
              "      <td>1.164138</td>\n",
              "    </tr>\n",
              "    <tr>\n",
              "      <th>791</th>\n",
              "      <td>2020-11-08</td>\n",
              "      <td>1.426585</td>\n",
              "      <td>1.388429</td>\n",
              "      <td>1.051921</td>\n",
              "      <td>0.921827</td>\n",
              "    </tr>\n",
              "  </tbody>\n",
              "</table>\n",
              "<p>792 rows × 5 columns</p>\n",
              "</div>"
            ],
            "text/plain": [
              "           date       사용자        세션     신규방문자      페이지뷰\n",
              "0    2018-09-09 -0.831585 -0.854682 -0.808095 -0.786990\n",
              "1    2018-09-10 -0.848948 -0.874468 -0.899232 -0.777649\n",
              "2    2018-09-11 -0.782561 -0.808862 -0.870234 -0.780950\n",
              "3    2018-09-12 -0.812180 -0.832813 -0.924087 -0.759985\n",
              "4    2018-09-13 -0.732516 -0.773455 -0.903374 -0.716088\n",
              "..          ...       ...       ...       ...       ...\n",
              "787  2020-11-04  3.493765  3.525320  3.844017  3.106030\n",
              "788  2020-11-05  3.125064  3.072324  3.214345  2.762511\n",
              "789  2020-11-06  2.622567  2.592253  2.307121  2.239752\n",
              "790  2020-11-07  1.406158  1.385305  1.089204  1.164138\n",
              "791  2020-11-08  1.426585  1.388429  1.051921  0.921827\n",
              "\n",
              "[792 rows x 5 columns]"
            ]
          },
          "metadata": {
            "tags": []
          },
          "execution_count": 23
        }
      ]
    },
    {
      "cell_type": "code",
      "metadata": {
        "id": "vgZqgyNOUddQ"
      },
      "source": [
        "from sklearn.preprocessing import MinMaxScaler\r\n",
        "\r\n",
        "# 정규화\r\n",
        "mini = train.iloc[:,1:].min()\r\n",
        "size = train.iloc[:,1:].max() - train.iloc[:,1:].min()\r\n",
        "\r\n",
        "\r\n",
        "train.iloc[:,1:]\r\n",
        "transformer = MinMaxScaler()\r\n",
        "transformer.fit(train.iloc[:,1:])\r\n",
        "train.iloc[:,1:] = transformer.transform(train.iloc[:,1:])"
      ],
      "execution_count": null,
      "outputs": []
    },
    {
      "cell_type": "code",
      "metadata": {
        "colab": {
          "base_uri": "https://localhost:8080/",
          "height": 419
        },
        "id": "yj73Wa9BUWfM",
        "outputId": "bb166f3f-0723-4057-841e-01340ef6b016"
      },
      "source": [
        "train"
      ],
      "execution_count": null,
      "outputs": [
        {
          "output_type": "execute_result",
          "data": {
            "text/html": [
              "<div>\n",
              "<style scoped>\n",
              "    .dataframe tbody tr th:only-of-type {\n",
              "        vertical-align: middle;\n",
              "    }\n",
              "\n",
              "    .dataframe tbody tr th {\n",
              "        vertical-align: top;\n",
              "    }\n",
              "\n",
              "    .dataframe thead th {\n",
              "        text-align: right;\n",
              "    }\n",
              "</style>\n",
              "<table border=\"1\" class=\"dataframe\">\n",
              "  <thead>\n",
              "    <tr style=\"text-align: right;\">\n",
              "      <th></th>\n",
              "      <th>date</th>\n",
              "      <th>사용자</th>\n",
              "      <th>세션</th>\n",
              "      <th>신규방문자</th>\n",
              "      <th>페이지뷰</th>\n",
              "    </tr>\n",
              "  </thead>\n",
              "  <tbody>\n",
              "    <tr>\n",
              "      <th>0</th>\n",
              "      <td>2018-09-09</td>\n",
              "      <td>0.051689</td>\n",
              "      <td>0.049083</td>\n",
              "      <td>0.042604</td>\n",
              "      <td>0.011735</td>\n",
              "    </tr>\n",
              "    <tr>\n",
              "      <th>1</th>\n",
              "      <td>2018-09-10</td>\n",
              "      <td>0.048551</td>\n",
              "      <td>0.045564</td>\n",
              "      <td>0.029586</td>\n",
              "      <td>0.013446</td>\n",
              "    </tr>\n",
              "    <tr>\n",
              "      <th>2</th>\n",
              "      <td>2018-09-11</td>\n",
              "      <td>0.060550</td>\n",
              "      <td>0.057233</td>\n",
              "      <td>0.033728</td>\n",
              "      <td>0.012842</td>\n",
              "    </tr>\n",
              "    <tr>\n",
              "      <th>3</th>\n",
              "      <td>2018-09-12</td>\n",
              "      <td>0.055197</td>\n",
              "      <td>0.052973</td>\n",
              "      <td>0.026036</td>\n",
              "      <td>0.016682</td>\n",
              "    </tr>\n",
              "    <tr>\n",
              "      <th>4</th>\n",
              "      <td>2018-09-13</td>\n",
              "      <td>0.069596</td>\n",
              "      <td>0.063530</td>\n",
              "      <td>0.028994</td>\n",
              "      <td>0.024724</td>\n",
              "    </tr>\n",
              "    <tr>\n",
              "      <th>...</th>\n",
              "      <td>...</td>\n",
              "      <td>...</td>\n",
              "      <td>...</td>\n",
              "      <td>...</td>\n",
              "      <td>...</td>\n",
              "    </tr>\n",
              "    <tr>\n",
              "      <th>787</th>\n",
              "      <td>2020-11-04</td>\n",
              "      <td>0.833487</td>\n",
              "      <td>0.828116</td>\n",
              "      <td>0.707101</td>\n",
              "      <td>0.724949</td>\n",
              "    </tr>\n",
              "    <tr>\n",
              "      <th>788</th>\n",
              "      <td>2020-11-05</td>\n",
              "      <td>0.766845</td>\n",
              "      <td>0.747546</td>\n",
              "      <td>0.617160</td>\n",
              "      <td>0.662015</td>\n",
              "    </tr>\n",
              "    <tr>\n",
              "      <th>789</th>\n",
              "      <td>2020-11-06</td>\n",
              "      <td>0.676020</td>\n",
              "      <td>0.662160</td>\n",
              "      <td>0.487574</td>\n",
              "      <td>0.566244</td>\n",
              "    </tr>\n",
              "    <tr>\n",
              "      <th>790</th>\n",
              "      <td>2020-11-07</td>\n",
              "      <td>0.456157</td>\n",
              "      <td>0.447490</td>\n",
              "      <td>0.313609</td>\n",
              "      <td>0.369188</td>\n",
              "    </tr>\n",
              "    <tr>\n",
              "      <th>791</th>\n",
              "      <td>2020-11-08</td>\n",
              "      <td>0.459849</td>\n",
              "      <td>0.448046</td>\n",
              "      <td>0.308284</td>\n",
              "      <td>0.324796</td>\n",
              "    </tr>\n",
              "  </tbody>\n",
              "</table>\n",
              "<p>792 rows × 5 columns</p>\n",
              "</div>"
            ],
            "text/plain": [
              "           date       사용자        세션     신규방문자      페이지뷰\n",
              "0    2018-09-09  0.051689  0.049083  0.042604  0.011735\n",
              "1    2018-09-10  0.048551  0.045564  0.029586  0.013446\n",
              "2    2018-09-11  0.060550  0.057233  0.033728  0.012842\n",
              "3    2018-09-12  0.055197  0.052973  0.026036  0.016682\n",
              "4    2018-09-13  0.069596  0.063530  0.028994  0.024724\n",
              "..          ...       ...       ...       ...       ...\n",
              "787  2020-11-04  0.833487  0.828116  0.707101  0.724949\n",
              "788  2020-11-05  0.766845  0.747546  0.617160  0.662015\n",
              "789  2020-11-06  0.676020  0.662160  0.487574  0.566244\n",
              "790  2020-11-07  0.456157  0.447490  0.313609  0.369188\n",
              "791  2020-11-08  0.459849  0.448046  0.308284  0.324796\n",
              "\n",
              "[792 rows x 5 columns]"
            ]
          },
          "metadata": {
            "tags": []
          },
          "execution_count": 25
        }
      ]
    },
    {
      "cell_type": "code",
      "metadata": {
        "id": "dyoYqN6TOVd6"
      },
      "source": [
        "# 전체 텐서 만들기\r\n",
        "input_window = 24\r\n",
        "output_window = 7\r\n",
        "\r\n",
        "window_x = np.zeros((train.shape[0] - (input_window + output_window), input_window, 4))\r\n",
        "window_y = np.zeros((train.shape[0] - (input_window + output_window), output_window, 4))\r\n",
        "\r\n",
        "for start in range(train.shape[0] - (input_window + output_window)):\r\n",
        "    end = start + input_window    \r\n",
        "    window_x[start,:, :] = train.iloc[start : end                , 1: ].values\r\n",
        "    window_y[start,:, :] = train.iloc[end   : end + output_window, 1: ].values"
      ],
      "execution_count": null,
      "outputs": []
    },
    {
      "cell_type": "code",
      "metadata": {
        "colab": {
          "base_uri": "https://localhost:8080/"
        },
        "id": "8n2jl1KvO3YD",
        "outputId": "a5aa484c-69a8-49e0-c9b3-ba4694eea57f"
      },
      "source": [
        "print(window_x.shape)\r\n",
        "print(window_y.shape)"
      ],
      "execution_count": null,
      "outputs": [
        {
          "output_type": "stream",
          "text": [
            "torch.Size([755, 30, 4])\n",
            "torch.Size([755, 7, 4])\n"
          ],
          "name": "stdout"
        }
      ]
    },
    {
      "cell_type": "code",
      "metadata": {
        "id": "MbLmpNwXSDAs"
      },
      "source": [
        "input_window = 30\r\n",
        "output_window = 7\r\n",
        "\r\n",
        "window_x = np.zeros((train.shape[0] - (input_window + output_window), input_window, 4))\r\n",
        "window_y = np.zeros((train.shape[0] - (input_window + output_window), output_window, 4))\r\n",
        "\r\n",
        "for start in range(train.shape[0] - (input_window + output_window)):\r\n",
        "    end = start + input_window    \r\n",
        "    window_x[start,:, :] = train.iloc[start : end                , 1: ].values\r\n",
        "    window_y[start,:, :] = train.iloc[end   : end + output_window, 1: ].values"
      ],
      "execution_count": null,
      "outputs": []
    },
    {
      "cell_type": "code",
      "metadata": {
        "colab": {
          "base_uri": "https://localhost:8080/",
          "height": 419
        },
        "id": "31o2S2zyRkzR",
        "outputId": "8b0d0af7-a227-4795-e70b-f353bbdaa2c9"
      },
      "source": [
        "train"
      ],
      "execution_count": null,
      "outputs": [
        {
          "output_type": "execute_result",
          "data": {
            "text/html": [
              "<div>\n",
              "<style scoped>\n",
              "    .dataframe tbody tr th:only-of-type {\n",
              "        vertical-align: middle;\n",
              "    }\n",
              "\n",
              "    .dataframe tbody tr th {\n",
              "        vertical-align: top;\n",
              "    }\n",
              "\n",
              "    .dataframe thead th {\n",
              "        text-align: right;\n",
              "    }\n",
              "</style>\n",
              "<table border=\"1\" class=\"dataframe\">\n",
              "  <thead>\n",
              "    <tr style=\"text-align: right;\">\n",
              "      <th></th>\n",
              "      <th>date</th>\n",
              "      <th>사용자</th>\n",
              "      <th>세션</th>\n",
              "      <th>신규방문자</th>\n",
              "      <th>페이지뷰</th>\n",
              "    </tr>\n",
              "  </thead>\n",
              "  <tbody>\n",
              "    <tr>\n",
              "      <th>0</th>\n",
              "      <td>2018-09-09</td>\n",
              "      <td>-0.831585</td>\n",
              "      <td>-0.854682</td>\n",
              "      <td>-0.808095</td>\n",
              "      <td>-0.786990</td>\n",
              "    </tr>\n",
              "    <tr>\n",
              "      <th>1</th>\n",
              "      <td>2018-09-10</td>\n",
              "      <td>-0.848948</td>\n",
              "      <td>-0.874468</td>\n",
              "      <td>-0.899232</td>\n",
              "      <td>-0.777649</td>\n",
              "    </tr>\n",
              "    <tr>\n",
              "      <th>2</th>\n",
              "      <td>2018-09-11</td>\n",
              "      <td>-0.782561</td>\n",
              "      <td>-0.808862</td>\n",
              "      <td>-0.870234</td>\n",
              "      <td>-0.780950</td>\n",
              "    </tr>\n",
              "    <tr>\n",
              "      <th>3</th>\n",
              "      <td>2018-09-12</td>\n",
              "      <td>-0.812180</td>\n",
              "      <td>-0.832813</td>\n",
              "      <td>-0.924087</td>\n",
              "      <td>-0.759985</td>\n",
              "    </tr>\n",
              "    <tr>\n",
              "      <th>4</th>\n",
              "      <td>2018-09-13</td>\n",
              "      <td>-0.732516</td>\n",
              "      <td>-0.773455</td>\n",
              "      <td>-0.903374</td>\n",
              "      <td>-0.716088</td>\n",
              "    </tr>\n",
              "    <tr>\n",
              "      <th>...</th>\n",
              "      <td>...</td>\n",
              "      <td>...</td>\n",
              "      <td>...</td>\n",
              "      <td>...</td>\n",
              "      <td>...</td>\n",
              "    </tr>\n",
              "    <tr>\n",
              "      <th>787</th>\n",
              "      <td>2020-11-04</td>\n",
              "      <td>3.493765</td>\n",
              "      <td>3.525320</td>\n",
              "      <td>3.844017</td>\n",
              "      <td>3.106030</td>\n",
              "    </tr>\n",
              "    <tr>\n",
              "      <th>788</th>\n",
              "      <td>2020-11-05</td>\n",
              "      <td>3.125064</td>\n",
              "      <td>3.072324</td>\n",
              "      <td>3.214345</td>\n",
              "      <td>2.762511</td>\n",
              "    </tr>\n",
              "    <tr>\n",
              "      <th>789</th>\n",
              "      <td>2020-11-06</td>\n",
              "      <td>2.622567</td>\n",
              "      <td>2.592253</td>\n",
              "      <td>2.307121</td>\n",
              "      <td>2.239752</td>\n",
              "    </tr>\n",
              "    <tr>\n",
              "      <th>790</th>\n",
              "      <td>2020-11-07</td>\n",
              "      <td>1.406158</td>\n",
              "      <td>1.385305</td>\n",
              "      <td>1.089204</td>\n",
              "      <td>1.164138</td>\n",
              "    </tr>\n",
              "    <tr>\n",
              "      <th>791</th>\n",
              "      <td>2020-11-08</td>\n",
              "      <td>1.426585</td>\n",
              "      <td>1.388429</td>\n",
              "      <td>1.051921</td>\n",
              "      <td>0.921827</td>\n",
              "    </tr>\n",
              "  </tbody>\n",
              "</table>\n",
              "<p>792 rows × 5 columns</p>\n",
              "</div>"
            ],
            "text/plain": [
              "           date       사용자        세션     신규방문자      페이지뷰\n",
              "0    2018-09-09 -0.831585 -0.854682 -0.808095 -0.786990\n",
              "1    2018-09-10 -0.848948 -0.874468 -0.899232 -0.777649\n",
              "2    2018-09-11 -0.782561 -0.808862 -0.870234 -0.780950\n",
              "3    2018-09-12 -0.812180 -0.832813 -0.924087 -0.759985\n",
              "4    2018-09-13 -0.732516 -0.773455 -0.903374 -0.716088\n",
              "..          ...       ...       ...       ...       ...\n",
              "787  2020-11-04  3.493765  3.525320  3.844017  3.106030\n",
              "788  2020-11-05  3.125064  3.072324  3.214345  2.762511\n",
              "789  2020-11-06  2.622567  2.592253  2.307121  2.239752\n",
              "790  2020-11-07  1.406158  1.385305  1.089204  1.164138\n",
              "791  2020-11-08  1.426585  1.388429  1.051921  0.921827\n",
              "\n",
              "[792 rows x 5 columns]"
            ]
          },
          "metadata": {
            "tags": []
          },
          "execution_count": 42
        }
      ]
    },
    {
      "cell_type": "code",
      "metadata": {
        "colab": {
          "base_uri": "https://localhost:8080/"
        },
        "id": "olb3IepCQ8rZ",
        "outputId": "fab7ab32-19e3-465d-ab66-6ca0f848b908"
      },
      "source": [
        "mini = train.iloc[:,1:].min()\r\n",
        "size = train.iloc[:,1:].max() - train.iloc[:,1:].min()\r\n",
        "\r\n",
        "mini\r\n",
        "size"
      ],
      "execution_count": null,
      "outputs": [
        {
          "output_type": "execute_result",
          "data": {
            "text/plain": [
              "사용자        5417\n",
              "세션         5399\n",
              "신규방문자      1690\n",
              "페이지뷰     155433\n",
              "dtype: int64"
            ]
          },
          "metadata": {
            "tags": []
          },
          "execution_count": 111
        }
      ]
    },
    {
      "cell_type": "code",
      "metadata": {
        "colab": {
          "base_uri": "https://localhost:8080/"
        },
        "id": "z50AA048TvLN",
        "outputId": "61988ac2-7596-47ef-a0c2-17f8c266daa9"
      },
      "source": [
        "print(mini)\r\n",
        "print(size)"
      ],
      "execution_count": null,
      "outputs": [
        {
          "output_type": "stream",
          "text": [
            "사용자      1\n",
            "세션       1\n",
            "신규방문자    1\n",
            "페이지뷰     2\n",
            "dtype: int64\n",
            "사용자        5417\n",
            "세션         5399\n",
            "신규방문자      1690\n",
            "페이지뷰     155433\n",
            "dtype: int64\n"
          ],
          "name": "stdout"
        }
      ]
    },
    {
      "cell_type": "code",
      "metadata": {
        "colab": {
          "base_uri": "https://localhost:8080/",
          "height": 419
        },
        "id": "IKwfllNSP_kI",
        "outputId": "6ee91278-aebe-4027-c94f-d746ef7a0085"
      },
      "source": [
        "mini = train.iloc[:,1:].min()\r\n",
        "size = train.iloc[:,1:].max() - train.iloc[:,1:].min()\r\n",
        "train.iloc[:,1:] = (train.iloc[:,1:] -  mini) / size\r\n",
        "train"
      ],
      "execution_count": null,
      "outputs": [
        {
          "output_type": "execute_result",
          "data": {
            "text/html": [
              "<div>\n",
              "<style scoped>\n",
              "    .dataframe tbody tr th:only-of-type {\n",
              "        vertical-align: middle;\n",
              "    }\n",
              "\n",
              "    .dataframe tbody tr th {\n",
              "        vertical-align: top;\n",
              "    }\n",
              "\n",
              "    .dataframe thead th {\n",
              "        text-align: right;\n",
              "    }\n",
              "</style>\n",
              "<table border=\"1\" class=\"dataframe\">\n",
              "  <thead>\n",
              "    <tr style=\"text-align: right;\">\n",
              "      <th></th>\n",
              "      <th>date</th>\n",
              "      <th>사용자</th>\n",
              "      <th>세션</th>\n",
              "      <th>신규방문자</th>\n",
              "      <th>페이지뷰</th>\n",
              "    </tr>\n",
              "  </thead>\n",
              "  <tbody>\n",
              "    <tr>\n",
              "      <th>0</th>\n",
              "      <td>2018-09-09</td>\n",
              "      <td>0.051689</td>\n",
              "      <td>0.049083</td>\n",
              "      <td>0.042604</td>\n",
              "      <td>0.011735</td>\n",
              "    </tr>\n",
              "    <tr>\n",
              "      <th>1</th>\n",
              "      <td>2018-09-10</td>\n",
              "      <td>0.048551</td>\n",
              "      <td>0.045564</td>\n",
              "      <td>0.029586</td>\n",
              "      <td>0.013446</td>\n",
              "    </tr>\n",
              "    <tr>\n",
              "      <th>2</th>\n",
              "      <td>2018-09-11</td>\n",
              "      <td>0.060550</td>\n",
              "      <td>0.057233</td>\n",
              "      <td>0.033728</td>\n",
              "      <td>0.012842</td>\n",
              "    </tr>\n",
              "    <tr>\n",
              "      <th>3</th>\n",
              "      <td>2018-09-12</td>\n",
              "      <td>0.055197</td>\n",
              "      <td>0.052973</td>\n",
              "      <td>0.026036</td>\n",
              "      <td>0.016682</td>\n",
              "    </tr>\n",
              "    <tr>\n",
              "      <th>4</th>\n",
              "      <td>2018-09-13</td>\n",
              "      <td>0.069596</td>\n",
              "      <td>0.063530</td>\n",
              "      <td>0.028994</td>\n",
              "      <td>0.024724</td>\n",
              "    </tr>\n",
              "    <tr>\n",
              "      <th>...</th>\n",
              "      <td>...</td>\n",
              "      <td>...</td>\n",
              "      <td>...</td>\n",
              "      <td>...</td>\n",
              "      <td>...</td>\n",
              "    </tr>\n",
              "    <tr>\n",
              "      <th>787</th>\n",
              "      <td>2020-11-04</td>\n",
              "      <td>0.833487</td>\n",
              "      <td>0.828116</td>\n",
              "      <td>0.707101</td>\n",
              "      <td>0.724949</td>\n",
              "    </tr>\n",
              "    <tr>\n",
              "      <th>788</th>\n",
              "      <td>2020-11-05</td>\n",
              "      <td>0.766845</td>\n",
              "      <td>0.747546</td>\n",
              "      <td>0.617160</td>\n",
              "      <td>0.662015</td>\n",
              "    </tr>\n",
              "    <tr>\n",
              "      <th>789</th>\n",
              "      <td>2020-11-06</td>\n",
              "      <td>0.676020</td>\n",
              "      <td>0.662160</td>\n",
              "      <td>0.487574</td>\n",
              "      <td>0.566244</td>\n",
              "    </tr>\n",
              "    <tr>\n",
              "      <th>790</th>\n",
              "      <td>2020-11-07</td>\n",
              "      <td>0.456157</td>\n",
              "      <td>0.447490</td>\n",
              "      <td>0.313609</td>\n",
              "      <td>0.369188</td>\n",
              "    </tr>\n",
              "    <tr>\n",
              "      <th>791</th>\n",
              "      <td>2020-11-08</td>\n",
              "      <td>0.459849</td>\n",
              "      <td>0.448046</td>\n",
              "      <td>0.308284</td>\n",
              "      <td>0.324796</td>\n",
              "    </tr>\n",
              "  </tbody>\n",
              "</table>\n",
              "<p>792 rows × 5 columns</p>\n",
              "</div>"
            ],
            "text/plain": [
              "           date       사용자        세션     신규방문자      페이지뷰\n",
              "0    2018-09-09  0.051689  0.049083  0.042604  0.011735\n",
              "1    2018-09-10  0.048551  0.045564  0.029586  0.013446\n",
              "2    2018-09-11  0.060550  0.057233  0.033728  0.012842\n",
              "3    2018-09-12  0.055197  0.052973  0.026036  0.016682\n",
              "4    2018-09-13  0.069596  0.063530  0.028994  0.024724\n",
              "..          ...       ...       ...       ...       ...\n",
              "787  2020-11-04  0.833487  0.828116  0.707101  0.724949\n",
              "788  2020-11-05  0.766845  0.747546  0.617160  0.662015\n",
              "789  2020-11-06  0.676020  0.662160  0.487574  0.566244\n",
              "790  2020-11-07  0.456157  0.447490  0.313609  0.369188\n",
              "791  2020-11-08  0.459849  0.448046  0.308284  0.324796\n",
              "\n",
              "[792 rows x 5 columns]"
            ]
          },
          "metadata": {
            "tags": []
          },
          "execution_count": 104
        }
      ]
    },
    {
      "cell_type": "code",
      "metadata": {
        "colab": {
          "base_uri": "https://localhost:8080/"
        },
        "id": "c25xE-rVQ9k0",
        "outputId": "093779af-8f4b-4e0e-9a1d-97f6f40d2c20"
      },
      "source": [
        "train.shape[0]"
      ],
      "execution_count": 61,
      "outputs": [
        {
          "output_type": "execute_result",
          "data": {
            "text/plain": [
              "19008"
            ]
          },
          "metadata": {
            "tags": []
          },
          "execution_count": 61
        }
      ]
    },
    {
      "cell_type": "markdown",
      "metadata": {
        "id": "sT1LCxd_WBts"
      },
      "source": [
        "# 데이터 전처리"
      ]
    },
    {
      "cell_type": "code",
      "metadata": {
        "id": "4mSG_Y-cQlNO"
      },
      "source": [
        "# 한번만!!!!!!!!!!!! 계속하면 0이됨\r\n",
        "# 이거로 변경하자\r\n",
        "\r\n",
        "# scaling\r\n",
        "mini = train.iloc[:,1:].min()\r\n",
        "size = train.iloc[:,1:].max() - train.iloc[:,1:].min()\r\n",
        "train.iloc[:,1:] = (train.iloc[:,1:] -  mini) / size    # 민맥스 그 뭐냐 그 정규화임\r\n",
        "\r\n",
        "input_window = 24       # 들어가는 수, 훈련 , 24시간 일주일들어가서\r\n",
        "output_window = 1       # 나오는 수, 테스트 또는 결과 , 24시간을 예측해봐\r\n",
        "\r\n",
        "# 행렬을 먼저 만듬\r\n",
        "window_x = np.zeros((train.shape[0] - (input_window + output_window), input_window, 4))  # 데이터 전체에서 (들어가는 수랑 나오는 수)를 뺌(이게 for문 돌아갈때 마지막은 뺴야하니까),  맨뒤에 4는 4개의 컬럼(사용자, 세션, 신규방문자, 페이지뷰),    (배치 사이즈, 시퀀스 길이, input 차원)\r\n",
        "window_y = np.zeros((train.shape[0] - (input_window + output_window), output_window, 4))\r\n",
        "\r\n",
        "\r\n",
        "# 데이터 값을 넣음\r\n",
        "for start in range(train.shape[0] - (input_window + output_window)):  #데이터의 수만큼 돌아감, 하루씩 늘려가며 데이터 셋을 생성 다르게 말하면 데이터가 겹침!!!!\r\n",
        "    end = start + input_window    # 데이터의 끝은 시작값과 들어가는 수, 훈련을 168행개\r\n",
        "    window_x[start,:, :] = train.iloc[start : end                , 1: ].values   # 한 데이터의 길이(배치 사이즈), 한데이터에 들어가는 데이터의 행 수(시퀸스 길이), 컬럼의 개수(인풋 차원) , 빈 행렬에 값을 넣기\r\n",
        "    window_y[start,:, :] = train.iloc[end   : end + output_window, 1: ].values   # 앞에 x에서 끝나는 뒤에, 24행개만 들어감, 그러니까 x랑 데이터가 겹칠 수 있으"
      ],
      "execution_count": 111,
      "outputs": []
    },
    {
      "cell_type": "code",
      "metadata": {
        "colab": {
          "base_uri": "https://localhost:8080/"
        },
        "id": "REwdRNUPUdqj",
        "outputId": "81a994dd-ae05-415c-cd0d-d0641203237f"
      },
      "source": [
        "window_x[57,:, :] = train.iloc[57 : 81                , 1: ].values\r\n",
        "window_x[57,:, :]"
      ],
      "execution_count": 79,
      "outputs": [
        {
          "output_type": "execute_result",
          "data": {
            "text/plain": [
              "array([[ 20.,  18.,   6.,  98.],\n",
              "       [ 10.,   9.,   2.,  60.],\n",
              "       [ 13.,  13.,   2.,  42.],\n",
              "       [ 17.,  19.,   3., 101.],\n",
              "       [ 19.,  16.,   4., 134.],\n",
              "       [ 26.,  26.,   7., 194.],\n",
              "       [ 18.,  16.,   2.,  53.],\n",
              "       [ 14.,  16.,   3., 119.],\n",
              "       [ 16.,  14.,   2., 130.],\n",
              "       [ 18.,  17.,   2.,  55.],\n",
              "       [ 15.,  14.,   4., 126.],\n",
              "       [ 20.,  18.,   4.,  77.],\n",
              "       [ 19.,  17.,   2.,  59.],\n",
              "       [ 14.,  13.,   0.,  85.],\n",
              "       [ 12.,  10.,   0.,  85.],\n",
              "       [ 14.,  14.,   1., 169.],\n",
              "       [ 12.,  11.,   1., 105.],\n",
              "       [ 14.,  11.,   4., 124.],\n",
              "       [ 12.,  12.,   4.,  57.],\n",
              "       [  3.,   2.,   0.,   3.],\n",
              "       [  7.,   7.,   0.,  11.],\n",
              "       [ 12.,  12.,   1.,  40.],\n",
              "       [ 15.,  15.,   3., 113.],\n",
              "       [  7.,   7.,   2.,  31.]])"
            ]
          },
          "metadata": {
            "tags": []
          },
          "execution_count": 79
        }
      ]
    },
    {
      "cell_type": "code",
      "metadata": {
        "colab": {
          "base_uri": "https://localhost:8080/"
        },
        "id": "gQMmevn5Txml",
        "outputId": "04800205-e388-47e0-d227-aa8e67acb20e"
      },
      "source": [
        "window_y = np.zeros((train.shape[0] - (input_window + output_window), output_window, 4))\r\n",
        "window_y[0,:, :]"
      ],
      "execution_count": 75,
      "outputs": [
        {
          "output_type": "execute_result",
          "data": {
            "text/plain": [
              "array([[0., 0., 0., 0.],\n",
              "       [0., 0., 0., 0.],\n",
              "       [0., 0., 0., 0.],\n",
              "       [0., 0., 0., 0.],\n",
              "       [0., 0., 0., 0.],\n",
              "       [0., 0., 0., 0.],\n",
              "       [0., 0., 0., 0.]])"
            ]
          },
          "metadata": {
            "tags": []
          },
          "execution_count": 75
        }
      ]
    },
    {
      "cell_type": "code",
      "metadata": {
        "colab": {
          "base_uri": "https://localhost:8080/"
        },
        "id": "Tn5W6rI4SpwZ",
        "outputId": "5df789b2-915b-402c-d6e8-ad769692531b"
      },
      "source": [
        "window_x = np.zeros((train.shape[0] - (input_window + output_window), input_window, 4))\r\n",
        "window_x[0,:, :]"
      ],
      "execution_count": 74,
      "outputs": [
        {
          "output_type": "execute_result",
          "data": {
            "text/plain": [
              "array([[0., 0., 0., 0.],\n",
              "       [0., 0., 0., 0.],\n",
              "       [0., 0., 0., 0.],\n",
              "       [0., 0., 0., 0.],\n",
              "       [0., 0., 0., 0.],\n",
              "       [0., 0., 0., 0.],\n",
              "       [0., 0., 0., 0.],\n",
              "       [0., 0., 0., 0.],\n",
              "       [0., 0., 0., 0.],\n",
              "       [0., 0., 0., 0.],\n",
              "       [0., 0., 0., 0.],\n",
              "       [0., 0., 0., 0.],\n",
              "       [0., 0., 0., 0.],\n",
              "       [0., 0., 0., 0.],\n",
              "       [0., 0., 0., 0.],\n",
              "       [0., 0., 0., 0.],\n",
              "       [0., 0., 0., 0.],\n",
              "       [0., 0., 0., 0.],\n",
              "       [0., 0., 0., 0.],\n",
              "       [0., 0., 0., 0.],\n",
              "       [0., 0., 0., 0.],\n",
              "       [0., 0., 0., 0.],\n",
              "       [0., 0., 0., 0.],\n",
              "       [0., 0., 0., 0.]])"
            ]
          },
          "metadata": {
            "tags": []
          },
          "execution_count": 74
        }
      ]
    },
    {
      "cell_type": "code",
      "metadata": {
        "colab": {
          "base_uri": "https://localhost:8080/",
          "height": 419
        },
        "id": "UiRFVpgZSN58",
        "outputId": "fbaeb284-78dc-4b39-f3d7-625be92d208d"
      },
      "source": [
        "train.iloc[start : end                , 1: ]"
      ],
      "execution_count": 65,
      "outputs": [
        {
          "output_type": "execute_result",
          "data": {
            "text/html": [
              "<div>\n",
              "<style scoped>\n",
              "    .dataframe tbody tr th:only-of-type {\n",
              "        vertical-align: middle;\n",
              "    }\n",
              "\n",
              "    .dataframe tbody tr th {\n",
              "        vertical-align: top;\n",
              "    }\n",
              "\n",
              "    .dataframe thead th {\n",
              "        text-align: right;\n",
              "    }\n",
              "</style>\n",
              "<table border=\"1\" class=\"dataframe\">\n",
              "  <thead>\n",
              "    <tr style=\"text-align: right;\">\n",
              "      <th></th>\n",
              "      <th>사용자</th>\n",
              "      <th>세션</th>\n",
              "      <th>신규방문자</th>\n",
              "      <th>페이지뷰</th>\n",
              "    </tr>\n",
              "  </thead>\n",
              "  <tbody>\n",
              "    <tr>\n",
              "      <th>56</th>\n",
              "      <td>6</td>\n",
              "      <td>6</td>\n",
              "      <td>2</td>\n",
              "      <td>9</td>\n",
              "    </tr>\n",
              "    <tr>\n",
              "      <th>57</th>\n",
              "      <td>20</td>\n",
              "      <td>18</td>\n",
              "      <td>6</td>\n",
              "      <td>98</td>\n",
              "    </tr>\n",
              "    <tr>\n",
              "      <th>58</th>\n",
              "      <td>10</td>\n",
              "      <td>9</td>\n",
              "      <td>2</td>\n",
              "      <td>60</td>\n",
              "    </tr>\n",
              "    <tr>\n",
              "      <th>59</th>\n",
              "      <td>13</td>\n",
              "      <td>13</td>\n",
              "      <td>2</td>\n",
              "      <td>42</td>\n",
              "    </tr>\n",
              "    <tr>\n",
              "      <th>60</th>\n",
              "      <td>17</td>\n",
              "      <td>19</td>\n",
              "      <td>3</td>\n",
              "      <td>101</td>\n",
              "    </tr>\n",
              "    <tr>\n",
              "      <th>...</th>\n",
              "      <td>...</td>\n",
              "      <td>...</td>\n",
              "      <td>...</td>\n",
              "      <td>...</td>\n",
              "    </tr>\n",
              "    <tr>\n",
              "      <th>779</th>\n",
              "      <td>7</td>\n",
              "      <td>5</td>\n",
              "      <td>2</td>\n",
              "      <td>55</td>\n",
              "    </tr>\n",
              "    <tr>\n",
              "      <th>780</th>\n",
              "      <td>2</td>\n",
              "      <td>1</td>\n",
              "      <td>0</td>\n",
              "      <td>89</td>\n",
              "    </tr>\n",
              "    <tr>\n",
              "      <th>781</th>\n",
              "      <td>7</td>\n",
              "      <td>7</td>\n",
              "      <td>4</td>\n",
              "      <td>30</td>\n",
              "    </tr>\n",
              "    <tr>\n",
              "      <th>782</th>\n",
              "      <td>9</td>\n",
              "      <td>9</td>\n",
              "      <td>3</td>\n",
              "      <td>28</td>\n",
              "    </tr>\n",
              "    <tr>\n",
              "      <th>783</th>\n",
              "      <td>5</td>\n",
              "      <td>4</td>\n",
              "      <td>0</td>\n",
              "      <td>38</td>\n",
              "    </tr>\n",
              "  </tbody>\n",
              "</table>\n",
              "<p>728 rows × 4 columns</p>\n",
              "</div>"
            ],
            "text/plain": [
              "     사용자  세션  신규방문자  페이지뷰\n",
              "56     6   6      2     9\n",
              "57    20  18      6    98\n",
              "58    10   9      2    60\n",
              "59    13  13      2    42\n",
              "60    17  19      3   101\n",
              "..   ...  ..    ...   ...\n",
              "779    7   5      2    55\n",
              "780    2   1      0    89\n",
              "781    7   7      4    30\n",
              "782    9   9      3    28\n",
              "783    5   4      0    38\n",
              "\n",
              "[728 rows x 4 columns]"
            ]
          },
          "metadata": {
            "tags": []
          },
          "execution_count": 65
        }
      ]
    },
    {
      "cell_type": "code",
      "metadata": {
        "colab": {
          "base_uri": "https://localhost:8080/"
        },
        "id": "pQIljoAsRseH",
        "outputId": "a0a8c0fd-e67c-46f1-971d-f769de04490c"
      },
      "source": [
        "np.zeros((train.shape[0] - (input_window + output_window), output_window, 4)).shape"
      ],
      "execution_count": 63,
      "outputs": [
        {
          "output_type": "execute_result",
          "data": {
            "text/plain": [
              "(18977, 7, 4)"
            ]
          },
          "metadata": {
            "tags": []
          },
          "execution_count": 63
        }
      ]
    },
    {
      "cell_type": "code",
      "metadata": {
        "id": "BPCqI-MPt9os"
      },
      "source": [
        "# 한번만!!!!!!!!!!!! 계속하면 0이됨\r\n",
        "# scaling\r\n",
        "mini = train.iloc[:,1:].min()\r\n",
        "size = train.iloc[:,1:].max() - train.iloc[:,1:].min()\r\n",
        "train.iloc[:,1:] = (train.iloc[:,1:] -  mini) / size    # 민맥스 그 뭐냐 그 정규화임\r\n",
        "\r\n",
        "input_window = 24       # 들어가는 수, 훈련\r\n",
        "output_window = 7       # 나오는 수, 테스트 또는 결과\r\n",
        "\r\n",
        "window_x = np.zeros((train.shape[0] - (input_window + output_window), input_window, 4))\r\n",
        "window_y = np.zeros((train.shape[0] - (input_window + output_window), output_window, 4))\r\n",
        "\r\n",
        "for start in range(train.shape[0] - (input_window + output_window)):\r\n",
        "    end = start + input_window    \r\n",
        "    window_x[start,:, :] = train.iloc[start : end                , 1: ].values\r\n",
        "    window_y[start,:, :] = train.iloc[end   : end + output_window, 1: ].values"
      ],
      "execution_count": 6,
      "outputs": []
    },
    {
      "cell_type": "code",
      "metadata": {
        "colab": {
          "base_uri": "https://localhost:8080/"
        },
        "id": "tyastf7CvnHO",
        "outputId": "333b0182-fd9a-4609-a89d-1c86664bcdcc"
      },
      "source": [
        "# (배치 사이즈, 시퀀스 길이, input 차원)\r\n",
        "window_x.shape"
      ],
      "execution_count": 95,
      "outputs": [
        {
          "output_type": "execute_result",
          "data": {
            "text/plain": [
              "(18864, 120, 4)"
            ]
          },
          "metadata": {
            "tags": []
          },
          "execution_count": 95
        }
      ]
    },
    {
      "cell_type": "code",
      "metadata": {
        "colab": {
          "base_uri": "https://localhost:8080/"
        },
        "id": "35Xsr4aCvrXK",
        "outputId": "f1601b25-6332-471f-994e-5a19b9cf383e"
      },
      "source": [
        "window_y.shape"
      ],
      "execution_count": 96,
      "outputs": [
        {
          "output_type": "execute_result",
          "data": {
            "text/plain": [
              "(18864, 24, 4)"
            ]
          },
          "metadata": {
            "tags": []
          },
          "execution_count": 96
        }
      ]
    },
    {
      "cell_type": "markdown",
      "metadata": {
        "id": "NBX3BvLwuYYU"
      },
      "source": [
        "# Model"
      ]
    },
    {
      "cell_type": "code",
      "metadata": {
        "id": "FvcbfrNot9qy"
      },
      "source": [
        "# Model 생성\r\n",
        "class LSTM(nn.Module):\r\n",
        "    def __init__(self, input_size, hidden_size):\r\n",
        "        super(LSTM, self).__init__()\r\n",
        "        self.hidden_size = hidden_size\r\n",
        "        self.lstm = nn.LSTM(input_size = input_size,\r\n",
        "                            hidden_size = hidden_size,\r\n",
        "                            batch_first=True)\r\n",
        "        self.hidden_lstm = nn.LSTM(input_size = hidden_size,\r\n",
        "                                   hidden_size = hidden_size,\r\n",
        "                                   batch_first=True)\r\n",
        "        \r\n",
        "        self.time_fc = nn.Linear(hidden_size, 4)\r\n",
        "    \r\n",
        "    def forward(self, x_time):\r\n",
        "    \r\n",
        "        out_time, _ = self.lstm(x_time)\r\n",
        "        out_time, _ = self.hidden_lstm(out_time)\r\n",
        "        out_time, _ = self.hidden_lstm(out_time)\r\n",
        "        out_time, _ = self.hidden_lstm(out_time)\r\n",
        "        \r\n",
        "        \r\n",
        "        out_time = self.time_fc(out_time[:,-7:, :])\r\n",
        "        \r\n",
        "        return out_time.view(-1,7,4)\r\n",
        "\r\n",
        "  \r\n",
        "model = LSTM(input_size = 4, hidden_size = 30).to(device)"
      ],
      "execution_count": 7,
      "outputs": []
    },
    {
      "cell_type": "code",
      "metadata": {
        "colab": {
          "base_uri": "https://localhost:8080/"
        },
        "id": "_IoNGCI9hGoX",
        "outputId": "6ed4b0dc-4ca3-405e-a9e3-f94e0c4f8694"
      },
      "source": [
        "model"
      ],
      "execution_count": 8,
      "outputs": [
        {
          "output_type": "execute_result",
          "data": {
            "text/plain": [
              "LSTM(\n",
              "  (lstm): LSTM(4, 30, batch_first=True)\n",
              "  (hidden_lstm): LSTM(30, 30, batch_first=True)\n",
              "  (time_fc): Linear(in_features=30, out_features=4, bias=True)\n",
              ")"
            ]
          },
          "metadata": {
            "tags": []
          },
          "execution_count": 8
        }
      ]
    },
    {
      "cell_type": "code",
      "metadata": {
        "id": "Gf-9n5tthR3f"
      },
      "source": [
        "# Model 생성33333333333333333333333333333333333333333\r\n",
        "class LSTM(nn.Module):\r\n",
        "    def __init__(self, input_size, hidden_size):                 #사용할 레이어를 정의함, 모델의 부품을 생성(__init__)\r\n",
        "        super(LSTM, self).__init__()\r\n",
        "        self.hidden_size = hidden_size\r\n",
        "\r\n",
        "        self.lstm = nn.LSTM(input_size = input_size,   #인풋\r\n",
        "                            hidden_size = 64,\r\n",
        "                            batch_first=True)\r\n",
        "        \r\n",
        "        self.hidden_lstm = nn.LSTM(input_size = 64,    \r\n",
        "                                   hidden_size = 32,\r\n",
        "                                   batch_first=True)\r\n",
        "        \r\n",
        "        self.hidden_lstm4 = nn.LSTM(input_size = 32,\r\n",
        "                                   hidden_size = 64,\r\n",
        "                                   batch_first=True)\r\n",
        "        \r\n",
        "        self.time_fc = nn.Linear(hidden_size, 4)   #아웃풋\r\n",
        "\r\n",
        "    \r\n",
        "    def forward(self, x_time):                                    #위에 정의한 레이어들을 적절하게 배치하여 모델을 완성, 실질적으로 모델 생성(forward)\r\n",
        "    \r\n",
        "        out_time, _ = self.lstm(x_time) #인풋\r\n",
        "\r\n",
        "        out_time, _ = self.hidden_lstm(out_time)\r\n",
        "        out_time, _ = self.hidden_lstm4(out_time)\r\n",
        "\r\n",
        "        out_time = self.time_fc(out_time[:,-7:, :])\r\n",
        "        \r\n",
        "        return out_time.view(-1,7,4) #아웃풋\r\n",
        "\r\n",
        "  \r\n",
        "model = LSTM(input_size = 4, hidden_size = 64).to(device)"
      ],
      "execution_count": null,
      "outputs": []
    },
    {
      "cell_type": "code",
      "metadata": {
        "colab": {
          "base_uri": "https://localhost:8080/"
        },
        "id": "EFLFuKcNhUwG",
        "outputId": "a871aae4-9fe2-4a55-8ccf-ca991e5fb473"
      },
      "source": [
        "# 이거는 사용할 레이어들만 나옴, 모델의 구성부품만 나옴\r\n",
        "model"
      ],
      "execution_count": null,
      "outputs": [
        {
          "output_type": "execute_result",
          "data": {
            "text/plain": [
              "LSTM(\n",
              "  (lstm): LSTM(4, 64, batch_first=True)\n",
              "  (hidden_lstm): LSTM(64, 32, batch_first=True)\n",
              "  (hidden_lstm4): LSTM(32, 64, batch_first=True)\n",
              "  (time_fc): Linear(in_features=64, out_features=4, bias=True)\n",
              ")"
            ]
          },
          "metadata": {
            "tags": []
          },
          "execution_count": 84
        }
      ]
    },
    {
      "cell_type": "markdown",
      "metadata": {
        "id": "k_quYsTkWODk"
      },
      "source": [
        "# 이 모델로 놀꺼야"
      ]
    },
    {
      "cell_type": "code",
      "metadata": {
        "id": "TXgLMYTAU3tA"
      },
      "source": [
        "# Model 생성\r\n",
        "# 이걸로 가지고 놀꺼임\r\n",
        "\r\n",
        "class GRU(nn.Module):\r\n",
        "    def __init__(self, input_size, hidden_size):\r\n",
        "        super(GRU, self).__init__()\r\n",
        "        self.hidden_size = hidden_size\r\n",
        "        self.lstm = nn.GRU(input_size = input_size,\r\n",
        "                            hidden_size = hidden_size,\r\n",
        "                            batch_first=True)\r\n",
        "        self.hidden_lstm = nn.GRU(input_size = hidden_size,\r\n",
        "                                   hidden_size = hidden_size,\r\n",
        "                                   batch_first=True)\r\n",
        "        \r\n",
        "        self.time_fc = nn.Linear(hidden_size, 4)\r\n",
        "    \r\n",
        "    def forward(self, x_time):\r\n",
        "    \r\n",
        "        out_time, _ = self.lstm(x_time)\r\n",
        "        out_time, _ = self.hidden_lstm(out_time)\r\n",
        "        out_time, _ = self.hidden_lstm(out_time)\r\n",
        "        out_time, _ = self.hidden_lstm(out_time)\r\n",
        "        \r\n",
        "        \r\n",
        "        out_time = self.time_fc(out_time[:,-1:, :])\r\n",
        "        \r\n",
        "        return out_time.view(-1,1,4)\r\n",
        "\r\n",
        "  \r\n",
        "model = GRU(input_size = 4, hidden_size = 24).to(device)"
      ],
      "execution_count": 124,
      "outputs": []
    },
    {
      "cell_type": "code",
      "metadata": {
        "colab": {
          "base_uri": "https://localhost:8080/"
        },
        "id": "EK3_PKGQU3cW",
        "outputId": "87df9c13-2048-4695-fa12-ef285b6b2200"
      },
      "source": [
        "model"
      ],
      "execution_count": 125,
      "outputs": [
        {
          "output_type": "execute_result",
          "data": {
            "text/plain": [
              "GRU(\n",
              "  (lstm): GRU(4, 24, batch_first=True)\n",
              "  (hidden_lstm): GRU(24, 24, batch_first=True)\n",
              "  (time_fc): Linear(in_features=24, out_features=4, bias=True)\n",
              ")"
            ]
          },
          "metadata": {
            "tags": []
          },
          "execution_count": 125
        }
      ]
    },
    {
      "cell_type": "markdown",
      "metadata": {
        "id": "ubT6GkM5mnsb"
      },
      "source": [
        "* https://sanghyu.tistory.com/52"
      ]
    },
    {
      "cell_type": "code",
      "metadata": {
        "id": "bM8ZwvMYnnOh"
      },
      "source": [
        "# Model 생성4444444444444444444444444444444444444\r\n",
        "class GRU(nn.Module):\r\n",
        "    def __init__(self, input_size, hidden_size, dropout=0.01, bidirectional=True):                 #사용할 레이어를 정의함, 모델의 부품을 생성(__init__)\r\n",
        "        super(GRU, self).__init__()\r\n",
        "        self.hidden_size = hidden_size\r\n",
        "\r\n",
        "        self.lstm = nn.GRU(input_size = input_size,   #인풋\r\n",
        "                            hidden_size = hidden_size,\r\n",
        "                            batch_first=True)\r\n",
        "        \r\n",
        "        self.hidden_lstm = nn.GRU(input_size = 30,    \r\n",
        "                                   hidden_size = 30,\r\n",
        "                                   batch_first=True)\r\n",
        "        \r\n",
        "        self.time_fc = nn.Linear(hidden_size, 4)   #아웃풋\r\n",
        "        self.fn = nn.Tanh()\r\n",
        "\r\n",
        "    \r\n",
        "    def forward(self, x_time):                                    #위에 정의한 레이어들을 적절하게 배치하여 모델을 완성, 실질적으로 모델 생성(forward)\r\n",
        "    \r\n",
        "        out_time, _ = self.lstm(x_time) #인풋\r\n",
        "\r\n",
        "        out_time, _ = self.hidden_lstm(out_time)\r\n",
        "        out_time, _ = self.hidden_lstm(out_time)\r\n",
        "        out_time, _ = self.hidden_lstm(out_time)\r\n",
        "\r\n",
        "        out_time = self.time_fc(out_time[:,-7:, :])\r\n",
        "        \r\n",
        "        return out_time.view(-1,7,4) #아웃풋\r\n",
        "\r\n",
        "  \r\n",
        "model = GRU(input_size = 4, hidden_size = 30).to(device)"
      ],
      "execution_count": null,
      "outputs": []
    },
    {
      "cell_type": "code",
      "metadata": {
        "id": "ihnGBsgznm5L",
        "colab": {
          "base_uri": "https://localhost:8080/"
        },
        "outputId": "add4c077-0025-4479-a655-94c13ce5b750"
      },
      "source": [
        "model"
      ],
      "execution_count": null,
      "outputs": [
        {
          "output_type": "execute_result",
          "data": {
            "text/plain": [
              "GRU(\n",
              "  (lstm): GRU(4, 30, batch_first=True)\n",
              "  (hidden_lstm): GRU(30, 30, batch_first=True)\n",
              "  (time_fc): Linear(in_features=30, out_features=4, bias=True)\n",
              "  (fn): Tanh()\n",
              ")"
            ]
          },
          "metadata": {
            "tags": []
          },
          "execution_count": 27
        }
      ]
    },
    {
      "cell_type": "code",
      "metadata": {
        "id": "4uMtZwbWBfIn"
      },
      "source": [
        "# Model 생성2222222222222222222222222222222222222\r\n",
        "# 결과는 4.7임 원래 코드는 4.3 ㅋㅋㅋㅋㅋㅋㅋㅋㅋㅋㅋㅋ\r\n",
        "class LSTM(nn.Module):\r\n",
        "    def __init__(self, input_size, hidden_size):\r\n",
        "        super(LSTM, self).__init__()\r\n",
        "        self.hidden_size = hidden_size\r\n",
        "        self.lstm = nn.LSTM(input_size = input_size,\r\n",
        "                            hidden_size = hidden_size,\r\n",
        "                            batch_first=True)\r\n",
        "        self.hidden_lstm = nn.LSTM(input_size = hidden_size,\r\n",
        "                                   hidden_size = hidden_size,\r\n",
        "                                   batch_first=True)\r\n",
        "        \r\n",
        "        self.time_fc = nn.Linear(hidden_size, 4)\r\n",
        "    \r\n",
        "    def forward(self, x_time):\r\n",
        "    \r\n",
        "        out_time, _ = self.lstm(x_time)\r\n",
        "        out_time, _ = self.hidden_lstm(out_time)\r\n",
        "        out_time, _ = self.hidden_lstm(out_time)\r\n",
        "        out_time, _ = self.hidden_lstm(out_time)\r\n",
        "        \r\n",
        "        \r\n",
        "        out_time = self.time_fc(out_time[:,-7:, :])\r\n",
        "        \r\n",
        "        return out_time.view(-1,7,4)\r\n",
        "    \r\n",
        "model = LSTM(input_size = 4, hidden_size = 64).to(device)"
      ],
      "execution_count": null,
      "outputs": []
    },
    {
      "cell_type": "code",
      "metadata": {
        "colab": {
          "base_uri": "https://localhost:8080/"
        },
        "id": "YemjTUtFqpBF",
        "outputId": "cbe130e9-ed6e-47e3-8694-08f2d4bb8195"
      },
      "source": [
        "print(model)"
      ],
      "execution_count": null,
      "outputs": [
        {
          "output_type": "stream",
          "text": [
            "LSTM(\n",
            "  (lstm): LSTM(4, 64, batch_first=True)\n",
            "  (hidden_lstm): LSTM(64, 64, batch_first=True)\n",
            "  (time_fc): Linear(in_features=64, out_features=4, bias=True)\n",
            ")\n"
          ],
          "name": "stdout"
        }
      ]
    },
    {
      "cell_type": "code",
      "metadata": {
        "colab": {
          "base_uri": "https://localhost:8080/"
        },
        "id": "ayq-ibs56cx1",
        "outputId": "1fe15f54-2e22-4c09-a259-16f1eee50ba9"
      },
      "source": [
        "print(window_x.shape)\r\n",
        "print(window_y.shape)"
      ],
      "execution_count": null,
      "outputs": [
        {
          "output_type": "stream",
          "text": [
            "(755, 30, 4)\n",
            "(755, 7, 4)\n"
          ],
          "name": "stdout"
        }
      ]
    },
    {
      "cell_type": "markdown",
      "metadata": {
        "id": "HDNt73GFkNah"
      },
      "source": [
        "모델학습"
      ]
    },
    {
      "cell_type": "code",
      "metadata": {
        "colab": {
          "base_uri": "https://localhost:8080/"
        },
        "id": "9c8ADJj5SPfi",
        "outputId": "93a60044-b3c4-4307-898f-c061c6f9b436"
      },
      "source": [
        "window_x.shape"
      ],
      "execution_count": null,
      "outputs": [
        {
          "output_type": "execute_result",
          "data": {
            "text/plain": [
              "torch.Size([755, 30, 4])"
            ]
          },
          "metadata": {
            "tags": []
          },
          "execution_count": 114
        }
      ]
    },
    {
      "cell_type": "code",
      "metadata": {
        "colab": {
          "base_uri": "https://localhost:8080/"
        },
        "id": "BI-nQpttVurj",
        "outputId": "7d3dc374-4077-4c60-cd52-f97fa4a8ffd4"
      },
      "source": [
        "window_x"
      ],
      "execution_count": null,
      "outputs": [
        {
          "output_type": "execute_result",
          "data": {
            "text/plain": [
              "array([[[0.05168913, 0.04908316, 0.04260355, 0.01173496],\n",
              "        [0.04855086, 0.04556399, 0.0295858 , 0.01344631],\n",
              "        [0.06055012, 0.05723282, 0.03372781, 0.01284155],\n",
              "        ...,\n",
              "        [0.01421451, 0.01370624, 0.01242604, 0.002181  ],\n",
              "        [0.0182758 , 0.01778107, 0.03017751, 0.00308171],\n",
              "        [0.01255307, 0.01240971, 0.01360947, 0.00156337]],\n",
              "\n",
              "       [[0.04855086, 0.04556399, 0.0295858 , 0.01344631],\n",
              "        [0.06055012, 0.05723282, 0.03372781, 0.01284155],\n",
              "        [0.0551966 , 0.05297277, 0.0260355 , 0.01668243],\n",
              "        ...,\n",
              "        [0.0182758 , 0.01778107, 0.03017751, 0.00308171],\n",
              "        [0.01255307, 0.01240971, 0.01360947, 0.00156337],\n",
              "        [0.00978401, 0.00981663, 0.01301775, 0.00137037]],\n",
              "\n",
              "       [[0.06055012, 0.05723282, 0.03372781, 0.01284155],\n",
              "        [0.0551966 , 0.05297277, 0.0260355 , 0.01668243],\n",
              "        [0.06959572, 0.06353028, 0.02899408, 0.02472448],\n",
              "        ...,\n",
              "        [0.01255307, 0.01240971, 0.01360947, 0.00156337],\n",
              "        [0.00978401, 0.00981663, 0.01301775, 0.00137037],\n",
              "        [0.01661436, 0.01555844, 0.01656805, 0.00352563]],\n",
              "\n",
              "       ...,\n",
              "\n",
              "       [[0.30884253, 0.3032043 , 0.2035503 , 0.2542832 ],\n",
              "        [0.2338933 , 0.23170958, 0.13431953, 0.19472699],\n",
              "        [0.27192173, 0.26690128, 0.16035503, 0.20210637],\n",
              "        ...,\n",
              "        [0.61491601, 0.60400074, 0.48284024, 0.49871006],\n",
              "        [0.62986893, 0.61844786, 0.47869822, 0.56291135],\n",
              "        [0.72973971, 0.73069087, 0.54497041, 0.69375229]],\n",
              "\n",
              "       [[0.2338933 , 0.23170958, 0.13431953, 0.19472699],\n",
              "        [0.27192173, 0.26690128, 0.16035503, 0.20210637],\n",
              "        [0.29019753, 0.28486757, 0.17100592, 0.22417376],\n",
              "        ...,\n",
              "        [0.62986893, 0.61844786, 0.47869822, 0.56291135],\n",
              "        [0.72973971, 0.73069087, 0.54497041, 0.69375229],\n",
              "        [0.59793243, 0.58399704, 0.42307692, 0.58014064]],\n",
              "\n",
              "       [[0.27192173, 0.26690128, 0.16035503, 0.20210637],\n",
              "        [0.29019753, 0.28486757, 0.17100592, 0.22417376],\n",
              "        [0.31087318, 0.30468605, 0.21183432, 0.22493936],\n",
              "        ...,\n",
              "        [0.72973971, 0.73069087, 0.54497041, 0.69375229],\n",
              "        [0.59793243, 0.58399704, 0.42307692, 0.58014064],\n",
              "        [0.37013107, 0.3745138 , 0.26390533, 0.33011008]]])"
            ]
          },
          "metadata": {
            "tags": []
          },
          "execution_count": 121
        }
      ]
    },
    {
      "cell_type": "markdown",
      "metadata": {
        "id": "PQNb192AnD3z"
      },
      "source": [
        "* https://sacko.tistory.com/38"
      ]
    },
    {
      "cell_type": "markdown",
      "metadata": {
        "id": "C910PlcMWTlh"
      },
      "source": [
        "# 훈련하자잉"
      ]
    },
    {
      "cell_type": "code",
      "metadata": {
        "colab": {
          "base_uri": "https://localhost:8080/",
          "height": 394
        },
        "id": "VXYtZwu4t9tS",
        "outputId": "bf4b3870-fcfc-4583-e597-94eb2b41d570"
      },
      "source": [
        "# Model학습\r\n",
        "window_x = torch.tensor(window_x).float().to(device)\r\n",
        "window_y = torch.tensor(window_y).float().to(device)\r\n",
        "\r\n",
        "# Train model\r\n",
        "optimizer = torch.optim.Adam(model.parameters(), lr = 1e-2)\r\n",
        "criterion = nn.MSELoss(size_average = True)\r\n",
        "num_epochs  = 200\r\n",
        "train_error = []\r\n",
        "\r\n",
        "for t in range(num_epochs):\r\n",
        "    train_pred = model(window_x)\r\n",
        "    loss = criterion(train_pred, window_y) ### trend\r\n",
        "    train_error.append(loss)\r\n",
        "    \r\n",
        "    optimizer.zero_grad()\r\n",
        "    loss.backward()\r\n",
        "    optimizer.step()\r\n",
        "    if t % 10 == 0 and t !=0:\r\n",
        "        print(f\"{t} Epochs train MSE: {loss.item():1.5f}\")"
      ],
      "execution_count": 126,
      "outputs": [
        {
          "output_type": "error",
          "ename": "RuntimeError",
          "evalue": "ignored",
          "traceback": [
            "\u001b[0;31m---------------------------------------------------------------------------\u001b[0m",
            "\u001b[0;31mRuntimeError\u001b[0m                              Traceback (most recent call last)",
            "\u001b[0;32m<ipython-input-126-55ac03170902>\u001b[0m in \u001b[0;36m<module>\u001b[0;34m()\u001b[0m\n\u001b[1;32m     10\u001b[0m \u001b[0;34m\u001b[0m\u001b[0m\n\u001b[1;32m     11\u001b[0m \u001b[0;32mfor\u001b[0m \u001b[0mt\u001b[0m \u001b[0;32min\u001b[0m \u001b[0mrange\u001b[0m\u001b[0;34m(\u001b[0m\u001b[0mnum_epochs\u001b[0m\u001b[0;34m)\u001b[0m\u001b[0;34m:\u001b[0m\u001b[0;34m\u001b[0m\u001b[0;34m\u001b[0m\u001b[0m\n\u001b[0;32m---> 12\u001b[0;31m     \u001b[0mtrain_pred\u001b[0m \u001b[0;34m=\u001b[0m \u001b[0mmodel\u001b[0m\u001b[0;34m(\u001b[0m\u001b[0mwindow_x\u001b[0m\u001b[0;34m)\u001b[0m\u001b[0;34m\u001b[0m\u001b[0;34m\u001b[0m\u001b[0m\n\u001b[0m\u001b[1;32m     13\u001b[0m     \u001b[0mloss\u001b[0m \u001b[0;34m=\u001b[0m \u001b[0mcriterion\u001b[0m\u001b[0;34m(\u001b[0m\u001b[0mtrain_pred\u001b[0m\u001b[0;34m,\u001b[0m \u001b[0mwindow_y\u001b[0m\u001b[0;34m)\u001b[0m \u001b[0;31m### trend\u001b[0m\u001b[0;34m\u001b[0m\u001b[0;34m\u001b[0m\u001b[0m\n\u001b[1;32m     14\u001b[0m     \u001b[0mtrain_error\u001b[0m\u001b[0;34m.\u001b[0m\u001b[0mappend\u001b[0m\u001b[0;34m(\u001b[0m\u001b[0mloss\u001b[0m\u001b[0;34m)\u001b[0m\u001b[0;34m\u001b[0m\u001b[0;34m\u001b[0m\u001b[0m\n",
            "\u001b[0;32m/usr/local/lib/python3.6/dist-packages/torch/nn/modules/module.py\u001b[0m in \u001b[0;36m_call_impl\u001b[0;34m(self, *input, **kwargs)\u001b[0m\n\u001b[1;32m    725\u001b[0m             \u001b[0mresult\u001b[0m \u001b[0;34m=\u001b[0m \u001b[0mself\u001b[0m\u001b[0;34m.\u001b[0m\u001b[0m_slow_forward\u001b[0m\u001b[0;34m(\u001b[0m\u001b[0;34m*\u001b[0m\u001b[0minput\u001b[0m\u001b[0;34m,\u001b[0m \u001b[0;34m**\u001b[0m\u001b[0mkwargs\u001b[0m\u001b[0;34m)\u001b[0m\u001b[0;34m\u001b[0m\u001b[0;34m\u001b[0m\u001b[0m\n\u001b[1;32m    726\u001b[0m         \u001b[0;32melse\u001b[0m\u001b[0;34m:\u001b[0m\u001b[0;34m\u001b[0m\u001b[0;34m\u001b[0m\u001b[0m\n\u001b[0;32m--> 727\u001b[0;31m             \u001b[0mresult\u001b[0m \u001b[0;34m=\u001b[0m \u001b[0mself\u001b[0m\u001b[0;34m.\u001b[0m\u001b[0mforward\u001b[0m\u001b[0;34m(\u001b[0m\u001b[0;34m*\u001b[0m\u001b[0minput\u001b[0m\u001b[0;34m,\u001b[0m \u001b[0;34m**\u001b[0m\u001b[0mkwargs\u001b[0m\u001b[0;34m)\u001b[0m\u001b[0;34m\u001b[0m\u001b[0;34m\u001b[0m\u001b[0m\n\u001b[0m\u001b[1;32m    728\u001b[0m         for hook in itertools.chain(\n\u001b[1;32m    729\u001b[0m                 \u001b[0m_global_forward_hooks\u001b[0m\u001b[0;34m.\u001b[0m\u001b[0mvalues\u001b[0m\u001b[0;34m(\u001b[0m\u001b[0;34m)\u001b[0m\u001b[0;34m,\u001b[0m\u001b[0;34m\u001b[0m\u001b[0;34m\u001b[0m\u001b[0m\n",
            "\u001b[0;32m<ipython-input-124-40663626e2fd>\u001b[0m in \u001b[0;36mforward\u001b[0;34m(self, x_time)\u001b[0m\n\u001b[1;32m     17\u001b[0m     \u001b[0;32mdef\u001b[0m \u001b[0mforward\u001b[0m\u001b[0;34m(\u001b[0m\u001b[0mself\u001b[0m\u001b[0;34m,\u001b[0m \u001b[0mx_time\u001b[0m\u001b[0;34m)\u001b[0m\u001b[0;34m:\u001b[0m\u001b[0;34m\u001b[0m\u001b[0;34m\u001b[0m\u001b[0m\n\u001b[1;32m     18\u001b[0m \u001b[0;34m\u001b[0m\u001b[0m\n\u001b[0;32m---> 19\u001b[0;31m         \u001b[0mout_time\u001b[0m\u001b[0;34m,\u001b[0m \u001b[0m_\u001b[0m \u001b[0;34m=\u001b[0m \u001b[0mself\u001b[0m\u001b[0;34m.\u001b[0m\u001b[0mlstm\u001b[0m\u001b[0;34m(\u001b[0m\u001b[0mx_time\u001b[0m\u001b[0;34m)\u001b[0m\u001b[0;34m\u001b[0m\u001b[0;34m\u001b[0m\u001b[0m\n\u001b[0m\u001b[1;32m     20\u001b[0m         \u001b[0mout_time\u001b[0m\u001b[0;34m,\u001b[0m \u001b[0m_\u001b[0m \u001b[0;34m=\u001b[0m \u001b[0mself\u001b[0m\u001b[0;34m.\u001b[0m\u001b[0mhidden_lstm\u001b[0m\u001b[0;34m(\u001b[0m\u001b[0mout_time\u001b[0m\u001b[0;34m)\u001b[0m\u001b[0;34m\u001b[0m\u001b[0;34m\u001b[0m\u001b[0m\n\u001b[1;32m     21\u001b[0m         \u001b[0mout_time\u001b[0m\u001b[0;34m,\u001b[0m \u001b[0m_\u001b[0m \u001b[0;34m=\u001b[0m \u001b[0mself\u001b[0m\u001b[0;34m.\u001b[0m\u001b[0mhidden_lstm\u001b[0m\u001b[0;34m(\u001b[0m\u001b[0mout_time\u001b[0m\u001b[0;34m)\u001b[0m\u001b[0;34m\u001b[0m\u001b[0;34m\u001b[0m\u001b[0m\n",
            "\u001b[0;32m/usr/local/lib/python3.6/dist-packages/torch/nn/modules/module.py\u001b[0m in \u001b[0;36m_call_impl\u001b[0;34m(self, *input, **kwargs)\u001b[0m\n\u001b[1;32m    725\u001b[0m             \u001b[0mresult\u001b[0m \u001b[0;34m=\u001b[0m \u001b[0mself\u001b[0m\u001b[0;34m.\u001b[0m\u001b[0m_slow_forward\u001b[0m\u001b[0;34m(\u001b[0m\u001b[0;34m*\u001b[0m\u001b[0minput\u001b[0m\u001b[0;34m,\u001b[0m \u001b[0;34m**\u001b[0m\u001b[0mkwargs\u001b[0m\u001b[0;34m)\u001b[0m\u001b[0;34m\u001b[0m\u001b[0;34m\u001b[0m\u001b[0m\n\u001b[1;32m    726\u001b[0m         \u001b[0;32melse\u001b[0m\u001b[0;34m:\u001b[0m\u001b[0;34m\u001b[0m\u001b[0;34m\u001b[0m\u001b[0m\n\u001b[0;32m--> 727\u001b[0;31m             \u001b[0mresult\u001b[0m \u001b[0;34m=\u001b[0m \u001b[0mself\u001b[0m\u001b[0;34m.\u001b[0m\u001b[0mforward\u001b[0m\u001b[0;34m(\u001b[0m\u001b[0;34m*\u001b[0m\u001b[0minput\u001b[0m\u001b[0;34m,\u001b[0m \u001b[0;34m**\u001b[0m\u001b[0mkwargs\u001b[0m\u001b[0;34m)\u001b[0m\u001b[0;34m\u001b[0m\u001b[0;34m\u001b[0m\u001b[0m\n\u001b[0m\u001b[1;32m    728\u001b[0m         for hook in itertools.chain(\n\u001b[1;32m    729\u001b[0m                 \u001b[0m_global_forward_hooks\u001b[0m\u001b[0;34m.\u001b[0m\u001b[0mvalues\u001b[0m\u001b[0;34m(\u001b[0m\u001b[0;34m)\u001b[0m\u001b[0;34m,\u001b[0m\u001b[0;34m\u001b[0m\u001b[0;34m\u001b[0m\u001b[0m\n",
            "\u001b[0;32m/usr/local/lib/python3.6/dist-packages/torch/nn/modules/rnn.py\u001b[0m in \u001b[0;36mforward\u001b[0;34m(self, input, hx)\u001b[0m\n\u001b[1;32m    738\u001b[0m         \u001b[0;32mif\u001b[0m \u001b[0mbatch_sizes\u001b[0m \u001b[0;32mis\u001b[0m \u001b[0;32mNone\u001b[0m\u001b[0;34m:\u001b[0m\u001b[0;34m\u001b[0m\u001b[0;34m\u001b[0m\u001b[0m\n\u001b[1;32m    739\u001b[0m             result = _VF.gru(input, hx, self._flat_weights, self.bias, self.num_layers,\n\u001b[0;32m--> 740\u001b[0;31m                              self.dropout, self.training, self.bidirectional, self.batch_first)\n\u001b[0m\u001b[1;32m    741\u001b[0m         \u001b[0;32melse\u001b[0m\u001b[0;34m:\u001b[0m\u001b[0;34m\u001b[0m\u001b[0;34m\u001b[0m\u001b[0m\n\u001b[1;32m    742\u001b[0m             result = _VF.gru(input, batch_sizes, hx, self._flat_weights, self.bias,\n",
            "\u001b[0;31mRuntimeError\u001b[0m: cuDNN error: CUDNN_STATUS_EXECUTION_FAILED"
          ]
        }
      ]
    },
    {
      "cell_type": "markdown",
      "metadata": {
        "id": "CpLq-U-Fubmh"
      },
      "source": [
        "# Prediction & CSV "
      ]
    },
    {
      "cell_type": "code",
      "metadata": {
        "colab": {
          "base_uri": "https://localhost:8080/"
        },
        "id": "jkpt3Dcd7G7Q",
        "outputId": "c4b3daa3-2f53-4976-904f-d96e7f3b191b"
      },
      "source": [
        "train_pred"
      ],
      "execution_count": 50,
      "outputs": [
        {
          "output_type": "execute_result",
          "data": {
            "text/plain": [
              "tensor([[[2.1880e-02, 1.7821e-02, 1.1221e-02, 4.6668e-03],\n",
              "         [1.9374e-02, 1.5439e-02, 1.0283e-02, 3.5671e-03],\n",
              "         [1.6151e-02, 1.2555e-02, 8.8812e-03, 1.7887e-03],\n",
              "         ...,\n",
              "         [1.3592e-02, 1.0663e-02, 8.9165e-03, 1.8242e-03],\n",
              "         [1.2187e-02, 9.6103e-03, 8.5743e-03, 1.0142e-03],\n",
              "         [1.1388e-02, 9.1651e-03, 8.6422e-03, 5.0785e-04]],\n",
              "\n",
              "        [[1.9342e-02, 1.5392e-02, 9.3540e-03, 4.3772e-03],\n",
              "         [1.5831e-02, 1.2192e-02, 7.8292e-03, 2.3633e-03],\n",
              "         [1.4413e-02, 1.1119e-02, 7.9972e-03, 2.5959e-03],\n",
              "         ...,\n",
              "         [1.1248e-02, 8.6615e-03, 7.3744e-03, 1.0604e-03],\n",
              "         [1.0385e-02, 8.1830e-03, 7.4793e-03, 4.7383e-04],\n",
              "         [1.0576e-02, 8.6676e-03, 8.2294e-03, 6.7477e-04]],\n",
              "\n",
              "        [[1.5481e-02, 1.1858e-02, 6.6441e-03, 3.1183e-03],\n",
              "         [1.3940e-02, 1.0604e-02, 6.7669e-03, 3.1221e-03],\n",
              "         [1.2237e-02, 9.2022e-03, 6.4907e-03, 2.3435e-03],\n",
              "         ...,\n",
              "         [9.8004e-03, 7.5312e-03, 6.3736e-03, 6.0496e-04],\n",
              "         [1.0030e-02, 8.0719e-03, 7.2200e-03, 7.5086e-04],\n",
              "         [1.0728e-02, 8.8653e-03, 7.7427e-03, 1.8913e-04]],\n",
              "\n",
              "        ...,\n",
              "\n",
              "        [[3.0350e-01, 2.4916e-01, 1.5266e-01, 1.6680e-01],\n",
              "         [2.9383e-01, 2.3006e-01, 1.3464e-01, 1.6349e-01],\n",
              "         [2.6321e-01, 1.9740e-01, 1.0746e-01, 1.4087e-01],\n",
              "         ...,\n",
              "         [2.4007e-01, 1.8663e-01, 1.0531e-01, 1.2007e-01],\n",
              "         [1.7445e-01, 1.3585e-01, 6.5770e-02, 8.1356e-02],\n",
              "         [1.6502e-01, 1.3212e-01, 6.5012e-02, 8.5828e-02]],\n",
              "\n",
              "        [[2.9243e-01, 2.2788e-01, 1.3164e-01, 1.6317e-01],\n",
              "         [2.6005e-01, 1.9419e-01, 1.0394e-01, 1.3928e-01],\n",
              "         [2.6486e-01, 2.0383e-01, 1.1113e-01, 1.3840e-01],\n",
              "         ...,\n",
              "         [1.7363e-01, 1.3525e-01, 6.4469e-02, 8.1812e-02],\n",
              "         [1.6474e-01, 1.3184e-01, 6.4129e-02, 8.6643e-02],\n",
              "         [1.6258e-01, 1.3211e-01, 6.7302e-02, 9.4452e-02]],\n",
              "\n",
              "        [[2.5694e-01, 2.0146e-01, 1.1188e-01, 1.2992e-01],\n",
              "         [2.6658e-01, 2.0799e-01, 1.1704e-01, 1.3506e-01],\n",
              "         [2.3687e-01, 1.8448e-01, 1.0385e-01, 1.1594e-01],\n",
              "         ...,\n",
              "         [1.6949e-01, 1.3699e-01, 6.9560e-02, 8.2482e-02],\n",
              "         [1.6550e-01, 1.3583e-01, 7.0894e-02, 8.6655e-02],\n",
              "         [1.7871e-01, 1.4688e-01, 7.8767e-02, 9.9235e-02]]], device='cuda:0',\n",
              "       grad_fn=<ViewBackward>)"
            ]
          },
          "metadata": {
            "tags": []
          },
          "execution_count": 50
        }
      ]
    },
    {
      "cell_type": "code",
      "metadata": {
        "colab": {
          "base_uri": "https://localhost:8080/"
        },
        "id": "3Kc4xgCR7G1B",
        "outputId": "fba41803-a959-42ca-f833-73339b073895"
      },
      "source": [
        "train_pred.shape"
      ],
      "execution_count": 51,
      "outputs": [
        {
          "output_type": "execute_result",
          "data": {
            "text/plain": [
              "torch.Size([18977, 7, 4])"
            ]
          },
          "metadata": {
            "tags": []
          },
          "execution_count": 51
        }
      ]
    },
    {
      "cell_type": "code",
      "metadata": {
        "colab": {
          "base_uri": "https://localhost:8080/"
        },
        "id": "WGguJ-vv7GsP",
        "outputId": "82c7222e-67c5-4dec-9adb-a1f24682f23c"
      },
      "source": [
        "last_month = torch.tensor(window_x[-1,:,:][np.newaxis,...]).float().to(device)\r\n",
        "last_month"
      ],
      "execution_count": null,
      "outputs": [
        {
          "output_type": "execute_result",
          "data": {
            "text/plain": [
              "tensor([[[0.2719, 0.2669, 0.1604, 0.2021],\n",
              "         [0.2902, 0.2849, 0.1710, 0.2242],\n",
              "         [0.3109, 0.3047, 0.2118, 0.2249],\n",
              "         [0.5704, 0.5557, 0.4414, 0.4659],\n",
              "         [0.5141, 0.5053, 0.3686, 0.4430],\n",
              "         [0.5595, 0.5477, 0.4509, 0.4565],\n",
              "         [0.4957, 0.4869, 0.3331, 0.3698],\n",
              "         [0.3836, 0.3669, 0.1947, 0.3030],\n",
              "         [0.3415, 0.3404, 0.2308, 0.2975],\n",
              "         [0.3063, 0.2978, 0.1964, 0.2278],\n",
              "         [0.4685, 0.4599, 0.3550, 0.3588],\n",
              "         [0.5034, 0.5016, 0.4237, 0.3637],\n",
              "         [0.4473, 0.4466, 0.3515, 0.3213],\n",
              "         [0.3982, 0.3958, 0.3325, 0.2804],\n",
              "         [0.3867, 0.3769, 0.2805, 0.2870],\n",
              "         [0.3005, 0.2969, 0.2751, 0.1814],\n",
              "         [0.3762, 0.3712, 0.3639, 0.2516],\n",
              "         [0.4886, 0.4849, 0.3923, 0.3579],\n",
              "         [0.5981, 0.6036, 0.6379, 0.5542],\n",
              "         [0.4883, 0.4845, 0.4178, 0.4242],\n",
              "         [0.5132, 0.5131, 0.4627, 0.4058],\n",
              "         [0.4320, 0.4223, 0.3320, 0.3416],\n",
              "         [0.3345, 0.3289, 0.2491, 0.2403],\n",
              "         [0.2994, 0.2969, 0.1882, 0.2504],\n",
              "         [0.5942, 0.5755, 0.4574, 0.5109],\n",
              "         [0.6149, 0.6040, 0.4828, 0.4987],\n",
              "         [0.6299, 0.6184, 0.4787, 0.5629],\n",
              "         [0.7297, 0.7307, 0.5450, 0.6938],\n",
              "         [0.5979, 0.5840, 0.4231, 0.5801],\n",
              "         [0.3701, 0.3745, 0.2639, 0.3301]]], device='cuda:0')"
            ]
          },
          "metadata": {
            "tags": []
          },
          "execution_count": 52
        }
      ]
    },
    {
      "cell_type": "code",
      "metadata": {
        "colab": {
          "base_uri": "https://localhost:8080/"
        },
        "id": "-F2wHKu17snt",
        "outputId": "984fdbd6-cd70-45ed-8602-3b131d612282"
      },
      "source": [
        "last_month.shape"
      ],
      "execution_count": null,
      "outputs": [
        {
          "output_type": "execute_result",
          "data": {
            "text/plain": [
              "torch.Size([1, 30, 4])"
            ]
          },
          "metadata": {
            "tags": []
          },
          "execution_count": 53
        }
      ]
    },
    {
      "cell_type": "code",
      "metadata": {
        "id": "pf0SGeNI7z2z"
      },
      "source": [
        "submission = pd.read_csv(\"/content/drive/MyDrive/Colab Notebooks/LSTM_pytorch(Dacon)/input/submission.csv\", encoding = 'euc-kr')\r\n",
        "last_month = torch.tensor(window_x[-1,:,:][np.newaxis,...]).float().to(device)"
      ],
      "execution_count": 52,
      "outputs": []
    },
    {
      "cell_type": "code",
      "metadata": {
        "colab": {
          "base_uri": "https://localhost:8080/",
          "height": 419
        },
        "id": "FzzikHmm-kgy",
        "outputId": "195eb57e-b2e7-474f-d28d-0b5213d94b60"
      },
      "source": [
        "submission"
      ],
      "execution_count": 53,
      "outputs": [
        {
          "output_type": "execute_result",
          "data": {
            "text/html": [
              "<div>\n",
              "<style scoped>\n",
              "    .dataframe tbody tr th:only-of-type {\n",
              "        vertical-align: middle;\n",
              "    }\n",
              "\n",
              "    .dataframe tbody tr th {\n",
              "        vertical-align: top;\n",
              "    }\n",
              "\n",
              "    .dataframe thead th {\n",
              "        text-align: right;\n",
              "    }\n",
              "</style>\n",
              "<table border=\"1\" class=\"dataframe\">\n",
              "  <thead>\n",
              "    <tr style=\"text-align: right;\">\n",
              "      <th></th>\n",
              "      <th>DateTime</th>\n",
              "      <th>사용자</th>\n",
              "      <th>세션</th>\n",
              "      <th>신규방문자</th>\n",
              "      <th>페이지뷰</th>\n",
              "    </tr>\n",
              "  </thead>\n",
              "  <tbody>\n",
              "    <tr>\n",
              "      <th>0</th>\n",
              "      <td>2020-11-09</td>\n",
              "      <td>0</td>\n",
              "      <td>0</td>\n",
              "      <td>0</td>\n",
              "      <td>0</td>\n",
              "    </tr>\n",
              "    <tr>\n",
              "      <th>1</th>\n",
              "      <td>2020-11-10</td>\n",
              "      <td>0</td>\n",
              "      <td>0</td>\n",
              "      <td>0</td>\n",
              "      <td>0</td>\n",
              "    </tr>\n",
              "    <tr>\n",
              "      <th>2</th>\n",
              "      <td>2020-11-11</td>\n",
              "      <td>0</td>\n",
              "      <td>0</td>\n",
              "      <td>0</td>\n",
              "      <td>0</td>\n",
              "    </tr>\n",
              "    <tr>\n",
              "      <th>3</th>\n",
              "      <td>2020-11-12</td>\n",
              "      <td>0</td>\n",
              "      <td>0</td>\n",
              "      <td>0</td>\n",
              "      <td>0</td>\n",
              "    </tr>\n",
              "    <tr>\n",
              "      <th>4</th>\n",
              "      <td>2020-11-13</td>\n",
              "      <td>0</td>\n",
              "      <td>0</td>\n",
              "      <td>0</td>\n",
              "      <td>0</td>\n",
              "    </tr>\n",
              "    <tr>\n",
              "      <th>...</th>\n",
              "      <td>...</td>\n",
              "      <td>...</td>\n",
              "      <td>...</td>\n",
              "      <td>...</td>\n",
              "      <td>...</td>\n",
              "    </tr>\n",
              "    <tr>\n",
              "      <th>56</th>\n",
              "      <td>2021-01-04</td>\n",
              "      <td>0</td>\n",
              "      <td>0</td>\n",
              "      <td>0</td>\n",
              "      <td>0</td>\n",
              "    </tr>\n",
              "    <tr>\n",
              "      <th>57</th>\n",
              "      <td>2021-01-05</td>\n",
              "      <td>0</td>\n",
              "      <td>0</td>\n",
              "      <td>0</td>\n",
              "      <td>0</td>\n",
              "    </tr>\n",
              "    <tr>\n",
              "      <th>58</th>\n",
              "      <td>2021-01-06</td>\n",
              "      <td>0</td>\n",
              "      <td>0</td>\n",
              "      <td>0</td>\n",
              "      <td>0</td>\n",
              "    </tr>\n",
              "    <tr>\n",
              "      <th>59</th>\n",
              "      <td>2021-01-07</td>\n",
              "      <td>0</td>\n",
              "      <td>0</td>\n",
              "      <td>0</td>\n",
              "      <td>0</td>\n",
              "    </tr>\n",
              "    <tr>\n",
              "      <th>60</th>\n",
              "      <td>2021-01-08</td>\n",
              "      <td>0</td>\n",
              "      <td>0</td>\n",
              "      <td>0</td>\n",
              "      <td>0</td>\n",
              "    </tr>\n",
              "  </tbody>\n",
              "</table>\n",
              "<p>61 rows × 5 columns</p>\n",
              "</div>"
            ],
            "text/plain": [
              "      DateTime  사용자  세션  신규방문자  페이지뷰\n",
              "0   2020-11-09    0   0      0     0\n",
              "1   2020-11-10    0   0      0     0\n",
              "2   2020-11-11    0   0      0     0\n",
              "3   2020-11-12    0   0      0     0\n",
              "4   2020-11-13    0   0      0     0\n",
              "..         ...  ...  ..    ...   ...\n",
              "56  2021-01-04    0   0      0     0\n",
              "57  2021-01-05    0   0      0     0\n",
              "58  2021-01-06    0   0      0     0\n",
              "59  2021-01-07    0   0      0     0\n",
              "60  2021-01-08    0   0      0     0\n",
              "\n",
              "[61 rows x 5 columns]"
            ]
          },
          "metadata": {
            "tags": []
          },
          "execution_count": 53
        }
      ]
    },
    {
      "cell_type": "code",
      "metadata": {
        "colab": {
          "base_uri": "https://localhost:8080/"
        },
        "id": "izARQOku75Fy",
        "outputId": "ffd44759-ee4e-47be-d078-960111a929a9"
      },
      "source": [
        "model(last_month)"
      ],
      "execution_count": null,
      "outputs": [
        {
          "output_type": "execute_result",
          "data": {
            "text/plain": [
              "tensor([[[0.3109, 0.3075, 0.2104, 0.2576],\n",
              "         [0.8317, 0.8310, 0.7240, 0.7188],\n",
              "         [0.8340, 0.8556, 0.7645, 0.7274],\n",
              "         [0.8019, 0.8213, 0.6864, 0.6791],\n",
              "         [0.8205, 0.8413, 0.6917, 0.7049],\n",
              "         [0.7203, 0.7382, 0.5990, 0.6443],\n",
              "         [0.3676, 0.3605, 0.2497, 0.3002]]], device='cuda:0',\n",
              "       grad_fn=<ViewBackward>)"
            ]
          },
          "metadata": {
            "tags": []
          },
          "execution_count": 51
        }
      ]
    },
    {
      "cell_type": "code",
      "metadata": {
        "id": "2YpfXVAY8BPi"
      },
      "source": [
        "next_week = model(last_month)\r\n",
        "last_month = torch.cat([last_month[-7:], next_week], axis = 1)"
      ],
      "execution_count": null,
      "outputs": []
    },
    {
      "cell_type": "code",
      "metadata": {
        "colab": {
          "base_uri": "https://localhost:8080/"
        },
        "id": "pydExcTb8Ef2",
        "outputId": "a1825017-c928-4765-eafd-490b6b637117"
      },
      "source": [
        "last_month"
      ],
      "execution_count": null,
      "outputs": [
        {
          "output_type": "execute_result",
          "data": {
            "text/plain": [
              "tensor([[[1.7700e+02, 1.6600e+02, 4.0000e+01, 4.0460e+03],\n",
              "         [1.4900e+02, 1.3800e+02, 2.1000e+01, 3.3930e+03],\n",
              "         [1.2800e+02, 1.2900e+02, 3.2000e+01, 3.5970e+03],\n",
              "         [1.2100e+02, 1.1800e+02, 3.0000e+01, 2.9140e+03],\n",
              "         [1.4500e+02, 1.3800e+02, 2.7000e+01, 2.7160e+03],\n",
              "         [1.6300e+02, 1.6200e+02, 2.7000e+01, 2.4030e+03],\n",
              "         [1.2900e+02, 1.1900e+02, 2.7000e+01, 2.9460e+03],\n",
              "         [1.5000e+02, 1.4900e+02, 3.1000e+01, 3.3650e+03],\n",
              "         [1.2900e+02, 1.3300e+02, 2.2000e+01, 2.5710e+03],\n",
              "         [9.1000e+01, 8.3000e+01, 1.6000e+01, 1.8230e+03],\n",
              "         [6.2000e+01, 5.5000e+01, 1.2000e+01, 1.2710e+03],\n",
              "         [3.0000e+01, 2.8000e+01, 8.0000e+00, 3.4500e+02],\n",
              "         [1.7000e+01, 1.8000e+01, 1.0000e+00, 1.4800e+02],\n",
              "         [1.9000e+01, 2.0000e+01, 5.0000e+00, 2.7500e+02],\n",
              "         [1.7000e+01, 1.6000e+01, 7.0000e+00, 1.7000e+02],\n",
              "         [1.6000e+01, 1.5000e+01, 3.0000e+00, 1.5700e+02],\n",
              "         [2.2000e+01, 2.5000e+01, 7.0000e+00, 2.5200e+02],\n",
              "         [4.3000e+01, 4.6000e+01, 1.1000e+01, 6.4000e+02],\n",
              "         [9.0000e+01, 9.2000e+01, 2.2000e+01, 1.3740e+03],\n",
              "         [1.1300e+02, 1.1400e+02, 3.1000e+01, 1.7890e+03],\n",
              "         [1.1200e+02, 1.0200e+02, 3.0000e+01, 2.0210e+03],\n",
              "         [1.3200e+02, 1.3000e+02, 3.2000e+01, 2.2420e+03],\n",
              "         [1.3000e+02, 1.2900e+02, 2.8000e+01, 1.8430e+03],\n",
              "         [1.7400e+02, 1.8100e+02, 3.4000e+01, 4.1910e+03]]], device='cuda:0')"
            ]
          },
          "metadata": {
            "tags": []
          },
          "execution_count": 46
        }
      ]
    },
    {
      "cell_type": "code",
      "metadata": {
        "colab": {
          "base_uri": "https://localhost:8080/",
          "height": 244
        },
        "id": "5XuL7F3C8JhK",
        "outputId": "bb823452-963f-41ce-81ff-f1347469bfda"
      },
      "source": [
        "pred_week = next_week.cpu().detach().numpy().reshape(output_window,4)\r\n",
        "pred_week = pred_week * size.values + mini.values\r\n",
        "pred_week = pred_week.astype(int)\r\n",
        "\r\n",
        "print(pred_week)"
      ],
      "execution_count": null,
      "outputs": [
        {
          "output_type": "error",
          "ename": "NameError",
          "evalue": "ignored",
          "traceback": [
            "\u001b[0;31m---------------------------------------------------------------------------\u001b[0m",
            "\u001b[0;31mNameError\u001b[0m                                 Traceback (most recent call last)",
            "\u001b[0;32m<ipython-input-50-8069f146553f>\u001b[0m in \u001b[0;36m<module>\u001b[0;34m()\u001b[0m\n\u001b[1;32m      1\u001b[0m \u001b[0mpred_week\u001b[0m \u001b[0;34m=\u001b[0m \u001b[0mnext_week\u001b[0m\u001b[0;34m.\u001b[0m\u001b[0mcpu\u001b[0m\u001b[0;34m(\u001b[0m\u001b[0;34m)\u001b[0m\u001b[0;34m.\u001b[0m\u001b[0mdetach\u001b[0m\u001b[0;34m(\u001b[0m\u001b[0;34m)\u001b[0m\u001b[0;34m.\u001b[0m\u001b[0mnumpy\u001b[0m\u001b[0;34m(\u001b[0m\u001b[0;34m)\u001b[0m\u001b[0;34m.\u001b[0m\u001b[0mreshape\u001b[0m\u001b[0;34m(\u001b[0m\u001b[0moutput_window\u001b[0m\u001b[0;34m,\u001b[0m\u001b[0;36m4\u001b[0m\u001b[0;34m)\u001b[0m\u001b[0;34m\u001b[0m\u001b[0;34m\u001b[0m\u001b[0m\n\u001b[0;32m----> 2\u001b[0;31m \u001b[0mpred_week\u001b[0m \u001b[0;34m=\u001b[0m \u001b[0mpred_week\u001b[0m \u001b[0;34m*\u001b[0m \u001b[0msize\u001b[0m\u001b[0;34m.\u001b[0m\u001b[0mvalues\u001b[0m \u001b[0;34m+\u001b[0m \u001b[0mmini\u001b[0m\u001b[0;34m.\u001b[0m\u001b[0mvalues\u001b[0m\u001b[0;34m\u001b[0m\u001b[0;34m\u001b[0m\u001b[0m\n\u001b[0m\u001b[1;32m      3\u001b[0m \u001b[0mpred_week\u001b[0m \u001b[0;34m=\u001b[0m \u001b[0mpred_week\u001b[0m\u001b[0;34m.\u001b[0m\u001b[0mastype\u001b[0m\u001b[0;34m(\u001b[0m\u001b[0mint\u001b[0m\u001b[0;34m)\u001b[0m\u001b[0;34m\u001b[0m\u001b[0;34m\u001b[0m\u001b[0m\n\u001b[1;32m      4\u001b[0m \u001b[0;34m\u001b[0m\u001b[0m\n\u001b[1;32m      5\u001b[0m \u001b[0mprint\u001b[0m\u001b[0;34m(\u001b[0m\u001b[0mpred_week\u001b[0m\u001b[0;34m)\u001b[0m\u001b[0;34m\u001b[0m\u001b[0;34m\u001b[0m\u001b[0m\n",
            "\u001b[0;31mNameError\u001b[0m: name 'size' is not defined"
          ]
        }
      ]
    },
    {
      "cell_type": "code",
      "metadata": {
        "colab": {
          "base_uri": "https://localhost:8080/"
        },
        "id": "IlhHhkfI-YBn",
        "outputId": "fe34c7d3-5c26-4146-f705-6aa82cfb06a2"
      },
      "source": [
        "pred_week.shape"
      ],
      "execution_count": null,
      "outputs": [
        {
          "output_type": "execute_result",
          "data": {
            "text/plain": [
              "(7, 4)"
            ]
          },
          "metadata": {
            "tags": []
          },
          "execution_count": 55
        }
      ]
    },
    {
      "cell_type": "code",
      "metadata": {
        "colab": {
          "base_uri": "https://localhost:8080/"
        },
        "id": "9iQmFYQy8TXI",
        "outputId": "02f94d5a-d531-4dc7-dc4b-466184366796"
      },
      "source": [
        "(len(submission) - output_window)//7 + 1"
      ],
      "execution_count": null,
      "outputs": [
        {
          "output_type": "execute_result",
          "data": {
            "text/plain": [
              "8"
            ]
          },
          "metadata": {
            "tags": []
          },
          "execution_count": 56
        }
      ]
    },
    {
      "cell_type": "code",
      "metadata": {
        "colab": {
          "base_uri": "https://localhost:8080/"
        },
        "id": "WoFqn-u28JXP",
        "outputId": "76f8a925-4d74-420f-fa67-acf517422794"
      },
      "source": [
        "len(submission)//7"
      ],
      "execution_count": null,
      "outputs": [
        {
          "output_type": "execute_result",
          "data": {
            "text/plain": [
              "8"
            ]
          },
          "metadata": {
            "tags": []
          },
          "execution_count": 129
        }
      ]
    },
    {
      "cell_type": "code",
      "metadata": {
        "colab": {
          "base_uri": "https://localhost:8080/"
        },
        "id": "7BmHf_SY-6HV",
        "outputId": "5ceb9e95-26fc-4a0f-93cc-a9e12c398941"
      },
      "source": [
        "# output_window는 일주일인 7일을 의미\r\n",
        "output_window"
      ],
      "execution_count": null,
      "outputs": [
        {
          "output_type": "execute_result",
          "data": {
            "text/plain": [
              "7"
            ]
          },
          "metadata": {
            "tags": []
          },
          "execution_count": 58
        }
      ]
    },
    {
      "cell_type": "code",
      "metadata": {
        "colab": {
          "base_uri": "https://localhost:8080/"
        },
        "id": "kRuGHTqVWF4J",
        "outputId": "cb5de50c-0f7c-4322-a2bf-40fa96be7f57"
      },
      "source": [
        "(len(submission) - output_window)//7 + 2"
      ],
      "execution_count": null,
      "outputs": [
        {
          "output_type": "execute_result",
          "data": {
            "text/plain": [
              "9"
            ]
          },
          "metadata": {
            "tags": []
          },
          "execution_count": 126
        }
      ]
    },
    {
      "cell_type": "code",
      "metadata": {
        "colab": {
          "base_uri": "https://localhost:8080/"
        },
        "id": "MlfavRADWR4J",
        "outputId": "6d81aaff-4cd9-4dc6-c48b-56b0d12b1ff5"
      },
      "source": [
        "last_month.shape"
      ],
      "execution_count": null,
      "outputs": [
        {
          "output_type": "execute_result",
          "data": {
            "text/plain": [
              "torch.Size([1, 30, 4])"
            ]
          },
          "metadata": {
            "tags": []
          },
          "execution_count": 140
        }
      ]
    },
    {
      "cell_type": "code",
      "metadata": {
        "colab": {
          "base_uri": "https://localhost:8080/"
        },
        "id": "ZcCHHrmxWPjN",
        "outputId": "3709ea32-6cd4-40f4-ccf6-18b309fa9e58"
      },
      "source": [
        "last_month = torch.tensor(window_x[-1,:,:][np.newaxis,...]).float().to(device)\r\n",
        "last_month"
      ],
      "execution_count": null,
      "outputs": [
        {
          "output_type": "execute_result",
          "data": {
            "text/plain": [
              "tensor([[[0.2719, 0.2669, 0.1604, 0.2021],\n",
              "         [0.2902, 0.2849, 0.1710, 0.2242],\n",
              "         [0.3109, 0.3047, 0.2118, 0.2249],\n",
              "         [0.5704, 0.5557, 0.4414, 0.4659],\n",
              "         [0.5141, 0.5053, 0.3686, 0.4430],\n",
              "         [0.5595, 0.5477, 0.4509, 0.4565],\n",
              "         [0.4957, 0.4869, 0.3331, 0.3698],\n",
              "         [0.3836, 0.3669, 0.1947, 0.3030],\n",
              "         [0.3415, 0.3404, 0.2308, 0.2975],\n",
              "         [0.3063, 0.2978, 0.1964, 0.2278],\n",
              "         [0.4685, 0.4599, 0.3550, 0.3588],\n",
              "         [0.5034, 0.5016, 0.4237, 0.3637],\n",
              "         [0.4473, 0.4466, 0.3515, 0.3213],\n",
              "         [0.3982, 0.3958, 0.3325, 0.2804],\n",
              "         [0.3867, 0.3769, 0.2805, 0.2870],\n",
              "         [0.3005, 0.2969, 0.2751, 0.1814],\n",
              "         [0.3762, 0.3712, 0.3639, 0.2516],\n",
              "         [0.4886, 0.4849, 0.3923, 0.3579],\n",
              "         [0.5981, 0.6036, 0.6379, 0.5542],\n",
              "         [0.4883, 0.4845, 0.4178, 0.4242],\n",
              "         [0.5132, 0.5131, 0.4627, 0.4058],\n",
              "         [0.4320, 0.4223, 0.3320, 0.3416],\n",
              "         [0.3345, 0.3289, 0.2491, 0.2403],\n",
              "         [0.2994, 0.2969, 0.1882, 0.2504],\n",
              "         [0.5942, 0.5755, 0.4574, 0.5109],\n",
              "         [0.6149, 0.6040, 0.4828, 0.4987],\n",
              "         [0.6299, 0.6184, 0.4787, 0.5629],\n",
              "         [0.7297, 0.7307, 0.5450, 0.6938],\n",
              "         [0.5979, 0.5840, 0.4231, 0.5801],\n",
              "         [0.3701, 0.3745, 0.2639, 0.3301]]], device='cuda:0')"
            ]
          },
          "metadata": {
            "tags": []
          },
          "execution_count": 139
        }
      ]
    },
    {
      "cell_type": "code",
      "metadata": {
        "colab": {
          "base_uri": "https://localhost:8080/"
        },
        "id": "v__fAidAWnmp",
        "outputId": "82073a04-a9ee-4f97-c885-2fb377714644"
      },
      "source": [
        "last_month = torch.cat([last_month[-7:], next_week], axis = 1)\r\n",
        "last_month"
      ],
      "execution_count": null,
      "outputs": [
        {
          "output_type": "execute_result",
          "data": {
            "text/plain": [
              "tensor([[[0.3629, 0.3644, 0.2732, 0.3200],\n",
              "         [0.7821, 0.7970, 0.6833, 0.7038],\n",
              "         [0.8446, 0.8400, 0.7563, 0.7715],\n",
              "         [0.8275, 0.8262, 0.7524, 0.7531],\n",
              "         [0.8854, 0.8948, 0.8303, 0.8005],\n",
              "         [0.7381, 0.7399, 0.6661, 0.6361],\n",
              "         [0.2763, 0.2613, 0.2123, 0.2185],\n",
              "         [0.2798, 0.2842, 0.2000, 0.2583],\n",
              "         [0.8492, 0.8798, 0.7275, 0.7673],\n",
              "         [0.5630, 0.5577, 0.4222, 0.4592],\n",
              "         [0.4542, 0.4542, 0.3271, 0.3638],\n",
              "         [0.4400, 0.4412, 0.3266, 0.3600],\n",
              "         [0.3790, 0.3750, 0.2696, 0.3062],\n",
              "         [0.2932, 0.2870, 0.1911, 0.2293],\n",
              "         [0.3243, 0.3246, 0.2110, 0.2584],\n",
              "         [0.5550, 0.5592, 0.4398, 0.4792],\n",
              "         [0.4681, 0.4658, 0.3506, 0.3788],\n",
              "         [0.4159, 0.4135, 0.3005, 0.3303],\n",
              "         [0.3720, 0.3687, 0.2568, 0.2931],\n",
              "         [0.2940, 0.2897, 0.1821, 0.2242],\n",
              "         [0.2757, 0.2763, 0.1641, 0.2043],\n",
              "         [0.3125, 0.3151, 0.1988, 0.2288],\n",
              "         [0.4687, 0.4707, 0.3672, 0.3770],\n",
              "         [0.5105, 0.5105, 0.4232, 0.4160],\n",
              "         [0.4923, 0.4895, 0.4032, 0.3986],\n",
              "         [0.4334, 0.4234, 0.3462, 0.3445],\n",
              "         [0.3311, 0.3184, 0.2456, 0.2464],\n",
              "         [0.3128, 0.3125, 0.2227, 0.2325],\n",
              "         [0.4754, 0.4866, 0.3821, 0.3936],\n",
              "         [0.6386, 0.6530, 0.5639, 0.5606],\n",
              "         [0.5105, 0.5105, 0.4232, 0.4160],\n",
              "         [0.4923, 0.4895, 0.4032, 0.3986],\n",
              "         [0.4334, 0.4234, 0.3462, 0.3445],\n",
              "         [0.3311, 0.3184, 0.2456, 0.2464],\n",
              "         [0.3128, 0.3125, 0.2227, 0.2325],\n",
              "         [0.4754, 0.4866, 0.3821, 0.3936],\n",
              "         [0.6386, 0.6530, 0.5639, 0.5606]]], device='cuda:0',\n",
              "       grad_fn=<CatBackward>)"
            ]
          },
          "metadata": {
            "tags": []
          },
          "execution_count": 160
        }
      ]
    },
    {
      "cell_type": "code",
      "metadata": {
        "colab": {
          "base_uri": "https://localhost:8080/"
        },
        "id": "0s3XChuhW53R",
        "outputId": "a6c711ce-a023-45f7-b9ef-a6d82f2c7a38"
      },
      "source": [
        "last_month[0:]"
      ],
      "execution_count": null,
      "outputs": [
        {
          "output_type": "execute_result",
          "data": {
            "text/plain": [
              "tensor([[[0.2719, 0.2669, 0.1604, 0.2021],\n",
              "         [0.2902, 0.2849, 0.1710, 0.2242],\n",
              "         [0.3109, 0.3047, 0.2118, 0.2249],\n",
              "         [0.5704, 0.5557, 0.4414, 0.4659],\n",
              "         [0.5141, 0.5053, 0.3686, 0.4430],\n",
              "         [0.5595, 0.5477, 0.4509, 0.4565],\n",
              "         [0.4957, 0.4869, 0.3331, 0.3698],\n",
              "         [0.3836, 0.3669, 0.1947, 0.3030],\n",
              "         [0.3415, 0.3404, 0.2308, 0.2975],\n",
              "         [0.3063, 0.2978, 0.1964, 0.2278],\n",
              "         [0.4685, 0.4599, 0.3550, 0.3588],\n",
              "         [0.5034, 0.5016, 0.4237, 0.3637],\n",
              "         [0.4473, 0.4466, 0.3515, 0.3213],\n",
              "         [0.3982, 0.3958, 0.3325, 0.2804],\n",
              "         [0.3867, 0.3769, 0.2805, 0.2870],\n",
              "         [0.3005, 0.2969, 0.2751, 0.1814],\n",
              "         [0.3762, 0.3712, 0.3639, 0.2516],\n",
              "         [0.4886, 0.4849, 0.3923, 0.3579],\n",
              "         [0.5981, 0.6036, 0.6379, 0.5542],\n",
              "         [0.4883, 0.4845, 0.4178, 0.4242],\n",
              "         [0.5132, 0.5131, 0.4627, 0.4058],\n",
              "         [0.4320, 0.4223, 0.3320, 0.3416],\n",
              "         [0.3345, 0.3289, 0.2491, 0.2403],\n",
              "         [0.2994, 0.2969, 0.1882, 0.2504],\n",
              "         [0.5942, 0.5755, 0.4574, 0.5109],\n",
              "         [0.6149, 0.6040, 0.4828, 0.4987],\n",
              "         [0.6299, 0.6184, 0.4787, 0.5629],\n",
              "         [0.7297, 0.7307, 0.5450, 0.6938],\n",
              "         [0.5979, 0.5840, 0.4231, 0.5801],\n",
              "         [0.3701, 0.3745, 0.2639, 0.3301]]], device='cuda:0')"
            ]
          },
          "metadata": {
            "tags": []
          },
          "execution_count": 155
        }
      ]
    },
    {
      "cell_type": "code",
      "metadata": {
        "colab": {
          "base_uri": "https://localhost:8080/"
        },
        "id": "8xaxlalZYFJC",
        "outputId": "0856586c-221b-4d0e-ec14-ce330a2512a6"
      },
      "source": [
        "last_month[:,7:,:]"
      ],
      "execution_count": null,
      "outputs": [
        {
          "output_type": "execute_result",
          "data": {
            "text/plain": [
              "tensor([[[0.2798, 0.2842, 0.2000, 0.2583],\n",
              "         [0.8492, 0.8798, 0.7275, 0.7673],\n",
              "         [0.5630, 0.5577, 0.4222, 0.4592],\n",
              "         [0.4542, 0.4542, 0.3271, 0.3638],\n",
              "         [0.4400, 0.4412, 0.3266, 0.3600],\n",
              "         [0.3790, 0.3750, 0.2696, 0.3062],\n",
              "         [0.2932, 0.2870, 0.1911, 0.2293],\n",
              "         [0.3243, 0.3246, 0.2110, 0.2584],\n",
              "         [0.5550, 0.5592, 0.4398, 0.4792],\n",
              "         [0.4681, 0.4658, 0.3506, 0.3788],\n",
              "         [0.4159, 0.4135, 0.3005, 0.3303],\n",
              "         [0.3720, 0.3687, 0.2568, 0.2931],\n",
              "         [0.2940, 0.2897, 0.1821, 0.2242],\n",
              "         [0.2757, 0.2763, 0.1641, 0.2043],\n",
              "         [0.3125, 0.3151, 0.1988, 0.2288],\n",
              "         [0.4687, 0.4707, 0.3672, 0.3770],\n",
              "         [0.5105, 0.5105, 0.4232, 0.4160],\n",
              "         [0.4923, 0.4895, 0.4032, 0.3986],\n",
              "         [0.4334, 0.4234, 0.3462, 0.3445],\n",
              "         [0.3311, 0.3184, 0.2456, 0.2464],\n",
              "         [0.3128, 0.3125, 0.2227, 0.2325],\n",
              "         [0.4754, 0.4866, 0.3821, 0.3936],\n",
              "         [0.6386, 0.6530, 0.5639, 0.5606],\n",
              "         [0.5105, 0.5105, 0.4232, 0.4160],\n",
              "         [0.4923, 0.4895, 0.4032, 0.3986],\n",
              "         [0.4334, 0.4234, 0.3462, 0.3445],\n",
              "         [0.3311, 0.3184, 0.2456, 0.2464],\n",
              "         [0.3128, 0.3125, 0.2227, 0.2325],\n",
              "         [0.4754, 0.4866, 0.3821, 0.3936],\n",
              "         [0.6386, 0.6530, 0.5639, 0.5606]]], device='cuda:0',\n",
              "       grad_fn=<SliceBackward>)"
            ]
          },
          "metadata": {
            "tags": []
          },
          "execution_count": 161
        }
      ]
    },
    {
      "cell_type": "code",
      "metadata": {
        "colab": {
          "base_uri": "https://localhost:8080/",
          "height": 979
        },
        "id": "xkp1PDKGaGYL",
        "outputId": "2c86c1ee-c7f5-4035-aaf1-89dfe9ebcd71"
      },
      "source": [
        "train.iloc[-30:,1:]"
      ],
      "execution_count": null,
      "outputs": [
        {
          "output_type": "execute_result",
          "data": {
            "text/html": [
              "<div>\n",
              "<style scoped>\n",
              "    .dataframe tbody tr th:only-of-type {\n",
              "        vertical-align: middle;\n",
              "    }\n",
              "\n",
              "    .dataframe tbody tr th {\n",
              "        vertical-align: top;\n",
              "    }\n",
              "\n",
              "    .dataframe thead th {\n",
              "        text-align: right;\n",
              "    }\n",
              "</style>\n",
              "<table border=\"1\" class=\"dataframe\">\n",
              "  <thead>\n",
              "    <tr style=\"text-align: right;\">\n",
              "      <th></th>\n",
              "      <th>사용자</th>\n",
              "      <th>세션</th>\n",
              "      <th>신규방문자</th>\n",
              "      <th>페이지뷰</th>\n",
              "    </tr>\n",
              "  </thead>\n",
              "  <tbody>\n",
              "    <tr>\n",
              "      <th>762</th>\n",
              "      <td>0.341517</td>\n",
              "      <td>0.340433</td>\n",
              "      <td>0.230769</td>\n",
              "      <td>0.297459</td>\n",
              "    </tr>\n",
              "    <tr>\n",
              "      <th>763</th>\n",
              "      <td>0.306258</td>\n",
              "      <td>0.297833</td>\n",
              "      <td>0.196450</td>\n",
              "      <td>0.227847</td>\n",
              "    </tr>\n",
              "    <tr>\n",
              "      <th>764</th>\n",
              "      <td>0.468525</td>\n",
              "      <td>0.459900</td>\n",
              "      <td>0.355030</td>\n",
              "      <td>0.358836</td>\n",
              "    </tr>\n",
              "    <tr>\n",
              "      <th>765</th>\n",
              "      <td>0.503415</td>\n",
              "      <td>0.501574</td>\n",
              "      <td>0.423669</td>\n",
              "      <td>0.363668</td>\n",
              "    </tr>\n",
              "    <tr>\n",
              "      <th>766</th>\n",
              "      <td>0.447296</td>\n",
              "      <td>0.446564</td>\n",
              "      <td>0.351479</td>\n",
              "      <td>0.321251</td>\n",
              "    </tr>\n",
              "    <tr>\n",
              "      <th>767</th>\n",
              "      <td>0.398191</td>\n",
              "      <td>0.395814</td>\n",
              "      <td>0.332544</td>\n",
              "      <td>0.280404</td>\n",
              "    </tr>\n",
              "    <tr>\n",
              "      <th>768</th>\n",
              "      <td>0.386745</td>\n",
              "      <td>0.376922</td>\n",
              "      <td>0.280473</td>\n",
              "      <td>0.286966</td>\n",
              "    </tr>\n",
              "    <tr>\n",
              "      <th>769</th>\n",
              "      <td>0.300535</td>\n",
              "      <td>0.296907</td>\n",
              "      <td>0.275148</td>\n",
              "      <td>0.181422</td>\n",
              "    </tr>\n",
              "    <tr>\n",
              "      <th>770</th>\n",
              "      <td>0.376223</td>\n",
              "      <td>0.371180</td>\n",
              "      <td>0.363905</td>\n",
              "      <td>0.251613</td>\n",
              "    </tr>\n",
              "    <tr>\n",
              "      <th>771</th>\n",
              "      <td>0.488647</td>\n",
              "      <td>0.484905</td>\n",
              "      <td>0.392308</td>\n",
              "      <td>0.357858</td>\n",
              "    </tr>\n",
              "    <tr>\n",
              "      <th>772</th>\n",
              "      <td>0.598117</td>\n",
              "      <td>0.603630</td>\n",
              "      <td>0.637870</td>\n",
              "      <td>0.554155</td>\n",
              "    </tr>\n",
              "    <tr>\n",
              "      <th>773</th>\n",
              "      <td>0.488278</td>\n",
              "      <td>0.484534</td>\n",
              "      <td>0.417751</td>\n",
              "      <td>0.424163</td>\n",
              "    </tr>\n",
              "    <tr>\n",
              "      <th>774</th>\n",
              "      <td>0.513199</td>\n",
              "      <td>0.513058</td>\n",
              "      <td>0.462722</td>\n",
              "      <td>0.405808</td>\n",
              "    </tr>\n",
              "    <tr>\n",
              "      <th>775</th>\n",
              "      <td>0.431973</td>\n",
              "      <td>0.422300</td>\n",
              "      <td>0.331953</td>\n",
              "      <td>0.341646</td>\n",
              "    </tr>\n",
              "    <tr>\n",
              "      <th>776</th>\n",
              "      <td>0.334502</td>\n",
              "      <td>0.328950</td>\n",
              "      <td>0.249112</td>\n",
              "      <td>0.240264</td>\n",
              "    </tr>\n",
              "    <tr>\n",
              "      <th>777</th>\n",
              "      <td>0.299428</td>\n",
              "      <td>0.296907</td>\n",
              "      <td>0.188166</td>\n",
              "      <td>0.250378</td>\n",
              "    </tr>\n",
              "    <tr>\n",
              "      <th>778</th>\n",
              "      <td>0.594240</td>\n",
              "      <td>0.575477</td>\n",
              "      <td>0.457396</td>\n",
              "      <td>0.510850</td>\n",
              "    </tr>\n",
              "    <tr>\n",
              "      <th>779</th>\n",
              "      <td>0.614916</td>\n",
              "      <td>0.604001</td>\n",
              "      <td>0.482840</td>\n",
              "      <td>0.498710</td>\n",
              "    </tr>\n",
              "    <tr>\n",
              "      <th>780</th>\n",
              "      <td>0.629869</td>\n",
              "      <td>0.618448</td>\n",
              "      <td>0.478698</td>\n",
              "      <td>0.562911</td>\n",
              "    </tr>\n",
              "    <tr>\n",
              "      <th>781</th>\n",
              "      <td>0.729740</td>\n",
              "      <td>0.730691</td>\n",
              "      <td>0.544970</td>\n",
              "      <td>0.693752</td>\n",
              "    </tr>\n",
              "    <tr>\n",
              "      <th>782</th>\n",
              "      <td>0.597932</td>\n",
              "      <td>0.583997</td>\n",
              "      <td>0.423077</td>\n",
              "      <td>0.580141</td>\n",
              "    </tr>\n",
              "    <tr>\n",
              "      <th>783</th>\n",
              "      <td>0.370131</td>\n",
              "      <td>0.374514</td>\n",
              "      <td>0.263905</td>\n",
              "      <td>0.330110</td>\n",
              "    </tr>\n",
              "    <tr>\n",
              "      <th>784</th>\n",
              "      <td>0.368100</td>\n",
              "      <td>0.365994</td>\n",
              "      <td>0.249112</td>\n",
              "      <td>0.308609</td>\n",
              "    </tr>\n",
              "    <tr>\n",
              "      <th>785</th>\n",
              "      <td>0.878161</td>\n",
              "      <td>0.873495</td>\n",
              "      <td>0.717160</td>\n",
              "      <td>0.774745</td>\n",
              "    </tr>\n",
              "    <tr>\n",
              "      <th>786</th>\n",
              "      <td>1.000000</td>\n",
              "      <td>0.982219</td>\n",
              "      <td>0.901183</td>\n",
              "      <td>0.970746</td>\n",
              "    </tr>\n",
              "    <tr>\n",
              "      <th>787</th>\n",
              "      <td>0.833487</td>\n",
              "      <td>0.828116</td>\n",
              "      <td>0.707101</td>\n",
              "      <td>0.724949</td>\n",
              "    </tr>\n",
              "    <tr>\n",
              "      <th>788</th>\n",
              "      <td>0.766845</td>\n",
              "      <td>0.747546</td>\n",
              "      <td>0.617160</td>\n",
              "      <td>0.662015</td>\n",
              "    </tr>\n",
              "    <tr>\n",
              "      <th>789</th>\n",
              "      <td>0.676020</td>\n",
              "      <td>0.662160</td>\n",
              "      <td>0.487574</td>\n",
              "      <td>0.566244</td>\n",
              "    </tr>\n",
              "    <tr>\n",
              "      <th>790</th>\n",
              "      <td>0.456157</td>\n",
              "      <td>0.447490</td>\n",
              "      <td>0.313609</td>\n",
              "      <td>0.369188</td>\n",
              "    </tr>\n",
              "    <tr>\n",
              "      <th>791</th>\n",
              "      <td>0.459849</td>\n",
              "      <td>0.448046</td>\n",
              "      <td>0.308284</td>\n",
              "      <td>0.324796</td>\n",
              "    </tr>\n",
              "  </tbody>\n",
              "</table>\n",
              "</div>"
            ],
            "text/plain": [
              "          사용자        세션     신규방문자      페이지뷰\n",
              "762  0.341517  0.340433  0.230769  0.297459\n",
              "763  0.306258  0.297833  0.196450  0.227847\n",
              "764  0.468525  0.459900  0.355030  0.358836\n",
              "765  0.503415  0.501574  0.423669  0.363668\n",
              "766  0.447296  0.446564  0.351479  0.321251\n",
              "767  0.398191  0.395814  0.332544  0.280404\n",
              "768  0.386745  0.376922  0.280473  0.286966\n",
              "769  0.300535  0.296907  0.275148  0.181422\n",
              "770  0.376223  0.371180  0.363905  0.251613\n",
              "771  0.488647  0.484905  0.392308  0.357858\n",
              "772  0.598117  0.603630  0.637870  0.554155\n",
              "773  0.488278  0.484534  0.417751  0.424163\n",
              "774  0.513199  0.513058  0.462722  0.405808\n",
              "775  0.431973  0.422300  0.331953  0.341646\n",
              "776  0.334502  0.328950  0.249112  0.240264\n",
              "777  0.299428  0.296907  0.188166  0.250378\n",
              "778  0.594240  0.575477  0.457396  0.510850\n",
              "779  0.614916  0.604001  0.482840  0.498710\n",
              "780  0.629869  0.618448  0.478698  0.562911\n",
              "781  0.729740  0.730691  0.544970  0.693752\n",
              "782  0.597932  0.583997  0.423077  0.580141\n",
              "783  0.370131  0.374514  0.263905  0.330110\n",
              "784  0.368100  0.365994  0.249112  0.308609\n",
              "785  0.878161  0.873495  0.717160  0.774745\n",
              "786  1.000000  0.982219  0.901183  0.970746\n",
              "787  0.833487  0.828116  0.707101  0.724949\n",
              "788  0.766845  0.747546  0.617160  0.662015\n",
              "789  0.676020  0.662160  0.487574  0.566244\n",
              "790  0.456157  0.447490  0.313609  0.369188\n",
              "791  0.459849  0.448046  0.308284  0.324796"
            ]
          },
          "metadata": {
            "tags": []
          },
          "execution_count": 171
        }
      ]
    },
    {
      "cell_type": "code",
      "metadata": {
        "colab": {
          "base_uri": "https://localhost:8080/",
          "height": 419
        },
        "id": "OZL4wlUGaMGj",
        "outputId": "5b9121f7-1b03-4b89-dc62-95fd43e8b9c0"
      },
      "source": [
        "train"
      ],
      "execution_count": null,
      "outputs": [
        {
          "output_type": "execute_result",
          "data": {
            "text/html": [
              "<div>\n",
              "<style scoped>\n",
              "    .dataframe tbody tr th:only-of-type {\n",
              "        vertical-align: middle;\n",
              "    }\n",
              "\n",
              "    .dataframe tbody tr th {\n",
              "        vertical-align: top;\n",
              "    }\n",
              "\n",
              "    .dataframe thead th {\n",
              "        text-align: right;\n",
              "    }\n",
              "</style>\n",
              "<table border=\"1\" class=\"dataframe\">\n",
              "  <thead>\n",
              "    <tr style=\"text-align: right;\">\n",
              "      <th></th>\n",
              "      <th>date</th>\n",
              "      <th>사용자</th>\n",
              "      <th>세션</th>\n",
              "      <th>신규방문자</th>\n",
              "      <th>페이지뷰</th>\n",
              "    </tr>\n",
              "  </thead>\n",
              "  <tbody>\n",
              "    <tr>\n",
              "      <th>0</th>\n",
              "      <td>2018-09-09</td>\n",
              "      <td>0.051689</td>\n",
              "      <td>0.049083</td>\n",
              "      <td>0.042604</td>\n",
              "      <td>0.011735</td>\n",
              "    </tr>\n",
              "    <tr>\n",
              "      <th>1</th>\n",
              "      <td>2018-09-10</td>\n",
              "      <td>0.048551</td>\n",
              "      <td>0.045564</td>\n",
              "      <td>0.029586</td>\n",
              "      <td>0.013446</td>\n",
              "    </tr>\n",
              "    <tr>\n",
              "      <th>2</th>\n",
              "      <td>2018-09-11</td>\n",
              "      <td>0.060550</td>\n",
              "      <td>0.057233</td>\n",
              "      <td>0.033728</td>\n",
              "      <td>0.012842</td>\n",
              "    </tr>\n",
              "    <tr>\n",
              "      <th>3</th>\n",
              "      <td>2018-09-12</td>\n",
              "      <td>0.055197</td>\n",
              "      <td>0.052973</td>\n",
              "      <td>0.026036</td>\n",
              "      <td>0.016682</td>\n",
              "    </tr>\n",
              "    <tr>\n",
              "      <th>4</th>\n",
              "      <td>2018-09-13</td>\n",
              "      <td>0.069596</td>\n",
              "      <td>0.063530</td>\n",
              "      <td>0.028994</td>\n",
              "      <td>0.024724</td>\n",
              "    </tr>\n",
              "    <tr>\n",
              "      <th>...</th>\n",
              "      <td>...</td>\n",
              "      <td>...</td>\n",
              "      <td>...</td>\n",
              "      <td>...</td>\n",
              "      <td>...</td>\n",
              "    </tr>\n",
              "    <tr>\n",
              "      <th>787</th>\n",
              "      <td>2020-11-04</td>\n",
              "      <td>0.833487</td>\n",
              "      <td>0.828116</td>\n",
              "      <td>0.707101</td>\n",
              "      <td>0.724949</td>\n",
              "    </tr>\n",
              "    <tr>\n",
              "      <th>788</th>\n",
              "      <td>2020-11-05</td>\n",
              "      <td>0.766845</td>\n",
              "      <td>0.747546</td>\n",
              "      <td>0.617160</td>\n",
              "      <td>0.662015</td>\n",
              "    </tr>\n",
              "    <tr>\n",
              "      <th>789</th>\n",
              "      <td>2020-11-06</td>\n",
              "      <td>0.676020</td>\n",
              "      <td>0.662160</td>\n",
              "      <td>0.487574</td>\n",
              "      <td>0.566244</td>\n",
              "    </tr>\n",
              "    <tr>\n",
              "      <th>790</th>\n",
              "      <td>2020-11-07</td>\n",
              "      <td>0.456157</td>\n",
              "      <td>0.447490</td>\n",
              "      <td>0.313609</td>\n",
              "      <td>0.369188</td>\n",
              "    </tr>\n",
              "    <tr>\n",
              "      <th>791</th>\n",
              "      <td>2020-11-08</td>\n",
              "      <td>0.459849</td>\n",
              "      <td>0.448046</td>\n",
              "      <td>0.308284</td>\n",
              "      <td>0.324796</td>\n",
              "    </tr>\n",
              "  </tbody>\n",
              "</table>\n",
              "<p>792 rows × 5 columns</p>\n",
              "</div>"
            ],
            "text/plain": [
              "           date       사용자        세션     신규방문자      페이지뷰\n",
              "0    2018-09-09  0.051689  0.049083  0.042604  0.011735\n",
              "1    2018-09-10  0.048551  0.045564  0.029586  0.013446\n",
              "2    2018-09-11  0.060550  0.057233  0.033728  0.012842\n",
              "3    2018-09-12  0.055197  0.052973  0.026036  0.016682\n",
              "4    2018-09-13  0.069596  0.063530  0.028994  0.024724\n",
              "..          ...       ...       ...       ...       ...\n",
              "787  2020-11-04  0.833487  0.828116  0.707101  0.724949\n",
              "788  2020-11-05  0.766845  0.747546  0.617160  0.662015\n",
              "789  2020-11-06  0.676020  0.662160  0.487574  0.566244\n",
              "790  2020-11-07  0.456157  0.447490  0.313609  0.369188\n",
              "791  2020-11-08  0.459849  0.448046  0.308284  0.324796\n",
              "\n",
              "[792 rows x 5 columns]"
            ]
          },
          "metadata": {
            "tags": []
          },
          "execution_count": 172
        }
      ]
    },
    {
      "cell_type": "code",
      "metadata": {
        "colab": {
          "base_uri": "https://localhost:8080/"
        },
        "id": "o1D4bUZkbpYJ",
        "outputId": "db1a60ea-9302-4822-a41d-06ce9981ddcf"
      },
      "source": [
        "print(\"\\n\", \"dl\")"
      ],
      "execution_count": null,
      "outputs": [
        {
          "output_type": "stream",
          "text": [
            "\n",
            " dl\n"
          ],
          "name": "stdout"
        }
      ]
    },
    {
      "cell_type": "code",
      "metadata": {
        "colab": {
          "base_uri": "https://localhost:8080/"
        },
        "id": "en59THt7d1eO",
        "outputId": "7e6e974c-a268-45d3-e86f-99b66e9fdea8"
      },
      "source": [
        "size.values"
      ],
      "execution_count": null,
      "outputs": [
        {
          "output_type": "execute_result",
          "data": {
            "text/plain": [
              "array([  5417,   5399,   1690, 155433])"
            ]
          },
          "metadata": {
            "tags": []
          },
          "execution_count": 180
        }
      ]
    },
    {
      "cell_type": "code",
      "metadata": {
        "colab": {
          "base_uri": "https://localhost:8080/"
        },
        "id": "fWkIUDc_t5cm",
        "outputId": "f2d701eb-2bcf-42d1-de78-1d60a3747e0f"
      },
      "source": [
        "submission = pd.read_csv(\"/content/drive/MyDrive/Colab Notebooks/LSTM_pytorch(Dacon)/input/submission.csv\", encoding = 'euc-kr')\r\n",
        "len(submission)"
      ],
      "execution_count": 24,
      "outputs": [
        {
          "output_type": "execute_result",
          "data": {
            "text/plain": [
              "61"
            ]
          },
          "metadata": {
            "tags": []
          },
          "execution_count": 24
        }
      ]
    },
    {
      "cell_type": "code",
      "metadata": {
        "colab": {
          "base_uri": "https://localhost:8080/"
        },
        "id": "vZ4sE-vjuFvW",
        "outputId": "4cc84c01-2776-45f0-819c-b97c139ede1e"
      },
      "source": [
        "(1461 - 24)//24"
      ],
      "execution_count": 30,
      "outputs": [
        {
          "output_type": "execute_result",
          "data": {
            "text/plain": [
              "59"
            ]
          },
          "metadata": {
            "tags": []
          },
          "execution_count": 30
        }
      ]
    },
    {
      "cell_type": "code",
      "metadata": {
        "colab": {
          "base_uri": "https://localhost:8080/"
        },
        "id": "IP36Y6C3uz-1",
        "outputId": "2eed0d81-6cb6-4294-d687-19933c17b54c"
      },
      "source": [
        " train.iloc[-30:,1:].values[np.newaxis,...]"
      ],
      "execution_count": 54,
      "outputs": [
        {
          "output_type": "execute_result",
          "data": {
            "text/plain": [
              "array([[[0.19161677, 0.15828221, 0.09552239, 0.12899871],\n",
              "        [0.18113772, 0.14478528, 0.08955224, 0.10450438],\n",
              "        [0.21706587, 0.16932515, 0.08059701, 0.09740353],\n",
              "        [0.24401198, 0.19877301, 0.08059701, 0.08617845],\n",
              "        [0.19311377, 0.14601227, 0.08059701, 0.10565199],\n",
              "        [0.2245509 , 0.18282209, 0.09253731, 0.12067853],\n",
              "        [0.19311377, 0.16319018, 0.06567164, 0.09220341],\n",
              "        [0.13622754, 0.10184049, 0.04776119, 0.06537799],\n",
              "        [0.09281437, 0.06748466, 0.0358209 , 0.0455817 ],\n",
              "        [0.04491018, 0.03435583, 0.0238806 , 0.01237269],\n",
              "        [0.0254491 , 0.02208589, 0.00298507, 0.0053077 ],\n",
              "        [0.02844311, 0.02453988, 0.01492537, 0.00986229],\n",
              "        [0.0254491 , 0.0196319 , 0.02089552, 0.00609669],\n",
              "        [0.0239521 , 0.01840491, 0.00895522, 0.00563047],\n",
              "        [0.03293413, 0.03067485, 0.02089552, 0.00903744],\n",
              "        [0.06437126, 0.05644172, 0.03283582, 0.02295223],\n",
              "        [0.13473054, 0.11288344, 0.06567164, 0.04927557],\n",
              "        [0.16916168, 0.1398773 , 0.09253731, 0.06415866],\n",
              "        [0.16766467, 0.12515337, 0.08955224, 0.07247884],\n",
              "        [0.19760479, 0.1595092 , 0.09552239, 0.08040453],\n",
              "        [0.19461078, 0.15828221, 0.08358209, 0.06609525],\n",
              "        [0.26047904, 0.22208589, 0.10149254, 0.15030125],\n",
              "        [0.26197605, 0.21104294, 0.11641791, 0.14933295],\n",
              "        [0.26497006, 0.20613497, 0.11343284, 0.17601492],\n",
              "        [0.21856287, 0.1607362 , 0.08656716, 0.09847941],\n",
              "        [0.18562874, 0.15092025, 0.05671642, 0.11217903],\n",
              "        [0.24850299, 0.19509202, 0.08656716, 0.17443695],\n",
              "        [0.2754491 , 0.21226994, 0.09552239, 0.12286616],\n",
              "        [0.24401198, 0.19018405, 0.10149254, 0.10202984],\n",
              "        [0.23952096, 0.18650307, 0.09850746, 0.1180964 ]]])"
            ]
          },
          "metadata": {
            "tags": []
          },
          "execution_count": 54
        }
      ]
    },
    {
      "cell_type": "code",
      "metadata": {
        "colab": {
          "base_uri": "https://localhost:8080/"
        },
        "id": "h1tvj9Z_yGcY",
        "outputId": "26036087-fb07-471a-d900-13e1c06aaa7c"
      },
      "source": [
        "last_month[:,7:,:].shape"
      ],
      "execution_count": 60,
      "outputs": [
        {
          "output_type": "execute_result",
          "data": {
            "text/plain": [
              "torch.Size([1, 17, 4])"
            ]
          },
          "metadata": {
            "tags": []
          },
          "execution_count": 60
        }
      ]
    },
    {
      "cell_type": "markdown",
      "metadata": {
        "id": "RZKrRGD5ZyPT"
      },
      "source": [
        "# 호호호"
      ]
    },
    {
      "cell_type": "code",
      "metadata": {
        "colab": {
          "base_uri": "https://localhost:8080/",
          "height": 419
        },
        "id": "C_m5ox4Xy_g8",
        "outputId": "d3ea9549-500f-4eef-b308-46136b3f833b"
      },
      "source": [
        "submission = pd.read_csv(\"/content/drive/MyDrive/Colab Notebooks/LSTM_pytorch(Dacon)/input/submission.csv\", encoding = 'euc-kr')\r\n",
        "submission1 = pd.read_csv(\"/content/drive/MyDrive/Colab Notebooks/LSTM_pytorch(Dacon)/input/submission.csv\", encoding = 'euc-kr')\r\n",
        "\r\n",
        "\r\n",
        "submission = pd.concat([submission, submission, submission, submission, submission, submission, submission, submission, submission, submission, submission, submission], axis=0)\r\n",
        "submission1 = pd.concat([submission1, submission1, submission1, submission1, submission1, submission1, submission1, submission1, submission1, submission1, submission1, submission1], axis=0)\r\n",
        "\r\n",
        "submission = pd.concat([submission, submission1], axis =0)\r\n",
        "submission"
      ],
      "execution_count": 121,
      "outputs": [
        {
          "output_type": "execute_result",
          "data": {
            "text/html": [
              "<div>\n",
              "<style scoped>\n",
              "    .dataframe tbody tr th:only-of-type {\n",
              "        vertical-align: middle;\n",
              "    }\n",
              "\n",
              "    .dataframe tbody tr th {\n",
              "        vertical-align: top;\n",
              "    }\n",
              "\n",
              "    .dataframe thead th {\n",
              "        text-align: right;\n",
              "    }\n",
              "</style>\n",
              "<table border=\"1\" class=\"dataframe\">\n",
              "  <thead>\n",
              "    <tr style=\"text-align: right;\">\n",
              "      <th></th>\n",
              "      <th>DateTime</th>\n",
              "      <th>사용자</th>\n",
              "      <th>세션</th>\n",
              "      <th>신규방문자</th>\n",
              "      <th>페이지뷰</th>\n",
              "    </tr>\n",
              "  </thead>\n",
              "  <tbody>\n",
              "    <tr>\n",
              "      <th>0</th>\n",
              "      <td>2020-11-09</td>\n",
              "      <td>0</td>\n",
              "      <td>0</td>\n",
              "      <td>0</td>\n",
              "      <td>0</td>\n",
              "    </tr>\n",
              "    <tr>\n",
              "      <th>1</th>\n",
              "      <td>2020-11-10</td>\n",
              "      <td>0</td>\n",
              "      <td>0</td>\n",
              "      <td>0</td>\n",
              "      <td>0</td>\n",
              "    </tr>\n",
              "    <tr>\n",
              "      <th>2</th>\n",
              "      <td>2020-11-11</td>\n",
              "      <td>0</td>\n",
              "      <td>0</td>\n",
              "      <td>0</td>\n",
              "      <td>0</td>\n",
              "    </tr>\n",
              "    <tr>\n",
              "      <th>3</th>\n",
              "      <td>2020-11-12</td>\n",
              "      <td>0</td>\n",
              "      <td>0</td>\n",
              "      <td>0</td>\n",
              "      <td>0</td>\n",
              "    </tr>\n",
              "    <tr>\n",
              "      <th>4</th>\n",
              "      <td>2020-11-13</td>\n",
              "      <td>0</td>\n",
              "      <td>0</td>\n",
              "      <td>0</td>\n",
              "      <td>0</td>\n",
              "    </tr>\n",
              "    <tr>\n",
              "      <th>...</th>\n",
              "      <td>...</td>\n",
              "      <td>...</td>\n",
              "      <td>...</td>\n",
              "      <td>...</td>\n",
              "      <td>...</td>\n",
              "    </tr>\n",
              "    <tr>\n",
              "      <th>56</th>\n",
              "      <td>2021-01-04</td>\n",
              "      <td>0</td>\n",
              "      <td>0</td>\n",
              "      <td>0</td>\n",
              "      <td>0</td>\n",
              "    </tr>\n",
              "    <tr>\n",
              "      <th>57</th>\n",
              "      <td>2021-01-05</td>\n",
              "      <td>0</td>\n",
              "      <td>0</td>\n",
              "      <td>0</td>\n",
              "      <td>0</td>\n",
              "    </tr>\n",
              "    <tr>\n",
              "      <th>58</th>\n",
              "      <td>2021-01-06</td>\n",
              "      <td>0</td>\n",
              "      <td>0</td>\n",
              "      <td>0</td>\n",
              "      <td>0</td>\n",
              "    </tr>\n",
              "    <tr>\n",
              "      <th>59</th>\n",
              "      <td>2021-01-07</td>\n",
              "      <td>0</td>\n",
              "      <td>0</td>\n",
              "      <td>0</td>\n",
              "      <td>0</td>\n",
              "    </tr>\n",
              "    <tr>\n",
              "      <th>60</th>\n",
              "      <td>2021-01-08</td>\n",
              "      <td>0</td>\n",
              "      <td>0</td>\n",
              "      <td>0</td>\n",
              "      <td>0</td>\n",
              "    </tr>\n",
              "  </tbody>\n",
              "</table>\n",
              "<p>1464 rows × 5 columns</p>\n",
              "</div>"
            ],
            "text/plain": [
              "      DateTime  사용자  세션  신규방문자  페이지뷰\n",
              "0   2020-11-09    0   0      0     0\n",
              "1   2020-11-10    0   0      0     0\n",
              "2   2020-11-11    0   0      0     0\n",
              "3   2020-11-12    0   0      0     0\n",
              "4   2020-11-13    0   0      0     0\n",
              "..         ...  ...  ..    ...   ...\n",
              "56  2021-01-04    0   0      0     0\n",
              "57  2021-01-05    0   0      0     0\n",
              "58  2021-01-06    0   0      0     0\n",
              "59  2021-01-07    0   0      0     0\n",
              "60  2021-01-08    0   0      0     0\n",
              "\n",
              "[1464 rows x 5 columns]"
            ]
          },
          "metadata": {
            "tags": []
          },
          "execution_count": 121
        }
      ]
    },
    {
      "cell_type": "code",
      "metadata": {
        "colab": {
          "base_uri": "https://localhost:8080/",
          "height": 979
        },
        "id": "ozZfFgIhE0EY",
        "outputId": "d68b692c-c937-4793-e808-e049dbfa4b84"
      },
      "source": [
        "train.iloc[-30:,1:]"
      ],
      "execution_count": 14,
      "outputs": [
        {
          "output_type": "execute_result",
          "data": {
            "text/html": [
              "<div>\n",
              "<style scoped>\n",
              "    .dataframe tbody tr th:only-of-type {\n",
              "        vertical-align: middle;\n",
              "    }\n",
              "\n",
              "    .dataframe tbody tr th {\n",
              "        vertical-align: top;\n",
              "    }\n",
              "\n",
              "    .dataframe thead th {\n",
              "        text-align: right;\n",
              "    }\n",
              "</style>\n",
              "<table border=\"1\" class=\"dataframe\">\n",
              "  <thead>\n",
              "    <tr style=\"text-align: right;\">\n",
              "      <th></th>\n",
              "      <th>사용자</th>\n",
              "      <th>세션</th>\n",
              "      <th>신규방문자</th>\n",
              "      <th>페이지뷰</th>\n",
              "    </tr>\n",
              "  </thead>\n",
              "  <tbody>\n",
              "    <tr>\n",
              "      <th>762</th>\n",
              "      <td>0.341517</td>\n",
              "      <td>0.340433</td>\n",
              "      <td>0.230769</td>\n",
              "      <td>0.297459</td>\n",
              "    </tr>\n",
              "    <tr>\n",
              "      <th>763</th>\n",
              "      <td>0.306258</td>\n",
              "      <td>0.297833</td>\n",
              "      <td>0.196450</td>\n",
              "      <td>0.227847</td>\n",
              "    </tr>\n",
              "    <tr>\n",
              "      <th>764</th>\n",
              "      <td>0.468525</td>\n",
              "      <td>0.459900</td>\n",
              "      <td>0.355030</td>\n",
              "      <td>0.358836</td>\n",
              "    </tr>\n",
              "    <tr>\n",
              "      <th>765</th>\n",
              "      <td>0.503415</td>\n",
              "      <td>0.501574</td>\n",
              "      <td>0.423669</td>\n",
              "      <td>0.363668</td>\n",
              "    </tr>\n",
              "    <tr>\n",
              "      <th>766</th>\n",
              "      <td>0.447296</td>\n",
              "      <td>0.446564</td>\n",
              "      <td>0.351479</td>\n",
              "      <td>0.321251</td>\n",
              "    </tr>\n",
              "    <tr>\n",
              "      <th>767</th>\n",
              "      <td>0.398191</td>\n",
              "      <td>0.395814</td>\n",
              "      <td>0.332544</td>\n",
              "      <td>0.280404</td>\n",
              "    </tr>\n",
              "    <tr>\n",
              "      <th>768</th>\n",
              "      <td>0.386745</td>\n",
              "      <td>0.376922</td>\n",
              "      <td>0.280473</td>\n",
              "      <td>0.286966</td>\n",
              "    </tr>\n",
              "    <tr>\n",
              "      <th>769</th>\n",
              "      <td>0.300535</td>\n",
              "      <td>0.296907</td>\n",
              "      <td>0.275148</td>\n",
              "      <td>0.181422</td>\n",
              "    </tr>\n",
              "    <tr>\n",
              "      <th>770</th>\n",
              "      <td>0.376223</td>\n",
              "      <td>0.371180</td>\n",
              "      <td>0.363905</td>\n",
              "      <td>0.251613</td>\n",
              "    </tr>\n",
              "    <tr>\n",
              "      <th>771</th>\n",
              "      <td>0.488647</td>\n",
              "      <td>0.484905</td>\n",
              "      <td>0.392308</td>\n",
              "      <td>0.357858</td>\n",
              "    </tr>\n",
              "    <tr>\n",
              "      <th>772</th>\n",
              "      <td>0.598117</td>\n",
              "      <td>0.603630</td>\n",
              "      <td>0.637870</td>\n",
              "      <td>0.554155</td>\n",
              "    </tr>\n",
              "    <tr>\n",
              "      <th>773</th>\n",
              "      <td>0.488278</td>\n",
              "      <td>0.484534</td>\n",
              "      <td>0.417751</td>\n",
              "      <td>0.424163</td>\n",
              "    </tr>\n",
              "    <tr>\n",
              "      <th>774</th>\n",
              "      <td>0.513199</td>\n",
              "      <td>0.513058</td>\n",
              "      <td>0.462722</td>\n",
              "      <td>0.405808</td>\n",
              "    </tr>\n",
              "    <tr>\n",
              "      <th>775</th>\n",
              "      <td>0.431973</td>\n",
              "      <td>0.422300</td>\n",
              "      <td>0.331953</td>\n",
              "      <td>0.341646</td>\n",
              "    </tr>\n",
              "    <tr>\n",
              "      <th>776</th>\n",
              "      <td>0.334502</td>\n",
              "      <td>0.328950</td>\n",
              "      <td>0.249112</td>\n",
              "      <td>0.240264</td>\n",
              "    </tr>\n",
              "    <tr>\n",
              "      <th>777</th>\n",
              "      <td>0.299428</td>\n",
              "      <td>0.296907</td>\n",
              "      <td>0.188166</td>\n",
              "      <td>0.250378</td>\n",
              "    </tr>\n",
              "    <tr>\n",
              "      <th>778</th>\n",
              "      <td>0.594240</td>\n",
              "      <td>0.575477</td>\n",
              "      <td>0.457396</td>\n",
              "      <td>0.510850</td>\n",
              "    </tr>\n",
              "    <tr>\n",
              "      <th>779</th>\n",
              "      <td>0.614916</td>\n",
              "      <td>0.604001</td>\n",
              "      <td>0.482840</td>\n",
              "      <td>0.498710</td>\n",
              "    </tr>\n",
              "    <tr>\n",
              "      <th>780</th>\n",
              "      <td>0.629869</td>\n",
              "      <td>0.618448</td>\n",
              "      <td>0.478698</td>\n",
              "      <td>0.562911</td>\n",
              "    </tr>\n",
              "    <tr>\n",
              "      <th>781</th>\n",
              "      <td>0.729740</td>\n",
              "      <td>0.730691</td>\n",
              "      <td>0.544970</td>\n",
              "      <td>0.693752</td>\n",
              "    </tr>\n",
              "    <tr>\n",
              "      <th>782</th>\n",
              "      <td>0.597932</td>\n",
              "      <td>0.583997</td>\n",
              "      <td>0.423077</td>\n",
              "      <td>0.580141</td>\n",
              "    </tr>\n",
              "    <tr>\n",
              "      <th>783</th>\n",
              "      <td>0.370131</td>\n",
              "      <td>0.374514</td>\n",
              "      <td>0.263905</td>\n",
              "      <td>0.330110</td>\n",
              "    </tr>\n",
              "    <tr>\n",
              "      <th>784</th>\n",
              "      <td>0.368100</td>\n",
              "      <td>0.365994</td>\n",
              "      <td>0.249112</td>\n",
              "      <td>0.308609</td>\n",
              "    </tr>\n",
              "    <tr>\n",
              "      <th>785</th>\n",
              "      <td>0.878161</td>\n",
              "      <td>0.873495</td>\n",
              "      <td>0.717160</td>\n",
              "      <td>0.774745</td>\n",
              "    </tr>\n",
              "    <tr>\n",
              "      <th>786</th>\n",
              "      <td>1.000000</td>\n",
              "      <td>0.982219</td>\n",
              "      <td>0.901183</td>\n",
              "      <td>0.970746</td>\n",
              "    </tr>\n",
              "    <tr>\n",
              "      <th>787</th>\n",
              "      <td>0.833487</td>\n",
              "      <td>0.828116</td>\n",
              "      <td>0.707101</td>\n",
              "      <td>0.724949</td>\n",
              "    </tr>\n",
              "    <tr>\n",
              "      <th>788</th>\n",
              "      <td>0.766845</td>\n",
              "      <td>0.747546</td>\n",
              "      <td>0.617160</td>\n",
              "      <td>0.662015</td>\n",
              "    </tr>\n",
              "    <tr>\n",
              "      <th>789</th>\n",
              "      <td>0.676020</td>\n",
              "      <td>0.662160</td>\n",
              "      <td>0.487574</td>\n",
              "      <td>0.566244</td>\n",
              "    </tr>\n",
              "    <tr>\n",
              "      <th>790</th>\n",
              "      <td>0.456157</td>\n",
              "      <td>0.447490</td>\n",
              "      <td>0.313609</td>\n",
              "      <td>0.369188</td>\n",
              "    </tr>\n",
              "    <tr>\n",
              "      <th>791</th>\n",
              "      <td>0.459849</td>\n",
              "      <td>0.448046</td>\n",
              "      <td>0.308284</td>\n",
              "      <td>0.324796</td>\n",
              "    </tr>\n",
              "  </tbody>\n",
              "</table>\n",
              "</div>"
            ],
            "text/plain": [
              "          사용자        세션     신규방문자      페이지뷰\n",
              "762  0.341517  0.340433  0.230769  0.297459\n",
              "763  0.306258  0.297833  0.196450  0.227847\n",
              "764  0.468525  0.459900  0.355030  0.358836\n",
              "765  0.503415  0.501574  0.423669  0.363668\n",
              "766  0.447296  0.446564  0.351479  0.321251\n",
              "767  0.398191  0.395814  0.332544  0.280404\n",
              "768  0.386745  0.376922  0.280473  0.286966\n",
              "769  0.300535  0.296907  0.275148  0.181422\n",
              "770  0.376223  0.371180  0.363905  0.251613\n",
              "771  0.488647  0.484905  0.392308  0.357858\n",
              "772  0.598117  0.603630  0.637870  0.554155\n",
              "773  0.488278  0.484534  0.417751  0.424163\n",
              "774  0.513199  0.513058  0.462722  0.405808\n",
              "775  0.431973  0.422300  0.331953  0.341646\n",
              "776  0.334502  0.328950  0.249112  0.240264\n",
              "777  0.299428  0.296907  0.188166  0.250378\n",
              "778  0.594240  0.575477  0.457396  0.510850\n",
              "779  0.614916  0.604001  0.482840  0.498710\n",
              "780  0.629869  0.618448  0.478698  0.562911\n",
              "781  0.729740  0.730691  0.544970  0.693752\n",
              "782  0.597932  0.583997  0.423077  0.580141\n",
              "783  0.370131  0.374514  0.263905  0.330110\n",
              "784  0.368100  0.365994  0.249112  0.308609\n",
              "785  0.878161  0.873495  0.717160  0.774745\n",
              "786  1.000000  0.982219  0.901183  0.970746\n",
              "787  0.833487  0.828116  0.707101  0.724949\n",
              "788  0.766845  0.747546  0.617160  0.662015\n",
              "789  0.676020  0.662160  0.487574  0.566244\n",
              "790  0.456157  0.447490  0.313609  0.369188\n",
              "791  0.459849  0.448046  0.308284  0.324796"
            ]
          },
          "metadata": {
            "tags": []
          },
          "execution_count": 14
        }
      ]
    },
    {
      "cell_type": "code",
      "metadata": {
        "colab": {
          "base_uri": "https://localhost:8080/"
        },
        "id": "FyvDRIvSEr36",
        "outputId": "52b7953e-541b-413e-841b-d6163f4b2540"
      },
      "source": [
        "last_month = train.iloc[-30:,1:].values[np.newaxis,...] # <- 수정 후  # 한달 전의 30개의 데이터를 불러옴\r\n",
        "torch.tensor(last_month)"
      ],
      "execution_count": 16,
      "outputs": [
        {
          "output_type": "execute_result",
          "data": {
            "text/plain": [
              "tensor([[[0.3415, 0.3404, 0.2308, 0.2975],\n",
              "         [0.3063, 0.2978, 0.1964, 0.2278],\n",
              "         [0.4685, 0.4599, 0.3550, 0.3588],\n",
              "         [0.5034, 0.5016, 0.4237, 0.3637],\n",
              "         [0.4473, 0.4466, 0.3515, 0.3213],\n",
              "         [0.3982, 0.3958, 0.3325, 0.2804],\n",
              "         [0.3867, 0.3769, 0.2805, 0.2870],\n",
              "         [0.3005, 0.2969, 0.2751, 0.1814],\n",
              "         [0.3762, 0.3712, 0.3639, 0.2516],\n",
              "         [0.4886, 0.4849, 0.3923, 0.3579],\n",
              "         [0.5981, 0.6036, 0.6379, 0.5542],\n",
              "         [0.4883, 0.4845, 0.4178, 0.4242],\n",
              "         [0.5132, 0.5131, 0.4627, 0.4058],\n",
              "         [0.4320, 0.4223, 0.3320, 0.3416],\n",
              "         [0.3345, 0.3289, 0.2491, 0.2403],\n",
              "         [0.2994, 0.2969, 0.1882, 0.2504],\n",
              "         [0.5942, 0.5755, 0.4574, 0.5109],\n",
              "         [0.6149, 0.6040, 0.4828, 0.4987],\n",
              "         [0.6299, 0.6184, 0.4787, 0.5629],\n",
              "         [0.7297, 0.7307, 0.5450, 0.6938],\n",
              "         [0.5979, 0.5840, 0.4231, 0.5801],\n",
              "         [0.3701, 0.3745, 0.2639, 0.3301],\n",
              "         [0.3681, 0.3660, 0.2491, 0.3086],\n",
              "         [0.8782, 0.8735, 0.7172, 0.7747],\n",
              "         [1.0000, 0.9822, 0.9012, 0.9707],\n",
              "         [0.8335, 0.8281, 0.7071, 0.7249],\n",
              "         [0.7668, 0.7475, 0.6172, 0.6620],\n",
              "         [0.6760, 0.6622, 0.4876, 0.5662],\n",
              "         [0.4562, 0.4475, 0.3136, 0.3692],\n",
              "         [0.4598, 0.4480, 0.3083, 0.3248]]], dtype=torch.float64)"
            ]
          },
          "metadata": {
            "tags": []
          },
          "execution_count": 16
        }
      ]
    },
    {
      "cell_type": "code",
      "metadata": {
        "colab": {
          "base_uri": "https://localhost:8080/"
        },
        "id": "SnGDgqzhFQ-k",
        "outputId": "3e94f268-7b14-4168-d0d2-8f48c019048a"
      },
      "source": [
        "output_window"
      ],
      "execution_count": 18,
      "outputs": [
        {
          "output_type": "execute_result",
          "data": {
            "text/plain": [
              "7"
            ]
          },
          "metadata": {
            "tags": []
          },
          "execution_count": 18
        }
      ]
    },
    {
      "cell_type": "code",
      "metadata": {
        "colab": {
          "base_uri": "https://localhost:8080/"
        },
        "id": "yZPyQJmSGpu7",
        "outputId": "7115584e-4e9a-4fe5-f7db-869bac5c822e"
      },
      "source": [
        "next_week"
      ],
      "execution_count": 20,
      "outputs": [
        {
          "output_type": "execute_result",
          "data": {
            "text/plain": [
              "tensor([[[0.5359, 0.5291, 0.3859, 0.4744],\n",
              "         [0.5143, 0.5071, 0.3786, 0.4348],\n",
              "         [0.4692, 0.4598, 0.3546, 0.3698],\n",
              "         [0.4058, 0.3994, 0.3141, 0.3112],\n",
              "         [0.3579, 0.3543, 0.2808, 0.2747],\n",
              "         [0.2818, 0.2811, 0.2054, 0.2125],\n",
              "         [0.2664, 0.2639, 0.1793, 0.2039]]], device='cuda:0',\n",
              "       grad_fn=<ViewBackward>)"
            ]
          },
          "metadata": {
            "tags": []
          },
          "execution_count": 20
        }
      ]
    },
    {
      "cell_type": "code",
      "metadata": {
        "colab": {
          "base_uri": "https://localhost:8080/"
        },
        "id": "NwCxnmF1Gvt7",
        "outputId": "53a2a601-46df-43ca-eb8b-840fe5679a1a"
      },
      "source": [
        "last_month[:,7:,:].shape"
      ],
      "execution_count": 26,
      "outputs": [
        {
          "output_type": "execute_result",
          "data": {
            "text/plain": [
              "torch.Size([1, 23, 4])"
            ]
          },
          "metadata": {
            "tags": []
          },
          "execution_count": 26
        }
      ]
    },
    {
      "cell_type": "code",
      "metadata": {
        "colab": {
          "base_uri": "https://localhost:8080/"
        },
        "id": "SypNdAaqHdLP",
        "outputId": "83b06966-e0dc-4495-b219-85ccd64944f6"
      },
      "source": [
        "size.values"
      ],
      "execution_count": 28,
      "outputs": [
        {
          "output_type": "execute_result",
          "data": {
            "text/plain": [
              "array([  5417,   5399,   1690, 155433])"
            ]
          },
          "metadata": {
            "tags": []
          },
          "execution_count": 28
        }
      ]
    },
    {
      "cell_type": "code",
      "metadata": {
        "colab": {
          "base_uri": "https://localhost:8080/"
        },
        "id": "F3b46EDtHio5",
        "outputId": "4919f56b-4cbe-4748-f6be-49cc1e849214"
      },
      "source": [
        "mini.values"
      ],
      "execution_count": 30,
      "outputs": [
        {
          "output_type": "execute_result",
          "data": {
            "text/plain": [
              "array([1, 1, 1, 2])"
            ]
          },
          "metadata": {
            "tags": []
          },
          "execution_count": 30
        }
      ]
    },
    {
      "cell_type": "code",
      "metadata": {
        "colab": {
          "base_uri": "https://localhost:8080/"
        },
        "id": "Joo-V1X3IFC3",
        "outputId": "7cf77258-73b2-4c86-a11c-7d65f87b30ba"
      },
      "source": [
        "(len(submission) - output_window)//7 + 1"
      ],
      "execution_count": 31,
      "outputs": [
        {
          "output_type": "execute_result",
          "data": {
            "text/plain": [
              "8"
            ]
          },
          "metadata": {
            "tags": []
          },
          "execution_count": 31
        }
      ]
    },
    {
      "cell_type": "code",
      "metadata": {
        "colab": {
          "base_uri": "https://localhost:8080/",
          "height": 1000
        },
        "id": "k4W06lhXIO2c",
        "outputId": "1d95971f-5560-48c5-b234-cabb1cd8fb9b"
      },
      "source": [
        "submission.iloc[7 :, 1:]"
      ],
      "execution_count": 38,
      "outputs": [
        {
          "output_type": "execute_result",
          "data": {
            "text/html": [
              "<div>\n",
              "<style scoped>\n",
              "    .dataframe tbody tr th:only-of-type {\n",
              "        vertical-align: middle;\n",
              "    }\n",
              "\n",
              "    .dataframe tbody tr th {\n",
              "        vertical-align: top;\n",
              "    }\n",
              "\n",
              "    .dataframe thead th {\n",
              "        text-align: right;\n",
              "    }\n",
              "</style>\n",
              "<table border=\"1\" class=\"dataframe\">\n",
              "  <thead>\n",
              "    <tr style=\"text-align: right;\">\n",
              "      <th></th>\n",
              "      <th>사용자</th>\n",
              "      <th>세션</th>\n",
              "      <th>신규방문자</th>\n",
              "      <th>페이지뷰</th>\n",
              "    </tr>\n",
              "  </thead>\n",
              "  <tbody>\n",
              "    <tr>\n",
              "      <th>7</th>\n",
              "      <td>2517</td>\n",
              "      <td>2508</td>\n",
              "      <td>563</td>\n",
              "      <td>64905</td>\n",
              "    </tr>\n",
              "    <tr>\n",
              "      <th>8</th>\n",
              "      <td>2570</td>\n",
              "      <td>2545</td>\n",
              "      <td>589</td>\n",
              "      <td>64940</td>\n",
              "    </tr>\n",
              "    <tr>\n",
              "      <th>9</th>\n",
              "      <td>2406</td>\n",
              "      <td>2370</td>\n",
              "      <td>569</td>\n",
              "      <td>58511</td>\n",
              "    </tr>\n",
              "    <tr>\n",
              "      <th>10</th>\n",
              "      <td>2162</td>\n",
              "      <td>2128</td>\n",
              "      <td>533</td>\n",
              "      <td>51361</td>\n",
              "    </tr>\n",
              "    <tr>\n",
              "      <th>11</th>\n",
              "      <td>1975</td>\n",
              "      <td>1952</td>\n",
              "      <td>502</td>\n",
              "      <td>46909</td>\n",
              "    </tr>\n",
              "    <tr>\n",
              "      <th>12</th>\n",
              "      <td>1481</td>\n",
              "      <td>1445</td>\n",
              "      <td>358</td>\n",
              "      <td>32809</td>\n",
              "    </tr>\n",
              "    <tr>\n",
              "      <th>13</th>\n",
              "      <td>1587</td>\n",
              "      <td>1557</td>\n",
              "      <td>365</td>\n",
              "      <td>37076</td>\n",
              "    </tr>\n",
              "    <tr>\n",
              "      <th>14</th>\n",
              "      <td>1928</td>\n",
              "      <td>1892</td>\n",
              "      <td>458</td>\n",
              "      <td>45876</td>\n",
              "    </tr>\n",
              "    <tr>\n",
              "      <th>15</th>\n",
              "      <td>3370</td>\n",
              "      <td>3263</td>\n",
              "      <td>867</td>\n",
              "      <td>83318</td>\n",
              "    </tr>\n",
              "    <tr>\n",
              "      <th>16</th>\n",
              "      <td>2952</td>\n",
              "      <td>2922</td>\n",
              "      <td>772</td>\n",
              "      <td>70416</td>\n",
              "    </tr>\n",
              "    <tr>\n",
              "      <th>17</th>\n",
              "      <td>3279</td>\n",
              "      <td>3198</td>\n",
              "      <td>860</td>\n",
              "      <td>77716</td>\n",
              "    </tr>\n",
              "    <tr>\n",
              "      <th>18</th>\n",
              "      <td>3420</td>\n",
              "      <td>3387</td>\n",
              "      <td>941</td>\n",
              "      <td>84840</td>\n",
              "    </tr>\n",
              "    <tr>\n",
              "      <th>19</th>\n",
              "      <td>1662</td>\n",
              "      <td>1697</td>\n",
              "      <td>411</td>\n",
              "      <td>39607</td>\n",
              "    </tr>\n",
              "    <tr>\n",
              "      <th>20</th>\n",
              "      <td>1153</td>\n",
              "      <td>1149</td>\n",
              "      <td>237</td>\n",
              "      <td>27183</td>\n",
              "    </tr>\n",
              "    <tr>\n",
              "      <th>21</th>\n",
              "      <td>2589</td>\n",
              "      <td>2467</td>\n",
              "      <td>683</td>\n",
              "      <td>60766</td>\n",
              "    </tr>\n",
              "    <tr>\n",
              "      <th>22</th>\n",
              "      <td>2684</td>\n",
              "      <td>2656</td>\n",
              "      <td>728</td>\n",
              "      <td>63060</td>\n",
              "    </tr>\n",
              "    <tr>\n",
              "      <th>23</th>\n",
              "      <td>2186</td>\n",
              "      <td>2223</td>\n",
              "      <td>570</td>\n",
              "      <td>48779</td>\n",
              "    </tr>\n",
              "    <tr>\n",
              "      <th>24</th>\n",
              "      <td>2524</td>\n",
              "      <td>2481</td>\n",
              "      <td>663</td>\n",
              "      <td>55762</td>\n",
              "    </tr>\n",
              "    <tr>\n",
              "      <th>25</th>\n",
              "      <td>2601</td>\n",
              "      <td>2548</td>\n",
              "      <td>677</td>\n",
              "      <td>59993</td>\n",
              "    </tr>\n",
              "    <tr>\n",
              "      <th>26</th>\n",
              "      <td>1793</td>\n",
              "      <td>1786</td>\n",
              "      <td>433</td>\n",
              "      <td>41053</td>\n",
              "    </tr>\n",
              "    <tr>\n",
              "      <th>27</th>\n",
              "      <td>1483</td>\n",
              "      <td>1488</td>\n",
              "      <td>308</td>\n",
              "      <td>34580</td>\n",
              "    </tr>\n",
              "    <tr>\n",
              "      <th>28</th>\n",
              "      <td>2979</td>\n",
              "      <td>2931</td>\n",
              "      <td>780</td>\n",
              "      <td>79783</td>\n",
              "    </tr>\n",
              "    <tr>\n",
              "      <th>29</th>\n",
              "      <td>3381</td>\n",
              "      <td>3348</td>\n",
              "      <td>887</td>\n",
              "      <td>88816</td>\n",
              "    </tr>\n",
              "    <tr>\n",
              "      <th>30</th>\n",
              "      <td>2914</td>\n",
              "      <td>2853</td>\n",
              "      <td>739</td>\n",
              "      <td>69574</td>\n",
              "    </tr>\n",
              "    <tr>\n",
              "      <th>31</th>\n",
              "      <td>2640</td>\n",
              "      <td>2599</td>\n",
              "      <td>640</td>\n",
              "      <td>61537</td>\n",
              "    </tr>\n",
              "    <tr>\n",
              "      <th>32</th>\n",
              "      <td>2565</td>\n",
              "      <td>2541</td>\n",
              "      <td>618</td>\n",
              "      <td>60292</td>\n",
              "    </tr>\n",
              "    <tr>\n",
              "      <th>33</th>\n",
              "      <td>2341</td>\n",
              "      <td>2326</td>\n",
              "      <td>566</td>\n",
              "      <td>54398</td>\n",
              "    </tr>\n",
              "    <tr>\n",
              "      <th>34</th>\n",
              "      <td>1654</td>\n",
              "      <td>1667</td>\n",
              "      <td>359</td>\n",
              "      <td>37673</td>\n",
              "    </tr>\n",
              "    <tr>\n",
              "      <th>35</th>\n",
              "      <td>2070</td>\n",
              "      <td>2020</td>\n",
              "      <td>476</td>\n",
              "      <td>46749</td>\n",
              "    </tr>\n",
              "    <tr>\n",
              "      <th>36</th>\n",
              "      <td>2859</td>\n",
              "      <td>2783</td>\n",
              "      <td>699</td>\n",
              "      <td>67710</td>\n",
              "    </tr>\n",
              "    <tr>\n",
              "      <th>37</th>\n",
              "      <td>2782</td>\n",
              "      <td>2741</td>\n",
              "      <td>686</td>\n",
              "      <td>67391</td>\n",
              "    </tr>\n",
              "    <tr>\n",
              "      <th>38</th>\n",
              "      <td>2620</td>\n",
              "      <td>2605</td>\n",
              "      <td>643</td>\n",
              "      <td>64529</td>\n",
              "    </tr>\n",
              "    <tr>\n",
              "      <th>39</th>\n",
              "      <td>2135</td>\n",
              "      <td>2126</td>\n",
              "      <td>517</td>\n",
              "      <td>51294</td>\n",
              "    </tr>\n",
              "    <tr>\n",
              "      <th>40</th>\n",
              "      <td>1797</td>\n",
              "      <td>1797</td>\n",
              "      <td>401</td>\n",
              "      <td>42778</td>\n",
              "    </tr>\n",
              "    <tr>\n",
              "      <th>41</th>\n",
              "      <td>2020</td>\n",
              "      <td>2022</td>\n",
              "      <td>444</td>\n",
              "      <td>49786</td>\n",
              "    </tr>\n",
              "    <tr>\n",
              "      <th>42</th>\n",
              "      <td>4102</td>\n",
              "      <td>4094</td>\n",
              "      <td>1050</td>\n",
              "      <td>108951</td>\n",
              "    </tr>\n",
              "    <tr>\n",
              "      <th>43</th>\n",
              "      <td>4116</td>\n",
              "      <td>4174</td>\n",
              "      <td>1061</td>\n",
              "      <td>108215</td>\n",
              "    </tr>\n",
              "    <tr>\n",
              "      <th>44</th>\n",
              "      <td>3204</td>\n",
              "      <td>3260</td>\n",
              "      <td>813</td>\n",
              "      <td>74590</td>\n",
              "    </tr>\n",
              "    <tr>\n",
              "      <th>45</th>\n",
              "      <td>3245</td>\n",
              "      <td>3213</td>\n",
              "      <td>793</td>\n",
              "      <td>74837</td>\n",
              "    </tr>\n",
              "    <tr>\n",
              "      <th>46</th>\n",
              "      <td>3586</td>\n",
              "      <td>3521</td>\n",
              "      <td>903</td>\n",
              "      <td>87589</td>\n",
              "    </tr>\n",
              "    <tr>\n",
              "      <th>47</th>\n",
              "      <td>1881</td>\n",
              "      <td>1949</td>\n",
              "      <td>411</td>\n",
              "      <td>47231</td>\n",
              "    </tr>\n",
              "    <tr>\n",
              "      <th>48</th>\n",
              "      <td>1606</td>\n",
              "      <td>1652</td>\n",
              "      <td>325</td>\n",
              "      <td>39759</td>\n",
              "    </tr>\n",
              "    <tr>\n",
              "      <th>49</th>\n",
              "      <td>2408</td>\n",
              "      <td>2344</td>\n",
              "      <td>551</td>\n",
              "      <td>59943</td>\n",
              "    </tr>\n",
              "    <tr>\n",
              "      <th>50</th>\n",
              "      <td>2528</td>\n",
              "      <td>2493</td>\n",
              "      <td>613</td>\n",
              "      <td>64723</td>\n",
              "    </tr>\n",
              "    <tr>\n",
              "      <th>51</th>\n",
              "      <td>2339</td>\n",
              "      <td>2305</td>\n",
              "      <td>574</td>\n",
              "      <td>58411</td>\n",
              "    </tr>\n",
              "    <tr>\n",
              "      <th>52</th>\n",
              "      <td>1992</td>\n",
              "      <td>1961</td>\n",
              "      <td>488</td>\n",
              "      <td>47932</td>\n",
              "    </tr>\n",
              "    <tr>\n",
              "      <th>53</th>\n",
              "      <td>1865</td>\n",
              "      <td>1845</td>\n",
              "      <td>448</td>\n",
              "      <td>44706</td>\n",
              "    </tr>\n",
              "    <tr>\n",
              "      <th>54</th>\n",
              "      <td>1635</td>\n",
              "      <td>1612</td>\n",
              "      <td>358</td>\n",
              "      <td>38445</td>\n",
              "    </tr>\n",
              "    <tr>\n",
              "      <th>55</th>\n",
              "      <td>1923</td>\n",
              "      <td>1891</td>\n",
              "      <td>419</td>\n",
              "      <td>45829</td>\n",
              "    </tr>\n",
              "    <tr>\n",
              "      <th>56</th>\n",
              "      <td>2542</td>\n",
              "      <td>2483</td>\n",
              "      <td>600</td>\n",
              "      <td>57487</td>\n",
              "    </tr>\n",
              "    <tr>\n",
              "      <th>57</th>\n",
              "      <td>2199</td>\n",
              "      <td>2157</td>\n",
              "      <td>531</td>\n",
              "      <td>48368</td>\n",
              "    </tr>\n",
              "    <tr>\n",
              "      <th>58</th>\n",
              "      <td>1939</td>\n",
              "      <td>1913</td>\n",
              "      <td>475</td>\n",
              "      <td>42696</td>\n",
              "    </tr>\n",
              "    <tr>\n",
              "      <th>59</th>\n",
              "      <td>1527</td>\n",
              "      <td>1518</td>\n",
              "      <td>348</td>\n",
              "      <td>33028</td>\n",
              "    </tr>\n",
              "    <tr>\n",
              "      <th>60</th>\n",
              "      <td>1444</td>\n",
              "      <td>1425</td>\n",
              "      <td>304</td>\n",
              "      <td>31688</td>\n",
              "    </tr>\n",
              "  </tbody>\n",
              "</table>\n",
              "</div>"
            ],
            "text/plain": [
              "     사용자    세션  신규방문자    페이지뷰\n",
              "7   2517  2508    563   64905\n",
              "8   2570  2545    589   64940\n",
              "9   2406  2370    569   58511\n",
              "10  2162  2128    533   51361\n",
              "11  1975  1952    502   46909\n",
              "12  1481  1445    358   32809\n",
              "13  1587  1557    365   37076\n",
              "14  1928  1892    458   45876\n",
              "15  3370  3263    867   83318\n",
              "16  2952  2922    772   70416\n",
              "17  3279  3198    860   77716\n",
              "18  3420  3387    941   84840\n",
              "19  1662  1697    411   39607\n",
              "20  1153  1149    237   27183\n",
              "21  2589  2467    683   60766\n",
              "22  2684  2656    728   63060\n",
              "23  2186  2223    570   48779\n",
              "24  2524  2481    663   55762\n",
              "25  2601  2548    677   59993\n",
              "26  1793  1786    433   41053\n",
              "27  1483  1488    308   34580\n",
              "28  2979  2931    780   79783\n",
              "29  3381  3348    887   88816\n",
              "30  2914  2853    739   69574\n",
              "31  2640  2599    640   61537\n",
              "32  2565  2541    618   60292\n",
              "33  2341  2326    566   54398\n",
              "34  1654  1667    359   37673\n",
              "35  2070  2020    476   46749\n",
              "36  2859  2783    699   67710\n",
              "37  2782  2741    686   67391\n",
              "38  2620  2605    643   64529\n",
              "39  2135  2126    517   51294\n",
              "40  1797  1797    401   42778\n",
              "41  2020  2022    444   49786\n",
              "42  4102  4094   1050  108951\n",
              "43  4116  4174   1061  108215\n",
              "44  3204  3260    813   74590\n",
              "45  3245  3213    793   74837\n",
              "46  3586  3521    903   87589\n",
              "47  1881  1949    411   47231\n",
              "48  1606  1652    325   39759\n",
              "49  2408  2344    551   59943\n",
              "50  2528  2493    613   64723\n",
              "51  2339  2305    574   58411\n",
              "52  1992  1961    488   47932\n",
              "53  1865  1845    448   44706\n",
              "54  1635  1612    358   38445\n",
              "55  1923  1891    419   45829\n",
              "56  2542  2483    600   57487\n",
              "57  2199  2157    531   48368\n",
              "58  1939  1913    475   42696\n",
              "59  1527  1518    348   33028\n",
              "60  1444  1425    304   31688"
            ]
          },
          "metadata": {
            "tags": []
          },
          "execution_count": 38
        }
      ]
    },
    {
      "cell_type": "code",
      "metadata": {
        "colab": {
          "base_uri": "https://localhost:8080/",
          "height": 204
        },
        "id": "9twcOXV7I5zO",
        "outputId": "fd09befa-8cc4-4aec-df74-c261de58014c"
      },
      "source": [
        "submission.iloc[start : start + output_window, 1:]"
      ],
      "execution_count": 39,
      "outputs": [
        {
          "output_type": "execute_result",
          "data": {
            "text/html": [
              "<div>\n",
              "<style scoped>\n",
              "    .dataframe tbody tr th:only-of-type {\n",
              "        vertical-align: middle;\n",
              "    }\n",
              "\n",
              "    .dataframe tbody tr th {\n",
              "        vertical-align: top;\n",
              "    }\n",
              "\n",
              "    .dataframe thead th {\n",
              "        text-align: right;\n",
              "    }\n",
              "</style>\n",
              "<table border=\"1\" class=\"dataframe\">\n",
              "  <thead>\n",
              "    <tr style=\"text-align: right;\">\n",
              "      <th></th>\n",
              "      <th>사용자</th>\n",
              "      <th>세션</th>\n",
              "      <th>신규방문자</th>\n",
              "      <th>페이지뷰</th>\n",
              "    </tr>\n",
              "  </thead>\n",
              "  <tbody>\n",
              "    <tr>\n",
              "      <th>56</th>\n",
              "      <td>2542</td>\n",
              "      <td>2483</td>\n",
              "      <td>600</td>\n",
              "      <td>57487</td>\n",
              "    </tr>\n",
              "    <tr>\n",
              "      <th>57</th>\n",
              "      <td>2199</td>\n",
              "      <td>2157</td>\n",
              "      <td>531</td>\n",
              "      <td>48368</td>\n",
              "    </tr>\n",
              "    <tr>\n",
              "      <th>58</th>\n",
              "      <td>1939</td>\n",
              "      <td>1913</td>\n",
              "      <td>475</td>\n",
              "      <td>42696</td>\n",
              "    </tr>\n",
              "    <tr>\n",
              "      <th>59</th>\n",
              "      <td>1527</td>\n",
              "      <td>1518</td>\n",
              "      <td>348</td>\n",
              "      <td>33028</td>\n",
              "    </tr>\n",
              "    <tr>\n",
              "      <th>60</th>\n",
              "      <td>1444</td>\n",
              "      <td>1425</td>\n",
              "      <td>304</td>\n",
              "      <td>31688</td>\n",
              "    </tr>\n",
              "  </tbody>\n",
              "</table>\n",
              "</div>"
            ],
            "text/plain": [
              "     사용자    세션  신규방문자   페이지뷰\n",
              "56  2542  2483    600  57487\n",
              "57  2199  2157    531  48368\n",
              "58  1939  1913    475  42696\n",
              "59  1527  1518    348  33028\n",
              "60  1444  1425    304  31688"
            ]
          },
          "metadata": {
            "tags": []
          },
          "execution_count": 39
        }
      ]
    },
    {
      "cell_type": "code",
      "metadata": {
        "colab": {
          "base_uri": "https://localhost:8080/"
        },
        "id": "5uw3J3hOJGcN",
        "outputId": "8c1a89f5-a801-4b55-ca60-a67d29114140"
      },
      "source": [
        "pred_week"
      ],
      "execution_count": 40,
      "outputs": [
        {
          "output_type": "execute_result",
          "data": {
            "text/plain": [
              "array([[ 2903,  2857,   653, 73735],\n",
              "       [ 2786,  2738,   640, 67586],\n",
              "       [ 2542,  2483,   600, 57487],\n",
              "       [ 2199,  2157,   531, 48368],\n",
              "       [ 1939,  1913,   475, 42696],\n",
              "       [ 1527,  1518,   348, 33028],\n",
              "       [ 1444,  1425,   304, 31688]])"
            ]
          },
          "metadata": {
            "tags": []
          },
          "execution_count": 40
        }
      ]
    },
    {
      "cell_type": "code",
      "metadata": {
        "colab": {
          "base_uri": "https://localhost:8080/"
        },
        "id": "jfewBA7oKMN6",
        "outputId": "e16a5955-97ba-40ca-f32b-dc4f95a427dc"
      },
      "source": [
        "(len(submission))//7"
      ],
      "execution_count": 45,
      "outputs": [
        {
          "output_type": "execute_result",
          "data": {
            "text/plain": [
              "8"
            ]
          },
          "metadata": {
            "tags": []
          },
          "execution_count": 45
        }
      ]
    },
    {
      "cell_type": "code",
      "metadata": {
        "colab": {
          "base_uri": "https://localhost:8080/",
          "height": 204
        },
        "id": "j3FxPX2xLHn0",
        "outputId": "4776ef8b-58af-4da9-e249-75ad422de2e5"
      },
      "source": [
        "submission.iloc[start :, 1:]"
      ],
      "execution_count": 47,
      "outputs": [
        {
          "output_type": "execute_result",
          "data": {
            "text/html": [
              "<div>\n",
              "<style scoped>\n",
              "    .dataframe tbody tr th:only-of-type {\n",
              "        vertical-align: middle;\n",
              "    }\n",
              "\n",
              "    .dataframe tbody tr th {\n",
              "        vertical-align: top;\n",
              "    }\n",
              "\n",
              "    .dataframe thead th {\n",
              "        text-align: right;\n",
              "    }\n",
              "</style>\n",
              "<table border=\"1\" class=\"dataframe\">\n",
              "  <thead>\n",
              "    <tr style=\"text-align: right;\">\n",
              "      <th></th>\n",
              "      <th>사용자</th>\n",
              "      <th>세션</th>\n",
              "      <th>신규방문자</th>\n",
              "      <th>페이지뷰</th>\n",
              "    </tr>\n",
              "  </thead>\n",
              "  <tbody>\n",
              "    <tr>\n",
              "      <th>56</th>\n",
              "      <td>2542</td>\n",
              "      <td>2483</td>\n",
              "      <td>600</td>\n",
              "      <td>57487</td>\n",
              "    </tr>\n",
              "    <tr>\n",
              "      <th>57</th>\n",
              "      <td>2199</td>\n",
              "      <td>2157</td>\n",
              "      <td>531</td>\n",
              "      <td>48368</td>\n",
              "    </tr>\n",
              "    <tr>\n",
              "      <th>58</th>\n",
              "      <td>1939</td>\n",
              "      <td>1913</td>\n",
              "      <td>475</td>\n",
              "      <td>42696</td>\n",
              "    </tr>\n",
              "    <tr>\n",
              "      <th>59</th>\n",
              "      <td>1527</td>\n",
              "      <td>1518</td>\n",
              "      <td>348</td>\n",
              "      <td>33028</td>\n",
              "    </tr>\n",
              "    <tr>\n",
              "      <th>60</th>\n",
              "      <td>1444</td>\n",
              "      <td>1425</td>\n",
              "      <td>304</td>\n",
              "      <td>31688</td>\n",
              "    </tr>\n",
              "  </tbody>\n",
              "</table>\n",
              "</div>"
            ],
            "text/plain": [
              "     사용자    세션  신규방문자   페이지뷰\n",
              "56  2542  2483    600  57487\n",
              "57  2199  2157    531  48368\n",
              "58  1939  1913    475  42696\n",
              "59  1527  1518    348  33028\n",
              "60  1444  1425    304  31688"
            ]
          },
          "metadata": {
            "tags": []
          },
          "execution_count": 47
        }
      ]
    },
    {
      "cell_type": "code",
      "metadata": {
        "colab": {
          "base_uri": "https://localhost:8080/"
        },
        "id": "UtuIDE6nLNj7",
        "outputId": "bfaef5a2-5315-4f12-cb2a-4a8662da1eda"
      },
      "source": [
        "pred_week[:,:]"
      ],
      "execution_count": 57,
      "outputs": [
        {
          "output_type": "execute_result",
          "data": {
            "text/plain": [
              "array([[ 2903,  2857,   653, 73735],\n",
              "       [ 2786,  2738,   640, 67586],\n",
              "       [ 2542,  2483,   600, 57487],\n",
              "       [ 2199,  2157,   531, 48368],\n",
              "       [ 1939,  1913,   475, 42696],\n",
              "       [ 1527,  1518,   348, 33028],\n",
              "       [ 1444,  1425,   304, 31688]])"
            ]
          },
          "metadata": {
            "tags": []
          },
          "execution_count": 57
        }
      ]
    },
    {
      "cell_type": "markdown",
      "metadata": {
        "id": "IXSB0RQxXoQN"
      },
      "source": [
        "# 자 이제"
      ]
    },
    {
      "cell_type": "code",
      "metadata": {
        "colab": {
          "base_uri": "https://localhost:8080/"
        },
        "id": "PDrji_WxYah5",
        "outputId": "8200265e-fcc0-4320-b60b-b0163f85780a"
      },
      "source": [
        "(len(submission) - output_window)//24 + 2"
      ],
      "execution_count": 117,
      "outputs": [
        {
          "output_type": "execute_result",
          "data": {
            "text/plain": [
              "62"
            ]
          },
          "metadata": {
            "tags": []
          },
          "execution_count": 117
        }
      ]
    },
    {
      "cell_type": "code",
      "metadata": {
        "colab": {
          "base_uri": "https://localhost:8080/",
          "height": 448
        },
        "id": "6yrRjxYlMirv",
        "outputId": "19c2ad0f-67b1-4ee7-8b7f-5e2bf654dc6d"
      },
      "source": [
        "# submission = pd.read_csv(\"/content/drive/MyDrive/Colab Notebooks/LSTM_pytorch(Dacon)/input/submission.csv\", encoding = 'euc-kr')\r\n",
        "\r\n",
        "\r\n",
        "last_month = train.iloc[-720:,1:].values[np.newaxis,...] # <- 수정 후  # 720개의 데이터를 불러옴 , 24시간으로 30일치\r\n",
        "last_month = torch.tensor(last_month).float().to(device) # <- 수정 후 # 한달 전의 데이터를 토치화를 해, GPU로 보냄\r\n",
        "\r\n",
        "for start in range(len(submission)):  # 1464개(61일 * 24시간) - 1개씩 결과값이 나오니까 다돌아!!!\r\n",
        "    start += 1\r\n",
        "    print(\"\\n\", start, \"\\n\")\r\n",
        "    \r\n",
        "    next_week = model(last_month)  # 한달전 데이터로 예측, 1개가 나옴\r\n",
        "    print(next_week, \"아이후야 예측\")\r\n",
        "\r\n",
        "\r\n",
        "    last_month = torch.cat([last_month[:,1:,:], next_week], axis = 1)# <- 수정 후  # 1번째 이후(1개의 전 데이터) 부터 합침, 새로운 데이터로 또 예측 돌아가게함\r\n",
        "    print('수정된 값들: %s' % last_month)\r\n",
        "\r\n",
        "    pred_week = next_week.cpu().detach().numpy().reshape(output_window,4)  # 예측한것 불러오기\r\n",
        "\r\n",
        "    print(pred_week,\"1\")\r\n",
        "\r\n",
        "    pred_week = pred_week * size.values + mini.values  #예측 한 것에 사이즈를 곱한 후, 최소를 더함 -이는 민맥스 최소화를 풀어주는 작업으로 보임, 정규화 해체 작업\r\n",
        "    print(pred_week,\"2\")\r\n",
        "    pred_week = pred_week.astype(int)  # 실수 값으로 변환\r\n",
        "    print(pred_week,\"3\")\r\n",
        "\r\n",
        "\r\n",
        "    submission.iloc[start : start + output_window, 1:] = pred_week  # 시작 갯수하고 +1안에 1개의 예측값을 넣어라\r\n",
        "    print(submission.iloc[start : start + output_window, 1:])\r\n",
        "\r\n"
      ],
      "execution_count": 123,
      "outputs": [
        {
          "output_type": "stream",
          "text": [
            "\n",
            " 1 \n",
            "\n"
          ],
          "name": "stdout"
        },
        {
          "output_type": "error",
          "ename": "RuntimeError",
          "evalue": "ignored",
          "traceback": [
            "\u001b[0;31m---------------------------------------------------------------------------\u001b[0m",
            "\u001b[0;31mRuntimeError\u001b[0m                              Traceback (most recent call last)",
            "\u001b[0;32m<ipython-input-123-a4852a46254a>\u001b[0m in \u001b[0;36m<module>\u001b[0;34m()\u001b[0m\n\u001b[1;32m      9\u001b[0m     \u001b[0mprint\u001b[0m\u001b[0;34m(\u001b[0m\u001b[0;34m\"\\n\"\u001b[0m\u001b[0;34m,\u001b[0m \u001b[0mstart\u001b[0m\u001b[0;34m,\u001b[0m \u001b[0;34m\"\\n\"\u001b[0m\u001b[0;34m)\u001b[0m\u001b[0;34m\u001b[0m\u001b[0;34m\u001b[0m\u001b[0m\n\u001b[1;32m     10\u001b[0m \u001b[0;34m\u001b[0m\u001b[0m\n\u001b[0;32m---> 11\u001b[0;31m     \u001b[0mnext_week\u001b[0m \u001b[0;34m=\u001b[0m \u001b[0mmodel\u001b[0m\u001b[0;34m(\u001b[0m\u001b[0mlast_month\u001b[0m\u001b[0;34m)\u001b[0m  \u001b[0;31m# 한달전 데이터로 예측, 1개가 나옴\u001b[0m\u001b[0;34m\u001b[0m\u001b[0;34m\u001b[0m\u001b[0m\n\u001b[0m\u001b[1;32m     12\u001b[0m     \u001b[0mprint\u001b[0m\u001b[0;34m(\u001b[0m\u001b[0mnext_week\u001b[0m\u001b[0;34m,\u001b[0m \u001b[0;34m\"아이후야 예측\"\u001b[0m\u001b[0;34m)\u001b[0m\u001b[0;34m\u001b[0m\u001b[0;34m\u001b[0m\u001b[0m\n\u001b[1;32m     13\u001b[0m \u001b[0;34m\u001b[0m\u001b[0m\n",
            "\u001b[0;32m/usr/local/lib/python3.6/dist-packages/torch/nn/modules/module.py\u001b[0m in \u001b[0;36m_call_impl\u001b[0;34m(self, *input, **kwargs)\u001b[0m\n\u001b[1;32m    725\u001b[0m             \u001b[0mresult\u001b[0m \u001b[0;34m=\u001b[0m \u001b[0mself\u001b[0m\u001b[0;34m.\u001b[0m\u001b[0m_slow_forward\u001b[0m\u001b[0;34m(\u001b[0m\u001b[0;34m*\u001b[0m\u001b[0minput\u001b[0m\u001b[0;34m,\u001b[0m \u001b[0;34m**\u001b[0m\u001b[0mkwargs\u001b[0m\u001b[0;34m)\u001b[0m\u001b[0;34m\u001b[0m\u001b[0;34m\u001b[0m\u001b[0m\n\u001b[1;32m    726\u001b[0m         \u001b[0;32melse\u001b[0m\u001b[0;34m:\u001b[0m\u001b[0;34m\u001b[0m\u001b[0;34m\u001b[0m\u001b[0m\n\u001b[0;32m--> 727\u001b[0;31m             \u001b[0mresult\u001b[0m \u001b[0;34m=\u001b[0m \u001b[0mself\u001b[0m\u001b[0;34m.\u001b[0m\u001b[0mforward\u001b[0m\u001b[0;34m(\u001b[0m\u001b[0;34m*\u001b[0m\u001b[0minput\u001b[0m\u001b[0;34m,\u001b[0m \u001b[0;34m**\u001b[0m\u001b[0mkwargs\u001b[0m\u001b[0;34m)\u001b[0m\u001b[0;34m\u001b[0m\u001b[0;34m\u001b[0m\u001b[0m\n\u001b[0m\u001b[1;32m    728\u001b[0m         for hook in itertools.chain(\n\u001b[1;32m    729\u001b[0m                 \u001b[0m_global_forward_hooks\u001b[0m\u001b[0;34m.\u001b[0m\u001b[0mvalues\u001b[0m\u001b[0;34m(\u001b[0m\u001b[0;34m)\u001b[0m\u001b[0;34m,\u001b[0m\u001b[0;34m\u001b[0m\u001b[0;34m\u001b[0m\u001b[0m\n",
            "\u001b[0;32m<ipython-input-114-40663626e2fd>\u001b[0m in \u001b[0;36mforward\u001b[0;34m(self, x_time)\u001b[0m\n\u001b[1;32m     17\u001b[0m     \u001b[0;32mdef\u001b[0m \u001b[0mforward\u001b[0m\u001b[0;34m(\u001b[0m\u001b[0mself\u001b[0m\u001b[0;34m,\u001b[0m \u001b[0mx_time\u001b[0m\u001b[0;34m)\u001b[0m\u001b[0;34m:\u001b[0m\u001b[0;34m\u001b[0m\u001b[0;34m\u001b[0m\u001b[0m\n\u001b[1;32m     18\u001b[0m \u001b[0;34m\u001b[0m\u001b[0m\n\u001b[0;32m---> 19\u001b[0;31m         \u001b[0mout_time\u001b[0m\u001b[0;34m,\u001b[0m \u001b[0m_\u001b[0m \u001b[0;34m=\u001b[0m \u001b[0mself\u001b[0m\u001b[0;34m.\u001b[0m\u001b[0mlstm\u001b[0m\u001b[0;34m(\u001b[0m\u001b[0mx_time\u001b[0m\u001b[0;34m)\u001b[0m\u001b[0;34m\u001b[0m\u001b[0;34m\u001b[0m\u001b[0m\n\u001b[0m\u001b[1;32m     20\u001b[0m         \u001b[0mout_time\u001b[0m\u001b[0;34m,\u001b[0m \u001b[0m_\u001b[0m \u001b[0;34m=\u001b[0m \u001b[0mself\u001b[0m\u001b[0;34m.\u001b[0m\u001b[0mhidden_lstm\u001b[0m\u001b[0;34m(\u001b[0m\u001b[0mout_time\u001b[0m\u001b[0;34m)\u001b[0m\u001b[0;34m\u001b[0m\u001b[0;34m\u001b[0m\u001b[0m\n\u001b[1;32m     21\u001b[0m         \u001b[0mout_time\u001b[0m\u001b[0;34m,\u001b[0m \u001b[0m_\u001b[0m \u001b[0;34m=\u001b[0m \u001b[0mself\u001b[0m\u001b[0;34m.\u001b[0m\u001b[0mhidden_lstm\u001b[0m\u001b[0;34m(\u001b[0m\u001b[0mout_time\u001b[0m\u001b[0;34m)\u001b[0m\u001b[0;34m\u001b[0m\u001b[0;34m\u001b[0m\u001b[0m\n",
            "\u001b[0;32m/usr/local/lib/python3.6/dist-packages/torch/nn/modules/module.py\u001b[0m in \u001b[0;36m_call_impl\u001b[0;34m(self, *input, **kwargs)\u001b[0m\n\u001b[1;32m    725\u001b[0m             \u001b[0mresult\u001b[0m \u001b[0;34m=\u001b[0m \u001b[0mself\u001b[0m\u001b[0;34m.\u001b[0m\u001b[0m_slow_forward\u001b[0m\u001b[0;34m(\u001b[0m\u001b[0;34m*\u001b[0m\u001b[0minput\u001b[0m\u001b[0;34m,\u001b[0m \u001b[0;34m**\u001b[0m\u001b[0mkwargs\u001b[0m\u001b[0;34m)\u001b[0m\u001b[0;34m\u001b[0m\u001b[0;34m\u001b[0m\u001b[0m\n\u001b[1;32m    726\u001b[0m         \u001b[0;32melse\u001b[0m\u001b[0;34m:\u001b[0m\u001b[0;34m\u001b[0m\u001b[0;34m\u001b[0m\u001b[0m\n\u001b[0;32m--> 727\u001b[0;31m             \u001b[0mresult\u001b[0m \u001b[0;34m=\u001b[0m \u001b[0mself\u001b[0m\u001b[0;34m.\u001b[0m\u001b[0mforward\u001b[0m\u001b[0;34m(\u001b[0m\u001b[0;34m*\u001b[0m\u001b[0minput\u001b[0m\u001b[0;34m,\u001b[0m \u001b[0;34m**\u001b[0m\u001b[0mkwargs\u001b[0m\u001b[0;34m)\u001b[0m\u001b[0;34m\u001b[0m\u001b[0;34m\u001b[0m\u001b[0m\n\u001b[0m\u001b[1;32m    728\u001b[0m         for hook in itertools.chain(\n\u001b[1;32m    729\u001b[0m                 \u001b[0m_global_forward_hooks\u001b[0m\u001b[0;34m.\u001b[0m\u001b[0mvalues\u001b[0m\u001b[0;34m(\u001b[0m\u001b[0;34m)\u001b[0m\u001b[0;34m,\u001b[0m\u001b[0;34m\u001b[0m\u001b[0;34m\u001b[0m\u001b[0m\n",
            "\u001b[0;32m/usr/local/lib/python3.6/dist-packages/torch/nn/modules/rnn.py\u001b[0m in \u001b[0;36mforward\u001b[0;34m(self, input, hx)\u001b[0m\n\u001b[1;32m    729\u001b[0m             hx = torch.zeros(self.num_layers * num_directions,\n\u001b[1;32m    730\u001b[0m                              \u001b[0mmax_batch_size\u001b[0m\u001b[0;34m,\u001b[0m \u001b[0mself\u001b[0m\u001b[0;34m.\u001b[0m\u001b[0mhidden_size\u001b[0m\u001b[0;34m,\u001b[0m\u001b[0;34m\u001b[0m\u001b[0;34m\u001b[0m\u001b[0m\n\u001b[0;32m--> 731\u001b[0;31m                              dtype=input.dtype, device=input.device)\n\u001b[0m\u001b[1;32m    732\u001b[0m         \u001b[0;32melse\u001b[0m\u001b[0;34m:\u001b[0m\u001b[0;34m\u001b[0m\u001b[0;34m\u001b[0m\u001b[0m\n\u001b[1;32m    733\u001b[0m             \u001b[0;31m# Each batch of the hidden state should match the input sequence that\u001b[0m\u001b[0;34m\u001b[0m\u001b[0;34m\u001b[0m\u001b[0;34m\u001b[0m\u001b[0m\n",
            "\u001b[0;31mRuntimeError\u001b[0m: CUDA error: invalid resource handle"
          ]
        }
      ]
    },
    {
      "cell_type": "markdown",
      "metadata": {
        "id": "0n-a1H7dMlZt"
      },
      "source": [
        "> 분석합시당\r\n",
        "\r\n",
        "> 결국 7일을 예측하게 만들었네. 30일 간의 데이터를 훈련 데이터로 하여\r\n",
        "\r\n",
        "> 토치에서 마지막 4는 4개의 컬럼이 들어가니까 그런거네 (사용자, 세션, 신규방문자, 페이지뷰)\r\n",
        "\r\n",
        "> 밑에 이거 다잉 "
      ]
    },
    {
      "cell_type": "code",
      "metadata": {
        "colab": {
          "base_uri": "https://localhost:8080/"
        },
        "id": "sIHJtQz-uRzL",
        "outputId": "c2eb5866-e291-4236-d828-176264fba1f8"
      },
      "source": [
        "# 이게 분석이다잉 건들지 말라잉\r\n",
        "submission = pd.read_csv(\"/content/drive/MyDrive/Colab Notebooks/LSTM_pytorch(Dacon)/input/submission.csv\", encoding = 'euc-kr')\r\n",
        "\r\n",
        "\r\n",
        "last_month = train.iloc[-30:,1:].values[np.newaxis,...] # <- 수정 후  # 한달 전의 30개의 데이터를 불러옴\r\n",
        "last_month = torch.tensor(last_month).float().to(device) # <- 수정 후 # 한달 전의 데이터를 토치화를 해, GPU로 보냄\r\n",
        "\r\n",
        "for start in range((len(submission) - output_window)//7 + 2):  # 61개 (30일, 31일), 일주일이 8.7번 있음,  총 9번이 돔, 아니 이것들아 그냥 하면되지 먼다 output_window를 빼냐 귀찮게 시리\r\n",
        "    start = start * 7\r\n",
        "    print(\"\\n\", start, \"\\n\")\r\n",
        "    \r\n",
        "    next_week = model(last_month)  # 한달전 데이터로 예측, 7개가 나옴\r\n",
        "    print(next_week, \"아이후야 예측\")\r\n",
        "\r\n",
        "\r\n",
        "    last_month = torch.cat([last_month[:,7:,:], next_week], axis = 1)# <- 수정 후  # 7번째 이후(7개의 전 데이터) 부터 합침, 새로운 데이터로 또 예측 돌아가게함\r\n",
        "\r\n",
        "    pred_week = next_week.cpu().detach().numpy().reshape(output_window,4)  # 예측한것 불러오기, 뒤에 4는 들어가는 컬럼이 4개니까(사용자, 세션, 신규방문자, 페이지뷰)\r\n",
        "\r\n",
        "    print(pred_week,\"1\")\r\n",
        "\r\n",
        "    pred_week = pred_week * size.values + mini.values  #예측 한 것에 사이즈를 곱한 후, 최소를 더함 -이는 민맥스 최소화를 풀어주는 작업으로 보임\r\n",
        "    print(pred_week,\"2\")\r\n",
        "    pred_week = pred_week.astype(int)  # 실수 값으로 변환\r\n",
        "    print(pred_week,\"3\")\r\n",
        "\r\n",
        "    if start/7 == (len(submission) - output_window)//7 + 1:  # 8이면 , 마지막번째라면\r\n",
        "        submission.iloc[start :, 1:] = pred_week[-submission.iloc[start :, 1:].shape[0]:,:]  #61개에서 7을 뺀 갯수를 넣어라, 56번째부터 마지막 개수를 집어넣어라 (근데 왜 마지막부터 넣냐?, 예측값 처음부터 5개 해야지, 마지막 5개를 넣네 ㅋㅋ)\r\n",
        "        print(\"이거 표시해봥\")\r\n",
        "        print(submission.iloc[start :, 1:].shape[0])\r\n",
        "        print( pred_week[-submission.iloc[start :, 1:].shape[0]:,:])\r\n",
        "        print( submission.iloc[start :, 1:])\r\n",
        "    else:\r\n",
        "        submission.iloc[start : start + output_window, 1:] = pred_week  # 시작 갯수하고 +7안에 7개의 예측값을 넣어라\r\n",
        "        print(submission.iloc[start : start + output_window, 1:])\r\n",
        "#submission"
      ],
      "execution_count": 58,
      "outputs": [
        {
          "output_type": "stream",
          "text": [
            "\n",
            " 0 \n",
            "\n",
            "tensor([[[0.5548, 0.5578, 0.4034, 0.5004],\n",
            "         [0.5345, 0.5416, 0.3949, 0.4916],\n",
            "         [0.4992, 0.5064, 0.3739, 0.4561],\n",
            "         [0.4605, 0.4693, 0.3503, 0.4205],\n",
            "         [0.3672, 0.3725, 0.2819, 0.3204],\n",
            "         [0.2961, 0.2975, 0.2069, 0.2468],\n",
            "         [0.3238, 0.3259, 0.2219, 0.2759]]], device='cuda:0',\n",
            "       grad_fn=<ViewBackward>) 아이후야 예측\n",
            "[[0.554769   0.55779576 0.40341195 0.5003642 ]\n",
            " [0.53446907 0.54158187 0.39494225 0.49162287]\n",
            " [0.4992423  0.50644255 0.3739264  0.4561216 ]\n",
            " [0.4604854  0.46926093 0.35031152 0.42047006]\n",
            " [0.36724567 0.37253168 0.28187132 0.32037583]\n",
            " [0.29611346 0.29751197 0.20686421 0.24680457]\n",
            " [0.32378104 0.3259107  0.22186218 0.27589893]] 1\n",
            "[[ 3006.18356222  3012.53932452   682.76620334 77775.10627067]\n",
            " [ 2896.21894163  2925.00051141   668.45240897 76416.41680664]\n",
            " [ 2705.39557028  2735.28331041   632.93561792 70898.34767571]\n",
            " [ 2495.44940513  2534.53976655   593.02646494 65356.9226678 ]\n",
            " [ 1990.36981678  2012.29855248   477.3625288  49798.9763743 ]\n",
            " [ 1605.04661962  1607.26709923   350.60051149 38363.57398137]\n",
            " [ 1754.92191151  1760.59180152   375.94708762 42885.79891682]] 2\n",
            "[[ 3006  3012   682 77775]\n",
            " [ 2896  2925   668 76416]\n",
            " [ 2705  2735   632 70898]\n",
            " [ 2495  2534   593 65356]\n",
            " [ 1990  2012   477 49798]\n",
            " [ 1605  1607   350 38363]\n",
            " [ 1754  1760   375 42885]] 3\n",
            "    사용자    세션  신규방문자   페이지뷰\n",
            "0  3006  3012    682  77775\n",
            "1  2896  2925    668  76416\n",
            "2  2705  2735    632  70898\n",
            "3  2495  2534    593  65356\n",
            "4  1990  2012    477  49798\n",
            "5  1605  1607    350  38363\n",
            "6  1754  1760    375  42885\n",
            "\n",
            " 7 \n",
            "\n",
            "tensor([[[0.4646, 0.4644, 0.3331, 0.4176],\n",
            "         [0.4744, 0.4713, 0.3485, 0.4178],\n",
            "         [0.4440, 0.4388, 0.3361, 0.3764],\n",
            "         [0.3990, 0.3940, 0.3152, 0.3304],\n",
            "         [0.3644, 0.3615, 0.2970, 0.3018],\n",
            "         [0.2734, 0.2676, 0.2117, 0.2111],\n",
            "         [0.2928, 0.2882, 0.2160, 0.2385]]], device='cuda:0',\n",
            "       grad_fn=<ViewBackward>) 아이후야 예측\n",
            "[[0.46462184 0.4644008  0.33305085 0.41756475]\n",
            " [0.47435182 0.4712918  0.34846097 0.41778874]\n",
            " [0.44404483 0.43880484 0.33612072 0.37642908]\n",
            " [0.39904952 0.3939679  0.3152427  0.33042753]\n",
            " [0.36441782 0.3614947  0.29698792 0.3017873 ]\n",
            " [0.27336675 0.26762512 0.21172503 0.21107274]\n",
            " [0.29280388 0.2882268  0.21595262 0.2385219 ]] 1\n",
            "[[ 2517.85651761  2508.29990885   563.85593152 64905.34174287]\n",
            " [ 2570.56382698  2545.50448367   589.8990432  64940.15784192]\n",
            " [ 2406.39083552  2370.1073046    569.04402471 58511.50134134]\n",
            " [ 2162.65125251  2128.03267428   533.76017606 51361.34187067]\n",
            " [ 1975.05133727  1952.70983228   502.90958649 46909.70337978]\n",
            " [ 1481.82768089  1445.90804049   358.81529456 32809.66965324]\n",
            " [ 1587.1186372   1557.13656381   365.95992765 37076.17506608]] 2\n",
            "[[ 2517  2508   563 64905]\n",
            " [ 2570  2545   589 64940]\n",
            " [ 2406  2370   569 58511]\n",
            " [ 2162  2128   533 51361]\n",
            " [ 1975  1952   502 46909]\n",
            " [ 1481  1445   358 32809]\n",
            " [ 1587  1557   365 37076]] 3\n",
            "     사용자    세션  신규방문자   페이지뷰\n",
            "7   2517  2508    563  64905\n",
            "8   2570  2545    589  64940\n",
            "9   2406  2370    569  58511\n",
            "10  2162  2128    533  51361\n",
            "11  1975  1952    502  46909\n",
            "12  1481  1445    358  32809\n",
            "13  1587  1557    365  37076\n",
            "\n",
            " 14 \n",
            "\n",
            "tensor([[[0.3558, 0.3503, 0.2706, 0.2951],\n",
            "         [0.6220, 0.6042, 0.5126, 0.5360],\n",
            "         [0.5448, 0.5411, 0.4562, 0.4530],\n",
            "         [0.6052, 0.5922, 0.5085, 0.5000],\n",
            "         [0.6312, 0.6273, 0.5565, 0.5458],\n",
            "         [0.3067, 0.3143, 0.2431, 0.2548],\n",
            "         [0.2128, 0.2128, 0.1401, 0.1749]]], device='cuda:0',\n",
            "       grad_fn=<ViewBackward>) 아이후야 예측\n",
            "[[0.35576892 0.35025388 0.27058175 0.29513878]\n",
            " [0.62202734 0.6042458  0.5125789  0.5360273 ]\n",
            " [0.5448076  0.5411264  0.45622897 0.4530234 ]\n",
            " [0.60516864 0.59215885 0.50848037 0.49998528]\n",
            " [0.6311748  0.62725544 0.5565058  0.5458189 ]\n",
            " [0.30665743 0.31426665 0.24309716 0.25480592]\n",
            " [0.2127929  0.2127581  0.14010061 0.17487882]] 1\n",
            "[[ 1928.20023417  1892.02069825   458.28316098 45876.305417  ]\n",
            " [ 3370.52208751  3263.32297647   867.25834882 83318.33322942]\n",
            " [ 2952.22283906  2922.54127395   772.0269618  70416.78673574]\n",
            " [ 3279.1985262   3198.06565279   860.33182538 77716.2116614 ]\n",
            " [ 3420.07390666  3387.55211926   941.49480081 84840.27295458]\n",
            " [ 1662.16331732  1697.72565344   411.83419412 39607.24895322]\n",
            " [ 1153.69915655  1149.6809499    237.77003637 27183.93974982]] 2\n",
            "[[ 1928  1892   458 45876]\n",
            " [ 3370  3263   867 83318]\n",
            " [ 2952  2922   772 70416]\n",
            " [ 3279  3198   860 77716]\n",
            " [ 3420  3387   941 84840]\n",
            " [ 1662  1697   411 39607]\n",
            " [ 1153  1149   237 27183]] 3\n",
            "     사용자    세션  신규방문자   페이지뷰\n",
            "14  1928  1892    458  45876\n",
            "15  3370  3263    867  83318\n",
            "16  2952  2922    772  70416\n",
            "17  3279  3198    860  77716\n",
            "18  3420  3387    941  84840\n",
            "19  1662  1697    411  39607\n",
            "20  1153  1149    237  27183\n",
            "\n",
            " 21 \n",
            "\n",
            "tensor([[[0.4778, 0.4569, 0.4041, 0.3909],\n",
            "         [0.4953, 0.4919, 0.4304, 0.4057],\n",
            "         [0.4035, 0.4116, 0.3367, 0.3138],\n",
            "         [0.4658, 0.4594, 0.3922, 0.3587],\n",
            "         [0.4801, 0.4718, 0.4005, 0.3860],\n",
            "         [0.3309, 0.3307, 0.2556, 0.2641],\n",
            "         [0.2737, 0.2756, 0.1817, 0.2225]]], device='cuda:0',\n",
            "       grad_fn=<ViewBackward>) 아이후야 예측\n",
            "[[0.47775716 0.45693198 0.4041228  0.39093512]\n",
            " [0.4953202  0.49191973 0.43036795 0.40569323]\n",
            " [0.4034965  0.4115869  0.3367278  0.3138162 ]\n",
            " [0.46576387 0.45940104 0.3922247  0.358744  ]\n",
            " [0.480097   0.4718144  0.4004679  0.38596103]\n",
            " [0.33091974 0.33074614 0.25563443 0.26411256]\n",
            " [0.27371752 0.2755773  0.18166018 0.22246453]] 1\n",
            "[[ 2589.01051348  2467.97575173   683.96753138 60766.21896809]\n",
            " [ 2684.14952838  2656.87460139   728.3218298  63060.11628693]\n",
            " [ 2186.74056125  2223.15772972   570.06997859 48779.39182389]\n",
            " [ 2524.042867    2481.30622181   663.85974175 55762.65544137]\n",
            " [ 2601.68542641  2548.32591319   677.79075509 59993.080147  ]\n",
            " [ 1793.59224558  1786.69843176   433.02218175 41053.8078402 ]\n",
            " [ 1483.72782004  1488.84187913   308.0056963  34580.32954952]] 2\n",
            "[[ 2589  2467   683 60766]\n",
            " [ 2684  2656   728 63060]\n",
            " [ 2186  2223   570 48779]\n",
            " [ 2524  2481   663 55762]\n",
            " [ 2601  2548   677 59993]\n",
            " [ 1793  1786   433 41053]\n",
            " [ 1483  1488   308 34580]] 3\n",
            "     사용자    세션  신규방문자   페이지뷰\n",
            "21  2589  2467    683  60766\n",
            "22  2684  2656    728  63060\n",
            "23  2186  2223    570  48779\n",
            "24  2524  2481    663  55762\n",
            "25  2601  2548    677  59993\n",
            "26  1793  1786    433  41053\n",
            "27  1483  1488    308  34580\n",
            "\n",
            " 28 \n",
            "\n",
            "tensor([[[0.5498, 0.5427, 0.4615, 0.5133],\n",
            "         [0.6240, 0.6201, 0.5247, 0.5714],\n",
            "         [0.5378, 0.5283, 0.4368, 0.4476],\n",
            "         [0.4872, 0.4814, 0.3785, 0.3959],\n",
            "         [0.4735, 0.4706, 0.3651, 0.3879],\n",
            "         [0.4321, 0.4306, 0.3346, 0.3500],\n",
            "         [0.3052, 0.3087, 0.2120, 0.2424]]], device='cuda:0',\n",
            "       grad_fn=<ViewBackward>) 아이후야 예측\n",
            "[[0.54983    0.54269797 0.46151826 0.5132844 ]\n",
            " [0.62404704 0.620103   0.52472335 0.57139736]\n",
            " [0.53778636 0.5283168  0.43682936 0.4476016 ]\n",
            " [0.48718774 0.481364   0.3785314  0.39589962]\n",
            " [0.47349364 0.47062638 0.36510372 0.38788655]\n",
            " [0.4320776  0.43063736 0.33457783 0.3499696 ]\n",
            " [0.30518278 0.30865663 0.21201631 0.24236265]] 1\n",
            "[[ 2979.42921549  2931.02631897   780.96585578 79783.33184546]\n",
            " [ 3381.46282077  3348.93610561   887.78246319 88816.0065003 ]\n",
            " [ 2914.1887368   2853.38238066   739.24161559 69574.05740693]\n",
            " [ 2640.09600484  2599.88429952   640.7180599  61537.86620006]\n",
            " [ 2565.91502434  2541.91184732   618.02528954 60292.37074831]\n",
            " [ 2341.56428689  2326.01110458   566.43653041 54398.82416388]\n",
            " [ 1654.17514524  1667.43716103   359.30757111 37673.15350524]] 2\n",
            "[[ 2979  2931   780 79783]\n",
            " [ 3381  3348   887 88816]\n",
            " [ 2914  2853   739 69574]\n",
            " [ 2640  2599   640 61537]\n",
            " [ 2565  2541   618 60292]\n",
            " [ 2341  2326   566 54398]\n",
            " [ 1654  1667   359 37673]] 3\n",
            "     사용자    세션  신규방문자   페이지뷰\n",
            "28  2979  2931    780  79783\n",
            "29  3381  3348    887  88816\n",
            "30  2914  2853    739  69574\n",
            "31  2640  2599    640  61537\n",
            "32  2565  2541    618  60292\n",
            "33  2341  2326    566  54398\n",
            "34  1654  1667    359  37673\n",
            "\n",
            " 35 \n",
            "\n",
            "tensor([[[0.3821, 0.3740, 0.2815, 0.3008],\n",
            "         [0.5278, 0.5154, 0.4133, 0.4356],\n",
            "         [0.5135, 0.5076, 0.4055, 0.4336],\n",
            "         [0.4836, 0.4824, 0.3801, 0.4151],\n",
            "         [0.3940, 0.3937, 0.3056, 0.3300],\n",
            "         [0.3317, 0.3328, 0.2372, 0.2752],\n",
            "         [0.3728, 0.3744, 0.2623, 0.3203]]], device='cuda:0',\n",
            "       grad_fn=<ViewBackward>) 아이후야 예측\n",
            "[[0.38211018 0.3739967  0.2815332  0.3007574 ]\n",
            " [0.52777874 0.5153794  0.41333044 0.43561494]\n",
            " [0.5134627  0.50758785 0.40550378 0.43355694]\n",
            " [0.48359305 0.48235947 0.38010472 0.4151486 ]\n",
            " [0.39396697 0.393693   0.30558515 0.32999668]\n",
            " [0.33168226 0.33282572 0.23719332 0.27521017]\n",
            " [0.37284148 0.3743714  0.26231298 0.32029665]] 1\n",
            "[[ 2070.89083678  2020.20820931   476.79112738 46749.62621975]\n",
            " [ 2859.97746003  2783.53353643   699.52843642 67710.93751371]\n",
            " [ 2782.42756671  2741.46680266   686.30138761 67391.05649725]\n",
            " [ 2620.62353379  2605.25877279   643.3769778  64529.79017314]\n",
            " [ 2135.11909181  2126.54850742   517.43889666 51294.37322459]\n",
            " [ 1797.72282845  1797.92606395   401.85670441 42778.74265483]\n",
            " [ 2020.68228304  2022.23123944   444.30893368 49786.66844785]] 2\n",
            "[[ 2070  2020   476 46749]\n",
            " [ 2859  2783   699 67710]\n",
            " [ 2782  2741   686 67391]\n",
            " [ 2620  2605   643 64529]\n",
            " [ 2135  2126   517 51294]\n",
            " [ 1797  1797   401 42778]\n",
            " [ 2020  2022   444 49786]] 3\n",
            "     사용자    세션  신규방문자   페이지뷰\n",
            "35  2070  2020    476  46749\n",
            "36  2859  2783    699  67710\n",
            "37  2782  2741    686  67391\n",
            "38  2620  2605    643  64529\n",
            "39  2135  2126    517  51294\n",
            "40  1797  1797    401  42778\n",
            "41  2020  2022    444  49786\n",
            "\n",
            " 42 \n",
            "\n",
            "tensor([[[0.7572, 0.7581, 0.6212, 0.7009],\n",
            "         [0.7598, 0.7730, 0.6277, 0.6962],\n",
            "         [0.5913, 0.6037, 0.4806, 0.4799],\n",
            "         [0.5989, 0.5951, 0.4690, 0.4815],\n",
            "         [0.6620, 0.6521, 0.5342, 0.5635],\n",
            "         [0.3471, 0.3609, 0.2426, 0.3039],\n",
            "         [0.2965, 0.3059, 0.1918, 0.2558]]], device='cuda:0',\n",
            "       grad_fn=<ViewBackward>) 아이후야 예측\n",
            "[[0.7571721  0.75814706 0.6212351  0.70094466]\n",
            " [0.75980824 0.7729723  0.6277287  0.69620526]\n",
            " [0.59131086 0.60369986 0.4805541  0.4798762 ]\n",
            " [0.5988767  0.5950505  0.4690473  0.4814624 ]\n",
            " [0.66196835 0.652094   0.53420705 0.56350344]\n",
            " [0.34708458 0.36085394 0.24262398 0.30385587]\n",
            " [0.2964537  0.30588558 0.191788   0.25578693]] 1\n",
            "[[  4102.60130739   4094.23598164   1050.88727272 108951.93166327]\n",
            " [  4116.88124865   4174.27737075   1061.86150408 108215.27192414]\n",
            " [  3204.13092172   3260.3755601     813.13643551  74590.59590617]\n",
            " [  3245.11516356   3213.67772371    793.68995047  74837.1435453 ]\n",
            " [  3586.88255417   3521.6555413     903.80990779  87589.03084153]\n",
            " [  1881.15717989   1949.2504234     411.03453434  47231.2288501 ]\n",
            " [  1606.88977075   1652.47626349    325.12172481  39759.72919968]] 2\n",
            "[[  4102   4094   1050 108951]\n",
            " [  4116   4174   1061 108215]\n",
            " [  3204   3260    813  74590]\n",
            " [  3245   3213    793  74837]\n",
            " [  3586   3521    903  87589]\n",
            " [  1881   1949    411  47231]\n",
            " [  1606   1652    325  39759]] 3\n",
            "     사용자    세션  신규방문자    페이지뷰\n",
            "42  4102  4094   1050  108951\n",
            "43  4116  4174   1061  108215\n",
            "44  3204  3260    813   74590\n",
            "45  3245  3213    793   74837\n",
            "46  3586  3521    903   87589\n",
            "47  1881  1949    411   47231\n",
            "48  1606  1652    325   39759\n",
            "\n",
            " 49 \n",
            "\n",
            "tensor([[[0.4444, 0.4341, 0.3256, 0.3856],\n",
            "         [0.4665, 0.4616, 0.3623, 0.4164],\n",
            "         [0.4317, 0.4269, 0.3394, 0.3758],\n",
            "         [0.3676, 0.3631, 0.2883, 0.3084],\n",
            "         [0.3442, 0.3416, 0.2646, 0.2876],\n",
            "         [0.3017, 0.2985, 0.2115, 0.2473],\n",
            "         [0.3549, 0.3501, 0.2479, 0.2948]]], device='cuda:0',\n",
            "       grad_fn=<ViewBackward>) 아이후야 예측\n",
            "[[0.44438422 0.4340854  0.32563353 0.38564223]\n",
            " [0.4665327  0.46164936 0.36228567 0.41639644]\n",
            " [0.4316824  0.42692325 0.33935487 0.37578437]\n",
            " [0.36760932 0.36305812 0.28826728 0.30836883]\n",
            " [0.3441972  0.34157014 0.26464054 0.2876111 ]\n",
            " [0.30167213 0.2984664  0.2115153  0.247332  ]\n",
            " [0.35485494 0.35010836 0.2478705  0.29484066]] 1\n",
            "[[ 2408.22930491  2344.62706873   551.32065868 59943.52881497]\n",
            " [ 2528.20767498  2493.44488531   613.26278841 64723.74771482]\n",
            " [ 2339.42360336  2305.95860079   574.50973487 58411.2915661 ]\n",
            " [ 1992.33969766  1961.15078995   488.17171103 47932.69264451]\n",
            " [ 1865.51630634  1845.13718009   448.2425124  44706.25565514]\n",
            " [ 1635.15793267  1612.42017034   358.46086955 38445.5557963 ]\n",
            " [ 1923.24921739  1891.23501018   419.90115321 45829.96887645]] 2\n",
            "[[ 2408  2344   551 59943]\n",
            " [ 2528  2493   613 64723]\n",
            " [ 2339  2305   574 58411]\n",
            " [ 1992  1961   488 47932]\n",
            " [ 1865  1845   448 44706]\n",
            " [ 1635  1612   358 38445]\n",
            " [ 1923  1891   419 45829]] 3\n",
            "     사용자    세션  신규방문자   페이지뷰\n",
            "49  2408  2344    551  59943\n",
            "50  2528  2493    613  64723\n",
            "51  2339  2305    574  58411\n",
            "52  1992  1961    488  47932\n",
            "53  1865  1845    448  44706\n",
            "54  1635  1612    358  38445\n",
            "55  1923  1891    419  45829\n",
            "\n",
            " 56 \n",
            "\n",
            "tensor([[[0.5359, 0.5291, 0.3859, 0.4744],\n",
            "         [0.5143, 0.5071, 0.3786, 0.4348],\n",
            "         [0.4692, 0.4598, 0.3546, 0.3698],\n",
            "         [0.4058, 0.3994, 0.3141, 0.3112],\n",
            "         [0.3579, 0.3543, 0.2808, 0.2747],\n",
            "         [0.2818, 0.2811, 0.2054, 0.2125],\n",
            "         [0.2664, 0.2639, 0.1793, 0.2039]]], device='cuda:0',\n",
            "       grad_fn=<ViewBackward>) 아이후야 예측\n",
            "[[0.53587484 0.52912307 0.38593197 0.4743758 ]\n",
            " [0.51429206 0.5070558  0.37862968 0.43481365]\n",
            " [0.46924937 0.45975706 0.35459948 0.36983925]\n",
            " [0.40583733 0.3994325  0.3140991  0.3111722 ]\n",
            " [0.3579392  0.35429528 0.28075877 0.2746806 ]\n",
            " [0.28180283 0.28106466 0.20537472 0.21248014]\n",
            " [0.2664343  0.2639161  0.17929663 0.20385878]] 1\n",
            "[[ 2903.83402777  2857.73544335   653.22502708 73735.65592846]\n",
            " [ 2786.92009622  2738.59436697   640.88416672 67586.38982144]\n",
            " [ 2542.92382491  2483.22836593   600.2731142  57487.22430712]\n",
            " [ 2199.42080167  2157.53612223   531.82748443 48368.42659301]\n",
            " [ 1939.95671961  1913.84023592   475.48231846 42696.43194914]\n",
            " [ 1527.5259468   1518.46809587   348.08327293 33028.42602225]\n",
            " [ 1444.27466738  1425.88305107   304.01130071 31688.38142233]] 2\n",
            "[[ 2903  2857   653 73735]\n",
            " [ 2786  2738   640 67586]\n",
            " [ 2542  2483   600 57487]\n",
            " [ 2199  2157   531 48368]\n",
            " [ 1939  1913   475 42696]\n",
            " [ 1527  1518   348 33028]\n",
            " [ 1444  1425   304 31688]] 3\n",
            "이거 표시해봥\n",
            "5\n",
            "[[ 2542  2483   600 57487]\n",
            " [ 2199  2157   531 48368]\n",
            " [ 1939  1913   475 42696]\n",
            " [ 1527  1518   348 33028]\n",
            " [ 1444  1425   304 31688]]\n",
            "     사용자    세션  신규방문자   페이지뷰\n",
            "56  2542  2483    600  57487\n",
            "57  2199  2157    531  48368\n",
            "58  1939  1913    475  42696\n",
            "59  1527  1518    348  33028\n",
            "60  1444  1425    304  31688\n"
          ],
          "name": "stdout"
        }
      ]
    },
    {
      "cell_type": "code",
      "metadata": {
        "colab": {
          "base_uri": "https://localhost:8080/",
          "height": 1000
        },
        "id": "9yHLHZw4XW3h",
        "outputId": "2ae18282-8f7e-4383-ae81-493ceff08707"
      },
      "source": [
        "submission = pd.read_csv(\"/content/drive/MyDrive/Colab Notebooks/LSTM_pytorch(Dacon)/input/submission.csv\", encoding = 'euc-kr')\r\n",
        "\r\n",
        "#last_month = torch.tensor(window_x[-1,:,:][np.newaxis,...]).float().to(device) <- 수정 전\r\n",
        "last_month = train.iloc[-30:,1:].values[np.newaxis,...] # <- 수정 후\r\n",
        "last_month = torch.tensor(last_month).float().to(device) # <- 수정 후\r\n",
        "\r\n",
        "for start in range((len(submission) - output_window)//7 + 2):\r\n",
        "    start = start * 7\r\n",
        "    print(\"\\n\", start, \"\\n\")\r\n",
        "    \r\n",
        "    next_week = model(last_month)\r\n",
        "    print(next_week, \"아이후야 예측\")\r\n",
        "\r\n",
        "    print(last_month[:,7:,:], \"아이고 합치기\")\r\n",
        "\r\n",
        "    #last_month = torch.cat([last_month[-7:], next_week], axis = 1) <- 수정 전\r\n",
        "    last_month = torch.cat([last_month[:,7:,:], next_week], axis = 1)# <- 수정 후\r\n",
        "\r\n",
        "    pred_week = next_week.cpu().detach().numpy().reshape(output_window,4)\r\n",
        "\r\n",
        "    print(pred_week,\"1\")\r\n",
        "\r\n",
        "    pred_week = pred_week * size.values + mini.values\r\n",
        "    print(pred_week,\"2\")\r\n",
        "    pred_week = pred_week.astype(int)\r\n",
        "    print(pred_week,\"3\")\r\n",
        "\r\n",
        "    if start/7 == (len(submission) - output_window)//7 + 1:\r\n",
        "        submission.iloc[start :, 1:] = pred_week[-submission.iloc[start :, 1:].shape[0]:,:]\r\n",
        "        print(submission.iloc[start :, 1:].shape[0])\r\n",
        "    else:\r\n",
        "        submission.iloc[start : start + output_window, 1:] = pred_week\r\n",
        "        print(submission.iloc[start : start + output_window, 1:])\r\n",
        "submission"
      ],
      "execution_count": 12,
      "outputs": [
        {
          "output_type": "stream",
          "text": [
            "\n",
            " 0 \n",
            "\n",
            "tensor([[[0.6683, 0.6183, 0.4539, 0.6760],\n",
            "         [0.5782, 0.5813, 0.4124, 0.5517],\n",
            "         [0.5434, 0.5751, 0.3894, 0.5559],\n",
            "         [0.4766, 0.4837, 0.3378, 0.4487],\n",
            "         [0.4025, 0.4094, 0.2803, 0.4274],\n",
            "         [0.2718, 0.2938, 0.1734, 0.2876],\n",
            "         [0.4161, 0.4012, 0.3081, 0.3783]]], device='cuda:0',\n",
            "       grad_fn=<ViewBackward>) 아이후야 예측\n",
            "tensor([[[0.3005, 0.2969, 0.2751, 0.1814],\n",
            "         [0.3762, 0.3712, 0.3639, 0.2516],\n",
            "         [0.4886, 0.4849, 0.3923, 0.3579],\n",
            "         [0.5981, 0.6036, 0.6379, 0.5542],\n",
            "         [0.4883, 0.4845, 0.4178, 0.4242],\n",
            "         [0.5132, 0.5131, 0.4627, 0.4058],\n",
            "         [0.4320, 0.4223, 0.3320, 0.3416],\n",
            "         [0.3345, 0.3289, 0.2491, 0.2403],\n",
            "         [0.2994, 0.2969, 0.1882, 0.2504],\n",
            "         [0.5942, 0.5755, 0.4574, 0.5109],\n",
            "         [0.6149, 0.6040, 0.4828, 0.4987],\n",
            "         [0.6299, 0.6184, 0.4787, 0.5629],\n",
            "         [0.7297, 0.7307, 0.5450, 0.6938],\n",
            "         [0.5979, 0.5840, 0.4231, 0.5801],\n",
            "         [0.3701, 0.3745, 0.2639, 0.3301],\n",
            "         [0.3681, 0.3660, 0.2491, 0.3086],\n",
            "         [0.8782, 0.8735, 0.7172, 0.7747],\n",
            "         [1.0000, 0.9822, 0.9012, 0.9707],\n",
            "         [0.8335, 0.8281, 0.7071, 0.7249],\n",
            "         [0.7668, 0.7475, 0.6172, 0.6620],\n",
            "         [0.6760, 0.6622, 0.4876, 0.5662],\n",
            "         [0.4562, 0.4475, 0.3136, 0.3692],\n",
            "         [0.4598, 0.4480, 0.3083, 0.3248]]], device='cuda:0') 아이고 합치기\n",
            "[[0.668257   0.61834484 0.45393476 0.6759734 ]\n",
            " [0.5781533  0.5812849  0.41235527 0.55174387]\n",
            " [0.5434305  0.57512885 0.3894269  0.5559441 ]\n",
            " [0.47658136 0.4836576  0.33784217 0.4486769 ]\n",
            " [0.40254933 0.40943617 0.28027567 0.42739594]\n",
            " [0.27183497 0.29379612 0.17343846 0.287648  ]\n",
            " [0.41607302 0.40117383 0.30805418 0.37826458]] 1\n",
            "[[  3620.9481585    3339.44380945    768.14974254 105070.57587194]\n",
            " [  3132.85649222   3139.35707057    697.880413    85761.20417058]\n",
            " [  2944.76305741   3106.12067908    659.13143909  86414.05698264]\n",
            " [  2582.6412535    2612.26737428    571.95326126  69741.19877014]\n",
            " [  2181.60970122   2211.54586178    474.66588682  66433.43311512]\n",
            " [  1473.53002989   1587.20526308    294.11099678  44711.99039844]\n",
            " [  2254.86757249   2166.93750834    521.61156243  58796.79787198]] 2\n",
            "[[  3620   3339    768 105070]\n",
            " [  3132   3139    697  85761]\n",
            " [  2944   3106    659  86414]\n",
            " [  2582   2612    571  69741]\n",
            " [  2181   2211    474  66433]\n",
            " [  1473   1587    294  44711]\n",
            " [  2254   2166    521  58796]] 3\n",
            "    사용자    세션  신규방문자    페이지뷰\n",
            "0  3620  3339    768  105070\n",
            "1  3132  3139    697   85761\n",
            "2  2944  3106    659   86414\n",
            "3  2582  2612    571   69741\n",
            "4  2181  2211    474   66433\n",
            "5  1473  1587    294   44711\n",
            "6  2254  2166    521   58796\n",
            "\n",
            " 7 \n",
            "\n",
            "tensor([[[0.4701, 0.4577, 0.3951, 0.4157],\n",
            "         [0.5227, 0.5297, 0.4782, 0.4295],\n",
            "         [0.6754, 0.7129, 0.6644, 0.6203],\n",
            "         [0.6796, 0.6745, 0.5911, 0.5802],\n",
            "         [0.6197, 0.6143, 0.5489, 0.5087],\n",
            "         [0.4157, 0.3915, 0.3099, 0.3160],\n",
            "         [0.3714, 0.3355, 0.2173, 0.3067]]], device='cuda:0',\n",
            "       grad_fn=<ViewBackward>) 아이후야 예측\n",
            "tensor([[[0.3345, 0.3289, 0.2491, 0.2403],\n",
            "         [0.2994, 0.2969, 0.1882, 0.2504],\n",
            "         [0.5942, 0.5755, 0.4574, 0.5109],\n",
            "         [0.6149, 0.6040, 0.4828, 0.4987],\n",
            "         [0.6299, 0.6184, 0.4787, 0.5629],\n",
            "         [0.7297, 0.7307, 0.5450, 0.6938],\n",
            "         [0.5979, 0.5840, 0.4231, 0.5801],\n",
            "         [0.3701, 0.3745, 0.2639, 0.3301],\n",
            "         [0.3681, 0.3660, 0.2491, 0.3086],\n",
            "         [0.8782, 0.8735, 0.7172, 0.7747],\n",
            "         [1.0000, 0.9822, 0.9012, 0.9707],\n",
            "         [0.8335, 0.8281, 0.7071, 0.7249],\n",
            "         [0.7668, 0.7475, 0.6172, 0.6620],\n",
            "         [0.6760, 0.6622, 0.4876, 0.5662],\n",
            "         [0.4562, 0.4475, 0.3136, 0.3692],\n",
            "         [0.4598, 0.4480, 0.3083, 0.3248],\n",
            "         [0.6683, 0.6183, 0.4539, 0.6760],\n",
            "         [0.5782, 0.5813, 0.4124, 0.5517],\n",
            "         [0.5434, 0.5751, 0.3894, 0.5559],\n",
            "         [0.4766, 0.4837, 0.3378, 0.4487],\n",
            "         [0.4025, 0.4094, 0.2803, 0.4274],\n",
            "         [0.2718, 0.2938, 0.1734, 0.2876],\n",
            "         [0.4161, 0.4012, 0.3081, 0.3783]]], device='cuda:0',\n",
            "       grad_fn=<SliceBackward>) 아이고 합치기\n",
            "[[0.47012368 0.45769656 0.3950818  0.415708  ]\n",
            " [0.5226773  0.5297319  0.4782025  0.42952347]\n",
            " [0.6753597  0.71294904 0.6644386  0.62032276]\n",
            " [0.67955756 0.6744531  0.5910579  0.5802387 ]\n",
            " [0.619691   0.61430097 0.5488889  0.5087129 ]\n",
            " [0.41569242 0.39149886 0.30986837 0.31597292]\n",
            " [0.3714046  0.33551145 0.2173329  0.30674616]] 1\n",
            "[[ 2547.65996614  2472.10371149   668.68822223 64616.74240774]\n",
            " [ 2832.34294689  2861.0226863    809.16221148 66764.12120438]\n",
            " [ 3659.42363548  3850.21185374  1123.90124297 96420.62816435]\n",
            " [ 3682.16331267  3642.3721773    999.88784528 90190.24184358]\n",
            " [ 3357.86622441  3317.61091685   928.62227774 79072.77028382]\n",
            " [ 2252.80583271  2114.7023651    524.67753774 49114.61953223]\n",
            " [ 2012.8986544   1812.42629695   368.29260027 47680.47511378]] 2\n",
            "[[ 2547  2472   668 64616]\n",
            " [ 2832  2861   809 66764]\n",
            " [ 3659  3850  1123 96420]\n",
            " [ 3682  3642   999 90190]\n",
            " [ 3357  3317   928 79072]\n",
            " [ 2252  2114   524 49114]\n",
            " [ 2012  1812   368 47680]] 3\n",
            "     사용자    세션  신규방문자   페이지뷰\n",
            "7   2547  2472    668  64616\n",
            "8   2832  2861    809  66764\n",
            "9   3659  3850   1123  96420\n",
            "10  3682  3642    999  90190\n",
            "11  3357  3317    928  79072\n",
            "12  2252  2114    524  49114\n",
            "13  2012  1812    368  47680\n",
            "\n",
            " 14 \n",
            "\n",
            "tensor([[[0.5379, 0.5259, 0.4121, 0.5104],\n",
            "         [0.5203, 0.5185, 0.4249, 0.4788],\n",
            "         [0.4701, 0.4694, 0.3560, 0.4390],\n",
            "         [0.4160, 0.4043, 0.3062, 0.3782],\n",
            "         [0.3633, 0.3449, 0.2551, 0.3206],\n",
            "         [0.2880, 0.2863, 0.1854, 0.2431],\n",
            "         [0.3545, 0.3325, 0.2204, 0.3323]]], device='cuda:0',\n",
            "       grad_fn=<ViewBackward>) 아이후야 예측\n",
            "tensor([[[0.3701, 0.3745, 0.2639, 0.3301],\n",
            "         [0.3681, 0.3660, 0.2491, 0.3086],\n",
            "         [0.8782, 0.8735, 0.7172, 0.7747],\n",
            "         [1.0000, 0.9822, 0.9012, 0.9707],\n",
            "         [0.8335, 0.8281, 0.7071, 0.7249],\n",
            "         [0.7668, 0.7475, 0.6172, 0.6620],\n",
            "         [0.6760, 0.6622, 0.4876, 0.5662],\n",
            "         [0.4562, 0.4475, 0.3136, 0.3692],\n",
            "         [0.4598, 0.4480, 0.3083, 0.3248],\n",
            "         [0.6683, 0.6183, 0.4539, 0.6760],\n",
            "         [0.5782, 0.5813, 0.4124, 0.5517],\n",
            "         [0.5434, 0.5751, 0.3894, 0.5559],\n",
            "         [0.4766, 0.4837, 0.3378, 0.4487],\n",
            "         [0.4025, 0.4094, 0.2803, 0.4274],\n",
            "         [0.2718, 0.2938, 0.1734, 0.2876],\n",
            "         [0.4161, 0.4012, 0.3081, 0.3783],\n",
            "         [0.4701, 0.4577, 0.3951, 0.4157],\n",
            "         [0.5227, 0.5297, 0.4782, 0.4295],\n",
            "         [0.6754, 0.7129, 0.6644, 0.6203],\n",
            "         [0.6796, 0.6745, 0.5911, 0.5802],\n",
            "         [0.6197, 0.6143, 0.5489, 0.5087],\n",
            "         [0.4157, 0.3915, 0.3099, 0.3160],\n",
            "         [0.3714, 0.3355, 0.2173, 0.3067]]], device='cuda:0',\n",
            "       grad_fn=<SliceBackward>) 아이고 합치기\n",
            "[[0.53793484 0.5258989  0.41212392 0.5103752 ]\n",
            " [0.52032524 0.5185287  0.42490104 0.4787591 ]\n",
            " [0.470096   0.46944326 0.35601324 0.43902186]\n",
            " [0.41600004 0.40428013 0.30620146 0.37819815]\n",
            " [0.36326578 0.34492576 0.25506005 0.32055438]\n",
            " [0.2880246  0.28631538 0.18543833 0.24305458]\n",
            " [0.3545178  0.33254683 0.22036678 0.3323193 ]] 1\n",
            "[[ 2914.99302679  2840.32801968   697.48942232 79331.14872617]\n",
            " [ 2819.60184389  2800.53645062   719.08275491 74416.96474057]\n",
            " [ 2547.50998914  2535.5241695    602.66237295 68240.48408034]\n",
            " [ 2254.47220793  2183.70840079   518.48046398 58786.47255468]\n",
            " [ 1968.81074432  1863.25418484   432.05147928 49826.72827017]\n",
            " [ 1561.2292816   1546.81674486   314.39078605 37780.70310338]\n",
            " [ 1921.42285594  1796.42033613   373.41985142 51655.38411644]] 2\n",
            "[[ 2914  2840   697 79331]\n",
            " [ 2819  2800   719 74416]\n",
            " [ 2547  2535   602 68240]\n",
            " [ 2254  2183   518 58786]\n",
            " [ 1968  1863   432 49826]\n",
            " [ 1561  1546   314 37780]\n",
            " [ 1921  1796   373 51655]] 3\n",
            "     사용자    세션  신규방문자   페이지뷰\n",
            "14  2914  2840    697  79331\n",
            "15  2819  2800    719  74416\n",
            "16  2547  2535    602  68240\n",
            "17  2254  2183    518  58786\n",
            "18  1968  1863    432  49826\n",
            "19  1561  1546    314  37780\n",
            "20  1921  1796    373  51655\n",
            "\n",
            " 21 \n",
            "\n",
            "tensor([[[0.3629, 0.3560, 0.2525, 0.3098],\n",
            "         [0.4815, 0.4674, 0.3563, 0.4064],\n",
            "         [0.6237, 0.6388, 0.5370, 0.5810],\n",
            "         [0.5828, 0.5698, 0.4367, 0.5052],\n",
            "         [0.5344, 0.5408, 0.4236, 0.4604],\n",
            "         [0.3866, 0.3899, 0.2836, 0.3265],\n",
            "         [0.3174, 0.3110, 0.1845, 0.2748]]], device='cuda:0',\n",
            "       grad_fn=<ViewBackward>) 아이후야 예측\n",
            "tensor([[[0.4562, 0.4475, 0.3136, 0.3692],\n",
            "         [0.4598, 0.4480, 0.3083, 0.3248],\n",
            "         [0.6683, 0.6183, 0.4539, 0.6760],\n",
            "         [0.5782, 0.5813, 0.4124, 0.5517],\n",
            "         [0.5434, 0.5751, 0.3894, 0.5559],\n",
            "         [0.4766, 0.4837, 0.3378, 0.4487],\n",
            "         [0.4025, 0.4094, 0.2803, 0.4274],\n",
            "         [0.2718, 0.2938, 0.1734, 0.2876],\n",
            "         [0.4161, 0.4012, 0.3081, 0.3783],\n",
            "         [0.4701, 0.4577, 0.3951, 0.4157],\n",
            "         [0.5227, 0.5297, 0.4782, 0.4295],\n",
            "         [0.6754, 0.7129, 0.6644, 0.6203],\n",
            "         [0.6796, 0.6745, 0.5911, 0.5802],\n",
            "         [0.6197, 0.6143, 0.5489, 0.5087],\n",
            "         [0.4157, 0.3915, 0.3099, 0.3160],\n",
            "         [0.3714, 0.3355, 0.2173, 0.3067],\n",
            "         [0.5379, 0.5259, 0.4121, 0.5104],\n",
            "         [0.5203, 0.5185, 0.4249, 0.4788],\n",
            "         [0.4701, 0.4694, 0.3560, 0.4390],\n",
            "         [0.4160, 0.4043, 0.3062, 0.3782],\n",
            "         [0.3633, 0.3449, 0.2551, 0.3206],\n",
            "         [0.2880, 0.2863, 0.1854, 0.2431],\n",
            "         [0.3545, 0.3325, 0.2204, 0.3323]]], device='cuda:0',\n",
            "       grad_fn=<SliceBackward>) 아이고 합치기\n",
            "[[0.36292353 0.35597444 0.25245434 0.30977988]\n",
            " [0.48146424 0.467404   0.35627404 0.40642726]\n",
            " [0.62374514 0.6387711  0.5370264  0.5810152 ]\n",
            " [0.5827734  0.56975365 0.43670705 0.5051665 ]\n",
            " [0.5343711  0.5408468  0.42359284 0.46042106]\n",
            " [0.3866081  0.3898815  0.28360245 0.32645255]\n",
            " [0.317443   0.31096327 0.18447289 0.2747938 ]] 1\n",
            "[[ 1966.95677677  1922.90597892   427.64783537 48152.0164659 ]\n",
            " [ 2609.09177169  2524.51423872   603.10312515 63174.20895851]\n",
            " [ 3379.82744187  3449.72525924   908.57462502 90310.94012415]\n",
            " [ 3157.88343972  3077.09993935   739.03491384 78521.54008764]\n",
            " [ 2895.6881296   2921.03200626   716.87189227 71566.62592813]\n",
            " [ 2095.25604507  2105.97017348   480.28813428 50743.49971277]\n",
            " [ 1720.58880246  1679.89071119   312.75918192 42714.02528924]] 2\n",
            "[[ 1966  1922   427 48152]\n",
            " [ 2609  2524   603 63174]\n",
            " [ 3379  3449   908 90310]\n",
            " [ 3157  3077   739 78521]\n",
            " [ 2895  2921   716 71566]\n",
            " [ 2095  2105   480 50743]\n",
            " [ 1720  1679   312 42714]] 3\n",
            "     사용자    세션  신규방문자   페이지뷰\n",
            "21  1966  1922    427  48152\n",
            "22  2609  2524    603  63174\n",
            "23  3379  3449    908  90310\n",
            "24  3157  3077    739  78521\n",
            "25  2895  2921    716  71566\n",
            "26  2095  2105    480  50743\n",
            "27  1720  1679    312  42714\n",
            "\n",
            " 28 \n",
            "\n",
            "tensor([[[0.5138, 0.5304, 0.4307, 0.4225],\n",
            "         [0.5170, 0.5097, 0.3864, 0.4328],\n",
            "         [0.4785, 0.4906, 0.3593, 0.4299],\n",
            "         [0.3770, 0.3799, 0.2629, 0.3231],\n",
            "         [0.3785, 0.3879, 0.3026, 0.3087],\n",
            "         [0.3590, 0.3540, 0.2838, 0.2790],\n",
            "         [0.3425, 0.3194, 0.2298, 0.3007]]], device='cuda:0',\n",
            "       grad_fn=<ViewBackward>) 아이후야 예측\n",
            "tensor([[[0.2718, 0.2938, 0.1734, 0.2876],\n",
            "         [0.4161, 0.4012, 0.3081, 0.3783],\n",
            "         [0.4701, 0.4577, 0.3951, 0.4157],\n",
            "         [0.5227, 0.5297, 0.4782, 0.4295],\n",
            "         [0.6754, 0.7129, 0.6644, 0.6203],\n",
            "         [0.6796, 0.6745, 0.5911, 0.5802],\n",
            "         [0.6197, 0.6143, 0.5489, 0.5087],\n",
            "         [0.4157, 0.3915, 0.3099, 0.3160],\n",
            "         [0.3714, 0.3355, 0.2173, 0.3067],\n",
            "         [0.5379, 0.5259, 0.4121, 0.5104],\n",
            "         [0.5203, 0.5185, 0.4249, 0.4788],\n",
            "         [0.4701, 0.4694, 0.3560, 0.4390],\n",
            "         [0.4160, 0.4043, 0.3062, 0.3782],\n",
            "         [0.3633, 0.3449, 0.2551, 0.3206],\n",
            "         [0.2880, 0.2863, 0.1854, 0.2431],\n",
            "         [0.3545, 0.3325, 0.2204, 0.3323],\n",
            "         [0.3629, 0.3560, 0.2525, 0.3098],\n",
            "         [0.4815, 0.4674, 0.3563, 0.4064],\n",
            "         [0.6237, 0.6388, 0.5370, 0.5810],\n",
            "         [0.5828, 0.5698, 0.4367, 0.5052],\n",
            "         [0.5344, 0.5408, 0.4236, 0.4604],\n",
            "         [0.3866, 0.3899, 0.2836, 0.3265],\n",
            "         [0.3174, 0.3110, 0.1845, 0.2748]]], device='cuda:0',\n",
            "       grad_fn=<SliceBackward>) 아이고 합치기\n",
            "[[0.51381826 0.53042287 0.43070397 0.42251652]\n",
            " [0.51698124 0.5096666  0.386412   0.43277156]\n",
            " [0.47848904 0.49064887 0.35933283 0.42989144]\n",
            " [0.37699103 0.37988877 0.26288226 0.3231262 ]\n",
            " [0.37851903 0.3878823  0.30256486 0.3086609 ]\n",
            " [0.35901895 0.3540141  0.2838219  0.2790408 ]\n",
            " [0.3425112  0.3193801  0.22980016 0.30070454]] 1\n",
            "[[ 2784.35353613  2864.75305539   728.8897056  65675.01099795]\n",
            " [ 2801.48739922  2752.69009048   654.03627104 67268.98243415]\n",
            " [ 2592.97513688  2650.01322591   608.27248222 66821.31577262]\n",
            " [ 2043.16042876  2052.01948524   445.27102357 50226.47415674]\n",
            " [ 2051.43757698  2095.17649597   512.33461237 47978.08883539]\n",
            " [ 1945.80566111  1912.32211858   480.65902895 43374.15075636]\n",
            " [ 1856.38320759  1725.33318442   389.36227834 46741.40858275]] 2\n",
            "[[ 2784  2864   728 65675]\n",
            " [ 2801  2752   654 67268]\n",
            " [ 2592  2650   608 66821]\n",
            " [ 2043  2052   445 50226]\n",
            " [ 2051  2095   512 47978]\n",
            " [ 1945  1912   480 43374]\n",
            " [ 1856  1725   389 46741]] 3\n",
            "     사용자    세션  신규방문자   페이지뷰\n",
            "28  2784  2864    728  65675\n",
            "29  2801  2752    654  67268\n",
            "30  2592  2650    608  66821\n",
            "31  2043  2052    445  50226\n",
            "32  2051  2095    512  47978\n",
            "33  1945  1912    480  43374\n",
            "34  1856  1725    389  46741\n",
            "\n",
            " 35 \n",
            "\n",
            "tensor([[[0.3124, 0.3088, 0.2027, 0.2657],\n",
            "         [0.4768, 0.4623, 0.3543, 0.4109],\n",
            "         [0.6109, 0.6129, 0.5121, 0.5835],\n",
            "         [0.5752, 0.5434, 0.4070, 0.5188],\n",
            "         [0.5182, 0.5112, 0.3809, 0.4449],\n",
            "         [0.3759, 0.3687, 0.2602, 0.3169],\n",
            "         [0.2812, 0.2726, 0.1556, 0.2378]]], device='cuda:0',\n",
            "       grad_fn=<ViewBackward>) 아이후야 예측\n",
            "tensor([[[0.4157, 0.3915, 0.3099, 0.3160],\n",
            "         [0.3714, 0.3355, 0.2173, 0.3067],\n",
            "         [0.5379, 0.5259, 0.4121, 0.5104],\n",
            "         [0.5203, 0.5185, 0.4249, 0.4788],\n",
            "         [0.4701, 0.4694, 0.3560, 0.4390],\n",
            "         [0.4160, 0.4043, 0.3062, 0.3782],\n",
            "         [0.3633, 0.3449, 0.2551, 0.3206],\n",
            "         [0.2880, 0.2863, 0.1854, 0.2431],\n",
            "         [0.3545, 0.3325, 0.2204, 0.3323],\n",
            "         [0.3629, 0.3560, 0.2525, 0.3098],\n",
            "         [0.4815, 0.4674, 0.3563, 0.4064],\n",
            "         [0.6237, 0.6388, 0.5370, 0.5810],\n",
            "         [0.5828, 0.5698, 0.4367, 0.5052],\n",
            "         [0.5344, 0.5408, 0.4236, 0.4604],\n",
            "         [0.3866, 0.3899, 0.2836, 0.3265],\n",
            "         [0.3174, 0.3110, 0.1845, 0.2748],\n",
            "         [0.5138, 0.5304, 0.4307, 0.4225],\n",
            "         [0.5170, 0.5097, 0.3864, 0.4328],\n",
            "         [0.4785, 0.4906, 0.3593, 0.4299],\n",
            "         [0.3770, 0.3799, 0.2629, 0.3231],\n",
            "         [0.3785, 0.3879, 0.3026, 0.3087],\n",
            "         [0.3590, 0.3540, 0.2838, 0.2790],\n",
            "         [0.3425, 0.3194, 0.2298, 0.3007]]], device='cuda:0',\n",
            "       grad_fn=<SliceBackward>) 아이고 합치기\n",
            "[[0.31242406 0.30878755 0.20271882 0.26572388]\n",
            " [0.47676152 0.46229398 0.35426852 0.4108728 ]\n",
            " [0.6109027  0.61290467 0.51207817 0.5834545 ]\n",
            " [0.5751881  0.54343474 0.40700462 0.51882106]\n",
            " [0.5181614  0.5111511  0.38090986 0.44490352]\n",
            " [0.37594944 0.36874515 0.26024473 0.31685165]\n",
            " [0.2811698  0.2725954  0.1556318  0.23783365]] 1\n",
            "[[ 1693.40115297  1668.14400676   343.59481281 41304.2604782 ]\n",
            " [ 2583.61715335  2496.92521155   599.71380061 63865.18993863]\n",
            " [ 3310.26007026  3310.07230175   866.41210055 90690.08169878]\n",
            " [ 3116.79393953  2935.00415647   688.83781558 80643.91392118]\n",
            " [ 2807.88039076  2760.70465589   644.73766363 69154.68924847]\n",
            " [ 2037.51812941  1991.85505503   440.81358886 49251.20184734]\n",
            " [ 1524.09681717  1472.74259472   264.01773444 36969.19755259]] 2\n",
            "[[ 1693  1668   343 41304]\n",
            " [ 2583  2496   599 63865]\n",
            " [ 3310  3310   866 90690]\n",
            " [ 3116  2935   688 80643]\n",
            " [ 2807  2760   644 69154]\n",
            " [ 2037  1991   440 49251]\n",
            " [ 1524  1472   264 36969]] 3\n",
            "     사용자    세션  신규방문자   페이지뷰\n",
            "35  1693  1668    343  41304\n",
            "36  2583  2496    599  63865\n",
            "37  3310  3310    866  90690\n",
            "38  3116  2935    688  80643\n",
            "39  2807  2760    644  69154\n",
            "40  2037  1991    440  49251\n",
            "41  1524  1472    264  36969\n",
            "\n",
            " 42 \n",
            "\n",
            "tensor([[[0.2829, 0.2895, 0.1819, 0.2615],\n",
            "         [0.4391, 0.4365, 0.2975, 0.4174],\n",
            "         [0.5360, 0.5390, 0.4171, 0.5568],\n",
            "         [0.4386, 0.4275, 0.2897, 0.4652],\n",
            "         [0.4751, 0.4769, 0.3609, 0.4535],\n",
            "         [0.4813, 0.4653, 0.3673, 0.4695],\n",
            "         [0.3483, 0.3310, 0.2091, 0.3344]]], device='cuda:0',\n",
            "       grad_fn=<ViewBackward>) 아이후야 예측\n",
            "tensor([[[0.2880, 0.2863, 0.1854, 0.2431],\n",
            "         [0.3545, 0.3325, 0.2204, 0.3323],\n",
            "         [0.3629, 0.3560, 0.2525, 0.3098],\n",
            "         [0.4815, 0.4674, 0.3563, 0.4064],\n",
            "         [0.6237, 0.6388, 0.5370, 0.5810],\n",
            "         [0.5828, 0.5698, 0.4367, 0.5052],\n",
            "         [0.5344, 0.5408, 0.4236, 0.4604],\n",
            "         [0.3866, 0.3899, 0.2836, 0.3265],\n",
            "         [0.3174, 0.3110, 0.1845, 0.2748],\n",
            "         [0.5138, 0.5304, 0.4307, 0.4225],\n",
            "         [0.5170, 0.5097, 0.3864, 0.4328],\n",
            "         [0.4785, 0.4906, 0.3593, 0.4299],\n",
            "         [0.3770, 0.3799, 0.2629, 0.3231],\n",
            "         [0.3785, 0.3879, 0.3026, 0.3087],\n",
            "         [0.3590, 0.3540, 0.2838, 0.2790],\n",
            "         [0.3425, 0.3194, 0.2298, 0.3007],\n",
            "         [0.3124, 0.3088, 0.2027, 0.2657],\n",
            "         [0.4768, 0.4623, 0.3543, 0.4109],\n",
            "         [0.6109, 0.6129, 0.5121, 0.5835],\n",
            "         [0.5752, 0.5434, 0.4070, 0.5188],\n",
            "         [0.5182, 0.5112, 0.3809, 0.4449],\n",
            "         [0.3759, 0.3687, 0.2602, 0.3169],\n",
            "         [0.2812, 0.2726, 0.1556, 0.2378]]], device='cuda:0',\n",
            "       grad_fn=<SliceBackward>) 아이고 합치기\n",
            "[[0.28288084 0.28945565 0.18187663 0.2615064 ]\n",
            " [0.43905663 0.43652058 0.29745388 0.41740736]\n",
            " [0.5360303  0.53899175 0.41705894 0.5567667 ]\n",
            " [0.43863252 0.42749935 0.2896845  0.46524194]\n",
            " [0.47512755 0.4769253  0.36090887 0.45353013]\n",
            " [0.48127118 0.465329   0.3672533  0.46946386]\n",
            " [0.3482733  0.33101714 0.2091029  0.33444694]] 1\n",
            "[[ 1533.36552483  1563.77106643   308.37150401 40648.72558507]\n",
            " [ 2379.36979127  2357.7745924    503.69705772 64880.87875471]\n",
            " [ 2904.67609453  2911.0164544    705.82961655 86541.91674393]\n",
            " [ 2377.07235029  2309.06901163   490.56681222 72315.95027807]\n",
            " [ 2574.7659274   2575.91976744   610.93598342 70495.54912692]\n",
            " [ 2608.04596868  2513.31122464   621.65808296 72972.17537859]\n",
            " [ 1887.59650448  1788.16152036   354.38389903 51986.09073475]] 2\n",
            "[[ 1533  1563   308 40648]\n",
            " [ 2379  2357   503 64880]\n",
            " [ 2904  2911   705 86541]\n",
            " [ 2377  2309   490 72315]\n",
            " [ 2574  2575   610 70495]\n",
            " [ 2608  2513   621 72972]\n",
            " [ 1887  1788   354 51986]] 3\n",
            "     사용자    세션  신규방문자   페이지뷰\n",
            "42  1533  1563    308  40648\n",
            "43  2379  2357    503  64880\n",
            "44  2904  2911    705  86541\n",
            "45  2377  2309    490  72315\n",
            "46  2574  2575    610  70495\n",
            "47  2608  2513    621  72972\n",
            "48  1887  1788    354  51986\n",
            "\n",
            " 49 \n",
            "\n",
            "tensor([[[0.3397, 0.3349, 0.2082, 0.3465],\n",
            "         [0.7766, 0.7824, 0.6739, 0.7838],\n",
            "         [0.7070, 0.7238, 0.6372, 0.7193],\n",
            "         [0.6453, 0.6261, 0.5294, 0.6710],\n",
            "         [0.7825, 0.7821, 0.6676, 0.7305],\n",
            "         [0.6937, 0.6613, 0.5242, 0.6907],\n",
            "         [0.4227, 0.3949, 0.2833, 0.3574]]], device='cuda:0',\n",
            "       grad_fn=<ViewBackward>) 아이후야 예측\n",
            "tensor([[[0.3866, 0.3899, 0.2836, 0.3265],\n",
            "         [0.3174, 0.3110, 0.1845, 0.2748],\n",
            "         [0.5138, 0.5304, 0.4307, 0.4225],\n",
            "         [0.5170, 0.5097, 0.3864, 0.4328],\n",
            "         [0.4785, 0.4906, 0.3593, 0.4299],\n",
            "         [0.3770, 0.3799, 0.2629, 0.3231],\n",
            "         [0.3785, 0.3879, 0.3026, 0.3087],\n",
            "         [0.3590, 0.3540, 0.2838, 0.2790],\n",
            "         [0.3425, 0.3194, 0.2298, 0.3007],\n",
            "         [0.3124, 0.3088, 0.2027, 0.2657],\n",
            "         [0.4768, 0.4623, 0.3543, 0.4109],\n",
            "         [0.6109, 0.6129, 0.5121, 0.5835],\n",
            "         [0.5752, 0.5434, 0.4070, 0.5188],\n",
            "         [0.5182, 0.5112, 0.3809, 0.4449],\n",
            "         [0.3759, 0.3687, 0.2602, 0.3169],\n",
            "         [0.2812, 0.2726, 0.1556, 0.2378],\n",
            "         [0.2829, 0.2895, 0.1819, 0.2615],\n",
            "         [0.4391, 0.4365, 0.2975, 0.4174],\n",
            "         [0.5360, 0.5390, 0.4171, 0.5568],\n",
            "         [0.4386, 0.4275, 0.2897, 0.4652],\n",
            "         [0.4751, 0.4769, 0.3609, 0.4535],\n",
            "         [0.4813, 0.4653, 0.3673, 0.4695],\n",
            "         [0.3483, 0.3310, 0.2091, 0.3344]]], device='cuda:0',\n",
            "       grad_fn=<SliceBackward>) 아이고 합치기\n",
            "[[0.33972675 0.33494967 0.20820165 0.34648848]\n",
            " [0.7766026  0.78242487 0.67388237 0.78379977]\n",
            " [0.70703846 0.723772   0.6372075  0.7193165 ]\n",
            " [0.64531165 0.6260616  0.52940476 0.6709632 ]\n",
            " [0.78251374 0.78214186 0.6675936  0.7304819 ]\n",
            " [0.6936769  0.66132027 0.5241616  0.69065887]\n",
            " [0.42270777 0.39493346 0.28327814 0.35743663]] 1\n",
            "[[  1841.29978353   1809.39328033    352.8607831   53857.74325895]\n",
            " [  4207.85642421   4225.31185776   1139.86119723 121830.34926093]\n",
            " [  3831.02734953   3908.64497048   1077.88068867 111807.51883125]\n",
            " [  3496.65322763   3381.10667735    895.6940434  104291.82737869]\n",
            " [  4239.876917     4223.78392535   1129.23318124 113542.9966796 ]\n",
            " [  3758.6477074    3571.46813291    886.83306551 107353.17973024]\n",
            " [  2290.80797002   2133.24576211    479.74005228  55559.44726774]] 2\n",
            "[[  1841   1809    352  53857]\n",
            " [  4207   4225   1139 121830]\n",
            " [  3831   3908   1077 111807]\n",
            " [  3496   3381    895 104291]\n",
            " [  4239   4223   1129 113542]\n",
            " [  3758   3571    886 107353]\n",
            " [  2290   2133    479  55559]] 3\n",
            "     사용자    세션  신규방문자    페이지뷰\n",
            "49  1841  1809    352   53857\n",
            "50  4207  4225   1139  121830\n",
            "51  3831  3908   1077  111807\n",
            "52  3496  3381    895  104291\n",
            "53  4239  4223   1129  113542\n",
            "54  3758  3571    886  107353\n",
            "55  2290  2133    479   55559\n",
            "\n",
            " 56 \n",
            "\n",
            "tensor([[[0.4010, 0.3762, 0.2460, 0.3986],\n",
            "         [0.5870, 0.5551, 0.3420, 0.6536],\n",
            "         [0.5163, 0.5060, 0.3000, 0.5510],\n",
            "         [0.4856, 0.4763, 0.2766, 0.5275],\n",
            "         [0.4750, 0.4859, 0.3074, 0.5037],\n",
            "         [0.4664, 0.4657, 0.3287, 0.5306],\n",
            "         [0.3666, 0.3509, 0.2145, 0.3853]]], device='cuda:0',\n",
            "       grad_fn=<ViewBackward>) 아이후야 예측\n",
            "tensor([[[0.3590, 0.3540, 0.2838, 0.2790],\n",
            "         [0.3425, 0.3194, 0.2298, 0.3007],\n",
            "         [0.3124, 0.3088, 0.2027, 0.2657],\n",
            "         [0.4768, 0.4623, 0.3543, 0.4109],\n",
            "         [0.6109, 0.6129, 0.5121, 0.5835],\n",
            "         [0.5752, 0.5434, 0.4070, 0.5188],\n",
            "         [0.5182, 0.5112, 0.3809, 0.4449],\n",
            "         [0.3759, 0.3687, 0.2602, 0.3169],\n",
            "         [0.2812, 0.2726, 0.1556, 0.2378],\n",
            "         [0.2829, 0.2895, 0.1819, 0.2615],\n",
            "         [0.4391, 0.4365, 0.2975, 0.4174],\n",
            "         [0.5360, 0.5390, 0.4171, 0.5568],\n",
            "         [0.4386, 0.4275, 0.2897, 0.4652],\n",
            "         [0.4751, 0.4769, 0.3609, 0.4535],\n",
            "         [0.4813, 0.4653, 0.3673, 0.4695],\n",
            "         [0.3483, 0.3310, 0.2091, 0.3344],\n",
            "         [0.3397, 0.3349, 0.2082, 0.3465],\n",
            "         [0.7766, 0.7824, 0.6739, 0.7838],\n",
            "         [0.7070, 0.7238, 0.6372, 0.7193],\n",
            "         [0.6453, 0.6261, 0.5294, 0.6710],\n",
            "         [0.7825, 0.7821, 0.6676, 0.7305],\n",
            "         [0.6937, 0.6613, 0.5242, 0.6907],\n",
            "         [0.4227, 0.3949, 0.2833, 0.3574]]], device='cuda:0',\n",
            "       grad_fn=<SliceBackward>) 아이고 합치기\n",
            "[[0.40096307 0.3762378  0.24598956 0.39860672]\n",
            " [0.5869641  0.5550639  0.34201878 0.6535894 ]\n",
            " [0.5163057  0.5060378  0.29998186 0.5510194 ]\n",
            " [0.48564154 0.47629756 0.27664945 0.527508  ]\n",
            " [0.4749763  0.48586875 0.30741027 0.5037379 ]\n",
            " [0.46635932 0.4656977  0.32869148 0.5305659 ]\n",
            " [0.3666439  0.3508904  0.21452129 0.3852602 ]] 1\n",
            "[[  2173.0169394    2032.30793434    416.72235823  61958.63793463]\n",
            " [  3180.58437151   2997.79001409    579.01174343 101591.36548012]\n",
            " [  2797.82789588   2733.09792942    507.9693473   85648.59382361]\n",
            " [  2631.72021729   2572.53051215    468.53756255  81994.15413499]\n",
            " [  2573.94662356   2624.20539206    520.52335626  78299.49712706]\n",
            " [  2527.26842183   2515.30191332    556.4886055   82469.45225352]\n",
            " [  1987.11003685   1895.45725894    363.54097819  59884.14781794]] 2\n",
            "[[  2173   2032    416  61958]\n",
            " [  3180   2997    579 101591]\n",
            " [  2797   2733    507  85648]\n",
            " [  2631   2572    468  81994]\n",
            " [  2573   2624    520  78299]\n",
            " [  2527   2515    556  82469]\n",
            " [  1987   1895    363  59884]] 3\n",
            "5\n"
          ],
          "name": "stdout"
        },
        {
          "output_type": "execute_result",
          "data": {
            "text/html": [
              "<div>\n",
              "<style scoped>\n",
              "    .dataframe tbody tr th:only-of-type {\n",
              "        vertical-align: middle;\n",
              "    }\n",
              "\n",
              "    .dataframe tbody tr th {\n",
              "        vertical-align: top;\n",
              "    }\n",
              "\n",
              "    .dataframe thead th {\n",
              "        text-align: right;\n",
              "    }\n",
              "</style>\n",
              "<table border=\"1\" class=\"dataframe\">\n",
              "  <thead>\n",
              "    <tr style=\"text-align: right;\">\n",
              "      <th></th>\n",
              "      <th>DateTime</th>\n",
              "      <th>사용자</th>\n",
              "      <th>세션</th>\n",
              "      <th>신규방문자</th>\n",
              "      <th>페이지뷰</th>\n",
              "    </tr>\n",
              "  </thead>\n",
              "  <tbody>\n",
              "    <tr>\n",
              "      <th>0</th>\n",
              "      <td>2020-11-09</td>\n",
              "      <td>3620</td>\n",
              "      <td>3339</td>\n",
              "      <td>768</td>\n",
              "      <td>105070</td>\n",
              "    </tr>\n",
              "    <tr>\n",
              "      <th>1</th>\n",
              "      <td>2020-11-10</td>\n",
              "      <td>3132</td>\n",
              "      <td>3139</td>\n",
              "      <td>697</td>\n",
              "      <td>85761</td>\n",
              "    </tr>\n",
              "    <tr>\n",
              "      <th>2</th>\n",
              "      <td>2020-11-11</td>\n",
              "      <td>2944</td>\n",
              "      <td>3106</td>\n",
              "      <td>659</td>\n",
              "      <td>86414</td>\n",
              "    </tr>\n",
              "    <tr>\n",
              "      <th>3</th>\n",
              "      <td>2020-11-12</td>\n",
              "      <td>2582</td>\n",
              "      <td>2612</td>\n",
              "      <td>571</td>\n",
              "      <td>69741</td>\n",
              "    </tr>\n",
              "    <tr>\n",
              "      <th>4</th>\n",
              "      <td>2020-11-13</td>\n",
              "      <td>2181</td>\n",
              "      <td>2211</td>\n",
              "      <td>474</td>\n",
              "      <td>66433</td>\n",
              "    </tr>\n",
              "    <tr>\n",
              "      <th>...</th>\n",
              "      <td>...</td>\n",
              "      <td>...</td>\n",
              "      <td>...</td>\n",
              "      <td>...</td>\n",
              "      <td>...</td>\n",
              "    </tr>\n",
              "    <tr>\n",
              "      <th>56</th>\n",
              "      <td>2021-01-04</td>\n",
              "      <td>2797</td>\n",
              "      <td>2733</td>\n",
              "      <td>507</td>\n",
              "      <td>85648</td>\n",
              "    </tr>\n",
              "    <tr>\n",
              "      <th>57</th>\n",
              "      <td>2021-01-05</td>\n",
              "      <td>2631</td>\n",
              "      <td>2572</td>\n",
              "      <td>468</td>\n",
              "      <td>81994</td>\n",
              "    </tr>\n",
              "    <tr>\n",
              "      <th>58</th>\n",
              "      <td>2021-01-06</td>\n",
              "      <td>2573</td>\n",
              "      <td>2624</td>\n",
              "      <td>520</td>\n",
              "      <td>78299</td>\n",
              "    </tr>\n",
              "    <tr>\n",
              "      <th>59</th>\n",
              "      <td>2021-01-07</td>\n",
              "      <td>2527</td>\n",
              "      <td>2515</td>\n",
              "      <td>556</td>\n",
              "      <td>82469</td>\n",
              "    </tr>\n",
              "    <tr>\n",
              "      <th>60</th>\n",
              "      <td>2021-01-08</td>\n",
              "      <td>1987</td>\n",
              "      <td>1895</td>\n",
              "      <td>363</td>\n",
              "      <td>59884</td>\n",
              "    </tr>\n",
              "  </tbody>\n",
              "</table>\n",
              "<p>61 rows × 5 columns</p>\n",
              "</div>"
            ],
            "text/plain": [
              "      DateTime   사용자    세션  신규방문자    페이지뷰\n",
              "0   2020-11-09  3620  3339    768  105070\n",
              "1   2020-11-10  3132  3139    697   85761\n",
              "2   2020-11-11  2944  3106    659   86414\n",
              "3   2020-11-12  2582  2612    571   69741\n",
              "4   2020-11-13  2181  2211    474   66433\n",
              "..         ...   ...   ...    ...     ...\n",
              "56  2021-01-04  2797  2733    507   85648\n",
              "57  2021-01-05  2631  2572    468   81994\n",
              "58  2021-01-06  2573  2624    520   78299\n",
              "59  2021-01-07  2527  2515    556   82469\n",
              "60  2021-01-08  1987  1895    363   59884\n",
              "\n",
              "[61 rows x 5 columns]"
            ]
          },
          "metadata": {
            "tags": []
          },
          "execution_count": 12
        }
      ]
    },
    {
      "cell_type": "code",
      "metadata": {
        "colab": {
          "base_uri": "https://localhost:8080/",
          "height": 419
        },
        "id": "JrhkElOLt9vs",
        "outputId": "2bd0a9a5-1329-481e-d313-d0e391ffc486"
      },
      "source": [
        "# 예측 및 제출파일 생성\r\n",
        "# submission = pd.read_csv(\"/content/drive/MyDrive/Colab Notebooks/LSTM_pytorch(Dacon)/input/submission.csv\", encoding = 'euc-kr')\r\n",
        "# last_month = torch.tensor(window_x[-1,:,:][np.newaxis,...]).float().to(device)\r\n",
        "for start in range((len(submission) - output_window)//7 + 2):\r\n",
        "    start = start * 7\r\n",
        "    next_week = model(last_month)\r\n",
        "    last_month = torch.cat([last_month[-7:], next_week], axis = 1)\r\n",
        "    \r\n",
        "    pred_week = next_week.cpu().detach().numpy().reshape(output_window,4)\r\n",
        "    pred_week = pred_week * size.values + mini.values\r\n",
        "    pred_week = pred_week.astype(int)\r\n",
        "    \r\n",
        "    if start/7 == (len(submission) - output_window)//7 + 1:\r\n",
        "        submission.iloc[start :, 1:] = pred_week[-submission.iloc[start :, 1:].shape[0]:,:]\r\n",
        "    else:\r\n",
        "        submission.iloc[start : start + output_window, 1:] = pred_week\r\n",
        "submission"
      ],
      "execution_count": null,
      "outputs": [
        {
          "output_type": "execute_result",
          "data": {
            "text/html": [
              "<div>\n",
              "<style scoped>\n",
              "    .dataframe tbody tr th:only-of-type {\n",
              "        vertical-align: middle;\n",
              "    }\n",
              "\n",
              "    .dataframe tbody tr th {\n",
              "        vertical-align: top;\n",
              "    }\n",
              "\n",
              "    .dataframe thead th {\n",
              "        text-align: right;\n",
              "    }\n",
              "</style>\n",
              "<table border=\"1\" class=\"dataframe\">\n",
              "  <thead>\n",
              "    <tr style=\"text-align: right;\">\n",
              "      <th></th>\n",
              "      <th>DateTime</th>\n",
              "      <th>사용자</th>\n",
              "      <th>세션</th>\n",
              "      <th>신규방문자</th>\n",
              "      <th>페이지뷰</th>\n",
              "    </tr>\n",
              "  </thead>\n",
              "  <tbody>\n",
              "    <tr>\n",
              "      <th>0</th>\n",
              "      <td>2020-11-09</td>\n",
              "      <td>3274</td>\n",
              "      <td>3210</td>\n",
              "      <td>829</td>\n",
              "      <td>79114</td>\n",
              "    </tr>\n",
              "    <tr>\n",
              "      <th>1</th>\n",
              "      <td>2020-11-10</td>\n",
              "      <td>2970</td>\n",
              "      <td>2873</td>\n",
              "      <td>735</td>\n",
              "      <td>70120</td>\n",
              "    </tr>\n",
              "    <tr>\n",
              "      <th>2</th>\n",
              "      <td>2020-11-11</td>\n",
              "      <td>2334</td>\n",
              "      <td>2259</td>\n",
              "      <td>556</td>\n",
              "      <td>53380</td>\n",
              "    </tr>\n",
              "    <tr>\n",
              "      <th>3</th>\n",
              "      <td>2020-11-12</td>\n",
              "      <td>1847</td>\n",
              "      <td>1802</td>\n",
              "      <td>423</td>\n",
              "      <td>39671</td>\n",
              "    </tr>\n",
              "    <tr>\n",
              "      <th>4</th>\n",
              "      <td>2020-11-13</td>\n",
              "      <td>1866</td>\n",
              "      <td>1827</td>\n",
              "      <td>414</td>\n",
              "      <td>39793</td>\n",
              "    </tr>\n",
              "    <tr>\n",
              "      <th>...</th>\n",
              "      <td>...</td>\n",
              "      <td>...</td>\n",
              "      <td>...</td>\n",
              "      <td>...</td>\n",
              "      <td>...</td>\n",
              "    </tr>\n",
              "    <tr>\n",
              "      <th>56</th>\n",
              "      <td>2021-01-04</td>\n",
              "      <td>2256</td>\n",
              "      <td>2285</td>\n",
              "      <td>559</td>\n",
              "      <td>57347</td>\n",
              "    </tr>\n",
              "    <tr>\n",
              "      <th>57</th>\n",
              "      <td>2021-01-05</td>\n",
              "      <td>2103</td>\n",
              "      <td>2176</td>\n",
              "      <td>522</td>\n",
              "      <td>53609</td>\n",
              "    </tr>\n",
              "    <tr>\n",
              "      <th>58</th>\n",
              "      <td>2021-01-06</td>\n",
              "      <td>2517</td>\n",
              "      <td>2619</td>\n",
              "      <td>645</td>\n",
              "      <td>65851</td>\n",
              "    </tr>\n",
              "    <tr>\n",
              "      <th>59</th>\n",
              "      <td>2021-01-07</td>\n",
              "      <td>3127</td>\n",
              "      <td>3240</td>\n",
              "      <td>833</td>\n",
              "      <td>82795</td>\n",
              "    </tr>\n",
              "    <tr>\n",
              "      <th>60</th>\n",
              "      <td>2021-01-08</td>\n",
              "      <td>3398</td>\n",
              "      <td>3484</td>\n",
              "      <td>914</td>\n",
              "      <td>89628</td>\n",
              "    </tr>\n",
              "  </tbody>\n",
              "</table>\n",
              "<p>61 rows × 5 columns</p>\n",
              "</div>"
            ],
            "text/plain": [
              "      DateTime   사용자    세션  신규방문자   페이지뷰\n",
              "0   2020-11-09  3274  3210    829  79114\n",
              "1   2020-11-10  2970  2873    735  70120\n",
              "2   2020-11-11  2334  2259    556  53380\n",
              "3   2020-11-12  1847  1802    423  39671\n",
              "4   2020-11-13  1866  1827    414  39793\n",
              "..         ...   ...   ...    ...    ...\n",
              "56  2021-01-04  2256  2285    559  57347\n",
              "57  2021-01-05  2103  2176    522  53609\n",
              "58  2021-01-06  2517  2619    645  65851\n",
              "59  2021-01-07  3127  3240    833  82795\n",
              "60  2021-01-08  3398  3484    914  89628\n",
              "\n",
              "[61 rows x 5 columns]"
            ]
          },
          "metadata": {
            "tags": []
          },
          "execution_count": 14
        }
      ]
    },
    {
      "cell_type": "code",
      "metadata": {
        "id": "fiWtJ1DDt9x-"
      },
      "source": [
        "submission.to_csv('/content/drive/MyDrive/Colab Notebooks/LSTM_pytorch(Dacon)/input/제출1_GRU7.csv', index = False, encoding = 'euc-kr')"
      ],
      "execution_count": 13,
      "outputs": []
    },
    {
      "cell_type": "code",
      "metadata": {
        "id": "Fcvux642t90U"
      },
      "source": [
        ""
      ],
      "execution_count": null,
      "outputs": []
    },
    {
      "cell_type": "code",
      "metadata": {
        "id": "WyrGlx44t95X"
      },
      "source": [
        "last_month = torch.tensor(window_x[-1,:,:][np.newaxis,...]).float().to(device)"
      ],
      "execution_count": null,
      "outputs": []
    },
    {
      "cell_type": "code",
      "metadata": {
        "colab": {
          "base_uri": "https://localhost:8080/"
        },
        "id": "5465G6eASMbe",
        "outputId": "0aadf319-77f2-45a2-b681-5361b7432714"
      },
      "source": [
        "last_month"
      ],
      "execution_count": null,
      "outputs": [
        {
          "output_type": "execute_result",
          "data": {
            "text/plain": [
              "tensor([[[1.7700e+02, 1.6600e+02, 4.0000e+01, 4.0460e+03],\n",
              "         [1.4900e+02, 1.3800e+02, 2.1000e+01, 3.3930e+03],\n",
              "         [1.2800e+02, 1.2900e+02, 3.2000e+01, 3.5970e+03],\n",
              "         [1.2100e+02, 1.1800e+02, 3.0000e+01, 2.9140e+03],\n",
              "         [1.4500e+02, 1.3800e+02, 2.7000e+01, 2.7160e+03],\n",
              "         [1.6300e+02, 1.6200e+02, 2.7000e+01, 2.4030e+03],\n",
              "         [1.2900e+02, 1.1900e+02, 2.7000e+01, 2.9460e+03],\n",
              "         [1.5000e+02, 1.4900e+02, 3.1000e+01, 3.3650e+03],\n",
              "         [1.2900e+02, 1.3300e+02, 2.2000e+01, 2.5710e+03],\n",
              "         [9.1000e+01, 8.3000e+01, 1.6000e+01, 1.8230e+03],\n",
              "         [6.2000e+01, 5.5000e+01, 1.2000e+01, 1.2710e+03],\n",
              "         [3.0000e+01, 2.8000e+01, 8.0000e+00, 3.4500e+02],\n",
              "         [1.7000e+01, 1.8000e+01, 1.0000e+00, 1.4800e+02],\n",
              "         [1.9000e+01, 2.0000e+01, 5.0000e+00, 2.7500e+02],\n",
              "         [1.7000e+01, 1.6000e+01, 7.0000e+00, 1.7000e+02],\n",
              "         [1.6000e+01, 1.5000e+01, 3.0000e+00, 1.5700e+02],\n",
              "         [2.2000e+01, 2.5000e+01, 7.0000e+00, 2.5200e+02],\n",
              "         [4.3000e+01, 4.6000e+01, 1.1000e+01, 6.4000e+02],\n",
              "         [9.0000e+01, 9.2000e+01, 2.2000e+01, 1.3740e+03],\n",
              "         [1.1300e+02, 1.1400e+02, 3.1000e+01, 1.7890e+03],\n",
              "         [1.1200e+02, 1.0200e+02, 3.0000e+01, 2.0210e+03],\n",
              "         [1.3200e+02, 1.3000e+02, 3.2000e+01, 2.2420e+03],\n",
              "         [1.3000e+02, 1.2900e+02, 2.8000e+01, 1.8430e+03],\n",
              "         [1.7400e+02, 1.8100e+02, 3.4000e+01, 4.1910e+03]]], device='cuda:0')"
            ]
          },
          "metadata": {
            "tags": []
          },
          "execution_count": 45
        }
      ]
    },
    {
      "cell_type": "code",
      "metadata": {
        "id": "huUo7ubSSMdq"
      },
      "source": [
        ""
      ],
      "execution_count": null,
      "outputs": []
    },
    {
      "cell_type": "code",
      "metadata": {
        "id": "P6JP7Qt-SMf7"
      },
      "source": [
        ""
      ],
      "execution_count": null,
      "outputs": []
    },
    {
      "cell_type": "code",
      "metadata": {
        "id": "PxOKySYTSMh9"
      },
      "source": [
        ""
      ],
      "execution_count": null,
      "outputs": []
    },
    {
      "cell_type": "code",
      "metadata": {
        "id": "7h9YurwPSMkT"
      },
      "source": [
        ""
      ],
      "execution_count": null,
      "outputs": []
    },
    {
      "cell_type": "code",
      "metadata": {
        "id": "kEdczY1BSMmR"
      },
      "source": [
        ""
      ],
      "execution_count": null,
      "outputs": []
    }
  ]
}