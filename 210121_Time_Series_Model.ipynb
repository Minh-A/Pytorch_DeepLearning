{
  "nbformat": 4,
  "nbformat_minor": 0,
  "metadata": {
    "colab": {
      "name": "210121_Time Series Model.ipynb",
      "provenance": [],
      "collapsed_sections": [],
      "toc_visible": true,
      "authorship_tag": "ABX9TyMNye9Oy16ZK69Wa/XG3m6x",
      "include_colab_link": true
    },
    "kernelspec": {
      "name": "python3",
      "display_name": "Python 3"
    },
    "accelerator": "GPU"
  },
  "cells": [
    {
      "cell_type": "markdown",
      "metadata": {
        "id": "view-in-github",
        "colab_type": "text"
      },
      "source": [
        "<a href=\"https://colab.research.google.com/github/Minh-A/Pytorch_DeepLearning/blob/main/210121_Time_Series_Model.ipynb\" target=\"_parent\"><img src=\"https://colab.research.google.com/assets/colab-badge.svg\" alt=\"Open In Colab\"/></a>"
      ]
    },
    {
      "cell_type": "markdown",
      "metadata": {
        "id": "Ovq-j-bOihHs"
      },
      "source": [
        "# 전체적인 흐름\r\n",
        "## (￣▽￣)ノ"
      ]
    },
    {
      "cell_type": "code",
      "metadata": {
        "colab": {
          "base_uri": "https://localhost:8080/"
        },
        "id": "i8Z9rgdPu2Vp",
        "outputId": "4b512869-2e22-46fc-ac1a-b5841bf48f85"
      },
      "source": [
        "# 구글드라이브 연결\r\n",
        "from google.colab import drive\r\n",
        "drive.mount('/content/drive')"
      ],
      "execution_count": null,
      "outputs": [
        {
          "output_type": "stream",
          "text": [
            "Mounted at /content/drive\n"
          ],
          "name": "stdout"
        }
      ]
    },
    {
      "cell_type": "code",
      "metadata": {
        "id": "xzzhI5Mgt5Il",
        "colab": {
          "base_uri": "https://localhost:8080/"
        },
        "outputId": "d5496199-e482-4206-fb55-0f6a2af3178d"
      },
      "source": [
        "import pandas as pd\r\n",
        "import numpy as np\r\n",
        "import warnings\r\n",
        "warnings.filterwarnings(action='ignore')\r\n",
        "import torch\r\n",
        "import torch.nn as nn\r\n",
        "import torch.nn.functional as F\r\n",
        "\r\n",
        "import torchvision\r\n",
        "import torchvision.transforms as transforms\r\n",
        "from torch.utils.data import Dataset,DataLoader\r\n",
        "import torch.optim as optim\r\n",
        "\r\n",
        "device = torch.device(\"cuda:0\" if torch.cuda.is_available() else \"cpu\")  # GPU, CPU 선택\r\n",
        "print('CPU? GPU? : ', device)"
      ],
      "execution_count": null,
      "outputs": [
        {
          "output_type": "stream",
          "text": [
            "CPU? GPU? :  cuda:0\n"
          ],
          "name": "stdout"
        }
      ]
    },
    {
      "cell_type": "markdown",
      "metadata": {
        "id": "xF4eGlD2IKwV"
      },
      "source": [
        "파일 불러오기"
      ]
    },
    {
      "cell_type": "code",
      "metadata": {
        "colab": {
          "base_uri": "https://localhost:8080/",
          "height": 419
        },
        "id": "r5jvbyeqG803",
        "outputId": "3a86c19e-3030-454f-af37-b3816b93d50c"
      },
      "source": [
        "train = pd.read_csv(\"/content/drive/MyDrive/Colab Notebooks/LSTM_pytorch(Dacon)/input/train.csv\", encoding = 'euc-kr')\r\n",
        "train"
      ],
      "execution_count": null,
      "outputs": [
        {
          "output_type": "execute_result",
          "data": {
            "text/html": [
              "<div>\n",
              "<style scoped>\n",
              "    .dataframe tbody tr th:only-of-type {\n",
              "        vertical-align: middle;\n",
              "    }\n",
              "\n",
              "    .dataframe tbody tr th {\n",
              "        vertical-align: top;\n",
              "    }\n",
              "\n",
              "    .dataframe thead th {\n",
              "        text-align: right;\n",
              "    }\n",
              "</style>\n",
              "<table border=\"1\" class=\"dataframe\">\n",
              "  <thead>\n",
              "    <tr style=\"text-align: right;\">\n",
              "      <th></th>\n",
              "      <th>DateTime</th>\n",
              "      <th>사용자</th>\n",
              "      <th>세션</th>\n",
              "      <th>신규방문자</th>\n",
              "      <th>페이지뷰</th>\n",
              "    </tr>\n",
              "  </thead>\n",
              "  <tbody>\n",
              "    <tr>\n",
              "      <th>0</th>\n",
              "      <td>2018-09-09 00:00:00</td>\n",
              "      <td>19</td>\n",
              "      <td>19</td>\n",
              "      <td>8</td>\n",
              "      <td>206</td>\n",
              "    </tr>\n",
              "    <tr>\n",
              "      <th>1</th>\n",
              "      <td>2018-09-09 01:00:00</td>\n",
              "      <td>20</td>\n",
              "      <td>19</td>\n",
              "      <td>9</td>\n",
              "      <td>259</td>\n",
              "    </tr>\n",
              "    <tr>\n",
              "      <th>2</th>\n",
              "      <td>2018-09-09 02:00:00</td>\n",
              "      <td>12</td>\n",
              "      <td>9</td>\n",
              "      <td>1</td>\n",
              "      <td>48</td>\n",
              "    </tr>\n",
              "    <tr>\n",
              "      <th>3</th>\n",
              "      <td>2018-09-09 03:00:00</td>\n",
              "      <td>10</td>\n",
              "      <td>10</td>\n",
              "      <td>2</td>\n",
              "      <td>102</td>\n",
              "    </tr>\n",
              "    <tr>\n",
              "      <th>4</th>\n",
              "      <td>2018-09-09 04:00:00</td>\n",
              "      <td>6</td>\n",
              "      <td>5</td>\n",
              "      <td>3</td>\n",
              "      <td>18</td>\n",
              "    </tr>\n",
              "    <tr>\n",
              "      <th>...</th>\n",
              "      <td>...</td>\n",
              "      <td>...</td>\n",
              "      <td>...</td>\n",
              "      <td>...</td>\n",
              "      <td>...</td>\n",
              "    </tr>\n",
              "    <tr>\n",
              "      <th>19003</th>\n",
              "      <td>2020-11-08 19:00:00</td>\n",
              "      <td>124</td>\n",
              "      <td>123</td>\n",
              "      <td>19</td>\n",
              "      <td>3128</td>\n",
              "    </tr>\n",
              "    <tr>\n",
              "      <th>19004</th>\n",
              "      <td>2020-11-08 20:00:00</td>\n",
              "      <td>166</td>\n",
              "      <td>159</td>\n",
              "      <td>29</td>\n",
              "      <td>4864</td>\n",
              "    </tr>\n",
              "    <tr>\n",
              "      <th>19005</th>\n",
              "      <td>2020-11-08 21:00:00</td>\n",
              "      <td>184</td>\n",
              "      <td>173</td>\n",
              "      <td>32</td>\n",
              "      <td>3426</td>\n",
              "    </tr>\n",
              "    <tr>\n",
              "      <th>19006</th>\n",
              "      <td>2020-11-08 22:00:00</td>\n",
              "      <td>163</td>\n",
              "      <td>155</td>\n",
              "      <td>34</td>\n",
              "      <td>2845</td>\n",
              "    </tr>\n",
              "    <tr>\n",
              "      <th>19007</th>\n",
              "      <td>2020-11-08 23:00:00</td>\n",
              "      <td>160</td>\n",
              "      <td>152</td>\n",
              "      <td>33</td>\n",
              "      <td>3293</td>\n",
              "    </tr>\n",
              "  </tbody>\n",
              "</table>\n",
              "<p>19008 rows × 5 columns</p>\n",
              "</div>"
            ],
            "text/plain": [
              "                  DateTime  사용자   세션  신규방문자  페이지뷰\n",
              "0      2018-09-09 00:00:00   19   19      8   206\n",
              "1      2018-09-09 01:00:00   20   19      9   259\n",
              "2      2018-09-09 02:00:00   12    9      1    48\n",
              "3      2018-09-09 03:00:00   10   10      2   102\n",
              "4      2018-09-09 04:00:00    6    5      3    18\n",
              "...                    ...  ...  ...    ...   ...\n",
              "19003  2020-11-08 19:00:00  124  123     19  3128\n",
              "19004  2020-11-08 20:00:00  166  159     29  4864\n",
              "19005  2020-11-08 21:00:00  184  173     32  3426\n",
              "19006  2020-11-08 22:00:00  163  155     34  2845\n",
              "19007  2020-11-08 23:00:00  160  152     33  3293\n",
              "\n",
              "[19008 rows x 5 columns]"
            ]
          },
          "metadata": {
            "tags": []
          },
          "execution_count": 7
        }
      ]
    },
    {
      "cell_type": "code",
      "metadata": {
        "colab": {
          "base_uri": "https://localhost:8080/",
          "height": 419
        },
        "id": "wv8hTVLIG83j",
        "outputId": "87ee6278-9478-4fff-b9c4-58f7be796c07"
      },
      "source": [
        "train['DateTime'] = pd.to_datetime(train.DateTime)  # 데이터 타입을 datetime으로\r\n",
        "train['date'] = train.DateTime.dt.date  # 날짜만\r\n",
        "train  = train.groupby('date').sum().reset_index()  # 날짜별로 묶음 (합침)\r\n",
        "train"
      ],
      "execution_count": null,
      "outputs": [
        {
          "output_type": "execute_result",
          "data": {
            "text/html": [
              "<div>\n",
              "<style scoped>\n",
              "    .dataframe tbody tr th:only-of-type {\n",
              "        vertical-align: middle;\n",
              "    }\n",
              "\n",
              "    .dataframe tbody tr th {\n",
              "        vertical-align: top;\n",
              "    }\n",
              "\n",
              "    .dataframe thead th {\n",
              "        text-align: right;\n",
              "    }\n",
              "</style>\n",
              "<table border=\"1\" class=\"dataframe\">\n",
              "  <thead>\n",
              "    <tr style=\"text-align: right;\">\n",
              "      <th></th>\n",
              "      <th>date</th>\n",
              "      <th>사용자</th>\n",
              "      <th>세션</th>\n",
              "      <th>신규방문자</th>\n",
              "      <th>페이지뷰</th>\n",
              "    </tr>\n",
              "  </thead>\n",
              "  <tbody>\n",
              "    <tr>\n",
              "      <th>0</th>\n",
              "      <td>2018-09-09</td>\n",
              "      <td>281</td>\n",
              "      <td>266</td>\n",
              "      <td>73</td>\n",
              "      <td>1826</td>\n",
              "    </tr>\n",
              "    <tr>\n",
              "      <th>1</th>\n",
              "      <td>2018-09-10</td>\n",
              "      <td>264</td>\n",
              "      <td>247</td>\n",
              "      <td>51</td>\n",
              "      <td>2092</td>\n",
              "    </tr>\n",
              "    <tr>\n",
              "      <th>2</th>\n",
              "      <td>2018-09-11</td>\n",
              "      <td>329</td>\n",
              "      <td>310</td>\n",
              "      <td>58</td>\n",
              "      <td>1998</td>\n",
              "    </tr>\n",
              "    <tr>\n",
              "      <th>3</th>\n",
              "      <td>2018-09-12</td>\n",
              "      <td>300</td>\n",
              "      <td>287</td>\n",
              "      <td>45</td>\n",
              "      <td>2595</td>\n",
              "    </tr>\n",
              "    <tr>\n",
              "      <th>4</th>\n",
              "      <td>2018-09-13</td>\n",
              "      <td>378</td>\n",
              "      <td>344</td>\n",
              "      <td>50</td>\n",
              "      <td>3845</td>\n",
              "    </tr>\n",
              "    <tr>\n",
              "      <th>...</th>\n",
              "      <td>...</td>\n",
              "      <td>...</td>\n",
              "      <td>...</td>\n",
              "      <td>...</td>\n",
              "      <td>...</td>\n",
              "    </tr>\n",
              "    <tr>\n",
              "      <th>787</th>\n",
              "      <td>2020-11-04</td>\n",
              "      <td>4516</td>\n",
              "      <td>4472</td>\n",
              "      <td>1196</td>\n",
              "      <td>112683</td>\n",
              "    </tr>\n",
              "    <tr>\n",
              "      <th>788</th>\n",
              "      <td>2020-11-05</td>\n",
              "      <td>4155</td>\n",
              "      <td>4037</td>\n",
              "      <td>1044</td>\n",
              "      <td>102901</td>\n",
              "    </tr>\n",
              "    <tr>\n",
              "      <th>789</th>\n",
              "      <td>2020-11-06</td>\n",
              "      <td>3663</td>\n",
              "      <td>3576</td>\n",
              "      <td>825</td>\n",
              "      <td>88015</td>\n",
              "    </tr>\n",
              "    <tr>\n",
              "      <th>790</th>\n",
              "      <td>2020-11-07</td>\n",
              "      <td>2472</td>\n",
              "      <td>2417</td>\n",
              "      <td>531</td>\n",
              "      <td>57386</td>\n",
              "    </tr>\n",
              "    <tr>\n",
              "      <th>791</th>\n",
              "      <td>2020-11-08</td>\n",
              "      <td>2492</td>\n",
              "      <td>2420</td>\n",
              "      <td>522</td>\n",
              "      <td>50486</td>\n",
              "    </tr>\n",
              "  </tbody>\n",
              "</table>\n",
              "<p>792 rows × 5 columns</p>\n",
              "</div>"
            ],
            "text/plain": [
              "           date   사용자    세션  신규방문자    페이지뷰\n",
              "0    2018-09-09   281   266     73    1826\n",
              "1    2018-09-10   264   247     51    2092\n",
              "2    2018-09-11   329   310     58    1998\n",
              "3    2018-09-12   300   287     45    2595\n",
              "4    2018-09-13   378   344     50    3845\n",
              "..          ...   ...   ...    ...     ...\n",
              "787  2020-11-04  4516  4472   1196  112683\n",
              "788  2020-11-05  4155  4037   1044  102901\n",
              "789  2020-11-06  3663  3576    825   88015\n",
              "790  2020-11-07  2472  2417    531   57386\n",
              "791  2020-11-08  2492  2420    522   50486\n",
              "\n",
              "[792 rows x 5 columns]"
            ]
          },
          "metadata": {
            "tags": []
          },
          "execution_count": 8
        }
      ]
    },
    {
      "cell_type": "markdown",
      "metadata": {
        "id": "MqwkfgZFIp4g"
      },
      "source": [
        "전처리"
      ]
    },
    {
      "cell_type": "code",
      "metadata": {
        "id": "0idPYtiVG88Q"
      },
      "source": [
        "# 전처리 : 정규화\r\n",
        "mini = train.iloc[:,1:].min()  # 날짜를 제외한\r\n",
        "size = train.iloc[:,1:].max() - train.iloc[:,1:].min()\r\n",
        "train.iloc[:,1:] = (train.iloc[:,1:] -  mini) / size  \r\n",
        "\r\n",
        "input_window = 30       # 모델에 들어가는 날짜\r\n",
        "output_window = 5       # 모델을 통해 예측한 날짜\r\n",
        "\r\n",
        "# 행렬을 먼저 만듬\r\n",
        "window_x = np.zeros((train.shape[0] - (input_window + output_window), input_window, 4))  # 전체 데이터, 들어갈 데이터, 컬럼수\r\n",
        "window_y = np.zeros((train.shape[0] - (input_window + output_window), output_window, 4))\r\n",
        "\r\n",
        "\r\n",
        "# 슬라이딩 윈도우 생성\r\n",
        "for start in range(train.shape[0] - (input_window + output_window)):\r\n",
        "    end = start + input_window \r\n",
        "\r\n",
        "    window_x[start,:, :] = train.iloc[start : end , 1: ].values   # X 데이터셋 만들기\r\n",
        "    window_y[start,:, :] = train.iloc[end   : end + output_window, 1: ].values   # 예측할 Y 데이터셋 (훈련시)"
      ],
      "execution_count": null,
      "outputs": []
    },
    {
      "cell_type": "code",
      "metadata": {
        "colab": {
          "base_uri": "https://localhost:8080/",
          "height": 111
        },
        "id": "LD2dU0m7G9BC",
        "outputId": "143276d7-374f-46e4-cdc1-84e1dbd2002a"
      },
      "source": [
        "# 슬라이딩 윈도우의 예시\r\n",
        "train.iloc[1 : 3, 1:]"
      ],
      "execution_count": null,
      "outputs": [
        {
          "output_type": "execute_result",
          "data": {
            "text/html": [
              "<div>\n",
              "<style scoped>\n",
              "    .dataframe tbody tr th:only-of-type {\n",
              "        vertical-align: middle;\n",
              "    }\n",
              "\n",
              "    .dataframe tbody tr th {\n",
              "        vertical-align: top;\n",
              "    }\n",
              "\n",
              "    .dataframe thead th {\n",
              "        text-align: right;\n",
              "    }\n",
              "</style>\n",
              "<table border=\"1\" class=\"dataframe\">\n",
              "  <thead>\n",
              "    <tr style=\"text-align: right;\">\n",
              "      <th></th>\n",
              "      <th>사용자</th>\n",
              "      <th>세션</th>\n",
              "      <th>신규방문자</th>\n",
              "      <th>페이지뷰</th>\n",
              "    </tr>\n",
              "  </thead>\n",
              "  <tbody>\n",
              "    <tr>\n",
              "      <th>1</th>\n",
              "      <td>0.048551</td>\n",
              "      <td>0.045564</td>\n",
              "      <td>0.029586</td>\n",
              "      <td>0.013446</td>\n",
              "    </tr>\n",
              "    <tr>\n",
              "      <th>2</th>\n",
              "      <td>0.060550</td>\n",
              "      <td>0.057233</td>\n",
              "      <td>0.033728</td>\n",
              "      <td>0.012842</td>\n",
              "    </tr>\n",
              "  </tbody>\n",
              "</table>\n",
              "</div>"
            ],
            "text/plain": [
              "        사용자        세션     신규방문자      페이지뷰\n",
              "1  0.048551  0.045564  0.029586  0.013446\n",
              "2  0.060550  0.057233  0.033728  0.012842"
            ]
          },
          "metadata": {
            "tags": []
          },
          "execution_count": 14
        }
      ]
    },
    {
      "cell_type": "code",
      "metadata": {
        "colab": {
          "base_uri": "https://localhost:8080/"
        },
        "id": "WjUwR92yG8-k",
        "outputId": "8c46b1a5-a647-4bf2-82b5-5ba710c55634"
      },
      "source": [
        "# window_x 확인\r\n",
        "print(window_x,'\\n')\r\n",
        "print('모양 확인: ',window_x.shape, '\\n')\r\n",
        "print('데이터 셋 한개: \\n', window_x[0])"
      ],
      "execution_count": null,
      "outputs": [
        {
          "output_type": "stream",
          "text": [
            "tensor([[[0.0517, 0.0491, 0.0426, 0.0117],\n",
            "         [0.0486, 0.0456, 0.0296, 0.0134],\n",
            "         [0.0606, 0.0572, 0.0337, 0.0128],\n",
            "         ...,\n",
            "         [0.0142, 0.0137, 0.0124, 0.0022],\n",
            "         [0.0183, 0.0178, 0.0302, 0.0031],\n",
            "         [0.0126, 0.0124, 0.0136, 0.0016]],\n",
            "\n",
            "        [[0.0486, 0.0456, 0.0296, 0.0134],\n",
            "         [0.0606, 0.0572, 0.0337, 0.0128],\n",
            "         [0.0552, 0.0530, 0.0260, 0.0167],\n",
            "         ...,\n",
            "         [0.0183, 0.0178, 0.0302, 0.0031],\n",
            "         [0.0126, 0.0124, 0.0136, 0.0016],\n",
            "         [0.0098, 0.0098, 0.0130, 0.0014]],\n",
            "\n",
            "        [[0.0606, 0.0572, 0.0337, 0.0128],\n",
            "         [0.0552, 0.0530, 0.0260, 0.0167],\n",
            "         [0.0696, 0.0635, 0.0290, 0.0247],\n",
            "         ...,\n",
            "         [0.0126, 0.0124, 0.0136, 0.0016],\n",
            "         [0.0098, 0.0098, 0.0130, 0.0014],\n",
            "         [0.0166, 0.0156, 0.0166, 0.0035]],\n",
            "\n",
            "        ...,\n",
            "\n",
            "        [[0.2719, 0.2669, 0.1604, 0.2021],\n",
            "         [0.2902, 0.2849, 0.1710, 0.2242],\n",
            "         [0.3109, 0.3047, 0.2118, 0.2249],\n",
            "         ...,\n",
            "         [0.7297, 0.7307, 0.5450, 0.6938],\n",
            "         [0.5979, 0.5840, 0.4231, 0.5801],\n",
            "         [0.3701, 0.3745, 0.2639, 0.3301]],\n",
            "\n",
            "        [[0.2902, 0.2849, 0.1710, 0.2242],\n",
            "         [0.3109, 0.3047, 0.2118, 0.2249],\n",
            "         [0.5704, 0.5557, 0.4414, 0.4659],\n",
            "         ...,\n",
            "         [0.5979, 0.5840, 0.4231, 0.5801],\n",
            "         [0.3701, 0.3745, 0.2639, 0.3301],\n",
            "         [0.3681, 0.3660, 0.2491, 0.3086]],\n",
            "\n",
            "        [[0.3109, 0.3047, 0.2118, 0.2249],\n",
            "         [0.5704, 0.5557, 0.4414, 0.4659],\n",
            "         [0.5141, 0.5053, 0.3686, 0.4430],\n",
            "         ...,\n",
            "         [0.3701, 0.3745, 0.2639, 0.3301],\n",
            "         [0.3681, 0.3660, 0.2491, 0.3086],\n",
            "         [0.8782, 0.8735, 0.7172, 0.7747]]], device='cuda:0') \n",
            "\n",
            "모양 확인:  torch.Size([757, 30, 4]) \n",
            "\n",
            "데이터 셋 한개: \n",
            " tensor([[0.0517, 0.0491, 0.0426, 0.0117],\n",
            "        [0.0486, 0.0456, 0.0296, 0.0134],\n",
            "        [0.0606, 0.0572, 0.0337, 0.0128],\n",
            "        [0.0552, 0.0530, 0.0260, 0.0167],\n",
            "        [0.0696, 0.0635, 0.0290, 0.0247],\n",
            "        [0.0631, 0.0585, 0.0331, 0.0211],\n",
            "        [0.0386, 0.0372, 0.0231, 0.0089],\n",
            "        [0.0371, 0.0361, 0.0172, 0.0095],\n",
            "        [0.0609, 0.0558, 0.0402, 0.0199],\n",
            "        [0.0613, 0.0578, 0.0420, 0.0171],\n",
            "        [0.0443, 0.0406, 0.0213, 0.0102],\n",
            "        [0.0537, 0.0522, 0.0515, 0.0096],\n",
            "        [0.0382, 0.0363, 0.0296, 0.0098],\n",
            "        [0.0356, 0.0339, 0.0379, 0.0061],\n",
            "        [0.0295, 0.0287, 0.0207, 0.0067],\n",
            "        [0.0222, 0.0196, 0.0107, 0.0043],\n",
            "        [0.0205, 0.0204, 0.0083, 0.0034],\n",
            "        [0.0295, 0.0285, 0.0124, 0.0067],\n",
            "        [0.0325, 0.0309, 0.0249, 0.0063],\n",
            "        [0.0225, 0.0217, 0.0189, 0.0042],\n",
            "        [0.0181, 0.0174, 0.0142, 0.0024],\n",
            "        [0.0222, 0.0215, 0.0349, 0.0028],\n",
            "        [0.0203, 0.0202, 0.0201, 0.0026],\n",
            "        [0.0186, 0.0174, 0.0154, 0.0030],\n",
            "        [0.0159, 0.0154, 0.0183, 0.0025],\n",
            "        [0.0153, 0.0143, 0.0154, 0.0030],\n",
            "        [0.0225, 0.0215, 0.0219, 0.0054],\n",
            "        [0.0142, 0.0137, 0.0124, 0.0022],\n",
            "        [0.0183, 0.0178, 0.0302, 0.0031],\n",
            "        [0.0126, 0.0124, 0.0136, 0.0016]], device='cuda:0')\n"
          ],
          "name": "stdout"
        }
      ]
    },
    {
      "cell_type": "markdown",
      "metadata": {
        "id": "ZAKYUr-zMyY3"
      },
      "source": [
        "모델 생성"
      ]
    },
    {
      "cell_type": "code",
      "metadata": {
        "colab": {
          "base_uri": "https://localhost:8080/"
        },
        "id": "b3K_BIGMG9GW",
        "outputId": "58267061-a8b4-4008-8b0e-e1bd855ca999"
      },
      "source": [
        "# Model 생성\r\n",
        "\r\n",
        "class LSTM(nn.Module):\r\n",
        "    def __init__(self, input_size, hidden_size):\r\n",
        "        super(LSTM, self).__init__()\r\n",
        "        self.hidden_size = hidden_size\r\n",
        "        self.lstm = nn.LSTM(input_size = input_size,\r\n",
        "                            hidden_size = hidden_size,\r\n",
        "                            batch_first=True)\r\n",
        "        self.hidden_lstm = nn.LSTM(input_size = hidden_size,\r\n",
        "                                   hidden_size = hidden_size,\r\n",
        "                                   batch_first=True)\r\n",
        "        self.time_fc = nn.Linear(hidden_size, 4)\r\n",
        "    \r\n",
        "\r\n",
        "    def forward(self, x_time):\r\n",
        "        out_time, _ = self.lstm(x_time)\r\n",
        "        out_time, _ = self.hidden_lstm(out_time)\r\n",
        "        out_time, _ = self.hidden_lstm(out_time)\r\n",
        "        out_time, _ = self.hidden_lstm(out_time)\r\n",
        "        out_time, _ = self.hidden_lstm(out_time)\r\n",
        "        out_time = self.time_fc(out_time[:,-5:, :])\r\n",
        "        \r\n",
        "        return out_time.view(-1,5,4)\r\n",
        "  \r\n",
        "model = LSTM(input_size = 4, hidden_size = 15).to(device)  # to(device)를 통해 GPU로\r\n",
        "model"
      ],
      "execution_count": null,
      "outputs": [
        {
          "output_type": "execute_result",
          "data": {
            "text/plain": [
              "LSTM(\n",
              "  (lstm): LSTM(4, 15, batch_first=True)\n",
              "  (hidden_lstm): LSTM(15, 15, batch_first=True)\n",
              "  (time_fc): Linear(in_features=15, out_features=4, bias=True)\n",
              ")"
            ]
          },
          "metadata": {
            "tags": []
          },
          "execution_count": 51
        }
      ]
    },
    {
      "cell_type": "markdown",
      "metadata": {
        "id": "nS5lv4NCNYVl"
      },
      "source": [
        "모델 학습"
      ]
    },
    {
      "cell_type": "code",
      "metadata": {
        "colab": {
          "base_uri": "https://localhost:8080/"
        },
        "id": "zaQWJvbVNbDU",
        "outputId": "6d11ea56-0395-46a6-dd4f-c672d92da62e"
      },
      "source": [
        "# 학습 전 데이터 전처리\r\n",
        "window_x = torch.tensor(window_x).float().to(device)  # 데이터를 GPU로\r\n",
        "window_y = torch.tensor(window_y).float().to(device)\r\n",
        "\r\n",
        "# 훈련\r\n",
        "optimizer = torch.optim.Adam(model.parameters(), lr = 0.002)  \r\n",
        "criterion = nn.MSELoss(size_average = True)\r\n",
        "num_epochs  = 500\r\n",
        "train_error = []\r\n",
        "\r\n",
        "for t in range(num_epochs):\r\n",
        "    train_pred = model(window_x)\r\n",
        "    loss = criterion(train_pred, window_y)  \r\n",
        "    train_error.append(loss)\r\n",
        "    \r\n",
        "    optimizer.zero_grad()\r\n",
        "    loss.backward()\r\n",
        "    optimizer.step()\r\n",
        "    \r\n",
        "    if (t +1) % 100 == 0 and t != 1:\r\n",
        "        print((t +1), \"Epochs train MSE: \", loss.item())"
      ],
      "execution_count": null,
      "outputs": [
        {
          "output_type": "stream",
          "text": [
            "100 Epochs train MSE:  0.010756760835647583\n",
            "200 Epochs train MSE:  0.008092226460576057\n",
            "300 Epochs train MSE:  0.007810821756720543\n",
            "400 Epochs train MSE:  0.0068296222016215324\n",
            "500 Epochs train MSE:  0.006086647044867277\n"
          ],
          "name": "stdout"
        }
      ]
    },
    {
      "cell_type": "markdown",
      "metadata": {
        "id": "PiqJteAjPC2k"
      },
      "source": [
        "모델 예측"
      ]
    },
    {
      "cell_type": "code",
      "metadata": {
        "colab": {
          "base_uri": "https://localhost:8080/"
        },
        "id": "Wj2kZjE3Ofg0",
        "outputId": "dc847b04-3938-4601-a3d8-46a6304fc6a8"
      },
      "source": [
        "last_month = train.iloc[-30:,1:].values[np.newaxis,...]  # 한달 데이터를 불러옴\r\n",
        "last_month = torch.tensor(last_month).float().to(device)  # 데이터를 토치화를 하여, GPU로 보냄\r\n",
        "\r\n",
        "for start in range(2):  # 5일씩 2번 예측\r\n",
        "    \r\n",
        "    next_week = model(last_month)  # 30일 데이터로 5일을 예측\r\n",
        "    last_month = torch.cat([last_month[:,5:,:], next_week], axis = 1)  # 훈련데이터에 예측값을 더해 또 예측\r\n",
        "\r\n",
        "    pred_week = next_week.cpu().detach().numpy().reshape(output_window,4)  # 예측한것 CPU\r\n",
        "\r\n",
        "    pred_week = pred_week * size.values + mini.values  # 정규화 해제(정규화를 역을 실행)\r\n",
        "    pred_week = pred_week.astype(int)  # 실수 값으로 변환\r\n",
        "\r\n",
        "    print('\\n', 5 * (start+1), \"일 예측\")\r\n",
        "    print(pred_week)"
      ],
      "execution_count": null,
      "outputs": [
        {
          "output_type": "stream",
          "text": [
            "\n",
            " 5 일 예측\n",
            "[[ 2748  2725   626 73579]\n",
            " [ 3290  3261   790 89526]\n",
            " [ 3430  3348   833 94540]\n",
            " [ 3242  3137   770 90030]\n",
            " [ 2852  2749   651 79330]]\n",
            "\n",
            " 10 일 예측\n",
            "[[ 2406  2259   538 66765]\n",
            " [ 2180  2019   474 59563]\n",
            " [ 2527  2453   564 68565]\n",
            " [ 3050  3066   714 83069]\n",
            " [ 3273  3305   779 89827]]\n"
          ],
          "name": "stdout"
        }
      ]
    },
    {
      "cell_type": "markdown",
      "metadata": {
        "id": "N9E0bO_biluL"
      },
      "source": [
        "# 온도 데이터를 사용"
      ]
    },
    {
      "cell_type": "code",
      "metadata": {
        "colab": {
          "base_uri": "https://localhost:8080/",
          "height": 419
        },
        "id": "jbLmLHCJilZE",
        "outputId": "6a2c31f8-9df0-4087-d013-c6d53289337d"
      },
      "source": [
        "# 온도 데이터 불러오기\r\n",
        "tem = pd.read_csv('/content/drive/MyDrive/Colab Notebooks/pytorch 책/file/time_series/ta_20210108214059.csv', skiprows=[0,1,2,3,4,5], encoding=\"cp949\")\r\n",
        "tem"
      ],
      "execution_count": null,
      "outputs": [
        {
          "output_type": "execute_result",
          "data": {
            "text/html": [
              "<div>\n",
              "<style scoped>\n",
              "    .dataframe tbody tr th:only-of-type {\n",
              "        vertical-align: middle;\n",
              "    }\n",
              "\n",
              "    .dataframe tbody tr th {\n",
              "        vertical-align: top;\n",
              "    }\n",
              "\n",
              "    .dataframe thead th {\n",
              "        text-align: right;\n",
              "    }\n",
              "</style>\n",
              "<table border=\"1\" class=\"dataframe\">\n",
              "  <thead>\n",
              "    <tr style=\"text-align: right;\">\n",
              "      <th></th>\n",
              "      <th>날짜</th>\n",
              "      <th>지점</th>\n",
              "      <th>평균기온(℃)</th>\n",
              "      <th>최저기온(℃)</th>\n",
              "      <th>최고기온(℃)</th>\n",
              "    </tr>\n",
              "  </thead>\n",
              "  <tbody>\n",
              "    <tr>\n",
              "      <th>0</th>\n",
              "      <td>2015-01-01</td>\n",
              "      <td>108</td>\n",
              "      <td>-7.7</td>\n",
              "      <td>-9.8</td>\n",
              "      <td>-4.3</td>\n",
              "    </tr>\n",
              "    <tr>\n",
              "      <th>1</th>\n",
              "      <td>2015-01-02</td>\n",
              "      <td>108</td>\n",
              "      <td>-6.0</td>\n",
              "      <td>-9.0</td>\n",
              "      <td>-1.9</td>\n",
              "    </tr>\n",
              "    <tr>\n",
              "      <th>2</th>\n",
              "      <td>2015-01-03</td>\n",
              "      <td>108</td>\n",
              "      <td>-2.7</td>\n",
              "      <td>-9.2</td>\n",
              "      <td>3.1</td>\n",
              "    </tr>\n",
              "    <tr>\n",
              "      <th>3</th>\n",
              "      <td>2015-01-04</td>\n",
              "      <td>108</td>\n",
              "      <td>2.5</td>\n",
              "      <td>0.2</td>\n",
              "      <td>8.5</td>\n",
              "    </tr>\n",
              "    <tr>\n",
              "      <th>4</th>\n",
              "      <td>2015-01-05</td>\n",
              "      <td>108</td>\n",
              "      <td>3.7</td>\n",
              "      <td>-1.1</td>\n",
              "      <td>7.9</td>\n",
              "    </tr>\n",
              "    <tr>\n",
              "      <th>...</th>\n",
              "      <td>...</td>\n",
              "      <td>...</td>\n",
              "      <td>...</td>\n",
              "      <td>...</td>\n",
              "      <td>...</td>\n",
              "    </tr>\n",
              "    <tr>\n",
              "      <th>2187</th>\n",
              "      <td>2020-12-27</td>\n",
              "      <td>108</td>\n",
              "      <td>5.8</td>\n",
              "      <td>1.4</td>\n",
              "      <td>10.0</td>\n",
              "    </tr>\n",
              "    <tr>\n",
              "      <th>2188</th>\n",
              "      <td>2020-12-28</td>\n",
              "      <td>108</td>\n",
              "      <td>6.7</td>\n",
              "      <td>4.2</td>\n",
              "      <td>11.4</td>\n",
              "    </tr>\n",
              "    <tr>\n",
              "      <th>2189</th>\n",
              "      <td>2020-12-29</td>\n",
              "      <td>108</td>\n",
              "      <td>0.1</td>\n",
              "      <td>-6.2</td>\n",
              "      <td>4.3</td>\n",
              "    </tr>\n",
              "    <tr>\n",
              "      <th>2190</th>\n",
              "      <td>2020-12-30</td>\n",
              "      <td>108</td>\n",
              "      <td>-10.9</td>\n",
              "      <td>-12.9</td>\n",
              "      <td>-6.2</td>\n",
              "    </tr>\n",
              "    <tr>\n",
              "      <th>2191</th>\n",
              "      <td>2020-12-31</td>\n",
              "      <td>108</td>\n",
              "      <td>-8.9</td>\n",
              "      <td>-12.9</td>\n",
              "      <td>-5.0</td>\n",
              "    </tr>\n",
              "  </tbody>\n",
              "</table>\n",
              "<p>2192 rows × 5 columns</p>\n",
              "</div>"
            ],
            "text/plain": [
              "              날짜   지점  평균기온(℃)  최저기온(℃)  최고기온(℃)\n",
              "0     2015-01-01  108     -7.7     -9.8     -4.3\n",
              "1     2015-01-02  108     -6.0     -9.0     -1.9\n",
              "2     2015-01-03  108     -2.7     -9.2      3.1\n",
              "3     2015-01-04  108      2.5      0.2      8.5\n",
              "4     2015-01-05  108      3.7     -1.1      7.9\n",
              "...          ...  ...      ...      ...      ...\n",
              "2187  2020-12-27  108      5.8      1.4     10.0\n",
              "2188  2020-12-28  108      6.7      4.2     11.4\n",
              "2189  2020-12-29  108      0.1     -6.2      4.3\n",
              "2190  2020-12-30  108    -10.9    -12.9     -6.2\n",
              "2191  2020-12-31  108     -8.9    -12.9     -5.0\n",
              "\n",
              "[2192 rows x 5 columns]"
            ]
          },
          "metadata": {
            "tags": []
          },
          "execution_count": 3
        }
      ]
    },
    {
      "cell_type": "code",
      "metadata": {
        "colab": {
          "base_uri": "https://localhost:8080/",
          "height": 80
        },
        "id": "z5CMW9H6gwx9",
        "outputId": "7ce16798-1e8e-42bb-838b-457c62d927b5"
      },
      "source": [
        "# 결측치 확인\r\n",
        "tem.loc[tem.isna().iloc[:,4] == True,:]"
      ],
      "execution_count": null,
      "outputs": [
        {
          "output_type": "execute_result",
          "data": {
            "text/html": [
              "<div>\n",
              "<style scoped>\n",
              "    .dataframe tbody tr th:only-of-type {\n",
              "        vertical-align: middle;\n",
              "    }\n",
              "\n",
              "    .dataframe tbody tr th {\n",
              "        vertical-align: top;\n",
              "    }\n",
              "\n",
              "    .dataframe thead th {\n",
              "        text-align: right;\n",
              "    }\n",
              "</style>\n",
              "<table border=\"1\" class=\"dataframe\">\n",
              "  <thead>\n",
              "    <tr style=\"text-align: right;\">\n",
              "      <th></th>\n",
              "      <th>날짜</th>\n",
              "      <th>지점</th>\n",
              "      <th>평균기온(℃)</th>\n",
              "      <th>최저기온(℃)</th>\n",
              "      <th>최고기온(℃)</th>\n",
              "    </tr>\n",
              "  </thead>\n",
              "  <tbody>\n",
              "    <tr>\n",
              "      <th>1015</th>\n",
              "      <td>2017-10-12</td>\n",
              "      <td>108</td>\n",
              "      <td>11.4</td>\n",
              "      <td>8.8</td>\n",
              "      <td>NaN</td>\n",
              "    </tr>\n",
              "  </tbody>\n",
              "</table>\n",
              "</div>"
            ],
            "text/plain": [
              "              날짜   지점  평균기온(℃)  최저기온(℃)  최고기온(℃)\n",
              "1015  2017-10-12  108     11.4      8.8      NaN"
            ]
          },
          "metadata": {
            "tags": []
          },
          "execution_count": 4
        }
      ]
    },
    {
      "cell_type": "code",
      "metadata": {
        "colab": {
          "base_uri": "https://localhost:8080/",
          "height": 142
        },
        "id": "jEzdTlIohfU2",
        "outputId": "fb2a82e3-ac22-4c35-ed31-457b9695df6a"
      },
      "source": [
        "# 앞 뒤의 평균 넣어주기\r\n",
        "# 소숫점 둘째 자리에서 반올림\r\n",
        "tem.loc[tem.isna().iloc[:,4] == True, '최고기온(℃)'] = round(((tem.iloc[1014,4] + tem.iloc[1016,4]) / 2),2)\r\n",
        "tem.loc[1014:1016,:]"
      ],
      "execution_count": null,
      "outputs": [
        {
          "output_type": "execute_result",
          "data": {
            "text/html": [
              "<div>\n",
              "<style scoped>\n",
              "    .dataframe tbody tr th:only-of-type {\n",
              "        vertical-align: middle;\n",
              "    }\n",
              "\n",
              "    .dataframe tbody tr th {\n",
              "        vertical-align: top;\n",
              "    }\n",
              "\n",
              "    .dataframe thead th {\n",
              "        text-align: right;\n",
              "    }\n",
              "</style>\n",
              "<table border=\"1\" class=\"dataframe\">\n",
              "  <thead>\n",
              "    <tr style=\"text-align: right;\">\n",
              "      <th></th>\n",
              "      <th>날짜</th>\n",
              "      <th>지점</th>\n",
              "      <th>평균기온(℃)</th>\n",
              "      <th>최저기온(℃)</th>\n",
              "      <th>최고기온(℃)</th>\n",
              "    </tr>\n",
              "  </thead>\n",
              "  <tbody>\n",
              "    <tr>\n",
              "      <th>1014</th>\n",
              "      <td>2017-10-11</td>\n",
              "      <td>108</td>\n",
              "      <td>15.5</td>\n",
              "      <td>12.2</td>\n",
              "      <td>21.7</td>\n",
              "    </tr>\n",
              "    <tr>\n",
              "      <th>1015</th>\n",
              "      <td>2017-10-12</td>\n",
              "      <td>108</td>\n",
              "      <td>11.4</td>\n",
              "      <td>8.8</td>\n",
              "      <td>20.3</td>\n",
              "    </tr>\n",
              "    <tr>\n",
              "      <th>1016</th>\n",
              "      <td>2017-10-13</td>\n",
              "      <td>108</td>\n",
              "      <td>12.8</td>\n",
              "      <td>6.1</td>\n",
              "      <td>18.9</td>\n",
              "    </tr>\n",
              "  </tbody>\n",
              "</table>\n",
              "</div>"
            ],
            "text/plain": [
              "              날짜   지점  평균기온(℃)  최저기온(℃)  최고기온(℃)\n",
              "1014  2017-10-11  108     15.5     12.2     21.7\n",
              "1015  2017-10-12  108     11.4      8.8     20.3\n",
              "1016  2017-10-13  108     12.8      6.1     18.9"
            ]
          },
          "metadata": {
            "tags": []
          },
          "execution_count": 5
        }
      ]
    },
    {
      "cell_type": "code",
      "metadata": {
        "id": "ZmoR8Ts9jhi1"
      },
      "source": [
        "# 훈련, 테스트 만들기\r\n",
        "train = tem.iloc[:-30,2:]\r\n",
        "test = tem.iloc[-30:,2:]"
      ],
      "execution_count": null,
      "outputs": []
    },
    {
      "cell_type": "code",
      "metadata": {
        "colab": {
          "base_uri": "https://localhost:8080/",
          "height": 979
        },
        "id": "G_snITfclxpF",
        "outputId": "6d844bae-580f-446a-c9b9-a31022f4e857"
      },
      "source": [
        "# 테스트 데이터 예시\r\n",
        "tem.iloc[-30:,2:]"
      ],
      "execution_count": null,
      "outputs": [
        {
          "output_type": "execute_result",
          "data": {
            "text/html": [
              "<div>\n",
              "<style scoped>\n",
              "    .dataframe tbody tr th:only-of-type {\n",
              "        vertical-align: middle;\n",
              "    }\n",
              "\n",
              "    .dataframe tbody tr th {\n",
              "        vertical-align: top;\n",
              "    }\n",
              "\n",
              "    .dataframe thead th {\n",
              "        text-align: right;\n",
              "    }\n",
              "</style>\n",
              "<table border=\"1\" class=\"dataframe\">\n",
              "  <thead>\n",
              "    <tr style=\"text-align: right;\">\n",
              "      <th></th>\n",
              "      <th>평균기온(℃)</th>\n",
              "      <th>최저기온(℃)</th>\n",
              "      <th>최고기온(℃)</th>\n",
              "    </tr>\n",
              "  </thead>\n",
              "  <tbody>\n",
              "    <tr>\n",
              "      <th>2162</th>\n",
              "      <td>2.4</td>\n",
              "      <td>0.5</td>\n",
              "      <td>6.1</td>\n",
              "    </tr>\n",
              "    <tr>\n",
              "      <th>2163</th>\n",
              "      <td>0.7</td>\n",
              "      <td>-2.3</td>\n",
              "      <td>4.2</td>\n",
              "    </tr>\n",
              "    <tr>\n",
              "      <th>2164</th>\n",
              "      <td>-0.6</td>\n",
              "      <td>-4.6</td>\n",
              "      <td>4.4</td>\n",
              "    </tr>\n",
              "    <tr>\n",
              "      <th>2165</th>\n",
              "      <td>2.1</td>\n",
              "      <td>-2.2</td>\n",
              "      <td>6.6</td>\n",
              "    </tr>\n",
              "    <tr>\n",
              "      <th>2166</th>\n",
              "      <td>4.5</td>\n",
              "      <td>1.2</td>\n",
              "      <td>9.1</td>\n",
              "    </tr>\n",
              "    <tr>\n",
              "      <th>2167</th>\n",
              "      <td>3.4</td>\n",
              "      <td>-0.7</td>\n",
              "      <td>6.3</td>\n",
              "    </tr>\n",
              "    <tr>\n",
              "      <th>2168</th>\n",
              "      <td>-0.5</td>\n",
              "      <td>-3.5</td>\n",
              "      <td>4.1</td>\n",
              "    </tr>\n",
              "    <tr>\n",
              "      <th>2169</th>\n",
              "      <td>1.5</td>\n",
              "      <td>-4.1</td>\n",
              "      <td>6.2</td>\n",
              "    </tr>\n",
              "    <tr>\n",
              "      <th>2170</th>\n",
              "      <td>5.8</td>\n",
              "      <td>3.2</td>\n",
              "      <td>9.3</td>\n",
              "    </tr>\n",
              "    <tr>\n",
              "      <th>2171</th>\n",
              "      <td>5.3</td>\n",
              "      <td>2.6</td>\n",
              "      <td>9.4</td>\n",
              "    </tr>\n",
              "    <tr>\n",
              "      <th>2172</th>\n",
              "      <td>2.3</td>\n",
              "      <td>-0.3</td>\n",
              "      <td>6.1</td>\n",
              "    </tr>\n",
              "    <tr>\n",
              "      <th>2173</th>\n",
              "      <td>-1.1</td>\n",
              "      <td>-6.0</td>\n",
              "      <td>2.0</td>\n",
              "    </tr>\n",
              "    <tr>\n",
              "      <th>2174</th>\n",
              "      <td>-7.7</td>\n",
              "      <td>-9.7</td>\n",
              "      <td>-5.0</td>\n",
              "    </tr>\n",
              "    <tr>\n",
              "      <th>2175</th>\n",
              "      <td>-8.3</td>\n",
              "      <td>-11.1</td>\n",
              "      <td>-4.6</td>\n",
              "    </tr>\n",
              "    <tr>\n",
              "      <th>2176</th>\n",
              "      <td>-8.3</td>\n",
              "      <td>-11.2</td>\n",
              "      <td>-3.9</td>\n",
              "    </tr>\n",
              "    <tr>\n",
              "      <th>2177</th>\n",
              "      <td>-4.9</td>\n",
              "      <td>-11.1</td>\n",
              "      <td>0.8</td>\n",
              "    </tr>\n",
              "    <tr>\n",
              "      <th>2178</th>\n",
              "      <td>-2.1</td>\n",
              "      <td>-6.4</td>\n",
              "      <td>1.8</td>\n",
              "    </tr>\n",
              "    <tr>\n",
              "      <th>2179</th>\n",
              "      <td>-5.1</td>\n",
              "      <td>-9.6</td>\n",
              "      <td>-1.2</td>\n",
              "    </tr>\n",
              "    <tr>\n",
              "      <th>2180</th>\n",
              "      <td>-3.7</td>\n",
              "      <td>-8.2</td>\n",
              "      <td>1.1</td>\n",
              "    </tr>\n",
              "    <tr>\n",
              "      <th>2181</th>\n",
              "      <td>-1.0</td>\n",
              "      <td>-6.0</td>\n",
              "      <td>4.7</td>\n",
              "    </tr>\n",
              "    <tr>\n",
              "      <th>2182</th>\n",
              "      <td>2.0</td>\n",
              "      <td>-2.5</td>\n",
              "      <td>7.2</td>\n",
              "    </tr>\n",
              "    <tr>\n",
              "      <th>2183</th>\n",
              "      <td>4.5</td>\n",
              "      <td>-0.4</td>\n",
              "      <td>8.5</td>\n",
              "    </tr>\n",
              "    <tr>\n",
              "      <th>2184</th>\n",
              "      <td>2.6</td>\n",
              "      <td>-2.0</td>\n",
              "      <td>6.1</td>\n",
              "    </tr>\n",
              "    <tr>\n",
              "      <th>2185</th>\n",
              "      <td>-0.8</td>\n",
              "      <td>-4.7</td>\n",
              "      <td>3.5</td>\n",
              "    </tr>\n",
              "    <tr>\n",
              "      <th>2186</th>\n",
              "      <td>2.2</td>\n",
              "      <td>-2.1</td>\n",
              "      <td>8.0</td>\n",
              "    </tr>\n",
              "    <tr>\n",
              "      <th>2187</th>\n",
              "      <td>5.8</td>\n",
              "      <td>1.4</td>\n",
              "      <td>10.0</td>\n",
              "    </tr>\n",
              "    <tr>\n",
              "      <th>2188</th>\n",
              "      <td>6.7</td>\n",
              "      <td>4.2</td>\n",
              "      <td>11.4</td>\n",
              "    </tr>\n",
              "    <tr>\n",
              "      <th>2189</th>\n",
              "      <td>0.1</td>\n",
              "      <td>-6.2</td>\n",
              "      <td>4.3</td>\n",
              "    </tr>\n",
              "    <tr>\n",
              "      <th>2190</th>\n",
              "      <td>-10.9</td>\n",
              "      <td>-12.9</td>\n",
              "      <td>-6.2</td>\n",
              "    </tr>\n",
              "    <tr>\n",
              "      <th>2191</th>\n",
              "      <td>-8.9</td>\n",
              "      <td>-12.9</td>\n",
              "      <td>-5.0</td>\n",
              "    </tr>\n",
              "  </tbody>\n",
              "</table>\n",
              "</div>"
            ],
            "text/plain": [
              "      평균기온(℃)  최저기온(℃)  최고기온(℃)\n",
              "2162      2.4      0.5      6.1\n",
              "2163      0.7     -2.3      4.2\n",
              "2164     -0.6     -4.6      4.4\n",
              "2165      2.1     -2.2      6.6\n",
              "2166      4.5      1.2      9.1\n",
              "2167      3.4     -0.7      6.3\n",
              "2168     -0.5     -3.5      4.1\n",
              "2169      1.5     -4.1      6.2\n",
              "2170      5.8      3.2      9.3\n",
              "2171      5.3      2.6      9.4\n",
              "2172      2.3     -0.3      6.1\n",
              "2173     -1.1     -6.0      2.0\n",
              "2174     -7.7     -9.7     -5.0\n",
              "2175     -8.3    -11.1     -4.6\n",
              "2176     -8.3    -11.2     -3.9\n",
              "2177     -4.9    -11.1      0.8\n",
              "2178     -2.1     -6.4      1.8\n",
              "2179     -5.1     -9.6     -1.2\n",
              "2180     -3.7     -8.2      1.1\n",
              "2181     -1.0     -6.0      4.7\n",
              "2182      2.0     -2.5      7.2\n",
              "2183      4.5     -0.4      8.5\n",
              "2184      2.6     -2.0      6.1\n",
              "2185     -0.8     -4.7      3.5\n",
              "2186      2.2     -2.1      8.0\n",
              "2187      5.8      1.4     10.0\n",
              "2188      6.7      4.2     11.4\n",
              "2189      0.1     -6.2      4.3\n",
              "2190    -10.9    -12.9     -6.2\n",
              "2191     -8.9    -12.9     -5.0"
            ]
          },
          "metadata": {
            "tags": []
          },
          "execution_count": 7
        }
      ]
    },
    {
      "cell_type": "markdown",
      "metadata": {
        "id": "KRbmfU3Vou-X"
      },
      "source": [
        "데이터 전처리"
      ]
    },
    {
      "cell_type": "code",
      "metadata": {
        "id": "oIP7XakPilTh"
      },
      "source": [
        "# 전처리\r\n",
        "input_window = 90       # 모델에 들어가는 날짜\r\n",
        "output_window = 10       # 모델을 통해 예측한 날짜\r\n",
        "\r\n",
        "# 행렬을 먼저 만듬\r\n",
        "window_x = np.zeros((train.shape[0] - (input_window + output_window), input_window, 3))  # 전체 데이터, 들어갈 데이터, 컬럼수\r\n",
        "window_y = np.zeros((train.shape[0] - (input_window + output_window), output_window, 3))\r\n",
        "\r\n",
        "\r\n",
        "# 슬라이딩 윈도우 생성\r\n",
        "for start in range(train.shape[0] - (input_window + output_window)):\r\n",
        "    end = start + input_window \r\n",
        "\r\n",
        "    window_x[start,:, :] = train.iloc[start : end , : ].values   # X 데이터셋 만들기\r\n",
        "    window_y[start,:, :] = train.iloc[end   : end + output_window, : ].values   # 예측할 Y 데이터셋 (훈련시)"
      ],
      "execution_count": null,
      "outputs": []
    },
    {
      "cell_type": "markdown",
      "metadata": {
        "id": "S9lOI1JZnAq5"
      },
      "source": [
        "LSTM모델"
      ]
    },
    {
      "cell_type": "code",
      "metadata": {
        "colab": {
          "base_uri": "https://localhost:8080/"
        },
        "id": "MHiL5Yxdjfg4",
        "outputId": "04a41eca-ca2f-4c82-eeab-0fa4ff2036ce"
      },
      "source": [
        "# Model 생성\r\n",
        "\r\n",
        "class LSTM(nn.Module):\r\n",
        "    def __init__(self, input_size, hidden_size):\r\n",
        "        super(LSTM, self).__init__()\r\n",
        "        self.hidden_size = hidden_size\r\n",
        "        self.lstm = nn.LSTM(input_size = input_size,\r\n",
        "                            hidden_size = hidden_size,\r\n",
        "                            batch_first=True)\r\n",
        "        self.hidden_lstm = nn.LSTM(input_size = hidden_size,\r\n",
        "                                   hidden_size = hidden_size,\r\n",
        "                                   batch_first=True,\r\n",
        "                                   dropout=0.1,\r\n",
        "                                   num_layers = 3)\r\n",
        "        self.time_fc = nn.Linear(hidden_size, 3)\r\n",
        "    \r\n",
        "\r\n",
        "    def forward(self, x_time):\r\n",
        "        out_time, _ = self.lstm(x_time)\r\n",
        "        out_time, _ = self.hidden_lstm(out_time)\r\n",
        "\r\n",
        "        out_time = self.time_fc(out_time[:,-10:, :])\r\n",
        "        \r\n",
        "        return out_time.view(-1,10,3)\r\n",
        "  \r\n",
        "model_lstm = LSTM(input_size = 3, hidden_size = 64).to(device)  # to(device)를 통해 GPU로\r\n",
        "model_lstm"
      ],
      "execution_count": null,
      "outputs": [
        {
          "output_type": "execute_result",
          "data": {
            "text/plain": [
              "LSTM(\n",
              "  (lstm): LSTM(3, 64, batch_first=True)\n",
              "  (hidden_lstm): LSTM(64, 64, num_layers=3, batch_first=True, dropout=0.1)\n",
              "  (time_fc): Linear(in_features=64, out_features=3, bias=True)\n",
              ")"
            ]
          },
          "metadata": {
            "tags": []
          },
          "execution_count": 25
        }
      ]
    },
    {
      "cell_type": "markdown",
      "metadata": {
        "id": "QssJf9vhnS6_"
      },
      "source": [
        "학습"
      ]
    },
    {
      "cell_type": "code",
      "metadata": {
        "colab": {
          "base_uri": "https://localhost:8080/"
        },
        "id": "mElm-CPDjfdL",
        "outputId": "4839e195-03fd-40ed-f194-85d3344d1a41"
      },
      "source": [
        "# 학습 전 데이터 전처리\r\n",
        "window_x = torch.tensor(window_x).float().to(device)  # 데이터를 GPU로\r\n",
        "window_y = torch.tensor(window_y).float().to(device)\r\n",
        "\r\n",
        "# 훈련\r\n",
        "optimizer = torch.optim.Adam(model_lstm.parameters(), lr = 0.02)  \r\n",
        "criterion = nn.MSELoss(size_average = True)\r\n",
        "num_epochs  = 1000\r\n",
        "train_error = []\r\n",
        "\r\n",
        "for t in range(num_epochs):\r\n",
        "    train_pred = model_lstm(window_x)\r\n",
        "    loss = criterion(train_pred, window_y)  \r\n",
        "    train_error.append(loss)\r\n",
        "    \r\n",
        "    optimizer.zero_grad()\r\n",
        "    loss.backward()\r\n",
        "    optimizer.step()\r\n",
        "    \r\n",
        "    if (t +1) % 100 == 0 and t != 1:\r\n",
        "        print((t +1), \"Epochs train MSE: \", loss.item())"
      ],
      "execution_count": null,
      "outputs": [
        {
          "output_type": "stream",
          "text": [
            "100 Epochs train MSE:  12.529302597045898\n",
            "200 Epochs train MSE:  9.49511432647705\n",
            "300 Epochs train MSE:  8.180068969726562\n",
            "400 Epochs train MSE:  5.491964817047119\n",
            "500 Epochs train MSE:  4.028920650482178\n",
            "600 Epochs train MSE:  6.7700676918029785\n",
            "700 Epochs train MSE:  6.921672821044922\n",
            "800 Epochs train MSE:  4.082592010498047\n",
            "900 Epochs train MSE:  2.990241527557373\n",
            "1000 Epochs train MSE:  2.2923355102539062\n"
          ],
          "name": "stdout"
        }
      ]
    },
    {
      "cell_type": "markdown",
      "metadata": {
        "id": "Rw-39zEYlkw1"
      },
      "source": [
        "예측"
      ]
    },
    {
      "cell_type": "code",
      "metadata": {
        "id": "z7x6wgMijKcq",
        "colab": {
          "base_uri": "https://localhost:8080/",
          "height": 1000
        },
        "outputId": "5f9bc0a9-bf3a-4a1e-818f-54e039e14a9d"
      },
      "source": [
        "last_month = train.values[np.newaxis,...]  # Train 데이터 전체를 넣어서\r\n",
        "last_month = torch.tensor(last_month).float().to(device)  # 데이터를 토치화를 하여, GPU로 보냄\r\n",
        "\r\n",
        "lstm_pre = []  # 저장하오\r\n",
        "\r\n",
        "for start in range(3):  # 10일씩 3번 예측\r\n",
        "    \r\n",
        "    next_week = model_lstm(last_month)  # 30일 데이터로 5일을 예측\r\n",
        "    last_month = torch.cat([last_month, next_week], axis = 1)  # 훈련데이터에 예측값을 더해 또 예측\r\n",
        "\r\n",
        "    pred_week = next_week.detach().cpu().numpy().reshape(output_window,3)  # 예측한것 CPU, 넘파이로 (10,4)로 재배열\r\n",
        "\r\n",
        "    lstm_pre.append(pred_week)  # 예측한거 저장하오\r\n",
        "\r\n",
        "\r\n",
        "# 형식 변환 후, 데이터 프레임으로\r\n",
        "lstm_pre = np.array(lstm_pre).reshape(30,3)\r\n",
        "lstm_pre = pd.DataFrame(lstm_pre)\r\n",
        "lstm_pre = round(lstm_pre,1)\r\n",
        "\r\n",
        "print('30일 예측!! \\n')\r\n",
        "lstm_pre\r\n"
      ],
      "execution_count": null,
      "outputs": [
        {
          "output_type": "stream",
          "text": [
            "30일 예측!! \n",
            "\n"
          ],
          "name": "stdout"
        },
        {
          "output_type": "execute_result",
          "data": {
            "text/html": [
              "<div>\n",
              "<style scoped>\n",
              "    .dataframe tbody tr th:only-of-type {\n",
              "        vertical-align: middle;\n",
              "    }\n",
              "\n",
              "    .dataframe tbody tr th {\n",
              "        vertical-align: top;\n",
              "    }\n",
              "\n",
              "    .dataframe thead th {\n",
              "        text-align: right;\n",
              "    }\n",
              "</style>\n",
              "<table border=\"1\" class=\"dataframe\">\n",
              "  <thead>\n",
              "    <tr style=\"text-align: right;\">\n",
              "      <th></th>\n",
              "      <th>0</th>\n",
              "      <th>1</th>\n",
              "      <th>2</th>\n",
              "    </tr>\n",
              "  </thead>\n",
              "  <tbody>\n",
              "    <tr>\n",
              "      <th>0</th>\n",
              "      <td>2.4</td>\n",
              "      <td>-2.6</td>\n",
              "      <td>7.7</td>\n",
              "    </tr>\n",
              "    <tr>\n",
              "      <th>1</th>\n",
              "      <td>3.0</td>\n",
              "      <td>-1.2</td>\n",
              "      <td>7.6</td>\n",
              "    </tr>\n",
              "    <tr>\n",
              "      <th>2</th>\n",
              "      <td>2.0</td>\n",
              "      <td>-1.9</td>\n",
              "      <td>6.4</td>\n",
              "    </tr>\n",
              "    <tr>\n",
              "      <th>3</th>\n",
              "      <td>3.8</td>\n",
              "      <td>-0.2</td>\n",
              "      <td>8.3</td>\n",
              "    </tr>\n",
              "    <tr>\n",
              "      <th>4</th>\n",
              "      <td>2.9</td>\n",
              "      <td>-0.7</td>\n",
              "      <td>6.9</td>\n",
              "    </tr>\n",
              "    <tr>\n",
              "      <th>5</th>\n",
              "      <td>2.0</td>\n",
              "      <td>-1.5</td>\n",
              "      <td>6.0</td>\n",
              "    </tr>\n",
              "    <tr>\n",
              "      <th>6</th>\n",
              "      <td>1.9</td>\n",
              "      <td>-1.9</td>\n",
              "      <td>6.2</td>\n",
              "    </tr>\n",
              "    <tr>\n",
              "      <th>7</th>\n",
              "      <td>2.5</td>\n",
              "      <td>-1.5</td>\n",
              "      <td>7.1</td>\n",
              "    </tr>\n",
              "    <tr>\n",
              "      <th>8</th>\n",
              "      <td>4.5</td>\n",
              "      <td>0.4</td>\n",
              "      <td>9.2</td>\n",
              "    </tr>\n",
              "    <tr>\n",
              "      <th>9</th>\n",
              "      <td>5.7</td>\n",
              "      <td>2.2</td>\n",
              "      <td>9.8</td>\n",
              "    </tr>\n",
              "    <tr>\n",
              "      <th>10</th>\n",
              "      <td>8.2</td>\n",
              "      <td>5.1</td>\n",
              "      <td>12.2</td>\n",
              "    </tr>\n",
              "    <tr>\n",
              "      <th>11</th>\n",
              "      <td>8.3</td>\n",
              "      <td>5.3</td>\n",
              "      <td>12.2</td>\n",
              "    </tr>\n",
              "    <tr>\n",
              "      <th>12</th>\n",
              "      <td>7.0</td>\n",
              "      <td>3.6</td>\n",
              "      <td>11.5</td>\n",
              "    </tr>\n",
              "    <tr>\n",
              "      <th>13</th>\n",
              "      <td>4.4</td>\n",
              "      <td>0.9</td>\n",
              "      <td>8.9</td>\n",
              "    </tr>\n",
              "    <tr>\n",
              "      <th>14</th>\n",
              "      <td>1.8</td>\n",
              "      <td>-1.8</td>\n",
              "      <td>6.1</td>\n",
              "    </tr>\n",
              "    <tr>\n",
              "      <th>15</th>\n",
              "      <td>1.5</td>\n",
              "      <td>-2.6</td>\n",
              "      <td>6.2</td>\n",
              "    </tr>\n",
              "    <tr>\n",
              "      <th>16</th>\n",
              "      <td>4.4</td>\n",
              "      <td>-0.2</td>\n",
              "      <td>9.5</td>\n",
              "    </tr>\n",
              "    <tr>\n",
              "      <th>17</th>\n",
              "      <td>6.5</td>\n",
              "      <td>3.2</td>\n",
              "      <td>10.5</td>\n",
              "    </tr>\n",
              "    <tr>\n",
              "      <th>18</th>\n",
              "      <td>1.3</td>\n",
              "      <td>-2.1</td>\n",
              "      <td>5.5</td>\n",
              "    </tr>\n",
              "    <tr>\n",
              "      <th>19</th>\n",
              "      <td>-0.8</td>\n",
              "      <td>-4.4</td>\n",
              "      <td>3.3</td>\n",
              "    </tr>\n",
              "    <tr>\n",
              "      <th>20</th>\n",
              "      <td>-0.5</td>\n",
              "      <td>-4.5</td>\n",
              "      <td>4.0</td>\n",
              "    </tr>\n",
              "    <tr>\n",
              "      <th>21</th>\n",
              "      <td>1.0</td>\n",
              "      <td>-3.0</td>\n",
              "      <td>5.5</td>\n",
              "    </tr>\n",
              "    <tr>\n",
              "      <th>22</th>\n",
              "      <td>1.8</td>\n",
              "      <td>-2.2</td>\n",
              "      <td>6.4</td>\n",
              "    </tr>\n",
              "    <tr>\n",
              "      <th>23</th>\n",
              "      <td>3.4</td>\n",
              "      <td>-0.3</td>\n",
              "      <td>7.9</td>\n",
              "    </tr>\n",
              "    <tr>\n",
              "      <th>24</th>\n",
              "      <td>3.8</td>\n",
              "      <td>0.1</td>\n",
              "      <td>8.3</td>\n",
              "    </tr>\n",
              "    <tr>\n",
              "      <th>25</th>\n",
              "      <td>2.8</td>\n",
              "      <td>-1.0</td>\n",
              "      <td>7.4</td>\n",
              "    </tr>\n",
              "    <tr>\n",
              "      <th>26</th>\n",
              "      <td>1.5</td>\n",
              "      <td>-2.2</td>\n",
              "      <td>6.1</td>\n",
              "    </tr>\n",
              "    <tr>\n",
              "      <th>27</th>\n",
              "      <td>0.8</td>\n",
              "      <td>-2.8</td>\n",
              "      <td>5.0</td>\n",
              "    </tr>\n",
              "    <tr>\n",
              "      <th>28</th>\n",
              "      <td>-3.1</td>\n",
              "      <td>-6.4</td>\n",
              "      <td>1.0</td>\n",
              "    </tr>\n",
              "    <tr>\n",
              "      <th>29</th>\n",
              "      <td>-4.3</td>\n",
              "      <td>-8.0</td>\n",
              "      <td>0.1</td>\n",
              "    </tr>\n",
              "  </tbody>\n",
              "</table>\n",
              "</div>"
            ],
            "text/plain": [
              "      0    1     2\n",
              "0   2.4 -2.6   7.7\n",
              "1   3.0 -1.2   7.6\n",
              "2   2.0 -1.9   6.4\n",
              "3   3.8 -0.2   8.3\n",
              "4   2.9 -0.7   6.9\n",
              "5   2.0 -1.5   6.0\n",
              "6   1.9 -1.9   6.2\n",
              "7   2.5 -1.5   7.1\n",
              "8   4.5  0.4   9.2\n",
              "9   5.7  2.2   9.8\n",
              "10  8.2  5.1  12.2\n",
              "11  8.3  5.3  12.2\n",
              "12  7.0  3.6  11.5\n",
              "13  4.4  0.9   8.9\n",
              "14  1.8 -1.8   6.1\n",
              "15  1.5 -2.6   6.2\n",
              "16  4.4 -0.2   9.5\n",
              "17  6.5  3.2  10.5\n",
              "18  1.3 -2.1   5.5\n",
              "19 -0.8 -4.4   3.3\n",
              "20 -0.5 -4.5   4.0\n",
              "21  1.0 -3.0   5.5\n",
              "22  1.8 -2.2   6.4\n",
              "23  3.4 -0.3   7.9\n",
              "24  3.8  0.1   8.3\n",
              "25  2.8 -1.0   7.4\n",
              "26  1.5 -2.2   6.1\n",
              "27  0.8 -2.8   5.0\n",
              "28 -3.1 -6.4   1.0\n",
              "29 -4.3 -8.0   0.1"
            ]
          },
          "metadata": {
            "tags": []
          },
          "execution_count": 27
        }
      ]
    },
    {
      "cell_type": "markdown",
      "metadata": {
        "id": "1cX_MLeQt5zl"
      },
      "source": [
        "# 함수당\r\n",
        "> 그냥 넘어가슝"
      ]
    },
    {
      "cell_type": "code",
      "metadata": {
        "id": "bXo0yVSRjKUh"
      },
      "source": [
        "# 함수 뽱뽜라\r\n",
        "\r\n",
        "# 전역변수 처리\r\n",
        "window_x = torch.tensor(window_x).float().to(device)\r\n",
        "window_y = torch.tensor(window_y).float().to(device)\r\n",
        "\r\n",
        "def predict(model):  # 모델 이름이랑, 저장할 파일명\r\n",
        "\r\n",
        "  global pre_data\r\n",
        "\r\n",
        "  # 훈련\r\n",
        "  optimizer = torch.optim.Adam(model.parameters(), lr = 0.002)  \r\n",
        "  criterion = nn.MSELoss(size_average = True)\r\n",
        "  num_epochs  = 1000\r\n",
        "  train_error = []\r\n",
        "\r\n",
        "  for t in range(num_epochs):\r\n",
        "      train_pred = model(window_x)\r\n",
        "      loss = criterion(train_pred, window_y)  \r\n",
        "      train_error.append(loss)\r\n",
        "    \r\n",
        "      optimizer.zero_grad()\r\n",
        "      loss.backward()\r\n",
        "      optimizer.step()\r\n",
        "\r\n",
        "      if (t +1) % 100 == 0 and t != 1:\r\n",
        "        print((t +1), \"Epochs train MSE: \", loss.item())\r\n",
        "  \r\n",
        "  last_month = train.values[np.newaxis,...]  # Train 데이터 전체를 넣어서\r\n",
        "  last_month = torch.tensor(last_month).float().to(device)  # 데이터를 토치화를 하여, GPU로 보냄\r\n",
        "\r\n",
        "  pre_data = []  # 저장하오\r\n",
        "\r\n",
        "  for start in range(3):  # 10일씩 3번 예측\r\n",
        "    \r\n",
        "    next_week = model(last_month)  # 30일 데이터로 5일을 예측\r\n",
        "    last_month = torch.cat([last_month, next_week], axis = 1)  # 훈련데이터에 예측값을 더해 또 예측\r\n",
        "\r\n",
        "    pred_week = next_week.detach().cpu().numpy().reshape(output_window,3)  # 예측한것 CPU, 넘파이로 (10,4)로 재배열\r\n",
        "\r\n",
        "    pre_data.append(pred_week)  # 예측한거 저장하오\r\n",
        "\r\n",
        "\r\n",
        "  # 형식 변환 후, 데이터 프레임으로\r\n",
        "  pre_data = np.array(pre_data).reshape(30,3)\r\n",
        "  pre_data = pd.DataFrame(pre_data)\r\n",
        "  pre_data = round(pre_data,1)\r\n",
        "\r\n",
        "  print('끝')"
      ],
      "execution_count": null,
      "outputs": []
    },
    {
      "cell_type": "markdown",
      "metadata": {
        "id": "W5ihfkncpbIG"
      },
      "source": [
        "GRU 모델"
      ]
    },
    {
      "cell_type": "code",
      "metadata": {
        "id": "Rg1TZVdVjKXO",
        "colab": {
          "base_uri": "https://localhost:8080/"
        },
        "outputId": "a48fb834-5b51-44f1-ed8b-54a276ec9761"
      },
      "source": [
        "# Model 생성\r\n",
        "\r\n",
        "class GRU(nn.Module):\r\n",
        "    def __init__(self, input_size, hidden_size):\r\n",
        "        super(GRU, self).__init__()\r\n",
        "        self.hidden_size = hidden_size\r\n",
        "        self.GRU = nn.GRU(input_size = input_size,\r\n",
        "                            hidden_size = hidden_size,\r\n",
        "                            batch_first=True)\r\n",
        "        self.hidden_GRU = nn.GRU(input_size = hidden_size,\r\n",
        "                                   hidden_size = hidden_size,\r\n",
        "                                   batch_first=True,\r\n",
        "                                   dropout=0.1,\r\n",
        "                                   num_layers = 3)\r\n",
        "        self.time_fc = nn.Linear(hidden_size, 3)\r\n",
        "    \r\n",
        "\r\n",
        "    def forward(self, x_time):\r\n",
        "        out_time,_ = self.GRU(x_time)\r\n",
        "        out_time,_ = self.hidden_GRU(out_time)\r\n",
        "\r\n",
        "        out_time = self.time_fc(out_time[:,-10:, :])\r\n",
        "        \r\n",
        "        return out_time.view(-1,10,3)\r\n",
        "  \r\n",
        "model_GRU = GRU(input_size = 3, hidden_size = 64).to(device)  # to(device)를 통해 GPU로\r\n",
        "model_GRU"
      ],
      "execution_count": null,
      "outputs": [
        {
          "output_type": "execute_result",
          "data": {
            "text/plain": [
              "GRU(\n",
              "  (GRU): GRU(3, 64, batch_first=True)\n",
              "  (hidden_GRU): GRU(64, 64, num_layers=3, batch_first=True, dropout=0.1)\n",
              "  (time_fc): Linear(in_features=64, out_features=3, bias=True)\n",
              ")"
            ]
          },
          "metadata": {
            "tags": []
          },
          "execution_count": 49
        }
      ]
    },
    {
      "cell_type": "code",
      "metadata": {
        "colab": {
          "base_uri": "https://localhost:8080/"
        },
        "id": "wo9ViU5Sux14",
        "outputId": "7fa5106b-1712-4f13-bdeb-d3cc7a2c8157"
      },
      "source": [
        "predict(model_GRU)\r\n",
        "gru_pre = pre_data.copy()"
      ],
      "execution_count": null,
      "outputs": [
        {
          "output_type": "stream",
          "text": [
            "100 Epochs train MSE:  78.47576904296875\n",
            "200 Epochs train MSE:  26.516347885131836\n",
            "300 Epochs train MSE:  14.173111915588379\n",
            "400 Epochs train MSE:  10.316458702087402\n",
            "500 Epochs train MSE:  8.33225154876709\n",
            "600 Epochs train MSE:  7.172536373138428\n",
            "700 Epochs train MSE:  6.148269176483154\n",
            "800 Epochs train MSE:  5.622565746307373\n",
            "900 Epochs train MSE:  5.146425247192383\n",
            "1000 Epochs train MSE:  4.780187129974365\n",
            "끝\n"
          ],
          "name": "stdout"
        }
      ]
    },
    {
      "cell_type": "code",
      "metadata": {
        "colab": {
          "base_uri": "https://localhost:8080/"
        },
        "id": "5OEziT5zw1mK",
        "outputId": "310b8498-2362-476e-8ae3-e8edf2d874a6"
      },
      "source": [
        "# Model 생성\r\n",
        "\r\n",
        "class RNN(nn.Module):\r\n",
        "    def __init__(self, input_size, hidden_size):\r\n",
        "        super(RNN, self).__init__()\r\n",
        "        self.hidden_size = hidden_size\r\n",
        "        self.RNN = nn.RNN(input_size = input_size,\r\n",
        "                            hidden_size = hidden_size,\r\n",
        "                            batch_first=True)\r\n",
        "        self.hidden_RNN = nn.RNN(input_size = hidden_size,\r\n",
        "                                   hidden_size = hidden_size,\r\n",
        "                                   batch_first=True,\r\n",
        "                                   dropout=0.1,\r\n",
        "                                   num_layers = 3)\r\n",
        "        self.time_fc = nn.Linear(hidden_size, 3)\r\n",
        "    \r\n",
        "\r\n",
        "    def forward(self, x_time):\r\n",
        "        out_time,_ = self.RNN(x_time)\r\n",
        "        out_time,_ = self.hidden_RNN(out_time)\r\n",
        "\r\n",
        "        out_time = self.time_fc(out_time[:,-10:, :])\r\n",
        "        \r\n",
        "        return out_time.view(-1,10,3)\r\n",
        "  \r\n",
        "model_RNN = RNN(input_size = 3, hidden_size = 64).to(device)  # to(device)를 통해 GPU로\r\n",
        "model_RNN"
      ],
      "execution_count": null,
      "outputs": [
        {
          "output_type": "execute_result",
          "data": {
            "text/plain": [
              "RNN(\n",
              "  (RNN): RNN(3, 64, batch_first=True)\n",
              "  (hidden_RNN): RNN(64, 64, num_layers=3, batch_first=True, dropout=0.1)\n",
              "  (time_fc): Linear(in_features=64, out_features=3, bias=True)\n",
              ")"
            ]
          },
          "metadata": {
            "tags": []
          },
          "execution_count": 53
        }
      ]
    },
    {
      "cell_type": "code",
      "metadata": {
        "colab": {
          "base_uri": "https://localhost:8080/"
        },
        "id": "kZWlCD5aw1er",
        "outputId": "bea8bc45-cc4d-437e-e14c-d07ee1ed55ce"
      },
      "source": [
        "predict(model_RNN)\r\n",
        "rnn_pre = pre_data.copy()"
      ],
      "execution_count": null,
      "outputs": [
        {
          "output_type": "stream",
          "text": [
            "100 Epochs train MSE:  83.22745513916016\n",
            "200 Epochs train MSE:  29.254199981689453\n",
            "300 Epochs train MSE:  15.404851913452148\n",
            "400 Epochs train MSE:  10.239814758300781\n",
            "500 Epochs train MSE:  8.999850273132324\n",
            "600 Epochs train MSE:  6.91591215133667\n",
            "700 Epochs train MSE:  6.201975345611572\n",
            "800 Epochs train MSE:  5.577322959899902\n",
            "900 Epochs train MSE:  5.197918891906738\n",
            "1000 Epochs train MSE:  5.121532440185547\n",
            "끝\n"
          ],
          "name": "stdout"
        }
      ]
    },
    {
      "cell_type": "markdown",
      "metadata": {
        "id": "fvA6Z1iCuAW3"
      },
      "source": [
        "# 각 모델 결과 비교"
      ]
    },
    {
      "cell_type": "code",
      "metadata": {
        "id": "FjiW_U2RilQ8",
        "colab": {
          "base_uri": "https://localhost:8080/"
        },
        "outputId": "95bf242f-4619-4425-b26f-2a42f15b774f"
      },
      "source": [
        "print('\\n < LSTM > \\n',lstm_pre.head())\r\n",
        "print('\\n < GRU > \\n',gru_pre.head())\r\n",
        "print('\\n < RNN > \\n',rnn_pre.head())\r\n",
        "print('\\n < REAL > \\n',test.head())"
      ],
      "execution_count": null,
      "outputs": [
        {
          "output_type": "stream",
          "text": [
            "\n",
            " < LSTM > \n",
            "      0    1    2\n",
            "0  2.4 -2.6  7.7\n",
            "1  3.0 -1.2  7.6\n",
            "2  2.0 -1.9  6.4\n",
            "3  3.8 -0.2  8.3\n",
            "4  2.9 -0.7  6.9\n",
            "\n",
            " < GRU > \n",
            "      0    1    2\n",
            "0  2.7 -1.6  7.7\n",
            "1  2.8 -1.5  7.8\n",
            "2  3.4 -1.0  8.3\n",
            "3  3.8 -0.6  8.7\n",
            "4  4.5 -0.0  9.4\n",
            "\n",
            " < RNN > \n",
            "      0    1     2\n",
            "0  0.6 -3.7   5.2\n",
            "1  1.6 -2.6   6.4\n",
            "2  3.8 -0.5   8.9\n",
            "3  5.6  1.2  10.7\n",
            "4  4.8  0.6  10.0\n",
            "\n",
            " < REAL > \n",
            "       평균기온(℃)  최저기온(℃)  최고기온(℃)\n",
            "2162      2.4      0.5      6.1\n",
            "2163      0.7     -2.3      4.2\n",
            "2164     -0.6     -4.6      4.4\n",
            "2165      2.1     -2.2      6.6\n",
            "2166      4.5      1.2      9.1\n"
          ],
          "name": "stdout"
        }
      ]
    },
    {
      "cell_type": "code",
      "metadata": {
        "colab": {
          "base_uri": "https://localhost:8080/",
          "height": 612
        },
        "id": "zatB4WTG0Rs_",
        "outputId": "d5134b70-f50a-419d-c022-50587d74e0a2"
      },
      "source": [
        "import matplotlib.pyplot as plt\r\n",
        "\r\n",
        "a = lstm_pre.loc[:,0]\r\n",
        "b = gru_pre.loc[:,0]\r\n",
        "c = rnn_pre.loc[:,0]\r\n",
        "d = test.iloc[:,0].reset_index(drop = True)\r\n",
        "\r\n",
        "fig = plt.figure(figsize=(10,10))  ## 캔버스 생성\r\n",
        "fig.set_facecolor('white')       ## 캔버스 색상 설정\r\n",
        "ax = fig.add_subplot()           ## 그림 뼈대(프레임) 생성\r\n",
        "\r\n",
        "ax.plot(a, marker='o',label='LSTM')   ## 선그래프 생성\r\n",
        "ax.plot(b, marker='o',label='GRU') \r\n",
        "ax.plot(c, marker='o',label='RNN')\r\n",
        "ax.plot(d, marker='o',label='REAL') \r\n",
        "\r\n",
        "ax.legend() ## 범례\r\n",
        " \r\n",
        "plt.title('Average Temperature !!',fontsize=20) ## 타이틀 설정\r\n",
        "plt.show()"
      ],
      "execution_count": null,
      "outputs": [
        {
          "output_type": "display_data",
          "data": {
            "image/png": "[encoded data removed]",
            "text/plain": [
              "<Figure size 720x720 with 1 Axes>"
            ]
          },
          "metadata": {
            "tags": []
          }
        }
      ]
    },
    {
      "cell_type": "code",
      "metadata": {
        "colab": {
          "base_uri": "https://localhost:8080/",
          "height": 612
        },
        "id": "NZJeOtlIz2Fr",
        "outputId": "f178abb2-ed75-45c0-dd25-a2163006b486"
      },
      "source": [
        "import matplotlib.pyplot as plt\r\n",
        "\r\n",
        "a = lstm_pre.loc[:,1]\r\n",
        "b = gru_pre.loc[:,1]\r\n",
        "c = rnn_pre.loc[:,1]\r\n",
        "d = test.iloc[:,1].reset_index(drop = True)\r\n",
        "\r\n",
        "fig = plt.figure(figsize=(10,10))  ## 캔버스 생성\r\n",
        "fig.set_facecolor('white')       ## 캔버스 색상 설정\r\n",
        "ax = fig.add_subplot()           ## 그림 뼈대(프레임) 생성\r\n",
        "\r\n",
        "ax.plot(a, marker='o',label='LSTM')   ## 선그래프 생성\r\n",
        "ax.plot(b, marker='o',label='GRU') \r\n",
        "ax.plot(c, marker='o',label='RNN')\r\n",
        "ax.plot(d, marker='o',label='REAL') \r\n",
        "\r\n",
        "ax.legend() ## 범례\r\n",
        " \r\n",
        "plt.title('Minimum Temperature !!',fontsize=20) ## 타이틀 설정\r\n",
        "plt.show()"
      ],
      "execution_count": null,
      "outputs": [
        {
          "output_type": "display_data",
          "data": {
            "image/png": "[encoded data removed]",
            "text/plain": [
              "<Figure size 720x720 with 1 Axes>"
            ]
          },
          "metadata": {
            "tags": []
          }
        }
      ]
    },
    {
      "cell_type": "code",
      "metadata": {
        "colab": {
          "base_uri": "https://localhost:8080/",
          "height": 612
        },
        "id": "Bvs62Tk-z18q",
        "outputId": "a0556654-7711-46f8-a7ba-a0cd19ddfa89"
      },
      "source": [
        "import matplotlib.pyplot as plt\r\n",
        "\r\n",
        "a = lstm_pre.loc[:,2]\r\n",
        "b = gru_pre.loc[:,2]\r\n",
        "c = rnn_pre.loc[:,2]\r\n",
        "d = test.iloc[:,2].reset_index(drop = True)\r\n",
        "\r\n",
        "fig = plt.figure(figsize=(10,10))  ## 캔버스 생성\r\n",
        "fig.set_facecolor('white')       ## 캔버스 색상 설정\r\n",
        "ax = fig.add_subplot()           ## 그림 뼈대(프레임) 생성\r\n",
        "\r\n",
        "ax.plot(a, marker='o',label='LSTM')   ## 선그래프 생성\r\n",
        "ax.plot(b, marker='o',label='GRU') \r\n",
        "ax.plot(c, marker='o',label='RNN')\r\n",
        "ax.plot(d, marker='o',label='REAL') \r\n",
        "\r\n",
        "ax.legend() ## 범례\r\n",
        " \r\n",
        "plt.title('Highest Temperature !!',fontsize=20) ## 타이틀 설정\r\n",
        "plt.show()"
      ],
      "execution_count": null,
      "outputs": [
        {
          "output_type": "display_data",
          "data": {
            "image/png": "[encoded data removed]",
            "text/plain": [
              "<Figure size 720x720 with 1 Axes>"
            ]
          },
          "metadata": {
            "tags": []
          }
        }
      ]
    },
    {
      "cell_type": "markdown",
      "metadata": {
        "id": "VhYe6-IIGDVO"
      },
      "source": [
        "'͡◕⌒'͡◕? "
      ]
    },
    {
      "cell_type": "code",
      "metadata": {
        "colab": {
          "base_uri": "https://localhost:8080/",
          "height": 612
        },
        "id": "bP2DSGKwETgp",
        "outputId": "5dd510e2-a418-4cea-8e17-bfd97afe29e7"
      },
      "source": [
        "import matplotlib.pyplot as plt\r\n",
        "\r\n",
        "a = lstm_pre.loc[:,2]\r\n",
        "\r\n",
        "d = test.iloc[:,2].reset_index(drop = True)\r\n",
        "\r\n",
        "fig = plt.figure(figsize=(10,10))  ## 캔버스 생성\r\n",
        "fig.set_facecolor('white')       ## 캔버스 색상 설정\r\n",
        "ax = fig.add_subplot()           ## 그림 뼈대(프레임) 생성\r\n",
        "\r\n",
        "ax.plot(a, marker='o',label='LSTM')   ## 선그래프 생성\r\n",
        "\r\n",
        "ax.plot(d, marker='o',label='REAL') \r\n",
        "\r\n",
        "ax.legend() ## 범례\r\n",
        " \r\n",
        "plt.title('Highest Temperature !!',fontsize=20) ## 타이틀 설정\r\n",
        "plt.show()"
      ],
      "execution_count": null,
      "outputs": [
        {
          "output_type": "display_data",
          "data": {
            "image/png": "[encoded data removed]",
            "text/plain": [
              "<Figure size 720x720 with 1 Axes>"
            ]
          },
          "metadata": {
            "tags": []
          }
        }
      ]
    },
    {
      "cell_type": "markdown",
      "metadata": {
        "id": "aaEwi19TG1Oe"
      },
      "source": [
        "> 훈련시 슬라이딩 윈도우를 365일로 10일을 예측\r\n",
        "\r\n"
      ]
    },
    {
      "cell_type": "markdown",
      "metadata": {
        "id": "mtzxUdpI2_jK"
      },
      "source": [
        "# 고생하셨습니다 !!\r\n",
        "## /(^p^)/"
      ]
    },
    {
      "cell_type": "markdown",
      "metadata": {
        "id": "x0wQxEpmuDsG"
      },
      "source": [
        "# Q&A"
      ]
    },
    {
      "cell_type": "markdown",
      "metadata": {
        "id": "zdjc9YITuH1K"
      },
      "source": [
        "저희가 공부한 파이토치 책과의 차이!!\r\n",
        "* (LSTM이랑 GRU,RNN의 차이는 무엇일까요?)"
      ]
    },
    {
      "cell_type": "code",
      "metadata": {
        "id": "TSAt1y5yilBJ"
      },
      "source": [
        "class LSTM(nn.Module):\r\n",
        "    def __init__(self, input_size, hidden_size):\r\n",
        "        super(LSTM, self).__init__()\r\n",
        "        self.hidden_size = hidden_size\r\n",
        "        self.lstm = nn.LSTM(input_size = input_size,\r\n",
        "                            hidden_size = hidden_size,\r\n",
        "                            batch_first=True)\r\n",
        "        self.hidden_lstm = nn.LSTM(input_size = hidden_size,\r\n",
        "                                   hidden_size = hidden_size,\r\n",
        "                                   batch_first=True,\r\n",
        "                                   dropout=0.1,\r\n",
        "                                   num_layers = 3)\r\n",
        "        self.time_fc = nn.Linear(hidden_size, 3)\r\n",
        "    \r\n",
        "\r\n",
        "    def forward(self, x_time):\r\n",
        "        out_time, _ = self.lstm(x_time)\r\n",
        "        out_time, _ = self.hidden_lstm(out_time)\r\n",
        "\r\n",
        "        ####################################################################\r\n",
        "        #\r\n",
        "        # RNN은 out_time, hidden이 들어가고 LSTM은 out_time, (hidden,cell)이 들어가지만\r\n",
        "        # out_time,_를 사용하면 모두 사용가능\r\n",
        "        #\r\n",
        "        ####################################################################\r\n",
        "\r\n",
        "        out_time = self.time_fc(out_time[:,-10:, :])\r\n",
        "        \r\n",
        "        return out_time.view(-1,10,3)"
      ],
      "execution_count": null,
      "outputs": []
    }
  ]
}