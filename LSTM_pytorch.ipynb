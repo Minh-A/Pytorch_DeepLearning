{
  "nbformat": 4,
  "nbformat_minor": 0,
  "metadata": {
    "colab": {
      "name": "LSTM_pytorch.ipynb",
      "provenance": [],
      "collapsed_sections": [],
      "authorship_tag": "ABX9TyM+Js5gPIZ2uf4v0X216P+A",
      "include_colab_link": true
    },
    "kernelspec": {
      "name": "python3",
      "display_name": "Python 3"
    },
    "accelerator": "TPU"
  },
  "cells": [
    {
      "cell_type": "markdown",
      "metadata": {
        "id": "view-in-github",
        "colab_type": "text"
      },
      "source": [
        "<a href=\"https://colab.research.google.com/github/Minh-A/Pytorch_DeepLearning/blob/main/LSTM_pytorch.ipynb\" target=\"_parent\"><img src=\"https://colab.research.google.com/assets/colab-badge.svg\" alt=\"Open In Colab\"/></a>"
      ]
    },
    {
      "cell_type": "markdown",
      "metadata": {
        "id": "Y_8ei1RXuJ9H"
      },
      "source": [
        "# Library"
      ]
    },
    {
      "cell_type": "code",
      "metadata": {
        "colab": {
          "base_uri": "https://localhost:8080/"
        },
        "id": "i8Z9rgdPu2Vp",
        "outputId": "b5cebcaf-15cb-406c-8ec3-762a7274c5b3"
      },
      "source": [
        "# 구글드라이브 연결\r\n",
        "from google.colab import drive\r\n",
        "drive.mount('/content/drive')"
      ],
      "execution_count": null,
      "outputs": [
        {
          "output_type": "stream",
          "text": [
            "Mounted at /content/drive\n"
          ],
          "name": "stdout"
        }
      ]
    },
    {
      "cell_type": "code",
      "metadata": {
        "id": "xzzhI5Mgt5Il"
      },
      "source": [
        "import pandas as pd\r\n",
        "import numpy as np\r\n",
        "import warnings\r\n",
        "warnings.filterwarnings(action='ignore')\r\n",
        "import torch\r\n",
        "import torch.nn as nn\r\n",
        "import torch.nn.functional as F\r\n",
        "import torchvision\r\n",
        "import torchvision.transforms as transforms\r\n",
        "from torch.utils.data import Dataset,DataLoader\r\n",
        "import torch.optim as optim\r\n",
        "torch.manual_seed(1015) ###### <- 이거 뭐냐?\r\n",
        "\r\n",
        "# define 'device' to upload tensor in gpu\r\n",
        "device = torch.device(\"cuda:0\" if torch.cuda.is_available() else \"cpu\")\r\n",
        "\r\n",
        "#시간을 계산하는 함수\r\n",
        "import time, datetime\r\n",
        "def clock(start):\r\n",
        "    sec = time.time() - start #현재시간 - 시스템초기시간\r\n",
        "    times = str(datetime.timedelta(seconds = sec)).split(\".\") # 시간:분:초로 변환\r\n",
        "    times = times[0]\r\n",
        "    return times"
      ],
      "execution_count": null,
      "outputs": []
    },
    {
      "cell_type": "markdown",
      "metadata": {
        "id": "muM3grbHuNgS"
      },
      "source": [
        "# Data Load"
      ]
    },
    {
      "cell_type": "code",
      "metadata": {
        "id": "fMN_EN3St9ma"
      },
      "source": [
        "train = pd.read_csv(\"/content/drive/MyDrive/Colab Notebooks/LSTM_pytorch(Dacon)/input/train.csv\", encoding = 'euc-kr')\r\n",
        "train['DateTime'] = pd.to_datetime(train.DateTime)  # 데이터 타입을 object에서 datetime으로\r\n",
        "train['date'] = train.DateTime.dt.date  # 날짜만 뽑음\r\n",
        "train  = train.groupby('date').sum().reset_index()  # 날짜별로 묶음"
      ],
      "execution_count": null,
      "outputs": []
    },
    {
      "cell_type": "code",
      "metadata": {
        "colab": {
          "base_uri": "https://localhost:8080/",
          "height": 419
        },
        "id": "HsydKfrIvkwl",
        "outputId": "aaaf17bc-d621-46c9-d9f2-0341e7d862ad"
      },
      "source": [
        "train"
      ],
      "execution_count": null,
      "outputs": [
        {
          "output_type": "execute_result",
          "data": {
            "text/html": [
              "<div>\n",
              "<style scoped>\n",
              "    .dataframe tbody tr th:only-of-type {\n",
              "        vertical-align: middle;\n",
              "    }\n",
              "\n",
              "    .dataframe tbody tr th {\n",
              "        vertical-align: top;\n",
              "    }\n",
              "\n",
              "    .dataframe thead th {\n",
              "        text-align: right;\n",
              "    }\n",
              "</style>\n",
              "<table border=\"1\" class=\"dataframe\">\n",
              "  <thead>\n",
              "    <tr style=\"text-align: right;\">\n",
              "      <th></th>\n",
              "      <th>date</th>\n",
              "      <th>사용자</th>\n",
              "      <th>세션</th>\n",
              "      <th>신규방문자</th>\n",
              "      <th>페이지뷰</th>\n",
              "    </tr>\n",
              "  </thead>\n",
              "  <tbody>\n",
              "    <tr>\n",
              "      <th>0</th>\n",
              "      <td>2018-09-09</td>\n",
              "      <td>281</td>\n",
              "      <td>266</td>\n",
              "      <td>73</td>\n",
              "      <td>1826</td>\n",
              "    </tr>\n",
              "    <tr>\n",
              "      <th>1</th>\n",
              "      <td>2018-09-10</td>\n",
              "      <td>264</td>\n",
              "      <td>247</td>\n",
              "      <td>51</td>\n",
              "      <td>2092</td>\n",
              "    </tr>\n",
              "    <tr>\n",
              "      <th>2</th>\n",
              "      <td>2018-09-11</td>\n",
              "      <td>329</td>\n",
              "      <td>310</td>\n",
              "      <td>58</td>\n",
              "      <td>1998</td>\n",
              "    </tr>\n",
              "    <tr>\n",
              "      <th>3</th>\n",
              "      <td>2018-09-12</td>\n",
              "      <td>300</td>\n",
              "      <td>287</td>\n",
              "      <td>45</td>\n",
              "      <td>2595</td>\n",
              "    </tr>\n",
              "    <tr>\n",
              "      <th>4</th>\n",
              "      <td>2018-09-13</td>\n",
              "      <td>378</td>\n",
              "      <td>344</td>\n",
              "      <td>50</td>\n",
              "      <td>3845</td>\n",
              "    </tr>\n",
              "    <tr>\n",
              "      <th>...</th>\n",
              "      <td>...</td>\n",
              "      <td>...</td>\n",
              "      <td>...</td>\n",
              "      <td>...</td>\n",
              "      <td>...</td>\n",
              "    </tr>\n",
              "    <tr>\n",
              "      <th>787</th>\n",
              "      <td>2020-11-04</td>\n",
              "      <td>4516</td>\n",
              "      <td>4472</td>\n",
              "      <td>1196</td>\n",
              "      <td>112683</td>\n",
              "    </tr>\n",
              "    <tr>\n",
              "      <th>788</th>\n",
              "      <td>2020-11-05</td>\n",
              "      <td>4155</td>\n",
              "      <td>4037</td>\n",
              "      <td>1044</td>\n",
              "      <td>102901</td>\n",
              "    </tr>\n",
              "    <tr>\n",
              "      <th>789</th>\n",
              "      <td>2020-11-06</td>\n",
              "      <td>3663</td>\n",
              "      <td>3576</td>\n",
              "      <td>825</td>\n",
              "      <td>88015</td>\n",
              "    </tr>\n",
              "    <tr>\n",
              "      <th>790</th>\n",
              "      <td>2020-11-07</td>\n",
              "      <td>2472</td>\n",
              "      <td>2417</td>\n",
              "      <td>531</td>\n",
              "      <td>57386</td>\n",
              "    </tr>\n",
              "    <tr>\n",
              "      <th>791</th>\n",
              "      <td>2020-11-08</td>\n",
              "      <td>2492</td>\n",
              "      <td>2420</td>\n",
              "      <td>522</td>\n",
              "      <td>50486</td>\n",
              "    </tr>\n",
              "  </tbody>\n",
              "</table>\n",
              "<p>792 rows × 5 columns</p>\n",
              "</div>"
            ],
            "text/plain": [
              "           date   사용자    세션  신규방문자    페이지뷰\n",
              "0    2018-09-09   281   266     73    1826\n",
              "1    2018-09-10   264   247     51    2092\n",
              "2    2018-09-11   329   310     58    1998\n",
              "3    2018-09-12   300   287     45    2595\n",
              "4    2018-09-13   378   344     50    3845\n",
              "..          ...   ...   ...    ...     ...\n",
              "787  2020-11-04  4516  4472   1196  112683\n",
              "788  2020-11-05  4155  4037   1044  102901\n",
              "789  2020-11-06  3663  3576    825   88015\n",
              "790  2020-11-07  2472  2417    531   57386\n",
              "791  2020-11-08  2492  2420    522   50486\n",
              "\n",
              "[792 rows x 5 columns]"
            ]
          },
          "metadata": {
            "tags": []
          },
          "execution_count": 4
        }
      ]
    },
    {
      "cell_type": "markdown",
      "metadata": {
        "id": "7AU-G9yUuS4k"
      },
      "source": [
        "# Data Preprocessing"
      ]
    },
    {
      "cell_type": "code",
      "metadata": {
        "id": "BPCqI-MPt9os"
      },
      "source": [
        "# scaling\r\n",
        "mini = train.iloc[:,1:].min()\r\n",
        "size = train.iloc[:,1:].max() - train.iloc[:,1:].min()\r\n",
        "train.iloc[:,1:] = (train.iloc[:,1:] -  mini) / size\r\n",
        "\r\n",
        "input_window = 30\r\n",
        "output_window = 7\r\n",
        "\r\n",
        "window_x = np.zeros((train.shape[0] - (input_window + output_window), input_window, 4))\r\n",
        "window_y = np.zeros((train.shape[0] - (input_window + output_window), output_window, 4))\r\n",
        "\r\n",
        "for start in range(train.shape[0] - (input_window + output_window)):\r\n",
        "    end = start + input_window    \r\n",
        "    window_x[start,:, :] = train.iloc[start : end                , 1: ].values\r\n",
        "    window_y[start,:, :] = train.iloc[end   : end + output_window, 1: ].values"
      ],
      "execution_count": null,
      "outputs": []
    },
    {
      "cell_type": "markdown",
      "metadata": {
        "id": "NBX3BvLwuYYU"
      },
      "source": [
        "# Model"
      ]
    },
    {
      "cell_type": "code",
      "metadata": {
        "id": "FvcbfrNot9qy"
      },
      "source": [
        "# Model 생성\r\n",
        "class LSTM(nn.Module):\r\n",
        "    def __init__(self, input_size, hidden_size):\r\n",
        "        super(LSTM, self).__init__()\r\n",
        "        self.hidden_size = hidden_size\r\n",
        "        self.lstm = nn.LSTM(input_size = input_size,\r\n",
        "                            hidden_size = hidden_size,\r\n",
        "                            batch_first=True)\r\n",
        "        self.hidden_lstm = nn.LSTM(input_size = hidden_size,\r\n",
        "                                   hidden_size = hidden_size,\r\n",
        "                                   batch_first=True)\r\n",
        "        \r\n",
        "        self.time_fc = nn.Linear(hidden_size, 4)\r\n",
        "    \r\n",
        "    def forward(self, x_time):\r\n",
        "    \r\n",
        "        out_time, _ = self.lstm(x_time)\r\n",
        "        out_time, _ = self.hidden_lstm(out_time)\r\n",
        "        out_time, _ = self.hidden_lstm(out_time)\r\n",
        "        out_time, _ = self.hidden_lstm(out_time)\r\n",
        "        \r\n",
        "        \r\n",
        "        out_time = self.time_fc(out_time[:,-7:, :])\r\n",
        "        \r\n",
        "        return out_time.view(-1,7,4)\r\n",
        "    \r\n",
        "model = LSTM(input_size = 4, hidden_size = 30).to(device)"
      ],
      "execution_count": null,
      "outputs": []
    },
    {
      "cell_type": "code",
      "metadata": {
        "colab": {
          "base_uri": "https://localhost:8080/"
        },
        "id": "VXYtZwu4t9tS",
        "outputId": "b5eb96da-1b8d-4b70-dd07-5aeb41832383"
      },
      "source": [
        "# Model학습\r\n",
        "window_x = torch.tensor(window_x).float().to(device)\r\n",
        "window_y = torch.tensor(window_y).float().to(device)\r\n",
        "\r\n",
        "# Train model\r\n",
        "optimizer = torch.optim.Adam(model.parameters(), lr = 1e-2)\r\n",
        "criterion = nn.MSELoss(size_average = True)\r\n",
        "num_epochs  = 500\r\n",
        "train_error = []\r\n",
        "for t in range(num_epochs):\r\n",
        "    train_pred = model(window_x)\r\n",
        "    loss = criterion(train_pred, window_y) ### trend\r\n",
        "    train_error.append(loss)\r\n",
        "    \r\n",
        "    optimizer.zero_grad()\r\n",
        "    loss.backward()\r\n",
        "    optimizer.step()\r\n",
        "    if t % 10 == 0 and t !=0:\r\n",
        "        print(f\"{t} Epochs train MSE: {loss.item():1.5f}\")"
      ],
      "execution_count": null,
      "outputs": [
        {
          "output_type": "stream",
          "text": [
            "10 Epochs train MSE: 0.02835\n",
            "20 Epochs train MSE: 0.01247\n",
            "30 Epochs train MSE: 0.01229\n",
            "40 Epochs train MSE: 0.01079\n",
            "50 Epochs train MSE: 0.00841\n",
            "60 Epochs train MSE: 0.00808\n",
            "70 Epochs train MSE: 0.00795\n",
            "80 Epochs train MSE: 0.00784\n",
            "90 Epochs train MSE: 0.00775\n",
            "100 Epochs train MSE: 0.00765\n",
            "110 Epochs train MSE: 0.00749\n",
            "120 Epochs train MSE: 0.00721\n",
            "130 Epochs train MSE: 0.00660\n",
            "140 Epochs train MSE: 0.00675\n",
            "150 Epochs train MSE: 0.00647\n",
            "160 Epochs train MSE: 0.00624\n",
            "170 Epochs train MSE: 0.00608\n",
            "180 Epochs train MSE: 0.00599\n",
            "190 Epochs train MSE: 0.00591\n",
            "200 Epochs train MSE: 0.00580\n",
            "210 Epochs train MSE: 0.00564\n",
            "220 Epochs train MSE: 0.00563\n",
            "230 Epochs train MSE: 0.00667\n",
            "240 Epochs train MSE: 0.00632\n",
            "250 Epochs train MSE: 0.00585\n",
            "260 Epochs train MSE: 0.00560\n",
            "270 Epochs train MSE: 0.00547\n",
            "280 Epochs train MSE: 0.00536\n",
            "290 Epochs train MSE: 0.00544\n",
            "300 Epochs train MSE: 0.00531\n",
            "310 Epochs train MSE: 0.00515\n",
            "320 Epochs train MSE: 0.00500\n",
            "330 Epochs train MSE: 0.00472\n",
            "340 Epochs train MSE: 0.00455\n",
            "350 Epochs train MSE: 0.00452\n",
            "360 Epochs train MSE: 0.00419\n",
            "370 Epochs train MSE: 0.00373\n",
            "380 Epochs train MSE: 0.00358\n",
            "390 Epochs train MSE: 0.00354\n",
            "400 Epochs train MSE: 0.00320\n",
            "410 Epochs train MSE: 0.00299\n",
            "420 Epochs train MSE: 0.00295\n",
            "430 Epochs train MSE: 0.00259\n",
            "440 Epochs train MSE: 0.00236\n",
            "450 Epochs train MSE: 0.00223\n",
            "460 Epochs train MSE: 0.00426\n",
            "470 Epochs train MSE: 0.00418\n",
            "480 Epochs train MSE: 0.00348\n",
            "490 Epochs train MSE: 0.00294\n"
          ],
          "name": "stdout"
        }
      ]
    },
    {
      "cell_type": "markdown",
      "metadata": {
        "id": "CpLq-U-Fubmh"
      },
      "source": [
        "# Prediction & CSV "
      ]
    },
    {
      "cell_type": "code",
      "metadata": {
        "colab": {
          "base_uri": "https://localhost:8080/"
        },
        "id": "JrhkElOLt9vs",
        "outputId": "ea0d81e4-d417-4e5b-a01b-4a2696bac5ec"
      },
      "source": [
        "# 예측 및 제출파일 생성\r\n",
        "start = time.time()\r\n",
        "submission = pd.read_csv(\"/content/drive/MyDrive/Colab Notebooks/LSTM_pytorch(Dacon)/input/train.csv\", encoding = 'euc-kr')\r\n",
        "last_month = torch.tensor(window_x[-1,:,:][np.newaxis,...]).float().to(device)\r\n",
        "for start in range((len(submission) - output_window)//7 + 2):\r\n",
        "    start = start * 7\r\n",
        "    print(start)\r\n",
        "    next_week = model(last_month)\r\n",
        "    last_month = torch.cat([last_month[-7:], next_week], axis = 1)\r\n",
        "    \r\n",
        "    pred_week = next_week.cpu().detach().numpy().reshape(output_window,4)\r\n",
        "    pred_week = pred_week * size.values + mini.values\r\n",
        "    pred_week = pred_week.astype(int)\r\n",
        "    \r\n",
        "    if start/7 == (len(submission) - output_window)//7 + 1:\r\n",
        "        submission.iloc[start :, 1:] = pred_week[-submission.iloc[start :, 1:].shape[0]:,:]\r\n",
        "    else:\r\n",
        "        submission.iloc[start : start + output_window, 1:] = pred_week\r\n",
        "print(\"끝!!!!\",  clock(start) ) \r\n",
        "submission"
      ],
      "execution_count": null,
      "outputs": [
        {
          "output_type": "stream",
          "text": [
            "0\n",
            "7\n",
            "14\n",
            "21\n",
            "28\n",
            "35\n",
            "42\n",
            "49\n",
            "56\n",
            "63\n",
            "70\n",
            "77\n",
            "84\n",
            "91\n",
            "98\n",
            "105\n",
            "112\n",
            "119\n",
            "126\n",
            "133\n",
            "140\n",
            "147\n",
            "154\n",
            "161\n",
            "168\n",
            "175\n",
            "182\n",
            "189\n",
            "196\n",
            "203\n",
            "210\n",
            "217\n",
            "224\n",
            "231\n",
            "238\n",
            "245\n",
            "252\n",
            "259\n",
            "266\n",
            "273\n",
            "280\n",
            "287\n",
            "294\n",
            "301\n",
            "308\n",
            "315\n",
            "322\n",
            "329\n",
            "336\n",
            "343\n",
            "350\n",
            "357\n",
            "364\n",
            "371\n",
            "378\n",
            "385\n",
            "392\n",
            "399\n",
            "406\n",
            "413\n",
            "420\n",
            "427\n",
            "434\n",
            "441\n",
            "448\n",
            "455\n",
            "462\n",
            "469\n",
            "476\n",
            "483\n",
            "490\n",
            "497\n",
            "504\n",
            "511\n",
            "518\n",
            "525\n",
            "532\n",
            "539\n",
            "546\n",
            "553\n",
            "560\n",
            "567\n",
            "574\n",
            "581\n",
            "588\n",
            "595\n",
            "602\n",
            "609\n",
            "616\n",
            "623\n",
            "630\n",
            "637\n",
            "644\n",
            "651\n",
            "658\n",
            "665\n",
            "672\n",
            "679\n",
            "686\n",
            "693\n",
            "700\n",
            "707\n",
            "714\n",
            "721\n",
            "728\n",
            "735\n",
            "742\n",
            "749\n",
            "756\n",
            "763\n",
            "770\n",
            "777\n",
            "784\n",
            "791\n",
            "798\n",
            "805\n",
            "812\n",
            "819\n",
            "826\n",
            "833\n",
            "840\n",
            "847\n",
            "854\n",
            "861\n",
            "868\n",
            "875\n",
            "882\n",
            "889\n",
            "896\n",
            "903\n",
            "910\n",
            "917\n",
            "924\n",
            "931\n",
            "938\n",
            "945\n",
            "952\n",
            "959\n",
            "966\n",
            "973\n",
            "980\n",
            "987\n",
            "994\n",
            "1001\n",
            "1008\n",
            "1015\n",
            "1022\n",
            "1029\n",
            "1036\n",
            "1043\n",
            "1050\n",
            "1057\n",
            "1064\n",
            "1071\n",
            "1078\n",
            "1085\n",
            "1092\n",
            "1099\n",
            "1106\n",
            "1113\n",
            "1120\n",
            "1127\n",
            "1134\n",
            "1141\n",
            "1148\n",
            "1155\n",
            "1162\n",
            "1169\n",
            "1176\n",
            "1183\n",
            "1190\n",
            "1197\n",
            "1204\n",
            "1211\n",
            "1218\n",
            "1225\n",
            "1232\n",
            "1239\n",
            "1246\n",
            "1253\n",
            "1260\n",
            "1267\n",
            "1274\n",
            "1281\n",
            "1288\n",
            "1295\n",
            "1302\n",
            "1309\n",
            "1316\n",
            "1323\n",
            "1330\n",
            "1337\n",
            "1344\n",
            "1351\n",
            "1358\n",
            "1365\n",
            "1372\n",
            "1379\n",
            "1386\n",
            "1393\n",
            "1400\n",
            "1407\n",
            "1414\n",
            "1421\n",
            "1428\n",
            "1435\n"
          ],
          "name": "stdout"
        }
      ]
    },
    {
      "cell_type": "code",
      "metadata": {
        "id": "fiWtJ1DDt9x-"
      },
      "source": [
        "submission.to_csv('/content/drive/MyDrive/Colab Notebooks/LSTM_pytorch(Dacon)/input/제출1.csv', index = False, encoding = 'euc-kr')"
      ],
      "execution_count": null,
      "outputs": []
    },
    {
      "cell_type": "code",
      "metadata": {
        "id": "Fcvux642t90U"
      },
      "source": [
        ""
      ],
      "execution_count": null,
      "outputs": []
    },
    {
      "cell_type": "code",
      "metadata": {
        "id": "mJ5bCz-ut92m"
      },
      "source": [
        ""
      ],
      "execution_count": null,
      "outputs": []
    },
    {
      "cell_type": "code",
      "metadata": {
        "id": "WyrGlx44t95X"
      },
      "source": [
        ""
      ],
      "execution_count": null,
      "outputs": []
    }
  ]
}