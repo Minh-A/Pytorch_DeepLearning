{
  "nbformat": 4,
  "nbformat_minor": 0,
  "metadata": {
    "colab": {
      "name": "LSTM_pytorch_1.ipynb",
      "provenance": [],
      "collapsed_sections": [],
      "authorship_tag": "ABX9TyOBUms70VawDXa+FrosC3xp",
      "include_colab_link": true
    },
    "kernelspec": {
      "name": "python3",
      "display_name": "Python 3"
    },
    "accelerator": "GPU"
  },
  "cells": [
    {
      "cell_type": "markdown",
      "metadata": {
        "id": "view-in-github",
        "colab_type": "text"
      },
      "source": [
        "<a href=\"https://colab.research.google.com/github/Minh-A/Pytorch_DeepLearning/blob/main/LSTM_pytorch_1.ipynb\" target=\"_parent\"><img src=\"https://colab.research.google.com/assets/colab-badge.svg\" alt=\"Open In Colab\"/></a>"
      ]
    },
    {
      "cell_type": "markdown",
      "metadata": {
        "id": "Y_8ei1RXuJ9H"
      },
      "source": [
        "# Library"
      ]
    },
    {
      "cell_type": "code",
      "metadata": {
        "colab": {
          "base_uri": "https://localhost:8080/"
        },
        "id": "i8Z9rgdPu2Vp",
        "outputId": "77a6c0f8-5917-4e9a-87d3-e8ad3d99eb75"
      },
      "source": [
        "# 구글드라이브 연결\r\n",
        "from google.colab import drive\r\n",
        "drive.mount('/content/drive')"
      ],
      "execution_count": 4,
      "outputs": [
        {
          "output_type": "stream",
          "text": [
            "Mounted at /content/drive\n"
          ],
          "name": "stdout"
        }
      ]
    },
    {
      "cell_type": "code",
      "metadata": {
        "id": "xzzhI5Mgt5Il"
      },
      "source": [
        "import pandas as pd\r\n",
        "import numpy as np\r\n",
        "import warnings\r\n",
        "warnings.filterwarnings(action='ignore')\r\n",
        "import torch\r\n",
        "import torch.nn as nn\r\n",
        "import torch.nn.functional as F\r\n",
        "import torchvision\r\n",
        "import torchvision.transforms as transforms\r\n",
        "from torch.utils.data import Dataset,DataLoader\r\n",
        "import torch.optim as optim\r\n",
        "torch.manual_seed(1015) ###### <- 이거 뭐냐?(랜덤시드 같은 것)\r\n",
        "\r\n",
        "# define 'device' to upload tensor in gpu\r\n",
        "device = torch.device(\"cuda:0\" if torch.cuda.is_available() else \"cpu\")\r\n",
        "\r\n",
        "#시간을 계산하는 함수\r\n",
        "import time, datetime\r\n",
        "def clock(start):\r\n",
        "    sec = time.time() - start #현재시간 - 시스템초기시간\r\n",
        "    times = str(datetime.timedelta(seconds = sec)).split(\".\") # 시간:분:초로 변환\r\n",
        "    times = times[0]\r\n",
        "    return times"
      ],
      "execution_count": 5,
      "outputs": []
    },
    {
      "cell_type": "markdown",
      "metadata": {
        "id": "muM3grbHuNgS"
      },
      "source": [
        "# Data Load"
      ]
    },
    {
      "cell_type": "code",
      "metadata": {
        "id": "fMN_EN3St9ma"
      },
      "source": [
        "train = pd.read_csv(\"/content/drive/MyDrive/Colab Notebooks/LSTM_pytorch(Dacon)/input/train.csv\", encoding = 'euc-kr')\r\n",
        "train['DateTime'] = pd.to_datetime(train.DateTime)  # 데이터 타입을 object에서 datetime으로\r\n",
        "train['date'] = train.DateTime.dt.date  # 날짜만 뽑음\r\n",
        "train  = train.groupby('date').sum().reset_index()  # 날짜별로 묶음"
      ],
      "execution_count": 6,
      "outputs": []
    },
    {
      "cell_type": "code",
      "metadata": {
        "colab": {
          "base_uri": "https://localhost:8080/",
          "height": 419
        },
        "id": "HsydKfrIvkwl",
        "outputId": "2cca7358-ed8a-4947-c9d4-7ab0d31df21c"
      },
      "source": [
        "train"
      ],
      "execution_count": 7,
      "outputs": [
        {
          "output_type": "execute_result",
          "data": {
            "text/html": [
              "<div>\n",
              "<style scoped>\n",
              "    .dataframe tbody tr th:only-of-type {\n",
              "        vertical-align: middle;\n",
              "    }\n",
              "\n",
              "    .dataframe tbody tr th {\n",
              "        vertical-align: top;\n",
              "    }\n",
              "\n",
              "    .dataframe thead th {\n",
              "        text-align: right;\n",
              "    }\n",
              "</style>\n",
              "<table border=\"1\" class=\"dataframe\">\n",
              "  <thead>\n",
              "    <tr style=\"text-align: right;\">\n",
              "      <th></th>\n",
              "      <th>date</th>\n",
              "      <th>사용자</th>\n",
              "      <th>세션</th>\n",
              "      <th>신규방문자</th>\n",
              "      <th>페이지뷰</th>\n",
              "    </tr>\n",
              "  </thead>\n",
              "  <tbody>\n",
              "    <tr>\n",
              "      <th>0</th>\n",
              "      <td>2018-09-09</td>\n",
              "      <td>281</td>\n",
              "      <td>266</td>\n",
              "      <td>73</td>\n",
              "      <td>1826</td>\n",
              "    </tr>\n",
              "    <tr>\n",
              "      <th>1</th>\n",
              "      <td>2018-09-10</td>\n",
              "      <td>264</td>\n",
              "      <td>247</td>\n",
              "      <td>51</td>\n",
              "      <td>2092</td>\n",
              "    </tr>\n",
              "    <tr>\n",
              "      <th>2</th>\n",
              "      <td>2018-09-11</td>\n",
              "      <td>329</td>\n",
              "      <td>310</td>\n",
              "      <td>58</td>\n",
              "      <td>1998</td>\n",
              "    </tr>\n",
              "    <tr>\n",
              "      <th>3</th>\n",
              "      <td>2018-09-12</td>\n",
              "      <td>300</td>\n",
              "      <td>287</td>\n",
              "      <td>45</td>\n",
              "      <td>2595</td>\n",
              "    </tr>\n",
              "    <tr>\n",
              "      <th>4</th>\n",
              "      <td>2018-09-13</td>\n",
              "      <td>378</td>\n",
              "      <td>344</td>\n",
              "      <td>50</td>\n",
              "      <td>3845</td>\n",
              "    </tr>\n",
              "    <tr>\n",
              "      <th>...</th>\n",
              "      <td>...</td>\n",
              "      <td>...</td>\n",
              "      <td>...</td>\n",
              "      <td>...</td>\n",
              "      <td>...</td>\n",
              "    </tr>\n",
              "    <tr>\n",
              "      <th>787</th>\n",
              "      <td>2020-11-04</td>\n",
              "      <td>4516</td>\n",
              "      <td>4472</td>\n",
              "      <td>1196</td>\n",
              "      <td>112683</td>\n",
              "    </tr>\n",
              "    <tr>\n",
              "      <th>788</th>\n",
              "      <td>2020-11-05</td>\n",
              "      <td>4155</td>\n",
              "      <td>4037</td>\n",
              "      <td>1044</td>\n",
              "      <td>102901</td>\n",
              "    </tr>\n",
              "    <tr>\n",
              "      <th>789</th>\n",
              "      <td>2020-11-06</td>\n",
              "      <td>3663</td>\n",
              "      <td>3576</td>\n",
              "      <td>825</td>\n",
              "      <td>88015</td>\n",
              "    </tr>\n",
              "    <tr>\n",
              "      <th>790</th>\n",
              "      <td>2020-11-07</td>\n",
              "      <td>2472</td>\n",
              "      <td>2417</td>\n",
              "      <td>531</td>\n",
              "      <td>57386</td>\n",
              "    </tr>\n",
              "    <tr>\n",
              "      <th>791</th>\n",
              "      <td>2020-11-08</td>\n",
              "      <td>2492</td>\n",
              "      <td>2420</td>\n",
              "      <td>522</td>\n",
              "      <td>50486</td>\n",
              "    </tr>\n",
              "  </tbody>\n",
              "</table>\n",
              "<p>792 rows × 5 columns</p>\n",
              "</div>"
            ],
            "text/plain": [
              "           date   사용자    세션  신규방문자    페이지뷰\n",
              "0    2018-09-09   281   266     73    1826\n",
              "1    2018-09-10   264   247     51    2092\n",
              "2    2018-09-11   329   310     58    1998\n",
              "3    2018-09-12   300   287     45    2595\n",
              "4    2018-09-13   378   344     50    3845\n",
              "..          ...   ...   ...    ...     ...\n",
              "787  2020-11-04  4516  4472   1196  112683\n",
              "788  2020-11-05  4155  4037   1044  102901\n",
              "789  2020-11-06  3663  3576    825   88015\n",
              "790  2020-11-07  2472  2417    531   57386\n",
              "791  2020-11-08  2492  2420    522   50486\n",
              "\n",
              "[792 rows x 5 columns]"
            ]
          },
          "metadata": {
            "tags": []
          },
          "execution_count": 7
        }
      ]
    },
    {
      "cell_type": "code",
      "metadata": {
        "colab": {
          "base_uri": "https://localhost:8080/",
          "height": 297
        },
        "id": "UJJyAIc3PMYu",
        "outputId": "1fdd926f-cf1c-4f74-a473-9f663c2cb335"
      },
      "source": [
        "train.describe()"
      ],
      "execution_count": 56,
      "outputs": [
        {
          "output_type": "execute_result",
          "data": {
            "text/html": [
              "<div>\n",
              "<style scoped>\n",
              "    .dataframe tbody tr th:only-of-type {\n",
              "        vertical-align: middle;\n",
              "    }\n",
              "\n",
              "    .dataframe tbody tr th {\n",
              "        vertical-align: top;\n",
              "    }\n",
              "\n",
              "    .dataframe thead th {\n",
              "        text-align: right;\n",
              "    }\n",
              "</style>\n",
              "<table border=\"1\" class=\"dataframe\">\n",
              "  <thead>\n",
              "    <tr style=\"text-align: right;\">\n",
              "      <th></th>\n",
              "      <th>사용자</th>\n",
              "      <th>세션</th>\n",
              "      <th>신규방문자</th>\n",
              "      <th>페이지뷰</th>\n",
              "    </tr>\n",
              "  </thead>\n",
              "  <tbody>\n",
              "    <tr>\n",
              "      <th>count</th>\n",
              "      <td>792.000000</td>\n",
              "      <td>792.000000</td>\n",
              "      <td>792.000000</td>\n",
              "      <td>792.000000</td>\n",
              "    </tr>\n",
              "    <tr>\n",
              "      <th>mean</th>\n",
              "      <td>1095.214646</td>\n",
              "      <td>1086.728535</td>\n",
              "      <td>268.070707</td>\n",
              "      <td>24236.194444</td>\n",
              "    </tr>\n",
              "    <tr>\n",
              "      <th>std</th>\n",
              "      <td>979.730110</td>\n",
              "      <td>960.880328</td>\n",
              "      <td>241.548288</td>\n",
              "      <td>28493.828455</td>\n",
              "    </tr>\n",
              "    <tr>\n",
              "      <th>min</th>\n",
              "      <td>1.000000</td>\n",
              "      <td>1.000000</td>\n",
              "      <td>1.000000</td>\n",
              "      <td>2.000000</td>\n",
              "    </tr>\n",
              "    <tr>\n",
              "      <th>25%</th>\n",
              "      <td>292.000000</td>\n",
              "      <td>294.750000</td>\n",
              "      <td>84.750000</td>\n",
              "      <td>2552.250000</td>\n",
              "    </tr>\n",
              "    <tr>\n",
              "      <th>50%</th>\n",
              "      <td>625.500000</td>\n",
              "      <td>649.000000</td>\n",
              "      <td>194.500000</td>\n",
              "      <td>8416.000000</td>\n",
              "    </tr>\n",
              "    <tr>\n",
              "      <th>75%</th>\n",
              "      <td>1739.250000</td>\n",
              "      <td>1696.500000</td>\n",
              "      <td>363.750000</td>\n",
              "      <td>44152.000000</td>\n",
              "    </tr>\n",
              "    <tr>\n",
              "      <th>max</th>\n",
              "      <td>5418.000000</td>\n",
              "      <td>5400.000000</td>\n",
              "      <td>1691.000000</td>\n",
              "      <td>155435.000000</td>\n",
              "    </tr>\n",
              "  </tbody>\n",
              "</table>\n",
              "</div>"
            ],
            "text/plain": [
              "               사용자           세션        신규방문자           페이지뷰\n",
              "count   792.000000   792.000000   792.000000     792.000000\n",
              "mean   1095.214646  1086.728535   268.070707   24236.194444\n",
              "std     979.730110   960.880328   241.548288   28493.828455\n",
              "min       1.000000     1.000000     1.000000       2.000000\n",
              "25%     292.000000   294.750000    84.750000    2552.250000\n",
              "50%     625.500000   649.000000   194.500000    8416.000000\n",
              "75%    1739.250000  1696.500000   363.750000   44152.000000\n",
              "max    5418.000000  5400.000000  1691.000000  155435.000000"
            ]
          },
          "metadata": {
            "tags": []
          },
          "execution_count": 56
        }
      ]
    },
    {
      "cell_type": "code",
      "metadata": {
        "id": "FzuSTb5xN8O0"
      },
      "source": [
        "train = pd.read_csv(\"/content/drive/MyDrive/Colab Notebooks/LSTM_pytorch(Dacon)/input/train.csv\", encoding = 'euc-kr')"
      ],
      "execution_count": 81,
      "outputs": []
    },
    {
      "cell_type": "code",
      "metadata": {
        "colab": {
          "base_uri": "https://localhost:8080/",
          "height": 419
        },
        "id": "ngs6ogbpN8Mj",
        "outputId": "4261fc77-3c62-4aa5-916c-991b3cc3e91d"
      },
      "source": [
        "train"
      ],
      "execution_count": 82,
      "outputs": [
        {
          "output_type": "execute_result",
          "data": {
            "text/html": [
              "<div>\n",
              "<style scoped>\n",
              "    .dataframe tbody tr th:only-of-type {\n",
              "        vertical-align: middle;\n",
              "    }\n",
              "\n",
              "    .dataframe tbody tr th {\n",
              "        vertical-align: top;\n",
              "    }\n",
              "\n",
              "    .dataframe thead th {\n",
              "        text-align: right;\n",
              "    }\n",
              "</style>\n",
              "<table border=\"1\" class=\"dataframe\">\n",
              "  <thead>\n",
              "    <tr style=\"text-align: right;\">\n",
              "      <th></th>\n",
              "      <th>DateTime</th>\n",
              "      <th>사용자</th>\n",
              "      <th>세션</th>\n",
              "      <th>신규방문자</th>\n",
              "      <th>페이지뷰</th>\n",
              "    </tr>\n",
              "  </thead>\n",
              "  <tbody>\n",
              "    <tr>\n",
              "      <th>0</th>\n",
              "      <td>2018-09-09 00:00:00</td>\n",
              "      <td>19</td>\n",
              "      <td>19</td>\n",
              "      <td>8</td>\n",
              "      <td>206</td>\n",
              "    </tr>\n",
              "    <tr>\n",
              "      <th>1</th>\n",
              "      <td>2018-09-09 01:00:00</td>\n",
              "      <td>20</td>\n",
              "      <td>19</td>\n",
              "      <td>9</td>\n",
              "      <td>259</td>\n",
              "    </tr>\n",
              "    <tr>\n",
              "      <th>2</th>\n",
              "      <td>2018-09-09 02:00:00</td>\n",
              "      <td>12</td>\n",
              "      <td>9</td>\n",
              "      <td>1</td>\n",
              "      <td>48</td>\n",
              "    </tr>\n",
              "    <tr>\n",
              "      <th>3</th>\n",
              "      <td>2018-09-09 03:00:00</td>\n",
              "      <td>10</td>\n",
              "      <td>10</td>\n",
              "      <td>2</td>\n",
              "      <td>102</td>\n",
              "    </tr>\n",
              "    <tr>\n",
              "      <th>4</th>\n",
              "      <td>2018-09-09 04:00:00</td>\n",
              "      <td>6</td>\n",
              "      <td>5</td>\n",
              "      <td>3</td>\n",
              "      <td>18</td>\n",
              "    </tr>\n",
              "    <tr>\n",
              "      <th>...</th>\n",
              "      <td>...</td>\n",
              "      <td>...</td>\n",
              "      <td>...</td>\n",
              "      <td>...</td>\n",
              "      <td>...</td>\n",
              "    </tr>\n",
              "    <tr>\n",
              "      <th>19003</th>\n",
              "      <td>2020-11-08 19:00:00</td>\n",
              "      <td>124</td>\n",
              "      <td>123</td>\n",
              "      <td>19</td>\n",
              "      <td>3128</td>\n",
              "    </tr>\n",
              "    <tr>\n",
              "      <th>19004</th>\n",
              "      <td>2020-11-08 20:00:00</td>\n",
              "      <td>166</td>\n",
              "      <td>159</td>\n",
              "      <td>29</td>\n",
              "      <td>4864</td>\n",
              "    </tr>\n",
              "    <tr>\n",
              "      <th>19005</th>\n",
              "      <td>2020-11-08 21:00:00</td>\n",
              "      <td>184</td>\n",
              "      <td>173</td>\n",
              "      <td>32</td>\n",
              "      <td>3426</td>\n",
              "    </tr>\n",
              "    <tr>\n",
              "      <th>19006</th>\n",
              "      <td>2020-11-08 22:00:00</td>\n",
              "      <td>163</td>\n",
              "      <td>155</td>\n",
              "      <td>34</td>\n",
              "      <td>2845</td>\n",
              "    </tr>\n",
              "    <tr>\n",
              "      <th>19007</th>\n",
              "      <td>2020-11-08 23:00:00</td>\n",
              "      <td>160</td>\n",
              "      <td>152</td>\n",
              "      <td>33</td>\n",
              "      <td>3293</td>\n",
              "    </tr>\n",
              "  </tbody>\n",
              "</table>\n",
              "<p>19008 rows × 5 columns</p>\n",
              "</div>"
            ],
            "text/plain": [
              "                  DateTime  사용자   세션  신규방문자  페이지뷰\n",
              "0      2018-09-09 00:00:00   19   19      8   206\n",
              "1      2018-09-09 01:00:00   20   19      9   259\n",
              "2      2018-09-09 02:00:00   12    9      1    48\n",
              "3      2018-09-09 03:00:00   10   10      2   102\n",
              "4      2018-09-09 04:00:00    6    5      3    18\n",
              "...                    ...  ...  ...    ...   ...\n",
              "19003  2020-11-08 19:00:00  124  123     19  3128\n",
              "19004  2020-11-08 20:00:00  166  159     29  4864\n",
              "19005  2020-11-08 21:00:00  184  173     32  3426\n",
              "19006  2020-11-08 22:00:00  163  155     34  2845\n",
              "19007  2020-11-08 23:00:00  160  152     33  3293\n",
              "\n",
              "[19008 rows x 5 columns]"
            ]
          },
          "metadata": {
            "tags": []
          },
          "execution_count": 82
        }
      ]
    },
    {
      "cell_type": "code",
      "metadata": {
        "id": "F0_wHgdWN8KL"
      },
      "source": [
        ""
      ],
      "execution_count": null,
      "outputs": []
    },
    {
      "cell_type": "markdown",
      "metadata": {
        "id": "7AU-G9yUuS4k"
      },
      "source": [
        "# Data Preprocessing"
      ]
    },
    {
      "cell_type": "code",
      "metadata": {
        "colab": {
          "base_uri": "https://localhost:8080/"
        },
        "id": "LKOLleUwRaEh",
        "outputId": "6170d2e6-deef-47e8-91e0-7dce0c0a6038"
      },
      "source": [
        "train.shape"
      ],
      "execution_count": 89,
      "outputs": [
        {
          "output_type": "execute_result",
          "data": {
            "text/plain": [
              "(792, 5)"
            ]
          },
          "metadata": {
            "tags": []
          },
          "execution_count": 89
        }
      ]
    },
    {
      "cell_type": "code",
      "metadata": {
        "colab": {
          "base_uri": "https://localhost:8080/"
        },
        "id": "JNmBszGiPm2d",
        "outputId": "02dbb106-2a7a-45b4-85b5-e4b50d36da65"
      },
      "source": [
        "from sklearn.preprocessing import StandardScaler\r\n",
        "\r\n",
        "#iloc만 해도 데이터 셋 자체가 바뀌어짐\r\n",
        "# 표준화\r\n",
        "train.iloc[:,1:]\r\n",
        "scaler = StandardScaler()\r\n",
        "scaler.fit(train.iloc[:,1:])\r\n",
        "train.iloc[:,1:] = scaler.transform(train.iloc[:,1:])\r\n",
        "train.iloc[:,1:].shape"
      ],
      "execution_count": null,
      "outputs": [
        {
          "output_type": "execute_result",
          "data": {
            "text/plain": [
              "(792, 4)"
            ]
          },
          "metadata": {
            "tags": []
          },
          "execution_count": 57
        }
      ]
    },
    {
      "cell_type": "code",
      "metadata": {
        "id": "vgZqgyNOUddQ"
      },
      "source": [
        "from sklearn.preprocessing import MinMaxScaler\r\n",
        "\r\n",
        "# 정규화\r\n",
        "mini = train.iloc[:,1:].min()\r\n",
        "size = train.iloc[:,1:].max() - train.iloc[:,1:].min()\r\n",
        "\r\n",
        "\r\n",
        "train.iloc[:,1:]\r\n",
        "transformer = MinMaxScaler()\r\n",
        "transformer.fit(train.iloc[:,1:])\r\n",
        "train.iloc[:,1:] = transformer.transform(train.iloc[:,1:])"
      ],
      "execution_count": 90,
      "outputs": []
    },
    {
      "cell_type": "code",
      "metadata": {
        "colab": {
          "base_uri": "https://localhost:8080/",
          "height": 419
        },
        "id": "yj73Wa9BUWfM",
        "outputId": "38c59fc4-3c50-43d0-fbb1-82090f1f2de4"
      },
      "source": [
        "train"
      ],
      "execution_count": 109,
      "outputs": [
        {
          "output_type": "execute_result",
          "data": {
            "text/html": [
              "<div>\n",
              "<style scoped>\n",
              "    .dataframe tbody tr th:only-of-type {\n",
              "        vertical-align: middle;\n",
              "    }\n",
              "\n",
              "    .dataframe tbody tr th {\n",
              "        vertical-align: top;\n",
              "    }\n",
              "\n",
              "    .dataframe thead th {\n",
              "        text-align: right;\n",
              "    }\n",
              "</style>\n",
              "<table border=\"1\" class=\"dataframe\">\n",
              "  <thead>\n",
              "    <tr style=\"text-align: right;\">\n",
              "      <th></th>\n",
              "      <th>date</th>\n",
              "      <th>사용자</th>\n",
              "      <th>세션</th>\n",
              "      <th>신규방문자</th>\n",
              "      <th>페이지뷰</th>\n",
              "    </tr>\n",
              "  </thead>\n",
              "  <tbody>\n",
              "    <tr>\n",
              "      <th>0</th>\n",
              "      <td>2018-09-09</td>\n",
              "      <td>281</td>\n",
              "      <td>266</td>\n",
              "      <td>73</td>\n",
              "      <td>1826</td>\n",
              "    </tr>\n",
              "    <tr>\n",
              "      <th>1</th>\n",
              "      <td>2018-09-10</td>\n",
              "      <td>264</td>\n",
              "      <td>247</td>\n",
              "      <td>51</td>\n",
              "      <td>2092</td>\n",
              "    </tr>\n",
              "    <tr>\n",
              "      <th>2</th>\n",
              "      <td>2018-09-11</td>\n",
              "      <td>329</td>\n",
              "      <td>310</td>\n",
              "      <td>58</td>\n",
              "      <td>1998</td>\n",
              "    </tr>\n",
              "    <tr>\n",
              "      <th>3</th>\n",
              "      <td>2018-09-12</td>\n",
              "      <td>300</td>\n",
              "      <td>287</td>\n",
              "      <td>45</td>\n",
              "      <td>2595</td>\n",
              "    </tr>\n",
              "    <tr>\n",
              "      <th>4</th>\n",
              "      <td>2018-09-13</td>\n",
              "      <td>378</td>\n",
              "      <td>344</td>\n",
              "      <td>50</td>\n",
              "      <td>3845</td>\n",
              "    </tr>\n",
              "    <tr>\n",
              "      <th>...</th>\n",
              "      <td>...</td>\n",
              "      <td>...</td>\n",
              "      <td>...</td>\n",
              "      <td>...</td>\n",
              "      <td>...</td>\n",
              "    </tr>\n",
              "    <tr>\n",
              "      <th>787</th>\n",
              "      <td>2020-11-04</td>\n",
              "      <td>4516</td>\n",
              "      <td>4472</td>\n",
              "      <td>1196</td>\n",
              "      <td>112683</td>\n",
              "    </tr>\n",
              "    <tr>\n",
              "      <th>788</th>\n",
              "      <td>2020-11-05</td>\n",
              "      <td>4155</td>\n",
              "      <td>4037</td>\n",
              "      <td>1044</td>\n",
              "      <td>102901</td>\n",
              "    </tr>\n",
              "    <tr>\n",
              "      <th>789</th>\n",
              "      <td>2020-11-06</td>\n",
              "      <td>3663</td>\n",
              "      <td>3576</td>\n",
              "      <td>825</td>\n",
              "      <td>88015</td>\n",
              "    </tr>\n",
              "    <tr>\n",
              "      <th>790</th>\n",
              "      <td>2020-11-07</td>\n",
              "      <td>2472</td>\n",
              "      <td>2417</td>\n",
              "      <td>531</td>\n",
              "      <td>57386</td>\n",
              "    </tr>\n",
              "    <tr>\n",
              "      <th>791</th>\n",
              "      <td>2020-11-08</td>\n",
              "      <td>2492</td>\n",
              "      <td>2420</td>\n",
              "      <td>522</td>\n",
              "      <td>50486</td>\n",
              "    </tr>\n",
              "  </tbody>\n",
              "</table>\n",
              "<p>792 rows × 5 columns</p>\n",
              "</div>"
            ],
            "text/plain": [
              "           date   사용자    세션  신규방문자    페이지뷰\n",
              "0    2018-09-09   281   266     73    1826\n",
              "1    2018-09-10   264   247     51    2092\n",
              "2    2018-09-11   329   310     58    1998\n",
              "3    2018-09-12   300   287     45    2595\n",
              "4    2018-09-13   378   344     50    3845\n",
              "..          ...   ...   ...    ...     ...\n",
              "787  2020-11-04  4516  4472   1196  112683\n",
              "788  2020-11-05  4155  4037   1044  102901\n",
              "789  2020-11-06  3663  3576    825   88015\n",
              "790  2020-11-07  2472  2417    531   57386\n",
              "791  2020-11-08  2492  2420    522   50486\n",
              "\n",
              "[792 rows x 5 columns]"
            ]
          },
          "metadata": {
            "tags": []
          },
          "execution_count": 109
        }
      ]
    },
    {
      "cell_type": "code",
      "metadata": {
        "id": "dyoYqN6TOVd6"
      },
      "source": [
        "# 전체 텐서 만들기\r\n",
        "input_window = 24\r\n",
        "output_window = 7\r\n",
        "\r\n",
        "window_x = np.zeros((train.shape[0] - (input_window + output_window), input_window, 4))\r\n",
        "window_y = np.zeros((train.shape[0] - (input_window + output_window), output_window, 4))\r\n",
        "\r\n",
        "for start in range(train.shape[0] - (input_window + output_window)):\r\n",
        "    end = start + input_window    \r\n",
        "    window_x[start,:, :] = train.iloc[start : end                , 1: ].values\r\n",
        "    window_y[start,:, :] = train.iloc[end   : end + output_window, 1: ].values"
      ],
      "execution_count": 37,
      "outputs": []
    },
    {
      "cell_type": "code",
      "metadata": {
        "colab": {
          "base_uri": "https://localhost:8080/"
        },
        "id": "8n2jl1KvO3YD",
        "outputId": "a5aa484c-69a8-49e0-c9b3-ba4694eea57f"
      },
      "source": [
        "print(window_x.shape)\r\n",
        "print(window_y.shape)"
      ],
      "execution_count": 110,
      "outputs": [
        {
          "output_type": "stream",
          "text": [
            "torch.Size([755, 30, 4])\n",
            "torch.Size([755, 7, 4])\n"
          ],
          "name": "stdout"
        }
      ]
    },
    {
      "cell_type": "code",
      "metadata": {
        "id": "MbLmpNwXSDAs"
      },
      "source": [
        "input_window = 30\r\n",
        "output_window = 7\r\n",
        "\r\n",
        "window_x = np.zeros((train.shape[0] - (input_window + output_window), input_window, 4))\r\n",
        "window_y = np.zeros((train.shape[0] - (input_window + output_window), output_window, 4))\r\n",
        "\r\n",
        "for start in range(train.shape[0] - (input_window + output_window)):\r\n",
        "    end = start + input_window    \r\n",
        "    window_x[start,:, :] = train.iloc[start : end                , 1: ].values\r\n",
        "    window_y[start,:, :] = train.iloc[end   : end + output_window, 1: ].values"
      ],
      "execution_count": 57,
      "outputs": []
    },
    {
      "cell_type": "code",
      "metadata": {
        "colab": {
          "base_uri": "https://localhost:8080/",
          "height": 419
        },
        "id": "31o2S2zyRkzR",
        "outputId": "8b0d0af7-a227-4795-e70b-f353bbdaa2c9"
      },
      "source": [
        "train"
      ],
      "execution_count": null,
      "outputs": [
        {
          "output_type": "execute_result",
          "data": {
            "text/html": [
              "<div>\n",
              "<style scoped>\n",
              "    .dataframe tbody tr th:only-of-type {\n",
              "        vertical-align: middle;\n",
              "    }\n",
              "\n",
              "    .dataframe tbody tr th {\n",
              "        vertical-align: top;\n",
              "    }\n",
              "\n",
              "    .dataframe thead th {\n",
              "        text-align: right;\n",
              "    }\n",
              "</style>\n",
              "<table border=\"1\" class=\"dataframe\">\n",
              "  <thead>\n",
              "    <tr style=\"text-align: right;\">\n",
              "      <th></th>\n",
              "      <th>date</th>\n",
              "      <th>사용자</th>\n",
              "      <th>세션</th>\n",
              "      <th>신규방문자</th>\n",
              "      <th>페이지뷰</th>\n",
              "    </tr>\n",
              "  </thead>\n",
              "  <tbody>\n",
              "    <tr>\n",
              "      <th>0</th>\n",
              "      <td>2018-09-09</td>\n",
              "      <td>-0.831585</td>\n",
              "      <td>-0.854682</td>\n",
              "      <td>-0.808095</td>\n",
              "      <td>-0.786990</td>\n",
              "    </tr>\n",
              "    <tr>\n",
              "      <th>1</th>\n",
              "      <td>2018-09-10</td>\n",
              "      <td>-0.848948</td>\n",
              "      <td>-0.874468</td>\n",
              "      <td>-0.899232</td>\n",
              "      <td>-0.777649</td>\n",
              "    </tr>\n",
              "    <tr>\n",
              "      <th>2</th>\n",
              "      <td>2018-09-11</td>\n",
              "      <td>-0.782561</td>\n",
              "      <td>-0.808862</td>\n",
              "      <td>-0.870234</td>\n",
              "      <td>-0.780950</td>\n",
              "    </tr>\n",
              "    <tr>\n",
              "      <th>3</th>\n",
              "      <td>2018-09-12</td>\n",
              "      <td>-0.812180</td>\n",
              "      <td>-0.832813</td>\n",
              "      <td>-0.924087</td>\n",
              "      <td>-0.759985</td>\n",
              "    </tr>\n",
              "    <tr>\n",
              "      <th>4</th>\n",
              "      <td>2018-09-13</td>\n",
              "      <td>-0.732516</td>\n",
              "      <td>-0.773455</td>\n",
              "      <td>-0.903374</td>\n",
              "      <td>-0.716088</td>\n",
              "    </tr>\n",
              "    <tr>\n",
              "      <th>...</th>\n",
              "      <td>...</td>\n",
              "      <td>...</td>\n",
              "      <td>...</td>\n",
              "      <td>...</td>\n",
              "      <td>...</td>\n",
              "    </tr>\n",
              "    <tr>\n",
              "      <th>787</th>\n",
              "      <td>2020-11-04</td>\n",
              "      <td>3.493765</td>\n",
              "      <td>3.525320</td>\n",
              "      <td>3.844017</td>\n",
              "      <td>3.106030</td>\n",
              "    </tr>\n",
              "    <tr>\n",
              "      <th>788</th>\n",
              "      <td>2020-11-05</td>\n",
              "      <td>3.125064</td>\n",
              "      <td>3.072324</td>\n",
              "      <td>3.214345</td>\n",
              "      <td>2.762511</td>\n",
              "    </tr>\n",
              "    <tr>\n",
              "      <th>789</th>\n",
              "      <td>2020-11-06</td>\n",
              "      <td>2.622567</td>\n",
              "      <td>2.592253</td>\n",
              "      <td>2.307121</td>\n",
              "      <td>2.239752</td>\n",
              "    </tr>\n",
              "    <tr>\n",
              "      <th>790</th>\n",
              "      <td>2020-11-07</td>\n",
              "      <td>1.406158</td>\n",
              "      <td>1.385305</td>\n",
              "      <td>1.089204</td>\n",
              "      <td>1.164138</td>\n",
              "    </tr>\n",
              "    <tr>\n",
              "      <th>791</th>\n",
              "      <td>2020-11-08</td>\n",
              "      <td>1.426585</td>\n",
              "      <td>1.388429</td>\n",
              "      <td>1.051921</td>\n",
              "      <td>0.921827</td>\n",
              "    </tr>\n",
              "  </tbody>\n",
              "</table>\n",
              "<p>792 rows × 5 columns</p>\n",
              "</div>"
            ],
            "text/plain": [
              "           date       사용자        세션     신규방문자      페이지뷰\n",
              "0    2018-09-09 -0.831585 -0.854682 -0.808095 -0.786990\n",
              "1    2018-09-10 -0.848948 -0.874468 -0.899232 -0.777649\n",
              "2    2018-09-11 -0.782561 -0.808862 -0.870234 -0.780950\n",
              "3    2018-09-12 -0.812180 -0.832813 -0.924087 -0.759985\n",
              "4    2018-09-13 -0.732516 -0.773455 -0.903374 -0.716088\n",
              "..          ...       ...       ...       ...       ...\n",
              "787  2020-11-04  3.493765  3.525320  3.844017  3.106030\n",
              "788  2020-11-05  3.125064  3.072324  3.214345  2.762511\n",
              "789  2020-11-06  2.622567  2.592253  2.307121  2.239752\n",
              "790  2020-11-07  1.406158  1.385305  1.089204  1.164138\n",
              "791  2020-11-08  1.426585  1.388429  1.051921  0.921827\n",
              "\n",
              "[792 rows x 5 columns]"
            ]
          },
          "metadata": {
            "tags": []
          },
          "execution_count": 42
        }
      ]
    },
    {
      "cell_type": "code",
      "metadata": {
        "colab": {
          "base_uri": "https://localhost:8080/"
        },
        "id": "olb3IepCQ8rZ",
        "outputId": "fab7ab32-19e3-465d-ab66-6ca0f848b908"
      },
      "source": [
        "mini = train.iloc[:,1:].min()\r\n",
        "size = train.iloc[:,1:].max() - train.iloc[:,1:].min()\r\n",
        "\r\n",
        "mini\r\n",
        "size"
      ],
      "execution_count": 111,
      "outputs": [
        {
          "output_type": "execute_result",
          "data": {
            "text/plain": [
              "사용자        5417\n",
              "세션         5399\n",
              "신규방문자      1690\n",
              "페이지뷰     155433\n",
              "dtype: int64"
            ]
          },
          "metadata": {
            "tags": []
          },
          "execution_count": 111
        }
      ]
    },
    {
      "cell_type": "code",
      "metadata": {
        "colab": {
          "base_uri": "https://localhost:8080/"
        },
        "id": "z50AA048TvLN",
        "outputId": "61988ac2-7596-47ef-a0c2-17f8c266daa9"
      },
      "source": [
        "print(mini)\r\n",
        "print(size)"
      ],
      "execution_count": 112,
      "outputs": [
        {
          "output_type": "stream",
          "text": [
            "사용자      1\n",
            "세션       1\n",
            "신규방문자    1\n",
            "페이지뷰     2\n",
            "dtype: int64\n",
            "사용자        5417\n",
            "세션         5399\n",
            "신규방문자      1690\n",
            "페이지뷰     155433\n",
            "dtype: int64\n"
          ],
          "name": "stdout"
        }
      ]
    },
    {
      "cell_type": "code",
      "metadata": {
        "colab": {
          "base_uri": "https://localhost:8080/",
          "height": 419
        },
        "id": "IKwfllNSP_kI",
        "outputId": "6ee91278-aebe-4027-c94f-d746ef7a0085"
      },
      "source": [
        "mini = train.iloc[:,1:].min()\r\n",
        "size = train.iloc[:,1:].max() - train.iloc[:,1:].min()\r\n",
        "train.iloc[:,1:] = (train.iloc[:,1:] -  mini) / size\r\n",
        "train"
      ],
      "execution_count": 104,
      "outputs": [
        {
          "output_type": "execute_result",
          "data": {
            "text/html": [
              "<div>\n",
              "<style scoped>\n",
              "    .dataframe tbody tr th:only-of-type {\n",
              "        vertical-align: middle;\n",
              "    }\n",
              "\n",
              "    .dataframe tbody tr th {\n",
              "        vertical-align: top;\n",
              "    }\n",
              "\n",
              "    .dataframe thead th {\n",
              "        text-align: right;\n",
              "    }\n",
              "</style>\n",
              "<table border=\"1\" class=\"dataframe\">\n",
              "  <thead>\n",
              "    <tr style=\"text-align: right;\">\n",
              "      <th></th>\n",
              "      <th>date</th>\n",
              "      <th>사용자</th>\n",
              "      <th>세션</th>\n",
              "      <th>신규방문자</th>\n",
              "      <th>페이지뷰</th>\n",
              "    </tr>\n",
              "  </thead>\n",
              "  <tbody>\n",
              "    <tr>\n",
              "      <th>0</th>\n",
              "      <td>2018-09-09</td>\n",
              "      <td>0.051689</td>\n",
              "      <td>0.049083</td>\n",
              "      <td>0.042604</td>\n",
              "      <td>0.011735</td>\n",
              "    </tr>\n",
              "    <tr>\n",
              "      <th>1</th>\n",
              "      <td>2018-09-10</td>\n",
              "      <td>0.048551</td>\n",
              "      <td>0.045564</td>\n",
              "      <td>0.029586</td>\n",
              "      <td>0.013446</td>\n",
              "    </tr>\n",
              "    <tr>\n",
              "      <th>2</th>\n",
              "      <td>2018-09-11</td>\n",
              "      <td>0.060550</td>\n",
              "      <td>0.057233</td>\n",
              "      <td>0.033728</td>\n",
              "      <td>0.012842</td>\n",
              "    </tr>\n",
              "    <tr>\n",
              "      <th>3</th>\n",
              "      <td>2018-09-12</td>\n",
              "      <td>0.055197</td>\n",
              "      <td>0.052973</td>\n",
              "      <td>0.026036</td>\n",
              "      <td>0.016682</td>\n",
              "    </tr>\n",
              "    <tr>\n",
              "      <th>4</th>\n",
              "      <td>2018-09-13</td>\n",
              "      <td>0.069596</td>\n",
              "      <td>0.063530</td>\n",
              "      <td>0.028994</td>\n",
              "      <td>0.024724</td>\n",
              "    </tr>\n",
              "    <tr>\n",
              "      <th>...</th>\n",
              "      <td>...</td>\n",
              "      <td>...</td>\n",
              "      <td>...</td>\n",
              "      <td>...</td>\n",
              "      <td>...</td>\n",
              "    </tr>\n",
              "    <tr>\n",
              "      <th>787</th>\n",
              "      <td>2020-11-04</td>\n",
              "      <td>0.833487</td>\n",
              "      <td>0.828116</td>\n",
              "      <td>0.707101</td>\n",
              "      <td>0.724949</td>\n",
              "    </tr>\n",
              "    <tr>\n",
              "      <th>788</th>\n",
              "      <td>2020-11-05</td>\n",
              "      <td>0.766845</td>\n",
              "      <td>0.747546</td>\n",
              "      <td>0.617160</td>\n",
              "      <td>0.662015</td>\n",
              "    </tr>\n",
              "    <tr>\n",
              "      <th>789</th>\n",
              "      <td>2020-11-06</td>\n",
              "      <td>0.676020</td>\n",
              "      <td>0.662160</td>\n",
              "      <td>0.487574</td>\n",
              "      <td>0.566244</td>\n",
              "    </tr>\n",
              "    <tr>\n",
              "      <th>790</th>\n",
              "      <td>2020-11-07</td>\n",
              "      <td>0.456157</td>\n",
              "      <td>0.447490</td>\n",
              "      <td>0.313609</td>\n",
              "      <td>0.369188</td>\n",
              "    </tr>\n",
              "    <tr>\n",
              "      <th>791</th>\n",
              "      <td>2020-11-08</td>\n",
              "      <td>0.459849</td>\n",
              "      <td>0.448046</td>\n",
              "      <td>0.308284</td>\n",
              "      <td>0.324796</td>\n",
              "    </tr>\n",
              "  </tbody>\n",
              "</table>\n",
              "<p>792 rows × 5 columns</p>\n",
              "</div>"
            ],
            "text/plain": [
              "           date       사용자        세션     신규방문자      페이지뷰\n",
              "0    2018-09-09  0.051689  0.049083  0.042604  0.011735\n",
              "1    2018-09-10  0.048551  0.045564  0.029586  0.013446\n",
              "2    2018-09-11  0.060550  0.057233  0.033728  0.012842\n",
              "3    2018-09-12  0.055197  0.052973  0.026036  0.016682\n",
              "4    2018-09-13  0.069596  0.063530  0.028994  0.024724\n",
              "..          ...       ...       ...       ...       ...\n",
              "787  2020-11-04  0.833487  0.828116  0.707101  0.724949\n",
              "788  2020-11-05  0.766845  0.747546  0.617160  0.662015\n",
              "789  2020-11-06  0.676020  0.662160  0.487574  0.566244\n",
              "790  2020-11-07  0.456157  0.447490  0.313609  0.369188\n",
              "791  2020-11-08  0.459849  0.448046  0.308284  0.324796\n",
              "\n",
              "[792 rows x 5 columns]"
            ]
          },
          "metadata": {
            "tags": []
          },
          "execution_count": 104
        }
      ]
    },
    {
      "cell_type": "code",
      "metadata": {
        "id": "BPCqI-MPt9os"
      },
      "source": [
        "# 한번만!!!!!!!!!!!! 계속하면 0이됨\r\n",
        "# scaling\r\n",
        "mini = train.iloc[:,1:].min()\r\n",
        "size = train.iloc[:,1:].max() - train.iloc[:,1:].min()\r\n",
        "train.iloc[:,1:] = (train.iloc[:,1:] -  mini) / size\r\n",
        "\r\n",
        "input_window = 30\r\n",
        "output_window = 7\r\n",
        "\r\n",
        "window_x = np.zeros((train.shape[0] - (input_window + output_window), input_window, 4))\r\n",
        "window_y = np.zeros((train.shape[0] - (input_window + output_window), output_window, 4))\r\n",
        "\r\n",
        "for start in range(train.shape[0] - (input_window + output_window)):\r\n",
        "    end = start + input_window    \r\n",
        "    window_x[start,:, :] = train.iloc[start : end                , 1: ].values\r\n",
        "    window_y[start,:, :] = train.iloc[end   : end + output_window, 1: ].values"
      ],
      "execution_count": 8,
      "outputs": []
    },
    {
      "cell_type": "markdown",
      "metadata": {
        "id": "NBX3BvLwuYYU"
      },
      "source": [
        "# Model"
      ]
    },
    {
      "cell_type": "code",
      "metadata": {
        "id": "FvcbfrNot9qy"
      },
      "source": [
        "# Model 생성\r\n",
        "class LSTM(nn.Module):\r\n",
        "    def __init__(self, input_size, hidden_size):\r\n",
        "        super(LSTM, self).__init__()\r\n",
        "        self.hidden_size = hidden_size\r\n",
        "        self.lstm = nn.LSTM(input_size = input_size,\r\n",
        "                            hidden_size = hidden_size,\r\n",
        "                            batch_first=True)\r\n",
        "        self.hidden_lstm = nn.LSTM(input_size = hidden_size,\r\n",
        "                                   hidden_size = hidden_size,\r\n",
        "                                   batch_first=True)\r\n",
        "        \r\n",
        "        self.time_fc = nn.Linear(hidden_size, 4)\r\n",
        "    \r\n",
        "    def forward(self, x_time):\r\n",
        "    \r\n",
        "        out_time, _ = self.lstm(x_time)\r\n",
        "        out_time, _ = self.hidden_lstm(out_time)\r\n",
        "        out_time, _ = self.hidden_lstm(out_time)\r\n",
        "        out_time, _ = self.hidden_lstm(out_time)\r\n",
        "        \r\n",
        "        \r\n",
        "        out_time = self.time_fc(out_time[:,-7:, :])\r\n",
        "        \r\n",
        "        return out_time.view(-1,7,4)\r\n",
        "\r\n",
        "  \r\n",
        "model = LSTM(input_size = 4, hidden_size = 30).to(device)"
      ],
      "execution_count": 9,
      "outputs": []
    },
    {
      "cell_type": "code",
      "metadata": {
        "colab": {
          "base_uri": "https://localhost:8080/"
        },
        "id": "_IoNGCI9hGoX",
        "outputId": "370bd1cf-47f7-4e1c-9cbc-8ff09c0661b1"
      },
      "source": [
        "model"
      ],
      "execution_count": 11,
      "outputs": [
        {
          "output_type": "execute_result",
          "data": {
            "text/plain": [
              "LSTM(\n",
              "  (lstm): LSTM(4, 30, batch_first=True)\n",
              "  (hidden_lstm): LSTM(30, 30, batch_first=True)\n",
              "  (time_fc): Linear(in_features=30, out_features=4, bias=True)\n",
              ")"
            ]
          },
          "metadata": {
            "tags": []
          },
          "execution_count": 11
        }
      ]
    },
    {
      "cell_type": "code",
      "metadata": {
        "id": "Gf-9n5tthR3f"
      },
      "source": [
        "# Model 생성33333333333333333333333333333333333333333\r\n",
        "class LSTM(nn.Module):\r\n",
        "    def __init__(self, input_size, hidden_size):                 #사용할 레이어를 정의함, 모델의 부품을 생성(__init__)\r\n",
        "        super(LSTM, self).__init__()\r\n",
        "        self.hidden_size = hidden_size\r\n",
        "\r\n",
        "        self.lstm = nn.LSTM(input_size = input_size,   #인풋\r\n",
        "                            hidden_size = 64,\r\n",
        "                            batch_first=True)\r\n",
        "        \r\n",
        "        self.hidden_lstm = nn.LSTM(input_size = 64,    \r\n",
        "                                   hidden_size = 32,\r\n",
        "                                   batch_first=True)\r\n",
        "        \r\n",
        "        self.hidden_lstm4 = nn.LSTM(input_size = 32,\r\n",
        "                                   hidden_size = 64,\r\n",
        "                                   batch_first=True)\r\n",
        "        \r\n",
        "        self.time_fc = nn.Linear(hidden_size, 4)   #아웃풋\r\n",
        "\r\n",
        "    \r\n",
        "    def forward(self, x_time):                                    #위에 정의한 레이어들을 적절하게 배치하여 모델을 완성, 실질적으로 모델 생성(forward)\r\n",
        "    \r\n",
        "        out_time, _ = self.lstm(x_time) #인풋\r\n",
        "\r\n",
        "        out_time, _ = self.hidden_lstm(out_time)\r\n",
        "        out_time, _ = self.hidden_lstm4(out_time)\r\n",
        "\r\n",
        "        out_time = self.time_fc(out_time[:,-7:, :])\r\n",
        "        \r\n",
        "        return out_time.view(-1,7,4) #아웃풋\r\n",
        "\r\n",
        "  \r\n",
        "model = LSTM(input_size = 4, hidden_size = 64).to(device)"
      ],
      "execution_count": null,
      "outputs": []
    },
    {
      "cell_type": "code",
      "metadata": {
        "colab": {
          "base_uri": "https://localhost:8080/"
        },
        "id": "EFLFuKcNhUwG",
        "outputId": "a871aae4-9fe2-4a55-8ccf-ca991e5fb473"
      },
      "source": [
        "# 이거는 사용할 레이어들만 나옴, 모델의 구성부품만 나옴\r\n",
        "model"
      ],
      "execution_count": null,
      "outputs": [
        {
          "output_type": "execute_result",
          "data": {
            "text/plain": [
              "LSTM(\n",
              "  (lstm): LSTM(4, 64, batch_first=True)\n",
              "  (hidden_lstm): LSTM(64, 32, batch_first=True)\n",
              "  (hidden_lstm4): LSTM(32, 64, batch_first=True)\n",
              "  (time_fc): Linear(in_features=64, out_features=4, bias=True)\n",
              ")"
            ]
          },
          "metadata": {
            "tags": []
          },
          "execution_count": 84
        }
      ]
    },
    {
      "cell_type": "markdown",
      "metadata": {
        "id": "ubT6GkM5mnsb"
      },
      "source": [
        "* https://sanghyu.tistory.com/52"
      ]
    },
    {
      "cell_type": "code",
      "metadata": {
        "id": "bM8ZwvMYnnOh"
      },
      "source": [
        "# Model 생성4444444444444444444444444444444444444\r\n",
        "class GRU(nn.Module):\r\n",
        "    def __init__(self, input_size, hidden_size, dropout=0.01, bidirectional=True):                 #사용할 레이어를 정의함, 모델의 부품을 생성(__init__)\r\n",
        "        super(GRU, self).__init__()\r\n",
        "        self.hidden_size = hidden_size\r\n",
        "\r\n",
        "        self.lstm = nn.GRU(input_size = input_size,   #인풋\r\n",
        "                            hidden_size = hidden_size,\r\n",
        "                            batch_first=True)\r\n",
        "        \r\n",
        "        self.hidden_lstm = nn.GRU(input_size = 30,    \r\n",
        "                                   hidden_size = 30,\r\n",
        "                                   batch_first=True)\r\n",
        "        \r\n",
        "        self.time_fc = nn.Linear(hidden_size, 4)   #아웃풋\r\n",
        "        self.fn = nn.Tanh()\r\n",
        "\r\n",
        "    \r\n",
        "    def forward(self, x_time):                                    #위에 정의한 레이어들을 적절하게 배치하여 모델을 완성, 실질적으로 모델 생성(forward)\r\n",
        "    \r\n",
        "        out_time, _ = self.lstm(x_time) #인풋\r\n",
        "\r\n",
        "        out_time, _ = self.hidden_lstm(out_time)\r\n",
        "        out_time, _ = self.hidden_lstm(out_time)\r\n",
        "        out_time, _ = self.hidden_lstm(out_time)\r\n",
        "\r\n",
        "        out_time = self.time_fc(out_time[:,-7:, :])\r\n",
        "        \r\n",
        "        return out_time.view(-1,7,4) #아웃풋\r\n",
        "\r\n",
        "  \r\n",
        "model = GRU(input_size = 4, hidden_size = 30).to(device)"
      ],
      "execution_count": 198,
      "outputs": []
    },
    {
      "cell_type": "code",
      "metadata": {
        "id": "ihnGBsgznm5L",
        "colab": {
          "base_uri": "https://localhost:8080/"
        },
        "outputId": "b9e4c294-aa87-49db-d789-a6850fa826d6"
      },
      "source": [
        "model"
      ],
      "execution_count": 199,
      "outputs": [
        {
          "output_type": "execute_result",
          "data": {
            "text/plain": [
              "GRU(\n",
              "  (lstm): GRU(4, 30, batch_first=True)\n",
              "  (hidden_lstm): GRU(30, 30, batch_first=True)\n",
              "  (time_fc): Linear(in_features=30, out_features=4, bias=True)\n",
              "  (fn): Tanh()\n",
              ")"
            ]
          },
          "metadata": {
            "tags": []
          },
          "execution_count": 199
        }
      ]
    },
    {
      "cell_type": "code",
      "metadata": {
        "id": "4uMtZwbWBfIn"
      },
      "source": [
        "# Model 생성2222222222222222222222222222222222222\r\n",
        "# 결과는 4.7임 원래 코드는 4.3 ㅋㅋㅋㅋㅋㅋㅋㅋㅋㅋㅋㅋ\r\n",
        "class LSTM(nn.Module):\r\n",
        "    def __init__(self, input_size, hidden_size):\r\n",
        "        super(LSTM, self).__init__()\r\n",
        "        self.hidden_size = hidden_size\r\n",
        "        self.lstm = nn.LSTM(input_size = input_size,\r\n",
        "                            hidden_size = hidden_size,\r\n",
        "                            batch_first=True)\r\n",
        "        self.hidden_lstm = nn.LSTM(input_size = hidden_size,\r\n",
        "                                   hidden_size = hidden_size,\r\n",
        "                                   batch_first=True)\r\n",
        "        \r\n",
        "        self.time_fc = nn.Linear(hidden_size, 4)\r\n",
        "    \r\n",
        "    def forward(self, x_time):\r\n",
        "    \r\n",
        "        out_time, _ = self.lstm(x_time)\r\n",
        "        out_time, _ = self.hidden_lstm(out_time)\r\n",
        "        out_time, _ = self.hidden_lstm(out_time)\r\n",
        "        out_time, _ = self.hidden_lstm(out_time)\r\n",
        "        \r\n",
        "        \r\n",
        "        out_time = self.time_fc(out_time[:,-7:, :])\r\n",
        "        \r\n",
        "        return out_time.view(-1,7,4)\r\n",
        "    \r\n",
        "model = LSTM(input_size = 4, hidden_size = 64).to(device)"
      ],
      "execution_count": null,
      "outputs": []
    },
    {
      "cell_type": "code",
      "metadata": {
        "colab": {
          "base_uri": "https://localhost:8080/"
        },
        "id": "YemjTUtFqpBF",
        "outputId": "cbe130e9-ed6e-47e3-8694-08f2d4bb8195"
      },
      "source": [
        "print(model)"
      ],
      "execution_count": null,
      "outputs": [
        {
          "output_type": "stream",
          "text": [
            "LSTM(\n",
            "  (lstm): LSTM(4, 64, batch_first=True)\n",
            "  (hidden_lstm): LSTM(64, 64, batch_first=True)\n",
            "  (time_fc): Linear(in_features=64, out_features=4, bias=True)\n",
            ")\n"
          ],
          "name": "stdout"
        }
      ]
    },
    {
      "cell_type": "code",
      "metadata": {
        "colab": {
          "base_uri": "https://localhost:8080/"
        },
        "id": "ayq-ibs56cx1",
        "outputId": "1fe15f54-2e22-4c09-a259-16f1eee50ba9"
      },
      "source": [
        "print(window_x.shape)\r\n",
        "print(window_y.shape)"
      ],
      "execution_count": 60,
      "outputs": [
        {
          "output_type": "stream",
          "text": [
            "(755, 30, 4)\n",
            "(755, 7, 4)\n"
          ],
          "name": "stdout"
        }
      ]
    },
    {
      "cell_type": "markdown",
      "metadata": {
        "id": "HDNt73GFkNah"
      },
      "source": [
        "모델학습"
      ]
    },
    {
      "cell_type": "code",
      "metadata": {
        "colab": {
          "base_uri": "https://localhost:8080/"
        },
        "id": "9c8ADJj5SPfi",
        "outputId": "93a60044-b3c4-4307-898f-c061c6f9b436"
      },
      "source": [
        "window_x.shape"
      ],
      "execution_count": 114,
      "outputs": [
        {
          "output_type": "execute_result",
          "data": {
            "text/plain": [
              "torch.Size([755, 30, 4])"
            ]
          },
          "metadata": {
            "tags": []
          },
          "execution_count": 114
        }
      ]
    },
    {
      "cell_type": "code",
      "metadata": {
        "colab": {
          "base_uri": "https://localhost:8080/"
        },
        "id": "BI-nQpttVurj",
        "outputId": "7d3dc374-4077-4c60-cd52-f97fa4a8ffd4"
      },
      "source": [
        "window_x"
      ],
      "execution_count": 121,
      "outputs": [
        {
          "output_type": "execute_result",
          "data": {
            "text/plain": [
              "array([[[0.05168913, 0.04908316, 0.04260355, 0.01173496],\n",
              "        [0.04855086, 0.04556399, 0.0295858 , 0.01344631],\n",
              "        [0.06055012, 0.05723282, 0.03372781, 0.01284155],\n",
              "        ...,\n",
              "        [0.01421451, 0.01370624, 0.01242604, 0.002181  ],\n",
              "        [0.0182758 , 0.01778107, 0.03017751, 0.00308171],\n",
              "        [0.01255307, 0.01240971, 0.01360947, 0.00156337]],\n",
              "\n",
              "       [[0.04855086, 0.04556399, 0.0295858 , 0.01344631],\n",
              "        [0.06055012, 0.05723282, 0.03372781, 0.01284155],\n",
              "        [0.0551966 , 0.05297277, 0.0260355 , 0.01668243],\n",
              "        ...,\n",
              "        [0.0182758 , 0.01778107, 0.03017751, 0.00308171],\n",
              "        [0.01255307, 0.01240971, 0.01360947, 0.00156337],\n",
              "        [0.00978401, 0.00981663, 0.01301775, 0.00137037]],\n",
              "\n",
              "       [[0.06055012, 0.05723282, 0.03372781, 0.01284155],\n",
              "        [0.0551966 , 0.05297277, 0.0260355 , 0.01668243],\n",
              "        [0.06959572, 0.06353028, 0.02899408, 0.02472448],\n",
              "        ...,\n",
              "        [0.01255307, 0.01240971, 0.01360947, 0.00156337],\n",
              "        [0.00978401, 0.00981663, 0.01301775, 0.00137037],\n",
              "        [0.01661436, 0.01555844, 0.01656805, 0.00352563]],\n",
              "\n",
              "       ...,\n",
              "\n",
              "       [[0.30884253, 0.3032043 , 0.2035503 , 0.2542832 ],\n",
              "        [0.2338933 , 0.23170958, 0.13431953, 0.19472699],\n",
              "        [0.27192173, 0.26690128, 0.16035503, 0.20210637],\n",
              "        ...,\n",
              "        [0.61491601, 0.60400074, 0.48284024, 0.49871006],\n",
              "        [0.62986893, 0.61844786, 0.47869822, 0.56291135],\n",
              "        [0.72973971, 0.73069087, 0.54497041, 0.69375229]],\n",
              "\n",
              "       [[0.2338933 , 0.23170958, 0.13431953, 0.19472699],\n",
              "        [0.27192173, 0.26690128, 0.16035503, 0.20210637],\n",
              "        [0.29019753, 0.28486757, 0.17100592, 0.22417376],\n",
              "        ...,\n",
              "        [0.62986893, 0.61844786, 0.47869822, 0.56291135],\n",
              "        [0.72973971, 0.73069087, 0.54497041, 0.69375229],\n",
              "        [0.59793243, 0.58399704, 0.42307692, 0.58014064]],\n",
              "\n",
              "       [[0.27192173, 0.26690128, 0.16035503, 0.20210637],\n",
              "        [0.29019753, 0.28486757, 0.17100592, 0.22417376],\n",
              "        [0.31087318, 0.30468605, 0.21183432, 0.22493936],\n",
              "        ...,\n",
              "        [0.72973971, 0.73069087, 0.54497041, 0.69375229],\n",
              "        [0.59793243, 0.58399704, 0.42307692, 0.58014064],\n",
              "        [0.37013107, 0.3745138 , 0.26390533, 0.33011008]]])"
            ]
          },
          "metadata": {
            "tags": []
          },
          "execution_count": 121
        }
      ]
    },
    {
      "cell_type": "markdown",
      "metadata": {
        "id": "PQNb192AnD3z"
      },
      "source": [
        "* https://sacko.tistory.com/38"
      ]
    },
    {
      "cell_type": "code",
      "metadata": {
        "colab": {
          "base_uri": "https://localhost:8080/"
        },
        "id": "VXYtZwu4t9tS",
        "outputId": "f8c6d884-0398-4df3-9188-b9617bc0ceca"
      },
      "source": [
        "# Model학습\r\n",
        "window_x = torch.tensor(window_x).float().to(device)\r\n",
        "window_y = torch.tensor(window_y).float().to(device)\r\n",
        "\r\n",
        "# Train model\r\n",
        "optimizer = torch.optim.Adam(model.parameters(), lr = 0.001)\r\n",
        "criterion = nn.MSELoss(size_average = True)\r\n",
        "num_epochs  = 700\r\n",
        "train_error = []\r\n",
        "\r\n",
        "for t in range(num_epochs):\r\n",
        "    train_pred = model(window_x)\r\n",
        "    loss = criterion(train_pred, window_y) ### trend\r\n",
        "    train_error.append(loss)\r\n",
        "    \r\n",
        "    optimizer.zero_grad()\r\n",
        "    loss.backward()\r\n",
        "    optimizer.step()\r\n",
        "    if t % 10 == 0 and t !=0:\r\n",
        "        print(f\"{t} Epochs train MSE: {loss.item():1.5f}\")"
      ],
      "execution_count": 12,
      "outputs": [
        {
          "output_type": "stream",
          "text": [
            "10 Epochs train MSE: 0.04152\n",
            "20 Epochs train MSE: 0.03147\n",
            "30 Epochs train MSE: 0.02892\n",
            "40 Epochs train MSE: 0.02799\n",
            "50 Epochs train MSE: 0.02527\n",
            "60 Epochs train MSE: 0.01433\n",
            "70 Epochs train MSE: 0.01096\n",
            "80 Epochs train MSE: 0.00983\n",
            "90 Epochs train MSE: 0.00898\n",
            "100 Epochs train MSE: 0.00867\n",
            "110 Epochs train MSE: 0.00842\n",
            "120 Epochs train MSE: 0.00830\n",
            "130 Epochs train MSE: 0.00822\n",
            "140 Epochs train MSE: 0.00818\n",
            "150 Epochs train MSE: 0.00815\n",
            "160 Epochs train MSE: 0.00812\n",
            "170 Epochs train MSE: 0.00810\n",
            "180 Epochs train MSE: 0.00809\n",
            "190 Epochs train MSE: 0.00807\n",
            "200 Epochs train MSE: 0.00806\n",
            "210 Epochs train MSE: 0.00804\n",
            "220 Epochs train MSE: 0.00803\n",
            "230 Epochs train MSE: 0.00801\n",
            "240 Epochs train MSE: 0.00800\n",
            "250 Epochs train MSE: 0.00798\n",
            "260 Epochs train MSE: 0.00796\n",
            "270 Epochs train MSE: 0.00794\n",
            "280 Epochs train MSE: 0.00792\n",
            "290 Epochs train MSE: 0.00790\n",
            "300 Epochs train MSE: 0.00788\n",
            "310 Epochs train MSE: 0.00786\n",
            "320 Epochs train MSE: 0.00783\n",
            "330 Epochs train MSE: 0.00781\n",
            "340 Epochs train MSE: 0.00778\n",
            "350 Epochs train MSE: 0.00775\n",
            "360 Epochs train MSE: 0.00772\n",
            "370 Epochs train MSE: 0.00769\n",
            "380 Epochs train MSE: 0.00766\n",
            "390 Epochs train MSE: 0.00763\n",
            "400 Epochs train MSE: 0.00759\n",
            "410 Epochs train MSE: 0.00755\n",
            "420 Epochs train MSE: 0.00750\n",
            "430 Epochs train MSE: 0.00745\n",
            "440 Epochs train MSE: 0.00739\n",
            "450 Epochs train MSE: 0.00736\n",
            "460 Epochs train MSE: 0.00729\n",
            "470 Epochs train MSE: 0.00724\n",
            "480 Epochs train MSE: 0.00714\n",
            "490 Epochs train MSE: 0.00704\n",
            "500 Epochs train MSE: 0.00695\n",
            "510 Epochs train MSE: 0.00686\n",
            "520 Epochs train MSE: 0.00681\n",
            "530 Epochs train MSE: 0.00671\n",
            "540 Epochs train MSE: 0.00665\n",
            "550 Epochs train MSE: 0.00655\n",
            "560 Epochs train MSE: 0.00656\n",
            "570 Epochs train MSE: 0.00638\n",
            "580 Epochs train MSE: 0.00628\n",
            "590 Epochs train MSE: 0.00624\n",
            "600 Epochs train MSE: 0.00605\n",
            "610 Epochs train MSE: 0.00593\n",
            "620 Epochs train MSE: 0.00570\n",
            "630 Epochs train MSE: 0.00543\n",
            "640 Epochs train MSE: 0.00512\n",
            "650 Epochs train MSE: 0.00495\n",
            "660 Epochs train MSE: 0.00481\n",
            "670 Epochs train MSE: 0.00468\n",
            "680 Epochs train MSE: 0.00454\n",
            "690 Epochs train MSE: 0.00446\n"
          ],
          "name": "stdout"
        }
      ]
    },
    {
      "cell_type": "markdown",
      "metadata": {
        "id": "CpLq-U-Fubmh"
      },
      "source": [
        "# Prediction & CSV "
      ]
    },
    {
      "cell_type": "code",
      "metadata": {
        "colab": {
          "base_uri": "https://localhost:8080/"
        },
        "id": "jkpt3Dcd7G7Q",
        "outputId": "d8e1bf38-d55b-4968-da43-eb9bac1a484e"
      },
      "source": [
        "train_pred"
      ],
      "execution_count": 51,
      "outputs": [
        {
          "output_type": "execute_result",
          "data": {
            "text/plain": [
              "tensor([[[43.9217, 43.4527, 11.1772, 86.2131],\n",
              "         [43.9217, 43.4527, 11.1772, 86.2131],\n",
              "         [43.9217, 43.4527, 11.1772, 86.2131],\n",
              "         ...,\n",
              "         [43.9217, 43.4527, 11.1772, 86.2131],\n",
              "         [43.9217, 43.4527, 11.1772, 86.2131],\n",
              "         [43.9217, 43.4527, 11.1772, 86.2131]],\n",
              "\n",
              "        [[43.9217, 43.4527, 11.1772, 86.2131],\n",
              "         [43.9217, 43.4527, 11.1772, 86.2131],\n",
              "         [43.9217, 43.4527, 11.1772, 86.2131],\n",
              "         ...,\n",
              "         [43.9217, 43.4527, 11.1772, 86.2131],\n",
              "         [43.9217, 43.4527, 11.1772, 86.2131],\n",
              "         [43.9217, 43.4527, 11.1772, 86.2131]],\n",
              "\n",
              "        [[43.9217, 43.4527, 11.1772, 86.2131],\n",
              "         [43.9217, 43.4527, 11.1772, 86.2131],\n",
              "         [43.9217, 43.4527, 11.1772, 86.2131],\n",
              "         ...,\n",
              "         [43.9217, 43.4527, 11.1772, 86.2131],\n",
              "         [43.9217, 43.4527, 11.1772, 86.2131],\n",
              "         [43.9217, 43.4527, 11.1772, 86.2131]],\n",
              "\n",
              "        ...,\n",
              "\n",
              "        [[43.9217, 43.4527, 11.1772, 86.2131],\n",
              "         [43.9217, 43.4527, 11.1772, 86.2131],\n",
              "         [43.9217, 43.4527, 11.1772, 86.2131],\n",
              "         ...,\n",
              "         [43.9217, 43.4527, 11.1772, 86.2131],\n",
              "         [43.9217, 43.4527, 11.1772, 86.2131],\n",
              "         [43.9217, 43.4527, 11.1772, 86.2131]],\n",
              "\n",
              "        [[43.9217, 43.4527, 11.1772, 86.2131],\n",
              "         [43.9217, 43.4527, 11.1772, 86.2131],\n",
              "         [43.9217, 43.4527, 11.1772, 86.2131],\n",
              "         ...,\n",
              "         [43.9217, 43.4527, 11.1772, 86.2131],\n",
              "         [43.9217, 43.4527, 11.1772, 86.2131],\n",
              "         [43.9217, 43.4527, 11.1772, 86.2131]],\n",
              "\n",
              "        [[43.9217, 43.4527, 11.1772, 86.2131],\n",
              "         [43.9217, 43.4527, 11.1772, 86.2131],\n",
              "         [43.9217, 43.4527, 11.1772, 86.2131],\n",
              "         ...,\n",
              "         [43.9217, 43.4527, 11.1772, 86.2131],\n",
              "         [43.9217, 43.4527, 11.1772, 86.2131],\n",
              "         [43.9217, 43.4527, 11.1772, 86.2131]]], device='cuda:0',\n",
              "       grad_fn=<ViewBackward>)"
            ]
          },
          "metadata": {
            "tags": []
          },
          "execution_count": 51
        }
      ]
    },
    {
      "cell_type": "code",
      "metadata": {
        "colab": {
          "base_uri": "https://localhost:8080/"
        },
        "id": "3Kc4xgCR7G1B",
        "outputId": "e905d932-6d5b-4f14-a70a-f0364786c193"
      },
      "source": [
        "train_pred.shape"
      ],
      "execution_count": null,
      "outputs": [
        {
          "output_type": "execute_result",
          "data": {
            "text/plain": [
              "torch.Size([755, 7, 4])"
            ]
          },
          "metadata": {
            "tags": []
          },
          "execution_count": 37
        }
      ]
    },
    {
      "cell_type": "code",
      "metadata": {
        "colab": {
          "base_uri": "https://localhost:8080/"
        },
        "id": "WGguJ-vv7GsP",
        "outputId": "82c7222e-67c5-4dec-9adb-a1f24682f23c"
      },
      "source": [
        "last_month = torch.tensor(window_x[-1,:,:][np.newaxis,...]).float().to(device)\r\n",
        "last_month"
      ],
      "execution_count": null,
      "outputs": [
        {
          "output_type": "execute_result",
          "data": {
            "text/plain": [
              "tensor([[[0.2719, 0.2669, 0.1604, 0.2021],\n",
              "         [0.2902, 0.2849, 0.1710, 0.2242],\n",
              "         [0.3109, 0.3047, 0.2118, 0.2249],\n",
              "         [0.5704, 0.5557, 0.4414, 0.4659],\n",
              "         [0.5141, 0.5053, 0.3686, 0.4430],\n",
              "         [0.5595, 0.5477, 0.4509, 0.4565],\n",
              "         [0.4957, 0.4869, 0.3331, 0.3698],\n",
              "         [0.3836, 0.3669, 0.1947, 0.3030],\n",
              "         [0.3415, 0.3404, 0.2308, 0.2975],\n",
              "         [0.3063, 0.2978, 0.1964, 0.2278],\n",
              "         [0.4685, 0.4599, 0.3550, 0.3588],\n",
              "         [0.5034, 0.5016, 0.4237, 0.3637],\n",
              "         [0.4473, 0.4466, 0.3515, 0.3213],\n",
              "         [0.3982, 0.3958, 0.3325, 0.2804],\n",
              "         [0.3867, 0.3769, 0.2805, 0.2870],\n",
              "         [0.3005, 0.2969, 0.2751, 0.1814],\n",
              "         [0.3762, 0.3712, 0.3639, 0.2516],\n",
              "         [0.4886, 0.4849, 0.3923, 0.3579],\n",
              "         [0.5981, 0.6036, 0.6379, 0.5542],\n",
              "         [0.4883, 0.4845, 0.4178, 0.4242],\n",
              "         [0.5132, 0.5131, 0.4627, 0.4058],\n",
              "         [0.4320, 0.4223, 0.3320, 0.3416],\n",
              "         [0.3345, 0.3289, 0.2491, 0.2403],\n",
              "         [0.2994, 0.2969, 0.1882, 0.2504],\n",
              "         [0.5942, 0.5755, 0.4574, 0.5109],\n",
              "         [0.6149, 0.6040, 0.4828, 0.4987],\n",
              "         [0.6299, 0.6184, 0.4787, 0.5629],\n",
              "         [0.7297, 0.7307, 0.5450, 0.6938],\n",
              "         [0.5979, 0.5840, 0.4231, 0.5801],\n",
              "         [0.3701, 0.3745, 0.2639, 0.3301]]], device='cuda:0')"
            ]
          },
          "metadata": {
            "tags": []
          },
          "execution_count": 52
        }
      ]
    },
    {
      "cell_type": "code",
      "metadata": {
        "colab": {
          "base_uri": "https://localhost:8080/"
        },
        "id": "-F2wHKu17snt",
        "outputId": "984fdbd6-cd70-45ed-8602-3b131d612282"
      },
      "source": [
        "last_month.shape"
      ],
      "execution_count": null,
      "outputs": [
        {
          "output_type": "execute_result",
          "data": {
            "text/plain": [
              "torch.Size([1, 30, 4])"
            ]
          },
          "metadata": {
            "tags": []
          },
          "execution_count": 53
        }
      ]
    },
    {
      "cell_type": "code",
      "metadata": {
        "id": "pf0SGeNI7z2z"
      },
      "source": [
        "submission = pd.read_csv(\"/content/drive/MyDrive/Colab Notebooks/LSTM_pytorch(Dacon)/input/submission.csv\", encoding = 'euc-kr')\r\n",
        "last_month = torch.tensor(window_x[-1,:,:][np.newaxis,...]).float().to(device)"
      ],
      "execution_count": 123,
      "outputs": []
    },
    {
      "cell_type": "code",
      "metadata": {
        "colab": {
          "base_uri": "https://localhost:8080/",
          "height": 419
        },
        "id": "FzzikHmm-kgy",
        "outputId": "992462b3-30ce-48ac-e6ec-460adb0b0313"
      },
      "source": [
        "submission"
      ],
      "execution_count": 124,
      "outputs": [
        {
          "output_type": "execute_result",
          "data": {
            "text/html": [
              "<div>\n",
              "<style scoped>\n",
              "    .dataframe tbody tr th:only-of-type {\n",
              "        vertical-align: middle;\n",
              "    }\n",
              "\n",
              "    .dataframe tbody tr th {\n",
              "        vertical-align: top;\n",
              "    }\n",
              "\n",
              "    .dataframe thead th {\n",
              "        text-align: right;\n",
              "    }\n",
              "</style>\n",
              "<table border=\"1\" class=\"dataframe\">\n",
              "  <thead>\n",
              "    <tr style=\"text-align: right;\">\n",
              "      <th></th>\n",
              "      <th>DateTime</th>\n",
              "      <th>사용자</th>\n",
              "      <th>세션</th>\n",
              "      <th>신규방문자</th>\n",
              "      <th>페이지뷰</th>\n",
              "    </tr>\n",
              "  </thead>\n",
              "  <tbody>\n",
              "    <tr>\n",
              "      <th>0</th>\n",
              "      <td>2020-11-09</td>\n",
              "      <td>0</td>\n",
              "      <td>0</td>\n",
              "      <td>0</td>\n",
              "      <td>0</td>\n",
              "    </tr>\n",
              "    <tr>\n",
              "      <th>1</th>\n",
              "      <td>2020-11-10</td>\n",
              "      <td>0</td>\n",
              "      <td>0</td>\n",
              "      <td>0</td>\n",
              "      <td>0</td>\n",
              "    </tr>\n",
              "    <tr>\n",
              "      <th>2</th>\n",
              "      <td>2020-11-11</td>\n",
              "      <td>0</td>\n",
              "      <td>0</td>\n",
              "      <td>0</td>\n",
              "      <td>0</td>\n",
              "    </tr>\n",
              "    <tr>\n",
              "      <th>3</th>\n",
              "      <td>2020-11-12</td>\n",
              "      <td>0</td>\n",
              "      <td>0</td>\n",
              "      <td>0</td>\n",
              "      <td>0</td>\n",
              "    </tr>\n",
              "    <tr>\n",
              "      <th>4</th>\n",
              "      <td>2020-11-13</td>\n",
              "      <td>0</td>\n",
              "      <td>0</td>\n",
              "      <td>0</td>\n",
              "      <td>0</td>\n",
              "    </tr>\n",
              "    <tr>\n",
              "      <th>...</th>\n",
              "      <td>...</td>\n",
              "      <td>...</td>\n",
              "      <td>...</td>\n",
              "      <td>...</td>\n",
              "      <td>...</td>\n",
              "    </tr>\n",
              "    <tr>\n",
              "      <th>56</th>\n",
              "      <td>2021-01-04</td>\n",
              "      <td>0</td>\n",
              "      <td>0</td>\n",
              "      <td>0</td>\n",
              "      <td>0</td>\n",
              "    </tr>\n",
              "    <tr>\n",
              "      <th>57</th>\n",
              "      <td>2021-01-05</td>\n",
              "      <td>0</td>\n",
              "      <td>0</td>\n",
              "      <td>0</td>\n",
              "      <td>0</td>\n",
              "    </tr>\n",
              "    <tr>\n",
              "      <th>58</th>\n",
              "      <td>2021-01-06</td>\n",
              "      <td>0</td>\n",
              "      <td>0</td>\n",
              "      <td>0</td>\n",
              "      <td>0</td>\n",
              "    </tr>\n",
              "    <tr>\n",
              "      <th>59</th>\n",
              "      <td>2021-01-07</td>\n",
              "      <td>0</td>\n",
              "      <td>0</td>\n",
              "      <td>0</td>\n",
              "      <td>0</td>\n",
              "    </tr>\n",
              "    <tr>\n",
              "      <th>60</th>\n",
              "      <td>2021-01-08</td>\n",
              "      <td>0</td>\n",
              "      <td>0</td>\n",
              "      <td>0</td>\n",
              "      <td>0</td>\n",
              "    </tr>\n",
              "  </tbody>\n",
              "</table>\n",
              "<p>61 rows × 5 columns</p>\n",
              "</div>"
            ],
            "text/plain": [
              "      DateTime  사용자  세션  신규방문자  페이지뷰\n",
              "0   2020-11-09    0   0      0     0\n",
              "1   2020-11-10    0   0      0     0\n",
              "2   2020-11-11    0   0      0     0\n",
              "3   2020-11-12    0   0      0     0\n",
              "4   2020-11-13    0   0      0     0\n",
              "..         ...  ...  ..    ...   ...\n",
              "56  2021-01-04    0   0      0     0\n",
              "57  2021-01-05    0   0      0     0\n",
              "58  2021-01-06    0   0      0     0\n",
              "59  2021-01-07    0   0      0     0\n",
              "60  2021-01-08    0   0      0     0\n",
              "\n",
              "[61 rows x 5 columns]"
            ]
          },
          "metadata": {
            "tags": []
          },
          "execution_count": 124
        }
      ]
    },
    {
      "cell_type": "code",
      "metadata": {
        "colab": {
          "base_uri": "https://localhost:8080/"
        },
        "id": "izARQOku75Fy",
        "outputId": "ffd44759-ee4e-47be-d078-960111a929a9"
      },
      "source": [
        "model(last_month)"
      ],
      "execution_count": null,
      "outputs": [
        {
          "output_type": "execute_result",
          "data": {
            "text/plain": [
              "tensor([[[0.3109, 0.3075, 0.2104, 0.2576],\n",
              "         [0.8317, 0.8310, 0.7240, 0.7188],\n",
              "         [0.8340, 0.8556, 0.7645, 0.7274],\n",
              "         [0.8019, 0.8213, 0.6864, 0.6791],\n",
              "         [0.8205, 0.8413, 0.6917, 0.7049],\n",
              "         [0.7203, 0.7382, 0.5990, 0.6443],\n",
              "         [0.3676, 0.3605, 0.2497, 0.3002]]], device='cuda:0',\n",
              "       grad_fn=<ViewBackward>)"
            ]
          },
          "metadata": {
            "tags": []
          },
          "execution_count": 51
        }
      ]
    },
    {
      "cell_type": "code",
      "metadata": {
        "id": "2YpfXVAY8BPi"
      },
      "source": [
        "next_week = model(last_month)\r\n",
        "last_month = torch.cat([last_month[-7:], next_week], axis = 1)"
      ],
      "execution_count": null,
      "outputs": []
    },
    {
      "cell_type": "code",
      "metadata": {
        "colab": {
          "base_uri": "https://localhost:8080/"
        },
        "id": "pydExcTb8Ef2",
        "outputId": "a1825017-c928-4765-eafd-490b6b637117"
      },
      "source": [
        "last_month"
      ],
      "execution_count": 46,
      "outputs": [
        {
          "output_type": "execute_result",
          "data": {
            "text/plain": [
              "tensor([[[1.7700e+02, 1.6600e+02, 4.0000e+01, 4.0460e+03],\n",
              "         [1.4900e+02, 1.3800e+02, 2.1000e+01, 3.3930e+03],\n",
              "         [1.2800e+02, 1.2900e+02, 3.2000e+01, 3.5970e+03],\n",
              "         [1.2100e+02, 1.1800e+02, 3.0000e+01, 2.9140e+03],\n",
              "         [1.4500e+02, 1.3800e+02, 2.7000e+01, 2.7160e+03],\n",
              "         [1.6300e+02, 1.6200e+02, 2.7000e+01, 2.4030e+03],\n",
              "         [1.2900e+02, 1.1900e+02, 2.7000e+01, 2.9460e+03],\n",
              "         [1.5000e+02, 1.4900e+02, 3.1000e+01, 3.3650e+03],\n",
              "         [1.2900e+02, 1.3300e+02, 2.2000e+01, 2.5710e+03],\n",
              "         [9.1000e+01, 8.3000e+01, 1.6000e+01, 1.8230e+03],\n",
              "         [6.2000e+01, 5.5000e+01, 1.2000e+01, 1.2710e+03],\n",
              "         [3.0000e+01, 2.8000e+01, 8.0000e+00, 3.4500e+02],\n",
              "         [1.7000e+01, 1.8000e+01, 1.0000e+00, 1.4800e+02],\n",
              "         [1.9000e+01, 2.0000e+01, 5.0000e+00, 2.7500e+02],\n",
              "         [1.7000e+01, 1.6000e+01, 7.0000e+00, 1.7000e+02],\n",
              "         [1.6000e+01, 1.5000e+01, 3.0000e+00, 1.5700e+02],\n",
              "         [2.2000e+01, 2.5000e+01, 7.0000e+00, 2.5200e+02],\n",
              "         [4.3000e+01, 4.6000e+01, 1.1000e+01, 6.4000e+02],\n",
              "         [9.0000e+01, 9.2000e+01, 2.2000e+01, 1.3740e+03],\n",
              "         [1.1300e+02, 1.1400e+02, 3.1000e+01, 1.7890e+03],\n",
              "         [1.1200e+02, 1.0200e+02, 3.0000e+01, 2.0210e+03],\n",
              "         [1.3200e+02, 1.3000e+02, 3.2000e+01, 2.2420e+03],\n",
              "         [1.3000e+02, 1.2900e+02, 2.8000e+01, 1.8430e+03],\n",
              "         [1.7400e+02, 1.8100e+02, 3.4000e+01, 4.1910e+03]]], device='cuda:0')"
            ]
          },
          "metadata": {
            "tags": []
          },
          "execution_count": 46
        }
      ]
    },
    {
      "cell_type": "code",
      "metadata": {
        "colab": {
          "base_uri": "https://localhost:8080/",
          "height": 244
        },
        "id": "5XuL7F3C8JhK",
        "outputId": "bb823452-963f-41ce-81ff-f1347469bfda"
      },
      "source": [
        "pred_week = next_week.cpu().detach().numpy().reshape(output_window,4)\r\n",
        "pred_week = pred_week * size.values + mini.values\r\n",
        "pred_week = pred_week.astype(int)\r\n",
        "\r\n",
        "print(pred_week)"
      ],
      "execution_count": 50,
      "outputs": [
        {
          "output_type": "error",
          "ename": "NameError",
          "evalue": "ignored",
          "traceback": [
            "\u001b[0;31m---------------------------------------------------------------------------\u001b[0m",
            "\u001b[0;31mNameError\u001b[0m                                 Traceback (most recent call last)",
            "\u001b[0;32m<ipython-input-50-8069f146553f>\u001b[0m in \u001b[0;36m<module>\u001b[0;34m()\u001b[0m\n\u001b[1;32m      1\u001b[0m \u001b[0mpred_week\u001b[0m \u001b[0;34m=\u001b[0m \u001b[0mnext_week\u001b[0m\u001b[0;34m.\u001b[0m\u001b[0mcpu\u001b[0m\u001b[0;34m(\u001b[0m\u001b[0;34m)\u001b[0m\u001b[0;34m.\u001b[0m\u001b[0mdetach\u001b[0m\u001b[0;34m(\u001b[0m\u001b[0;34m)\u001b[0m\u001b[0;34m.\u001b[0m\u001b[0mnumpy\u001b[0m\u001b[0;34m(\u001b[0m\u001b[0;34m)\u001b[0m\u001b[0;34m.\u001b[0m\u001b[0mreshape\u001b[0m\u001b[0;34m(\u001b[0m\u001b[0moutput_window\u001b[0m\u001b[0;34m,\u001b[0m\u001b[0;36m4\u001b[0m\u001b[0;34m)\u001b[0m\u001b[0;34m\u001b[0m\u001b[0;34m\u001b[0m\u001b[0m\n\u001b[0;32m----> 2\u001b[0;31m \u001b[0mpred_week\u001b[0m \u001b[0;34m=\u001b[0m \u001b[0mpred_week\u001b[0m \u001b[0;34m*\u001b[0m \u001b[0msize\u001b[0m\u001b[0;34m.\u001b[0m\u001b[0mvalues\u001b[0m \u001b[0;34m+\u001b[0m \u001b[0mmini\u001b[0m\u001b[0;34m.\u001b[0m\u001b[0mvalues\u001b[0m\u001b[0;34m\u001b[0m\u001b[0;34m\u001b[0m\u001b[0m\n\u001b[0m\u001b[1;32m      3\u001b[0m \u001b[0mpred_week\u001b[0m \u001b[0;34m=\u001b[0m \u001b[0mpred_week\u001b[0m\u001b[0;34m.\u001b[0m\u001b[0mastype\u001b[0m\u001b[0;34m(\u001b[0m\u001b[0mint\u001b[0m\u001b[0;34m)\u001b[0m\u001b[0;34m\u001b[0m\u001b[0;34m\u001b[0m\u001b[0m\n\u001b[1;32m      4\u001b[0m \u001b[0;34m\u001b[0m\u001b[0m\n\u001b[1;32m      5\u001b[0m \u001b[0mprint\u001b[0m\u001b[0;34m(\u001b[0m\u001b[0mpred_week\u001b[0m\u001b[0;34m)\u001b[0m\u001b[0;34m\u001b[0m\u001b[0;34m\u001b[0m\u001b[0m\n",
            "\u001b[0;31mNameError\u001b[0m: name 'size' is not defined"
          ]
        }
      ]
    },
    {
      "cell_type": "code",
      "metadata": {
        "colab": {
          "base_uri": "https://localhost:8080/"
        },
        "id": "IlhHhkfI-YBn",
        "outputId": "fe34c7d3-5c26-4146-f705-6aa82cfb06a2"
      },
      "source": [
        "pred_week.shape"
      ],
      "execution_count": null,
      "outputs": [
        {
          "output_type": "execute_result",
          "data": {
            "text/plain": [
              "(7, 4)"
            ]
          },
          "metadata": {
            "tags": []
          },
          "execution_count": 55
        }
      ]
    },
    {
      "cell_type": "code",
      "metadata": {
        "colab": {
          "base_uri": "https://localhost:8080/"
        },
        "id": "9iQmFYQy8TXI",
        "outputId": "02f94d5a-d531-4dc7-dc4b-466184366796"
      },
      "source": [
        "(len(submission) - output_window)//7 + 1"
      ],
      "execution_count": null,
      "outputs": [
        {
          "output_type": "execute_result",
          "data": {
            "text/plain": [
              "8"
            ]
          },
          "metadata": {
            "tags": []
          },
          "execution_count": 56
        }
      ]
    },
    {
      "cell_type": "code",
      "metadata": {
        "colab": {
          "base_uri": "https://localhost:8080/"
        },
        "id": "WoFqn-u28JXP",
        "outputId": "76f8a925-4d74-420f-fa67-acf517422794"
      },
      "source": [
        "len(submission)//7"
      ],
      "execution_count": 129,
      "outputs": [
        {
          "output_type": "execute_result",
          "data": {
            "text/plain": [
              "8"
            ]
          },
          "metadata": {
            "tags": []
          },
          "execution_count": 129
        }
      ]
    },
    {
      "cell_type": "code",
      "metadata": {
        "colab": {
          "base_uri": "https://localhost:8080/"
        },
        "id": "7BmHf_SY-6HV",
        "outputId": "5ceb9e95-26fc-4a0f-93cc-a9e12c398941"
      },
      "source": [
        "# output_window는 일주일인 7일을 의미\r\n",
        "output_window"
      ],
      "execution_count": null,
      "outputs": [
        {
          "output_type": "execute_result",
          "data": {
            "text/plain": [
              "7"
            ]
          },
          "metadata": {
            "tags": []
          },
          "execution_count": 58
        }
      ]
    },
    {
      "cell_type": "code",
      "metadata": {
        "colab": {
          "base_uri": "https://localhost:8080/"
        },
        "id": "kRuGHTqVWF4J",
        "outputId": "cb5de50c-0f7c-4322-a2bf-40fa96be7f57"
      },
      "source": [
        "(len(submission) - output_window)//7 + 2"
      ],
      "execution_count": 126,
      "outputs": [
        {
          "output_type": "execute_result",
          "data": {
            "text/plain": [
              "9"
            ]
          },
          "metadata": {
            "tags": []
          },
          "execution_count": 126
        }
      ]
    },
    {
      "cell_type": "code",
      "metadata": {
        "colab": {
          "base_uri": "https://localhost:8080/"
        },
        "id": "MlfavRADWR4J",
        "outputId": "6d81aaff-4cd9-4dc6-c48b-56b0d12b1ff5"
      },
      "source": [
        "last_month.shape"
      ],
      "execution_count": 140,
      "outputs": [
        {
          "output_type": "execute_result",
          "data": {
            "text/plain": [
              "torch.Size([1, 30, 4])"
            ]
          },
          "metadata": {
            "tags": []
          },
          "execution_count": 140
        }
      ]
    },
    {
      "cell_type": "code",
      "metadata": {
        "colab": {
          "base_uri": "https://localhost:8080/"
        },
        "id": "ZcCHHrmxWPjN",
        "outputId": "3709ea32-6cd4-40f4-ccf6-18b309fa9e58"
      },
      "source": [
        "last_month = torch.tensor(window_x[-1,:,:][np.newaxis,...]).float().to(device)\r\n",
        "last_month"
      ],
      "execution_count": 139,
      "outputs": [
        {
          "output_type": "execute_result",
          "data": {
            "text/plain": [
              "tensor([[[0.2719, 0.2669, 0.1604, 0.2021],\n",
              "         [0.2902, 0.2849, 0.1710, 0.2242],\n",
              "         [0.3109, 0.3047, 0.2118, 0.2249],\n",
              "         [0.5704, 0.5557, 0.4414, 0.4659],\n",
              "         [0.5141, 0.5053, 0.3686, 0.4430],\n",
              "         [0.5595, 0.5477, 0.4509, 0.4565],\n",
              "         [0.4957, 0.4869, 0.3331, 0.3698],\n",
              "         [0.3836, 0.3669, 0.1947, 0.3030],\n",
              "         [0.3415, 0.3404, 0.2308, 0.2975],\n",
              "         [0.3063, 0.2978, 0.1964, 0.2278],\n",
              "         [0.4685, 0.4599, 0.3550, 0.3588],\n",
              "         [0.5034, 0.5016, 0.4237, 0.3637],\n",
              "         [0.4473, 0.4466, 0.3515, 0.3213],\n",
              "         [0.3982, 0.3958, 0.3325, 0.2804],\n",
              "         [0.3867, 0.3769, 0.2805, 0.2870],\n",
              "         [0.3005, 0.2969, 0.2751, 0.1814],\n",
              "         [0.3762, 0.3712, 0.3639, 0.2516],\n",
              "         [0.4886, 0.4849, 0.3923, 0.3579],\n",
              "         [0.5981, 0.6036, 0.6379, 0.5542],\n",
              "         [0.4883, 0.4845, 0.4178, 0.4242],\n",
              "         [0.5132, 0.5131, 0.4627, 0.4058],\n",
              "         [0.4320, 0.4223, 0.3320, 0.3416],\n",
              "         [0.3345, 0.3289, 0.2491, 0.2403],\n",
              "         [0.2994, 0.2969, 0.1882, 0.2504],\n",
              "         [0.5942, 0.5755, 0.4574, 0.5109],\n",
              "         [0.6149, 0.6040, 0.4828, 0.4987],\n",
              "         [0.6299, 0.6184, 0.4787, 0.5629],\n",
              "         [0.7297, 0.7307, 0.5450, 0.6938],\n",
              "         [0.5979, 0.5840, 0.4231, 0.5801],\n",
              "         [0.3701, 0.3745, 0.2639, 0.3301]]], device='cuda:0')"
            ]
          },
          "metadata": {
            "tags": []
          },
          "execution_count": 139
        }
      ]
    },
    {
      "cell_type": "code",
      "metadata": {
        "colab": {
          "base_uri": "https://localhost:8080/"
        },
        "id": "v__fAidAWnmp",
        "outputId": "82073a04-a9ee-4f97-c885-2fb377714644"
      },
      "source": [
        "last_month = torch.cat([last_month[-7:], next_week], axis = 1)\r\n",
        "last_month"
      ],
      "execution_count": 160,
      "outputs": [
        {
          "output_type": "execute_result",
          "data": {
            "text/plain": [
              "tensor([[[0.3629, 0.3644, 0.2732, 0.3200],\n",
              "         [0.7821, 0.7970, 0.6833, 0.7038],\n",
              "         [0.8446, 0.8400, 0.7563, 0.7715],\n",
              "         [0.8275, 0.8262, 0.7524, 0.7531],\n",
              "         [0.8854, 0.8948, 0.8303, 0.8005],\n",
              "         [0.7381, 0.7399, 0.6661, 0.6361],\n",
              "         [0.2763, 0.2613, 0.2123, 0.2185],\n",
              "         [0.2798, 0.2842, 0.2000, 0.2583],\n",
              "         [0.8492, 0.8798, 0.7275, 0.7673],\n",
              "         [0.5630, 0.5577, 0.4222, 0.4592],\n",
              "         [0.4542, 0.4542, 0.3271, 0.3638],\n",
              "         [0.4400, 0.4412, 0.3266, 0.3600],\n",
              "         [0.3790, 0.3750, 0.2696, 0.3062],\n",
              "         [0.2932, 0.2870, 0.1911, 0.2293],\n",
              "         [0.3243, 0.3246, 0.2110, 0.2584],\n",
              "         [0.5550, 0.5592, 0.4398, 0.4792],\n",
              "         [0.4681, 0.4658, 0.3506, 0.3788],\n",
              "         [0.4159, 0.4135, 0.3005, 0.3303],\n",
              "         [0.3720, 0.3687, 0.2568, 0.2931],\n",
              "         [0.2940, 0.2897, 0.1821, 0.2242],\n",
              "         [0.2757, 0.2763, 0.1641, 0.2043],\n",
              "         [0.3125, 0.3151, 0.1988, 0.2288],\n",
              "         [0.4687, 0.4707, 0.3672, 0.3770],\n",
              "         [0.5105, 0.5105, 0.4232, 0.4160],\n",
              "         [0.4923, 0.4895, 0.4032, 0.3986],\n",
              "         [0.4334, 0.4234, 0.3462, 0.3445],\n",
              "         [0.3311, 0.3184, 0.2456, 0.2464],\n",
              "         [0.3128, 0.3125, 0.2227, 0.2325],\n",
              "         [0.4754, 0.4866, 0.3821, 0.3936],\n",
              "         [0.6386, 0.6530, 0.5639, 0.5606],\n",
              "         [0.5105, 0.5105, 0.4232, 0.4160],\n",
              "         [0.4923, 0.4895, 0.4032, 0.3986],\n",
              "         [0.4334, 0.4234, 0.3462, 0.3445],\n",
              "         [0.3311, 0.3184, 0.2456, 0.2464],\n",
              "         [0.3128, 0.3125, 0.2227, 0.2325],\n",
              "         [0.4754, 0.4866, 0.3821, 0.3936],\n",
              "         [0.6386, 0.6530, 0.5639, 0.5606]]], device='cuda:0',\n",
              "       grad_fn=<CatBackward>)"
            ]
          },
          "metadata": {
            "tags": []
          },
          "execution_count": 160
        }
      ]
    },
    {
      "cell_type": "code",
      "metadata": {
        "colab": {
          "base_uri": "https://localhost:8080/"
        },
        "id": "0s3XChuhW53R",
        "outputId": "a6c711ce-a023-45f7-b9ef-a6d82f2c7a38"
      },
      "source": [
        "last_month[0:]"
      ],
      "execution_count": 155,
      "outputs": [
        {
          "output_type": "execute_result",
          "data": {
            "text/plain": [
              "tensor([[[0.2719, 0.2669, 0.1604, 0.2021],\n",
              "         [0.2902, 0.2849, 0.1710, 0.2242],\n",
              "         [0.3109, 0.3047, 0.2118, 0.2249],\n",
              "         [0.5704, 0.5557, 0.4414, 0.4659],\n",
              "         [0.5141, 0.5053, 0.3686, 0.4430],\n",
              "         [0.5595, 0.5477, 0.4509, 0.4565],\n",
              "         [0.4957, 0.4869, 0.3331, 0.3698],\n",
              "         [0.3836, 0.3669, 0.1947, 0.3030],\n",
              "         [0.3415, 0.3404, 0.2308, 0.2975],\n",
              "         [0.3063, 0.2978, 0.1964, 0.2278],\n",
              "         [0.4685, 0.4599, 0.3550, 0.3588],\n",
              "         [0.5034, 0.5016, 0.4237, 0.3637],\n",
              "         [0.4473, 0.4466, 0.3515, 0.3213],\n",
              "         [0.3982, 0.3958, 0.3325, 0.2804],\n",
              "         [0.3867, 0.3769, 0.2805, 0.2870],\n",
              "         [0.3005, 0.2969, 0.2751, 0.1814],\n",
              "         [0.3762, 0.3712, 0.3639, 0.2516],\n",
              "         [0.4886, 0.4849, 0.3923, 0.3579],\n",
              "         [0.5981, 0.6036, 0.6379, 0.5542],\n",
              "         [0.4883, 0.4845, 0.4178, 0.4242],\n",
              "         [0.5132, 0.5131, 0.4627, 0.4058],\n",
              "         [0.4320, 0.4223, 0.3320, 0.3416],\n",
              "         [0.3345, 0.3289, 0.2491, 0.2403],\n",
              "         [0.2994, 0.2969, 0.1882, 0.2504],\n",
              "         [0.5942, 0.5755, 0.4574, 0.5109],\n",
              "         [0.6149, 0.6040, 0.4828, 0.4987],\n",
              "         [0.6299, 0.6184, 0.4787, 0.5629],\n",
              "         [0.7297, 0.7307, 0.5450, 0.6938],\n",
              "         [0.5979, 0.5840, 0.4231, 0.5801],\n",
              "         [0.3701, 0.3745, 0.2639, 0.3301]]], device='cuda:0')"
            ]
          },
          "metadata": {
            "tags": []
          },
          "execution_count": 155
        }
      ]
    },
    {
      "cell_type": "code",
      "metadata": {
        "colab": {
          "base_uri": "https://localhost:8080/"
        },
        "id": "8xaxlalZYFJC",
        "outputId": "0856586c-221b-4d0e-ec14-ce330a2512a6"
      },
      "source": [
        "last_month[:,7:,:]"
      ],
      "execution_count": 161,
      "outputs": [
        {
          "output_type": "execute_result",
          "data": {
            "text/plain": [
              "tensor([[[0.2798, 0.2842, 0.2000, 0.2583],\n",
              "         [0.8492, 0.8798, 0.7275, 0.7673],\n",
              "         [0.5630, 0.5577, 0.4222, 0.4592],\n",
              "         [0.4542, 0.4542, 0.3271, 0.3638],\n",
              "         [0.4400, 0.4412, 0.3266, 0.3600],\n",
              "         [0.3790, 0.3750, 0.2696, 0.3062],\n",
              "         [0.2932, 0.2870, 0.1911, 0.2293],\n",
              "         [0.3243, 0.3246, 0.2110, 0.2584],\n",
              "         [0.5550, 0.5592, 0.4398, 0.4792],\n",
              "         [0.4681, 0.4658, 0.3506, 0.3788],\n",
              "         [0.4159, 0.4135, 0.3005, 0.3303],\n",
              "         [0.3720, 0.3687, 0.2568, 0.2931],\n",
              "         [0.2940, 0.2897, 0.1821, 0.2242],\n",
              "         [0.2757, 0.2763, 0.1641, 0.2043],\n",
              "         [0.3125, 0.3151, 0.1988, 0.2288],\n",
              "         [0.4687, 0.4707, 0.3672, 0.3770],\n",
              "         [0.5105, 0.5105, 0.4232, 0.4160],\n",
              "         [0.4923, 0.4895, 0.4032, 0.3986],\n",
              "         [0.4334, 0.4234, 0.3462, 0.3445],\n",
              "         [0.3311, 0.3184, 0.2456, 0.2464],\n",
              "         [0.3128, 0.3125, 0.2227, 0.2325],\n",
              "         [0.4754, 0.4866, 0.3821, 0.3936],\n",
              "         [0.6386, 0.6530, 0.5639, 0.5606],\n",
              "         [0.5105, 0.5105, 0.4232, 0.4160],\n",
              "         [0.4923, 0.4895, 0.4032, 0.3986],\n",
              "         [0.4334, 0.4234, 0.3462, 0.3445],\n",
              "         [0.3311, 0.3184, 0.2456, 0.2464],\n",
              "         [0.3128, 0.3125, 0.2227, 0.2325],\n",
              "         [0.4754, 0.4866, 0.3821, 0.3936],\n",
              "         [0.6386, 0.6530, 0.5639, 0.5606]]], device='cuda:0',\n",
              "       grad_fn=<SliceBackward>)"
            ]
          },
          "metadata": {
            "tags": []
          },
          "execution_count": 161
        }
      ]
    },
    {
      "cell_type": "code",
      "metadata": {
        "colab": {
          "base_uri": "https://localhost:8080/",
          "height": 979
        },
        "id": "xkp1PDKGaGYL",
        "outputId": "2c86c1ee-c7f5-4035-aaf1-89dfe9ebcd71"
      },
      "source": [
        "train.iloc[-30:,1:]"
      ],
      "execution_count": 171,
      "outputs": [
        {
          "output_type": "execute_result",
          "data": {
            "text/html": [
              "<div>\n",
              "<style scoped>\n",
              "    .dataframe tbody tr th:only-of-type {\n",
              "        vertical-align: middle;\n",
              "    }\n",
              "\n",
              "    .dataframe tbody tr th {\n",
              "        vertical-align: top;\n",
              "    }\n",
              "\n",
              "    .dataframe thead th {\n",
              "        text-align: right;\n",
              "    }\n",
              "</style>\n",
              "<table border=\"1\" class=\"dataframe\">\n",
              "  <thead>\n",
              "    <tr style=\"text-align: right;\">\n",
              "      <th></th>\n",
              "      <th>사용자</th>\n",
              "      <th>세션</th>\n",
              "      <th>신규방문자</th>\n",
              "      <th>페이지뷰</th>\n",
              "    </tr>\n",
              "  </thead>\n",
              "  <tbody>\n",
              "    <tr>\n",
              "      <th>762</th>\n",
              "      <td>0.341517</td>\n",
              "      <td>0.340433</td>\n",
              "      <td>0.230769</td>\n",
              "      <td>0.297459</td>\n",
              "    </tr>\n",
              "    <tr>\n",
              "      <th>763</th>\n",
              "      <td>0.306258</td>\n",
              "      <td>0.297833</td>\n",
              "      <td>0.196450</td>\n",
              "      <td>0.227847</td>\n",
              "    </tr>\n",
              "    <tr>\n",
              "      <th>764</th>\n",
              "      <td>0.468525</td>\n",
              "      <td>0.459900</td>\n",
              "      <td>0.355030</td>\n",
              "      <td>0.358836</td>\n",
              "    </tr>\n",
              "    <tr>\n",
              "      <th>765</th>\n",
              "      <td>0.503415</td>\n",
              "      <td>0.501574</td>\n",
              "      <td>0.423669</td>\n",
              "      <td>0.363668</td>\n",
              "    </tr>\n",
              "    <tr>\n",
              "      <th>766</th>\n",
              "      <td>0.447296</td>\n",
              "      <td>0.446564</td>\n",
              "      <td>0.351479</td>\n",
              "      <td>0.321251</td>\n",
              "    </tr>\n",
              "    <tr>\n",
              "      <th>767</th>\n",
              "      <td>0.398191</td>\n",
              "      <td>0.395814</td>\n",
              "      <td>0.332544</td>\n",
              "      <td>0.280404</td>\n",
              "    </tr>\n",
              "    <tr>\n",
              "      <th>768</th>\n",
              "      <td>0.386745</td>\n",
              "      <td>0.376922</td>\n",
              "      <td>0.280473</td>\n",
              "      <td>0.286966</td>\n",
              "    </tr>\n",
              "    <tr>\n",
              "      <th>769</th>\n",
              "      <td>0.300535</td>\n",
              "      <td>0.296907</td>\n",
              "      <td>0.275148</td>\n",
              "      <td>0.181422</td>\n",
              "    </tr>\n",
              "    <tr>\n",
              "      <th>770</th>\n",
              "      <td>0.376223</td>\n",
              "      <td>0.371180</td>\n",
              "      <td>0.363905</td>\n",
              "      <td>0.251613</td>\n",
              "    </tr>\n",
              "    <tr>\n",
              "      <th>771</th>\n",
              "      <td>0.488647</td>\n",
              "      <td>0.484905</td>\n",
              "      <td>0.392308</td>\n",
              "      <td>0.357858</td>\n",
              "    </tr>\n",
              "    <tr>\n",
              "      <th>772</th>\n",
              "      <td>0.598117</td>\n",
              "      <td>0.603630</td>\n",
              "      <td>0.637870</td>\n",
              "      <td>0.554155</td>\n",
              "    </tr>\n",
              "    <tr>\n",
              "      <th>773</th>\n",
              "      <td>0.488278</td>\n",
              "      <td>0.484534</td>\n",
              "      <td>0.417751</td>\n",
              "      <td>0.424163</td>\n",
              "    </tr>\n",
              "    <tr>\n",
              "      <th>774</th>\n",
              "      <td>0.513199</td>\n",
              "      <td>0.513058</td>\n",
              "      <td>0.462722</td>\n",
              "      <td>0.405808</td>\n",
              "    </tr>\n",
              "    <tr>\n",
              "      <th>775</th>\n",
              "      <td>0.431973</td>\n",
              "      <td>0.422300</td>\n",
              "      <td>0.331953</td>\n",
              "      <td>0.341646</td>\n",
              "    </tr>\n",
              "    <tr>\n",
              "      <th>776</th>\n",
              "      <td>0.334502</td>\n",
              "      <td>0.328950</td>\n",
              "      <td>0.249112</td>\n",
              "      <td>0.240264</td>\n",
              "    </tr>\n",
              "    <tr>\n",
              "      <th>777</th>\n",
              "      <td>0.299428</td>\n",
              "      <td>0.296907</td>\n",
              "      <td>0.188166</td>\n",
              "      <td>0.250378</td>\n",
              "    </tr>\n",
              "    <tr>\n",
              "      <th>778</th>\n",
              "      <td>0.594240</td>\n",
              "      <td>0.575477</td>\n",
              "      <td>0.457396</td>\n",
              "      <td>0.510850</td>\n",
              "    </tr>\n",
              "    <tr>\n",
              "      <th>779</th>\n",
              "      <td>0.614916</td>\n",
              "      <td>0.604001</td>\n",
              "      <td>0.482840</td>\n",
              "      <td>0.498710</td>\n",
              "    </tr>\n",
              "    <tr>\n",
              "      <th>780</th>\n",
              "      <td>0.629869</td>\n",
              "      <td>0.618448</td>\n",
              "      <td>0.478698</td>\n",
              "      <td>0.562911</td>\n",
              "    </tr>\n",
              "    <tr>\n",
              "      <th>781</th>\n",
              "      <td>0.729740</td>\n",
              "      <td>0.730691</td>\n",
              "      <td>0.544970</td>\n",
              "      <td>0.693752</td>\n",
              "    </tr>\n",
              "    <tr>\n",
              "      <th>782</th>\n",
              "      <td>0.597932</td>\n",
              "      <td>0.583997</td>\n",
              "      <td>0.423077</td>\n",
              "      <td>0.580141</td>\n",
              "    </tr>\n",
              "    <tr>\n",
              "      <th>783</th>\n",
              "      <td>0.370131</td>\n",
              "      <td>0.374514</td>\n",
              "      <td>0.263905</td>\n",
              "      <td>0.330110</td>\n",
              "    </tr>\n",
              "    <tr>\n",
              "      <th>784</th>\n",
              "      <td>0.368100</td>\n",
              "      <td>0.365994</td>\n",
              "      <td>0.249112</td>\n",
              "      <td>0.308609</td>\n",
              "    </tr>\n",
              "    <tr>\n",
              "      <th>785</th>\n",
              "      <td>0.878161</td>\n",
              "      <td>0.873495</td>\n",
              "      <td>0.717160</td>\n",
              "      <td>0.774745</td>\n",
              "    </tr>\n",
              "    <tr>\n",
              "      <th>786</th>\n",
              "      <td>1.000000</td>\n",
              "      <td>0.982219</td>\n",
              "      <td>0.901183</td>\n",
              "      <td>0.970746</td>\n",
              "    </tr>\n",
              "    <tr>\n",
              "      <th>787</th>\n",
              "      <td>0.833487</td>\n",
              "      <td>0.828116</td>\n",
              "      <td>0.707101</td>\n",
              "      <td>0.724949</td>\n",
              "    </tr>\n",
              "    <tr>\n",
              "      <th>788</th>\n",
              "      <td>0.766845</td>\n",
              "      <td>0.747546</td>\n",
              "      <td>0.617160</td>\n",
              "      <td>0.662015</td>\n",
              "    </tr>\n",
              "    <tr>\n",
              "      <th>789</th>\n",
              "      <td>0.676020</td>\n",
              "      <td>0.662160</td>\n",
              "      <td>0.487574</td>\n",
              "      <td>0.566244</td>\n",
              "    </tr>\n",
              "    <tr>\n",
              "      <th>790</th>\n",
              "      <td>0.456157</td>\n",
              "      <td>0.447490</td>\n",
              "      <td>0.313609</td>\n",
              "      <td>0.369188</td>\n",
              "    </tr>\n",
              "    <tr>\n",
              "      <th>791</th>\n",
              "      <td>0.459849</td>\n",
              "      <td>0.448046</td>\n",
              "      <td>0.308284</td>\n",
              "      <td>0.324796</td>\n",
              "    </tr>\n",
              "  </tbody>\n",
              "</table>\n",
              "</div>"
            ],
            "text/plain": [
              "          사용자        세션     신규방문자      페이지뷰\n",
              "762  0.341517  0.340433  0.230769  0.297459\n",
              "763  0.306258  0.297833  0.196450  0.227847\n",
              "764  0.468525  0.459900  0.355030  0.358836\n",
              "765  0.503415  0.501574  0.423669  0.363668\n",
              "766  0.447296  0.446564  0.351479  0.321251\n",
              "767  0.398191  0.395814  0.332544  0.280404\n",
              "768  0.386745  0.376922  0.280473  0.286966\n",
              "769  0.300535  0.296907  0.275148  0.181422\n",
              "770  0.376223  0.371180  0.363905  0.251613\n",
              "771  0.488647  0.484905  0.392308  0.357858\n",
              "772  0.598117  0.603630  0.637870  0.554155\n",
              "773  0.488278  0.484534  0.417751  0.424163\n",
              "774  0.513199  0.513058  0.462722  0.405808\n",
              "775  0.431973  0.422300  0.331953  0.341646\n",
              "776  0.334502  0.328950  0.249112  0.240264\n",
              "777  0.299428  0.296907  0.188166  0.250378\n",
              "778  0.594240  0.575477  0.457396  0.510850\n",
              "779  0.614916  0.604001  0.482840  0.498710\n",
              "780  0.629869  0.618448  0.478698  0.562911\n",
              "781  0.729740  0.730691  0.544970  0.693752\n",
              "782  0.597932  0.583997  0.423077  0.580141\n",
              "783  0.370131  0.374514  0.263905  0.330110\n",
              "784  0.368100  0.365994  0.249112  0.308609\n",
              "785  0.878161  0.873495  0.717160  0.774745\n",
              "786  1.000000  0.982219  0.901183  0.970746\n",
              "787  0.833487  0.828116  0.707101  0.724949\n",
              "788  0.766845  0.747546  0.617160  0.662015\n",
              "789  0.676020  0.662160  0.487574  0.566244\n",
              "790  0.456157  0.447490  0.313609  0.369188\n",
              "791  0.459849  0.448046  0.308284  0.324796"
            ]
          },
          "metadata": {
            "tags": []
          },
          "execution_count": 171
        }
      ]
    },
    {
      "cell_type": "code",
      "metadata": {
        "colab": {
          "base_uri": "https://localhost:8080/",
          "height": 419
        },
        "id": "OZL4wlUGaMGj",
        "outputId": "5b9121f7-1b03-4b89-dc62-95fd43e8b9c0"
      },
      "source": [
        "train"
      ],
      "execution_count": 172,
      "outputs": [
        {
          "output_type": "execute_result",
          "data": {
            "text/html": [
              "<div>\n",
              "<style scoped>\n",
              "    .dataframe tbody tr th:only-of-type {\n",
              "        vertical-align: middle;\n",
              "    }\n",
              "\n",
              "    .dataframe tbody tr th {\n",
              "        vertical-align: top;\n",
              "    }\n",
              "\n",
              "    .dataframe thead th {\n",
              "        text-align: right;\n",
              "    }\n",
              "</style>\n",
              "<table border=\"1\" class=\"dataframe\">\n",
              "  <thead>\n",
              "    <tr style=\"text-align: right;\">\n",
              "      <th></th>\n",
              "      <th>date</th>\n",
              "      <th>사용자</th>\n",
              "      <th>세션</th>\n",
              "      <th>신규방문자</th>\n",
              "      <th>페이지뷰</th>\n",
              "    </tr>\n",
              "  </thead>\n",
              "  <tbody>\n",
              "    <tr>\n",
              "      <th>0</th>\n",
              "      <td>2018-09-09</td>\n",
              "      <td>0.051689</td>\n",
              "      <td>0.049083</td>\n",
              "      <td>0.042604</td>\n",
              "      <td>0.011735</td>\n",
              "    </tr>\n",
              "    <tr>\n",
              "      <th>1</th>\n",
              "      <td>2018-09-10</td>\n",
              "      <td>0.048551</td>\n",
              "      <td>0.045564</td>\n",
              "      <td>0.029586</td>\n",
              "      <td>0.013446</td>\n",
              "    </tr>\n",
              "    <tr>\n",
              "      <th>2</th>\n",
              "      <td>2018-09-11</td>\n",
              "      <td>0.060550</td>\n",
              "      <td>0.057233</td>\n",
              "      <td>0.033728</td>\n",
              "      <td>0.012842</td>\n",
              "    </tr>\n",
              "    <tr>\n",
              "      <th>3</th>\n",
              "      <td>2018-09-12</td>\n",
              "      <td>0.055197</td>\n",
              "      <td>0.052973</td>\n",
              "      <td>0.026036</td>\n",
              "      <td>0.016682</td>\n",
              "    </tr>\n",
              "    <tr>\n",
              "      <th>4</th>\n",
              "      <td>2018-09-13</td>\n",
              "      <td>0.069596</td>\n",
              "      <td>0.063530</td>\n",
              "      <td>0.028994</td>\n",
              "      <td>0.024724</td>\n",
              "    </tr>\n",
              "    <tr>\n",
              "      <th>...</th>\n",
              "      <td>...</td>\n",
              "      <td>...</td>\n",
              "      <td>...</td>\n",
              "      <td>...</td>\n",
              "      <td>...</td>\n",
              "    </tr>\n",
              "    <tr>\n",
              "      <th>787</th>\n",
              "      <td>2020-11-04</td>\n",
              "      <td>0.833487</td>\n",
              "      <td>0.828116</td>\n",
              "      <td>0.707101</td>\n",
              "      <td>0.724949</td>\n",
              "    </tr>\n",
              "    <tr>\n",
              "      <th>788</th>\n",
              "      <td>2020-11-05</td>\n",
              "      <td>0.766845</td>\n",
              "      <td>0.747546</td>\n",
              "      <td>0.617160</td>\n",
              "      <td>0.662015</td>\n",
              "    </tr>\n",
              "    <tr>\n",
              "      <th>789</th>\n",
              "      <td>2020-11-06</td>\n",
              "      <td>0.676020</td>\n",
              "      <td>0.662160</td>\n",
              "      <td>0.487574</td>\n",
              "      <td>0.566244</td>\n",
              "    </tr>\n",
              "    <tr>\n",
              "      <th>790</th>\n",
              "      <td>2020-11-07</td>\n",
              "      <td>0.456157</td>\n",
              "      <td>0.447490</td>\n",
              "      <td>0.313609</td>\n",
              "      <td>0.369188</td>\n",
              "    </tr>\n",
              "    <tr>\n",
              "      <th>791</th>\n",
              "      <td>2020-11-08</td>\n",
              "      <td>0.459849</td>\n",
              "      <td>0.448046</td>\n",
              "      <td>0.308284</td>\n",
              "      <td>0.324796</td>\n",
              "    </tr>\n",
              "  </tbody>\n",
              "</table>\n",
              "<p>792 rows × 5 columns</p>\n",
              "</div>"
            ],
            "text/plain": [
              "           date       사용자        세션     신규방문자      페이지뷰\n",
              "0    2018-09-09  0.051689  0.049083  0.042604  0.011735\n",
              "1    2018-09-10  0.048551  0.045564  0.029586  0.013446\n",
              "2    2018-09-11  0.060550  0.057233  0.033728  0.012842\n",
              "3    2018-09-12  0.055197  0.052973  0.026036  0.016682\n",
              "4    2018-09-13  0.069596  0.063530  0.028994  0.024724\n",
              "..          ...       ...       ...       ...       ...\n",
              "787  2020-11-04  0.833487  0.828116  0.707101  0.724949\n",
              "788  2020-11-05  0.766845  0.747546  0.617160  0.662015\n",
              "789  2020-11-06  0.676020  0.662160  0.487574  0.566244\n",
              "790  2020-11-07  0.456157  0.447490  0.313609  0.369188\n",
              "791  2020-11-08  0.459849  0.448046  0.308284  0.324796\n",
              "\n",
              "[792 rows x 5 columns]"
            ]
          },
          "metadata": {
            "tags": []
          },
          "execution_count": 172
        }
      ]
    },
    {
      "cell_type": "code",
      "metadata": {
        "colab": {
          "base_uri": "https://localhost:8080/"
        },
        "id": "o1D4bUZkbpYJ",
        "outputId": "db1a60ea-9302-4822-a41d-06ce9981ddcf"
      },
      "source": [
        "print(\"\\n\", \"dl\")"
      ],
      "execution_count": 178,
      "outputs": [
        {
          "output_type": "stream",
          "text": [
            "\n",
            " dl\n"
          ],
          "name": "stdout"
        }
      ]
    },
    {
      "cell_type": "code",
      "metadata": {
        "colab": {
          "base_uri": "https://localhost:8080/"
        },
        "id": "en59THt7d1eO",
        "outputId": "7e6e974c-a268-45d3-e86f-99b66e9fdea8"
      },
      "source": [
        "size.values"
      ],
      "execution_count": 180,
      "outputs": [
        {
          "output_type": "execute_result",
          "data": {
            "text/plain": [
              "array([  5417,   5399,   1690, 155433])"
            ]
          },
          "metadata": {
            "tags": []
          },
          "execution_count": 180
        }
      ]
    },
    {
      "cell_type": "code",
      "metadata": {
        "colab": {
          "base_uri": "https://localhost:8080/",
          "height": 1000
        },
        "id": "9yHLHZw4XW3h",
        "outputId": "03d3787f-f052-48b3-ffc1-b3165c89c720"
      },
      "source": [
        "submission = pd.read_csv(\"/content/drive/MyDrive/Colab Notebooks/LSTM_pytorch(Dacon)/input/submission.csv\", encoding = 'euc-kr')\r\n",
        "\r\n",
        "#last_month = torch.tensor(window_x[-1,:,:][np.newaxis,...]).float().to(device) <- 수정 전\r\n",
        "last_month = train.iloc[-30:,1:].values[np.newaxis,...] # <- 수정 후\r\n",
        "last_month = torch.tensor(last_month).float().to(device) # <- 수정 후\r\n",
        "\r\n",
        "for start in range((len(submission) - output_window)//7 + 2):\r\n",
        "    start = start * 7\r\n",
        "    print(\"\\n\", start, \"\\n\")\r\n",
        "    \r\n",
        "    next_week = model(last_month)\r\n",
        "    print(next_week, \"아이후야 예측\")\r\n",
        "\r\n",
        "    print(last_month[:,7:,:], \"아이고 합치기\")\r\n",
        "\r\n",
        "    #last_month = torch.cat([last_month[-7:], next_week], axis = 1) <- 수정 전\r\n",
        "    last_month = torch.cat([last_month[:,7:,:], next_week], axis = 1)# <- 수정 후\r\n",
        "\r\n",
        "    pred_week = next_week.cpu().detach().numpy().reshape(output_window,4)\r\n",
        "\r\n",
        "    print(pred_week,\"1\")\r\n",
        "\r\n",
        "    pred_week = pred_week * size.values + mini.values\r\n",
        "    print(pred_week,\"2\")\r\n",
        "    pred_week = pred_week.astype(int)\r\n",
        "    print(pred_week,\"3\")\r\n",
        "\r\n",
        "    if start/7 == (len(submission) - output_window)//7 + 1:\r\n",
        "        submission.iloc[start :, 1:] = pred_week[-submission.iloc[start :, 1:].shape[0]:,:]\r\n",
        "        print(submission.iloc[start :, 1:].shape[0])\r\n",
        "    else:\r\n",
        "        submission.iloc[start : start + output_window, 1:] = pred_week\r\n",
        "        print(submission.iloc[start : start + output_window, 1:])\r\n",
        "submission"
      ],
      "execution_count": 15,
      "outputs": [
        {
          "output_type": "stream",
          "text": [
            "\n",
            " 0 \n",
            "\n",
            "tensor([[[0.4957, 0.5085, 0.3844, 0.4302],\n",
            "         [0.5938, 0.6083, 0.5013, 0.5265],\n",
            "         [0.5158, 0.5209, 0.4269, 0.4463],\n",
            "         [0.3549, 0.3560, 0.2717, 0.2904],\n",
            "         [0.2513, 0.2383, 0.1698, 0.1680],\n",
            "         [0.2337, 0.2035, 0.1332, 0.1282],\n",
            "         [0.2955, 0.2676, 0.1791, 0.1916]]], device='cuda:0',\n",
            "       grad_fn=<ViewBackward>) 아이후야 예측\n",
            "tensor([[[0.3005, 0.2969, 0.2751, 0.1814],\n",
            "         [0.3762, 0.3712, 0.3639, 0.2516],\n",
            "         [0.4886, 0.4849, 0.3923, 0.3579],\n",
            "         [0.5981, 0.6036, 0.6379, 0.5542],\n",
            "         [0.4883, 0.4845, 0.4178, 0.4242],\n",
            "         [0.5132, 0.5131, 0.4627, 0.4058],\n",
            "         [0.4320, 0.4223, 0.3320, 0.3416],\n",
            "         [0.3345, 0.3289, 0.2491, 0.2403],\n",
            "         [0.2994, 0.2969, 0.1882, 0.2504],\n",
            "         [0.5942, 0.5755, 0.4574, 0.5109],\n",
            "         [0.6149, 0.6040, 0.4828, 0.4987],\n",
            "         [0.6299, 0.6184, 0.4787, 0.5629],\n",
            "         [0.7297, 0.7307, 0.5450, 0.6938],\n",
            "         [0.5979, 0.5840, 0.4231, 0.5801],\n",
            "         [0.3701, 0.3745, 0.2639, 0.3301],\n",
            "         [0.3681, 0.3660, 0.2491, 0.3086],\n",
            "         [0.8782, 0.8735, 0.7172, 0.7747],\n",
            "         [1.0000, 0.9822, 0.9012, 0.9707],\n",
            "         [0.8335, 0.8281, 0.7071, 0.7249],\n",
            "         [0.7668, 0.7475, 0.6172, 0.6620],\n",
            "         [0.6760, 0.6622, 0.4876, 0.5662],\n",
            "         [0.4562, 0.4475, 0.3136, 0.3692],\n",
            "         [0.4598, 0.4480, 0.3083, 0.3248]]], device='cuda:0') 아이고 합치기\n",
            "[[0.4956726  0.50848347 0.38436544 0.4302339 ]\n",
            " [0.59376705 0.6082994  0.50133336 0.52646875]\n",
            " [0.51582503 0.5209266  0.4268956  0.44626772]\n",
            " [0.3548566  0.35597086 0.27174616 0.29038563]\n",
            " [0.25125474 0.23830162 0.16979146 0.16797829]\n",
            " [0.23365223 0.20345175 0.13316849 0.1281743 ]\n",
            " [0.29548427 0.26757434 0.17912138 0.1915805 ]] 1\n",
            "[[ 2686.05854669  2746.30225176   650.57759261 66874.54512256]\n",
            " [ 3217.43609321  3285.20832336   848.25337148 81832.61781168]\n",
            " [ 2795.22420478  2813.48268497   722.4535448  69366.73115027]\n",
            " [ 1923.25825799  1922.88667059   460.25100803 45137.51020399]\n",
            " [ 1362.04691237  1287.59044577   287.94756746 26111.36904335]\n",
            " [ 1266.694152    1099.43601263   226.05474597 19924.51674318]\n",
            " [ 1601.63831565  1445.63386223   303.71512389 29779.93250605]] 2\n",
            "[[ 2686  2746   650 66874]\n",
            " [ 3217  3285   848 81832]\n",
            " [ 2795  2813   722 69366]\n",
            " [ 1923  1922   460 45137]\n",
            " [ 1362  1287   287 26111]\n",
            " [ 1266  1099   226 19924]\n",
            " [ 1601  1445   303 29779]] 3\n",
            "    사용자    세션  신규방문자   페이지뷰\n",
            "0  2686  2746    650  66874\n",
            "1  3217  3285    848  81832\n",
            "2  2795  2813    722  69366\n",
            "3  1923  1922    460  45137\n",
            "4  1362  1287    287  26111\n",
            "5  1266  1099    226  19924\n",
            "6  1601  1445    303  29779\n",
            "\n",
            " 7 \n",
            "\n",
            "tensor([[[0.4183, 0.4000, 0.3013, 0.3221],\n",
            "         [0.4885, 0.4752, 0.3855, 0.3969],\n",
            "         [0.4577, 0.4404, 0.3584, 0.3682],\n",
            "         [0.3660, 0.3426, 0.2657, 0.2770],\n",
            "         [0.3043, 0.2730, 0.1998, 0.2064],\n",
            "         [0.3174, 0.2801, 0.1990, 0.2118],\n",
            "         [0.3996, 0.3648, 0.2703, 0.2976]]], device='cuda:0',\n",
            "       grad_fn=<ViewBackward>) 아이후야 예측\n",
            "tensor([[[0.3345, 0.3289, 0.2491, 0.2403],\n",
            "         [0.2994, 0.2969, 0.1882, 0.2504],\n",
            "         [0.5942, 0.5755, 0.4574, 0.5109],\n",
            "         [0.6149, 0.6040, 0.4828, 0.4987],\n",
            "         [0.6299, 0.6184, 0.4787, 0.5629],\n",
            "         [0.7297, 0.7307, 0.5450, 0.6938],\n",
            "         [0.5979, 0.5840, 0.4231, 0.5801],\n",
            "         [0.3701, 0.3745, 0.2639, 0.3301],\n",
            "         [0.3681, 0.3660, 0.2491, 0.3086],\n",
            "         [0.8782, 0.8735, 0.7172, 0.7747],\n",
            "         [1.0000, 0.9822, 0.9012, 0.9707],\n",
            "         [0.8335, 0.8281, 0.7071, 0.7249],\n",
            "         [0.7668, 0.7475, 0.6172, 0.6620],\n",
            "         [0.6760, 0.6622, 0.4876, 0.5662],\n",
            "         [0.4562, 0.4475, 0.3136, 0.3692],\n",
            "         [0.4598, 0.4480, 0.3083, 0.3248],\n",
            "         [0.4957, 0.5085, 0.3844, 0.4302],\n",
            "         [0.5938, 0.6083, 0.5013, 0.5265],\n",
            "         [0.5158, 0.5209, 0.4269, 0.4463],\n",
            "         [0.3549, 0.3560, 0.2717, 0.2904],\n",
            "         [0.2513, 0.2383, 0.1698, 0.1680],\n",
            "         [0.2337, 0.2035, 0.1332, 0.1282],\n",
            "         [0.2955, 0.2676, 0.1791, 0.1916]]], device='cuda:0',\n",
            "       grad_fn=<SliceBackward>) 아이고 합치기\n",
            "[[0.41829512 0.3999559  0.3013483  0.3221092 ]\n",
            " [0.4884696  0.4751549  0.38554144 0.39689898]\n",
            " [0.45773226 0.44039267 0.35844675 0.36820716]\n",
            " [0.36596325 0.34260035 0.265663   0.276954  ]\n",
            " [0.3043434  0.27295187 0.19980246 0.20640281]\n",
            " [0.3174171  0.28012642 0.19901198 0.21184835]\n",
            " [0.39958152 0.36480287 0.27030647 0.29762965]] 1\n",
            "[[ 2266.90463921  2160.36189613   510.27862495 50068.39813492]\n",
            " [ 2647.03982687  2566.36134025   652.56503201 61693.19992137]\n",
            " [ 2480.53565365  2378.68004161   606.77500254 57233.54298085]\n",
            " [ 1983.42292741  1850.69926596   449.97046655 43049.79034024]\n",
            " [ 1649.62821072  1474.66715237   338.6661545  32083.80772236]\n",
            " [ 1720.44835037  1513.40255585   337.33024871 32930.22433361]\n",
            " [ 2165.53310332  1970.57067987   457.81793094 46263.47007352]] 2\n",
            "[[ 2266  2160   510 50068]\n",
            " [ 2647  2566   652 61693]\n",
            " [ 2480  2378   606 57233]\n",
            " [ 1983  1850   449 43049]\n",
            " [ 1649  1474   338 32083]\n",
            " [ 1720  1513   337 32930]\n",
            " [ 2165  1970   457 46263]] 3\n",
            "     사용자    세션  신규방문자   페이지뷰\n",
            "7   2266  2160    510  50068\n",
            "8   2647  2566    652  61693\n",
            "9   2480  2378    606  57233\n",
            "10  1983  1850    449  43049\n",
            "11  1649  1474    338  32083\n",
            "12  1720  1513    337  32930\n",
            "13  2165  1970    457  46263\n",
            "\n",
            " 14 \n",
            "\n",
            "tensor([[[0.4977, 0.4682, 0.3696, 0.4022],\n",
            "         [0.5329, 0.5099, 0.4118, 0.4432],\n",
            "         [0.4870, 0.4682, 0.3704, 0.4038],\n",
            "         [0.4056, 0.3903, 0.2958, 0.3266],\n",
            "         [0.3550, 0.3395, 0.2487, 0.2723],\n",
            "         [0.3789, 0.3631, 0.2678, 0.2940],\n",
            "         [0.4727, 0.4598, 0.3593, 0.3901]]], device='cuda:0',\n",
            "       grad_fn=<ViewBackward>) 아이후야 예측\n",
            "tensor([[[0.3701, 0.3745, 0.2639, 0.3301],\n",
            "         [0.3681, 0.3660, 0.2491, 0.3086],\n",
            "         [0.8782, 0.8735, 0.7172, 0.7747],\n",
            "         [1.0000, 0.9822, 0.9012, 0.9707],\n",
            "         [0.8335, 0.8281, 0.7071, 0.7249],\n",
            "         [0.7668, 0.7475, 0.6172, 0.6620],\n",
            "         [0.6760, 0.6622, 0.4876, 0.5662],\n",
            "         [0.4562, 0.4475, 0.3136, 0.3692],\n",
            "         [0.4598, 0.4480, 0.3083, 0.3248],\n",
            "         [0.4957, 0.5085, 0.3844, 0.4302],\n",
            "         [0.5938, 0.6083, 0.5013, 0.5265],\n",
            "         [0.5158, 0.5209, 0.4269, 0.4463],\n",
            "         [0.3549, 0.3560, 0.2717, 0.2904],\n",
            "         [0.2513, 0.2383, 0.1698, 0.1680],\n",
            "         [0.2337, 0.2035, 0.1332, 0.1282],\n",
            "         [0.2955, 0.2676, 0.1791, 0.1916],\n",
            "         [0.4183, 0.4000, 0.3013, 0.3221],\n",
            "         [0.4885, 0.4752, 0.3855, 0.3969],\n",
            "         [0.4577, 0.4404, 0.3584, 0.3682],\n",
            "         [0.3660, 0.3426, 0.2657, 0.2770],\n",
            "         [0.3043, 0.2730, 0.1998, 0.2064],\n",
            "         [0.3174, 0.2801, 0.1990, 0.2118],\n",
            "         [0.3996, 0.3648, 0.2703, 0.2976]]], device='cuda:0',\n",
            "       grad_fn=<SliceBackward>) 아이고 합치기\n",
            "[[0.49766892 0.46823856 0.36956936 0.40216526]\n",
            " [0.5328553  0.5099284  0.41176382 0.44322735]\n",
            " [0.4869749  0.46819434 0.3703982  0.4037504 ]\n",
            " [0.40556556 0.390342   0.2957764  0.326617  ]\n",
            " [0.35500446 0.33953363 0.2486639  0.27225375]\n",
            " [0.37893045 0.36309192 0.2678478  0.29402894]\n",
            " [0.4726836  0.45979515 0.35933542 0.39005312]] 1\n",
            "[[ 2696.87255019  2529.0199981    625.57222044 62511.7534624 ]\n",
            " [ 2887.47701001  2754.10346013   696.88085085 68894.15680319]\n",
            " [ 2638.94300622  2528.78121844   626.97294718 62758.13434002]\n",
            " [ 2197.94863778  2108.45644259   500.86211091 50769.06054759]\n",
            " [ 1924.05915776  1834.14205235   421.24199486 42319.2173965 ]\n",
            " [ 2053.66624486  1961.33325365   453.6627925  45703.79989165]\n",
            " [ 2561.52710742  2483.43399963   608.27686405 60629.12710389]] 2\n",
            "[[ 2696  2529   625 62511]\n",
            " [ 2887  2754   696 68894]\n",
            " [ 2638  2528   626 62758]\n",
            " [ 2197  2108   500 50769]\n",
            " [ 1924  1834   421 42319]\n",
            " [ 2053  1961   453 45703]\n",
            " [ 2561  2483   608 60629]] 3\n",
            "     사용자    세션  신규방문자   페이지뷰\n",
            "14  2696  2529    625  62511\n",
            "15  2887  2754    696  68894\n",
            "16  2638  2528    626  62758\n",
            "17  2197  2108    500  50769\n",
            "18  1924  1834    421  42319\n",
            "19  2053  1961    453  45703\n",
            "20  2561  2483    608  60629\n",
            "\n",
            " 21 \n",
            "\n",
            "tensor([[[0.5716, 0.5613, 0.4632, 0.4840],\n",
            "         [0.5861, 0.5724, 0.4826, 0.4918],\n",
            "         [0.5049, 0.4875, 0.4036, 0.4101],\n",
            "         [0.3877, 0.3751, 0.2967, 0.2970],\n",
            "         [0.3191, 0.3090, 0.2301, 0.2232],\n",
            "         [0.3481, 0.3391, 0.2422, 0.2496],\n",
            "         [0.4618, 0.4574, 0.3383, 0.3636]]], device='cuda:0',\n",
            "       grad_fn=<ViewBackward>) 아이후야 예측\n",
            "tensor([[[0.4562, 0.4475, 0.3136, 0.3692],\n",
            "         [0.4598, 0.4480, 0.3083, 0.3248],\n",
            "         [0.4957, 0.5085, 0.3844, 0.4302],\n",
            "         [0.5938, 0.6083, 0.5013, 0.5265],\n",
            "         [0.5158, 0.5209, 0.4269, 0.4463],\n",
            "         [0.3549, 0.3560, 0.2717, 0.2904],\n",
            "         [0.2513, 0.2383, 0.1698, 0.1680],\n",
            "         [0.2337, 0.2035, 0.1332, 0.1282],\n",
            "         [0.2955, 0.2676, 0.1791, 0.1916],\n",
            "         [0.4183, 0.4000, 0.3013, 0.3221],\n",
            "         [0.4885, 0.4752, 0.3855, 0.3969],\n",
            "         [0.4577, 0.4404, 0.3584, 0.3682],\n",
            "         [0.3660, 0.3426, 0.2657, 0.2770],\n",
            "         [0.3043, 0.2730, 0.1998, 0.2064],\n",
            "         [0.3174, 0.2801, 0.1990, 0.2118],\n",
            "         [0.3996, 0.3648, 0.2703, 0.2976],\n",
            "         [0.4977, 0.4682, 0.3696, 0.4022],\n",
            "         [0.5329, 0.5099, 0.4118, 0.4432],\n",
            "         [0.4870, 0.4682, 0.3704, 0.4038],\n",
            "         [0.4056, 0.3903, 0.2958, 0.3266],\n",
            "         [0.3550, 0.3395, 0.2487, 0.2723],\n",
            "         [0.3789, 0.3631, 0.2678, 0.2940],\n",
            "         [0.4727, 0.4598, 0.3593, 0.3901]]], device='cuda:0',\n",
            "       grad_fn=<SliceBackward>) 아이고 합치기\n",
            "[[0.57156396 0.56125563 0.4631872  0.48400903]\n",
            " [0.58609873 0.572416   0.48264346 0.49181718]\n",
            " [0.50486803 0.48747817 0.40362808 0.4100899 ]\n",
            " [0.3876889  0.3750891  0.29671618 0.29699826]\n",
            " [0.31910747 0.30904338 0.2301153  0.2232072 ]\n",
            " [0.34808022 0.33909816 0.24221411 0.24957776]\n",
            " [0.46184233 0.45735565 0.3383438  0.36355302]] 1\n",
            "[[ 3097.16196656  3031.21916705   783.78634757 75232.97516847]\n",
            " [ 3175.89682347  3091.47402459   816.6674394  76446.61917037]\n",
            " [ 2735.87012148  2632.89462265   683.13145703 63743.50498575]\n",
            " [ 2101.11079839  2026.10609919   502.45034999 46165.33092046]\n",
            " [ 1729.60518068  1669.52519587   389.89484763 34695.76557776]\n",
            " [ 1886.55054003  1831.79094154   410.34185177 38794.62007833]\n",
            " [ 2502.79989246  2470.26314506   572.8010205  56510.13615009]] 2\n",
            "[[ 3097  3031   783 75232]\n",
            " [ 3175  3091   816 76446]\n",
            " [ 2735  2632   683 63743]\n",
            " [ 2101  2026   502 46165]\n",
            " [ 1729  1669   389 34695]\n",
            " [ 1886  1831   410 38794]\n",
            " [ 2502  2470   572 56510]] 3\n",
            "     사용자    세션  신규방문자   페이지뷰\n",
            "21  3097  3031    783  75232\n",
            "22  3175  3091    816  76446\n",
            "23  2735  2632    683  63743\n",
            "24  2101  2026    502  46165\n",
            "25  1729  1669    389  34695\n",
            "26  1886  1831    410  38794\n",
            "27  2502  2470    572  56510\n",
            "\n",
            " 28 \n",
            "\n",
            "tensor([[[0.5443, 0.5353, 0.4064, 0.4876],\n",
            "         [0.6133, 0.6033, 0.4761, 0.5443],\n",
            "         [0.6002, 0.5863, 0.4653, 0.5301],\n",
            "         [0.5296, 0.5186, 0.4066, 0.4740],\n",
            "         [0.4601, 0.4574, 0.3555, 0.4200],\n",
            "         [0.4552, 0.4584, 0.3625, 0.4206],\n",
            "         [0.5253, 0.5308, 0.4368, 0.4868]]], device='cuda:0',\n",
            "       grad_fn=<ViewBackward>) 아이후야 예측\n",
            "tensor([[[0.2337, 0.2035, 0.1332, 0.1282],\n",
            "         [0.2955, 0.2676, 0.1791, 0.1916],\n",
            "         [0.4183, 0.4000, 0.3013, 0.3221],\n",
            "         [0.4885, 0.4752, 0.3855, 0.3969],\n",
            "         [0.4577, 0.4404, 0.3584, 0.3682],\n",
            "         [0.3660, 0.3426, 0.2657, 0.2770],\n",
            "         [0.3043, 0.2730, 0.1998, 0.2064],\n",
            "         [0.3174, 0.2801, 0.1990, 0.2118],\n",
            "         [0.3996, 0.3648, 0.2703, 0.2976],\n",
            "         [0.4977, 0.4682, 0.3696, 0.4022],\n",
            "         [0.5329, 0.5099, 0.4118, 0.4432],\n",
            "         [0.4870, 0.4682, 0.3704, 0.4038],\n",
            "         [0.4056, 0.3903, 0.2958, 0.3266],\n",
            "         [0.3550, 0.3395, 0.2487, 0.2723],\n",
            "         [0.3789, 0.3631, 0.2678, 0.2940],\n",
            "         [0.4727, 0.4598, 0.3593, 0.3901],\n",
            "         [0.5716, 0.5613, 0.4632, 0.4840],\n",
            "         [0.5861, 0.5724, 0.4826, 0.4918],\n",
            "         [0.5049, 0.4875, 0.4036, 0.4101],\n",
            "         [0.3877, 0.3751, 0.2967, 0.2970],\n",
            "         [0.3191, 0.3090, 0.2301, 0.2232],\n",
            "         [0.3481, 0.3391, 0.2422, 0.2496],\n",
            "         [0.4618, 0.4574, 0.3383, 0.3636]]], device='cuda:0',\n",
            "       grad_fn=<SliceBackward>) 아이고 합치기\n",
            "[[0.5443456  0.5352982  0.40639207 0.48763216]\n",
            " [0.6132897  0.60329753 0.47609112 0.54428315]\n",
            " [0.600174   0.58626664 0.46529236 0.53013283]\n",
            " [0.5295748  0.5185514  0.40662697 0.47404867]\n",
            " [0.4601141  0.45738545 0.3555248  0.41995186]\n",
            " [0.45524022 0.45841375 0.36252996 0.4206335 ]\n",
            " [0.5253214  0.5307549  0.4368088  0.48675483]] 1\n",
            "[[ 2949.72020888  2891.0751344    687.80259436 75796.12881315]\n",
            " [ 3323.19037998  3258.20337313   805.59398717 84601.56310678]\n",
            " [ 3252.14261109  3166.25357234   787.34409577 82402.13618761]\n",
            " [ 2869.70675367  2800.65905851   688.19957858 73684.80756241]\n",
            " [ 2493.43803439  2470.4240478    601.8369258  65276.37685484]\n",
            " [ 2467.03627083  2475.97583589   613.6756379  65382.32600564]\n",
            " [ 2846.66615385  2866.54583371   739.20686311 75659.76421446]] 2\n",
            "[[ 2949  2891   687 75796]\n",
            " [ 3323  3258   805 84601]\n",
            " [ 3252  3166   787 82402]\n",
            " [ 2869  2800   688 73684]\n",
            " [ 2493  2470   601 65276]\n",
            " [ 2467  2475   613 65382]\n",
            " [ 2846  2866   739 75659]] 3\n",
            "     사용자    세션  신규방문자   페이지뷰\n",
            "28  2949  2891    687  75796\n",
            "29  3323  3258    805  84601\n",
            "30  3252  3166    787  82402\n",
            "31  2869  2800    688  73684\n",
            "32  2493  2470    601  65276\n",
            "33  2467  2475    613  65382\n",
            "34  2846  2866    739  75659\n",
            "\n",
            " 35 \n",
            "\n",
            "tensor([[[0.6497, 0.6525, 0.5513, 0.5859],\n",
            "         [0.6711, 0.6619, 0.5712, 0.5984],\n",
            "         [0.6163, 0.6010, 0.5174, 0.5493],\n",
            "         [0.5081, 0.5024, 0.4194, 0.4603],\n",
            "         [0.4012, 0.4116, 0.3256, 0.3683],\n",
            "         [0.3680, 0.3901, 0.2967, 0.3377],\n",
            "         [0.4351, 0.4681, 0.3606, 0.4086]]], device='cuda:0',\n",
            "       grad_fn=<ViewBackward>) 아이후야 예측\n",
            "tensor([[[0.3174, 0.2801, 0.1990, 0.2118],\n",
            "         [0.3996, 0.3648, 0.2703, 0.2976],\n",
            "         [0.4977, 0.4682, 0.3696, 0.4022],\n",
            "         [0.5329, 0.5099, 0.4118, 0.4432],\n",
            "         [0.4870, 0.4682, 0.3704, 0.4038],\n",
            "         [0.4056, 0.3903, 0.2958, 0.3266],\n",
            "         [0.3550, 0.3395, 0.2487, 0.2723],\n",
            "         [0.3789, 0.3631, 0.2678, 0.2940],\n",
            "         [0.4727, 0.4598, 0.3593, 0.3901],\n",
            "         [0.5716, 0.5613, 0.4632, 0.4840],\n",
            "         [0.5861, 0.5724, 0.4826, 0.4918],\n",
            "         [0.5049, 0.4875, 0.4036, 0.4101],\n",
            "         [0.3877, 0.3751, 0.2967, 0.2970],\n",
            "         [0.3191, 0.3090, 0.2301, 0.2232],\n",
            "         [0.3481, 0.3391, 0.2422, 0.2496],\n",
            "         [0.4618, 0.4574, 0.3383, 0.3636],\n",
            "         [0.5443, 0.5353, 0.4064, 0.4876],\n",
            "         [0.6133, 0.6033, 0.4761, 0.5443],\n",
            "         [0.6002, 0.5863, 0.4653, 0.5301],\n",
            "         [0.5296, 0.5186, 0.4066, 0.4740],\n",
            "         [0.4601, 0.4574, 0.3555, 0.4200],\n",
            "         [0.4552, 0.4584, 0.3625, 0.4206],\n",
            "         [0.5253, 0.5308, 0.4368, 0.4868]]], device='cuda:0',\n",
            "       grad_fn=<SliceBackward>) 아이고 합치기\n",
            "[[0.64966786 0.6524677  0.55129755 0.58585733]\n",
            " [0.6710614  0.6618529  0.57124066 0.598418  ]\n",
            " [0.61629194 0.60101795 0.51740503 0.5493453 ]\n",
            " [0.5081452  0.5024351  0.4194205  0.46027446]\n",
            " [0.40123284 0.41155604 0.32560927 0.36826202]\n",
            " [0.36797756 0.39010614 0.29668945 0.33770978]\n",
            " [0.4351493  0.46813318 0.36064675 0.40861595]] 1\n",
            "[[ 3520.25079262  3523.67326164   932.69285178 91063.56264633]\n",
            " [ 3636.13958538  3574.34378666   966.39672136 93015.90458369]\n",
            " [ 3339.45344013  3245.89592266   875.41450596 85388.3902691 ]\n",
            " [ 2753.62261951  2713.64704096   709.8206628  71543.83981967]\n",
            " [ 2174.47828686  2222.99103448   551.27966082 57242.07097957]\n",
            " [ 1994.33444017  2107.18305832   502.40517175 52493.24493539]\n",
            " [ 2358.20382321  2528.45104602   610.49301511 63514.40245426]] 2\n",
            "[[ 3520  3523   932 91063]\n",
            " [ 3636  3574   966 93015]\n",
            " [ 3339  3245   875 85388]\n",
            " [ 2753  2713   709 71543]\n",
            " [ 2174  2222   551 57242]\n",
            " [ 1994  2107   502 52493]\n",
            " [ 2358  2528   610 63514]] 3\n",
            "     사용자    세션  신규방문자   페이지뷰\n",
            "35  3520  3523    932  91063\n",
            "36  3636  3574    966  93015\n",
            "37  3339  3245    875  85388\n",
            "38  2753  2713    709  71543\n",
            "39  2174  2222    551  57242\n",
            "40  1994  2107    502  52493\n",
            "41  2358  2528    610  63514\n",
            "\n",
            " 42 \n",
            "\n",
            "tensor([[[0.5714, 0.5927, 0.4744, 0.5101],\n",
            "         [0.5569, 0.5703, 0.4694, 0.4942],\n",
            "         [0.4474, 0.4548, 0.3639, 0.3898],\n",
            "         [0.3309, 0.3338, 0.2527, 0.2679],\n",
            "         [0.2793, 0.2694, 0.1934, 0.1956],\n",
            "         [0.3105, 0.2936, 0.2081, 0.2185],\n",
            "         [0.4084, 0.3941, 0.3004, 0.3204]]], device='cuda:0',\n",
            "       grad_fn=<ViewBackward>) 아이후야 예측\n",
            "tensor([[[0.3789, 0.3631, 0.2678, 0.2940],\n",
            "         [0.4727, 0.4598, 0.3593, 0.3901],\n",
            "         [0.5716, 0.5613, 0.4632, 0.4840],\n",
            "         [0.5861, 0.5724, 0.4826, 0.4918],\n",
            "         [0.5049, 0.4875, 0.4036, 0.4101],\n",
            "         [0.3877, 0.3751, 0.2967, 0.2970],\n",
            "         [0.3191, 0.3090, 0.2301, 0.2232],\n",
            "         [0.3481, 0.3391, 0.2422, 0.2496],\n",
            "         [0.4618, 0.4574, 0.3383, 0.3636],\n",
            "         [0.5443, 0.5353, 0.4064, 0.4876],\n",
            "         [0.6133, 0.6033, 0.4761, 0.5443],\n",
            "         [0.6002, 0.5863, 0.4653, 0.5301],\n",
            "         [0.5296, 0.5186, 0.4066, 0.4740],\n",
            "         [0.4601, 0.4574, 0.3555, 0.4200],\n",
            "         [0.4552, 0.4584, 0.3625, 0.4206],\n",
            "         [0.5253, 0.5308, 0.4368, 0.4868],\n",
            "         [0.6497, 0.6525, 0.5513, 0.5859],\n",
            "         [0.6711, 0.6619, 0.5712, 0.5984],\n",
            "         [0.6163, 0.6010, 0.5174, 0.5493],\n",
            "         [0.5081, 0.5024, 0.4194, 0.4603],\n",
            "         [0.4012, 0.4116, 0.3256, 0.3683],\n",
            "         [0.3680, 0.3901, 0.2967, 0.3377],\n",
            "         [0.4351, 0.4681, 0.3606, 0.4086]]], device='cuda:0',\n",
            "       grad_fn=<SliceBackward>) 아이고 합치기\n",
            "[[0.57135093 0.5927201  0.47437635 0.51010436]\n",
            " [0.5569408  0.57026345 0.46941748 0.49416488]\n",
            " [0.44737372 0.45480016 0.3638741  0.389813  ]\n",
            " [0.33091044 0.3338335  0.25270182 0.26792142]\n",
            " [0.2793274  0.2693609  0.19342706 0.19562238]\n",
            " [0.31046247 0.29357243 0.20808116 0.21853498]\n",
            " [0.4083822  0.39408964 0.3004446  0.3203729 ]] 1\n",
            "[[ 3096.0079993   3201.09577316   802.69603258 79289.05070752]\n",
            " [ 3017.94828105  3079.85234159   794.31554562 76811.53042883]\n",
            " [ 2424.42343053  2456.46605703   615.94724184 60591.80494982]\n",
            " [ 1793.54187655  1803.36699006   428.06607401 41645.82975647]\n",
            " [ 1514.1164856   1455.2794987    327.89172477 30408.17409748]\n",
            " [ 1682.77522612  1585.99752712   352.65715367 33969.54696253]\n",
            " [ 2213.20641616  2128.68996197   508.75137901 49798.52241239]] 2\n",
            "[[ 3096  3201   802 79289]\n",
            " [ 3017  3079   794 76811]\n",
            " [ 2424  2456   615 60591]\n",
            " [ 1793  1803   428 41645]\n",
            " [ 1514  1455   327 30408]\n",
            " [ 1682  1585   352 33969]\n",
            " [ 2213  2128   508 49798]] 3\n",
            "     사용자    세션  신규방문자   페이지뷰\n",
            "42  3096  3201    802  79289\n",
            "43  3017  3079    794  76811\n",
            "44  2424  2456    615  60591\n",
            "45  1793  1803    428  41645\n",
            "46  1514  1455    327  30408\n",
            "47  1682  1585    352  33969\n",
            "48  2213  2128    508  49798\n",
            "\n",
            " 49 \n",
            "\n",
            "tensor([[[0.5041, 0.4914, 0.4000, 0.4170],\n",
            "         [0.4939, 0.4810, 0.3963, 0.4087],\n",
            "         [0.4098, 0.3951, 0.3142, 0.3273],\n",
            "         [0.3312, 0.3124, 0.2367, 0.2440],\n",
            "         [0.3201, 0.2950, 0.2173, 0.2243],\n",
            "         [0.3885, 0.3629, 0.2755, 0.2933],\n",
            "         [0.4934, 0.4716, 0.3812, 0.4019]]], device='cuda:0',\n",
            "       grad_fn=<ViewBackward>) 아이후야 예측\n",
            "tensor([[[0.3481, 0.3391, 0.2422, 0.2496],\n",
            "         [0.4618, 0.4574, 0.3383, 0.3636],\n",
            "         [0.5443, 0.5353, 0.4064, 0.4876],\n",
            "         [0.6133, 0.6033, 0.4761, 0.5443],\n",
            "         [0.6002, 0.5863, 0.4653, 0.5301],\n",
            "         [0.5296, 0.5186, 0.4066, 0.4740],\n",
            "         [0.4601, 0.4574, 0.3555, 0.4200],\n",
            "         [0.4552, 0.4584, 0.3625, 0.4206],\n",
            "         [0.5253, 0.5308, 0.4368, 0.4868],\n",
            "         [0.6497, 0.6525, 0.5513, 0.5859],\n",
            "         [0.6711, 0.6619, 0.5712, 0.5984],\n",
            "         [0.6163, 0.6010, 0.5174, 0.5493],\n",
            "         [0.5081, 0.5024, 0.4194, 0.4603],\n",
            "         [0.4012, 0.4116, 0.3256, 0.3683],\n",
            "         [0.3680, 0.3901, 0.2967, 0.3377],\n",
            "         [0.4351, 0.4681, 0.3606, 0.4086],\n",
            "         [0.5714, 0.5927, 0.4744, 0.5101],\n",
            "         [0.5569, 0.5703, 0.4694, 0.4942],\n",
            "         [0.4474, 0.4548, 0.3639, 0.3898],\n",
            "         [0.3309, 0.3338, 0.2527, 0.2679],\n",
            "         [0.2793, 0.2694, 0.1934, 0.1956],\n",
            "         [0.3105, 0.2936, 0.2081, 0.2185],\n",
            "         [0.4084, 0.3941, 0.3004, 0.3204]]], device='cuda:0',\n",
            "       grad_fn=<SliceBackward>) 아이고 합치기\n",
            "[[0.5041176  0.4914221  0.4000276  0.41698682]\n",
            " [0.4938908  0.48100737 0.3962573  0.40865815]\n",
            " [0.40982252 0.39514446 0.3141847  0.32726434]\n",
            " [0.3311897  0.3123762  0.23668411 0.24396574]\n",
            " [0.3201314  0.2950091  0.21727902 0.22432068]\n",
            " [0.3884931  0.36293983 0.2754597  0.2932683 ]\n",
            " [0.49342114 0.47161642 0.38116157 0.40187538]] 1\n",
            "[[ 2731.80508292  2654.18784747   677.04664892 64815.5128721 ]\n",
            " [ 2676.40642098  2597.95877644   670.67485577 63520.96174061]\n",
            " [ 2221.00861031  2134.3849535    531.97213537 50869.67796209]\n",
            " [ 1795.05456167  1687.51911002   400.99615222 37922.32763827]\n",
            " [ 1735.1517466   1593.75416544   368.20153868 34868.83623937]\n",
            " [ 2105.46707323  1960.51216698   466.52690446 45585.57060799]\n",
            " [ 2673.86230093  2547.2570363    645.16305423 62466.69542682]] 2\n",
            "[[ 2731  2654   677 64815]\n",
            " [ 2676  2597   670 63520]\n",
            " [ 2221  2134   531 50869]\n",
            " [ 1795  1687   400 37922]\n",
            " [ 1735  1593   368 34868]\n",
            " [ 2105  1960   466 45585]\n",
            " [ 2673  2547   645 62466]] 3\n",
            "     사용자    세션  신규방문자   페이지뷰\n",
            "49  2731  2654    677  64815\n",
            "50  2676  2597    670  63520\n",
            "51  2221  2134    531  50869\n",
            "52  1795  1687    400  37922\n",
            "53  1735  1593    368  34868\n",
            "54  2105  1960    466  45585\n",
            "55  2673  2547    645  62466\n",
            "\n",
            " 56 \n",
            "\n",
            "tensor([[[0.5476, 0.5279, 0.4405, 0.4581],\n",
            "         [0.5099, 0.4912, 0.4061, 0.4239],\n",
            "         [0.4208, 0.4048, 0.3214, 0.3395],\n",
            "         [0.3494, 0.3339, 0.2529, 0.2650],\n",
            "         [0.3496, 0.3330, 0.2459, 0.2607],\n",
            "         [0.4346, 0.4211, 0.3227, 0.3483],\n",
            "         [0.5449, 0.5357, 0.4361, 0.4587]]], device='cuda:0',\n",
            "       grad_fn=<ViewBackward>) 아이후야 예측\n",
            "tensor([[[0.4552, 0.4584, 0.3625, 0.4206],\n",
            "         [0.5253, 0.5308, 0.4368, 0.4868],\n",
            "         [0.6497, 0.6525, 0.5513, 0.5859],\n",
            "         [0.6711, 0.6619, 0.5712, 0.5984],\n",
            "         [0.6163, 0.6010, 0.5174, 0.5493],\n",
            "         [0.5081, 0.5024, 0.4194, 0.4603],\n",
            "         [0.4012, 0.4116, 0.3256, 0.3683],\n",
            "         [0.3680, 0.3901, 0.2967, 0.3377],\n",
            "         [0.4351, 0.4681, 0.3606, 0.4086],\n",
            "         [0.5714, 0.5927, 0.4744, 0.5101],\n",
            "         [0.5569, 0.5703, 0.4694, 0.4942],\n",
            "         [0.4474, 0.4548, 0.3639, 0.3898],\n",
            "         [0.3309, 0.3338, 0.2527, 0.2679],\n",
            "         [0.2793, 0.2694, 0.1934, 0.1956],\n",
            "         [0.3105, 0.2936, 0.2081, 0.2185],\n",
            "         [0.4084, 0.3941, 0.3004, 0.3204],\n",
            "         [0.5041, 0.4914, 0.4000, 0.4170],\n",
            "         [0.4939, 0.4810, 0.3963, 0.4087],\n",
            "         [0.4098, 0.3951, 0.3142, 0.3273],\n",
            "         [0.3312, 0.3124, 0.2367, 0.2440],\n",
            "         [0.3201, 0.2950, 0.2173, 0.2243],\n",
            "         [0.3885, 0.3629, 0.2755, 0.2933],\n",
            "         [0.4934, 0.4716, 0.3812, 0.4019]]], device='cuda:0',\n",
            "       grad_fn=<SliceBackward>) 아이고 합치기\n",
            "[[0.5476019  0.52793527 0.44046977 0.45810807]\n",
            " [0.5098815  0.4912236  0.40610525 0.4239279 ]\n",
            " [0.42076245 0.4048268  0.32137036 0.33954543]\n",
            " [0.3494276  0.3339353  0.2528978  0.26497227]\n",
            " [0.34964007 0.3329758  0.24587479 0.26072538]\n",
            " [0.43464357 0.42109564 0.32270008 0.34832495]\n",
            " [0.5448703  0.5357339  0.43612936 0.45872808]] 1\n",
            "[[ 2967.35937661  2851.32250381   745.39391404 71207.11125767]\n",
            " [ 2763.02806616  2653.11623523   687.3178727  65894.38577425]\n",
            " [ 2280.27018896  2186.65983972   544.11591387 52778.56462735]\n",
            " [ 1893.84936681  1803.91663381   428.39728034 41187.43477064]\n",
            " [ 1895.00026673  1798.73637015   416.52839905 40527.32783258]\n",
            " [ 2355.46420032  2274.49535748   546.3631407  54143.19265431]\n",
            " [ 2952.56250709  2893.42721063   738.05862075 71303.48088574]] 2\n",
            "[[ 2967  2851   745 71207]\n",
            " [ 2763  2653   687 65894]\n",
            " [ 2280  2186   544 52778]\n",
            " [ 1893  1803   428 41187]\n",
            " [ 1895  1798   416 40527]\n",
            " [ 2355  2274   546 54143]\n",
            " [ 2952  2893   738 71303]] 3\n",
            "5\n"
          ],
          "name": "stdout"
        },
        {
          "output_type": "execute_result",
          "data": {
            "text/html": [
              "<div>\n",
              "<style scoped>\n",
              "    .dataframe tbody tr th:only-of-type {\n",
              "        vertical-align: middle;\n",
              "    }\n",
              "\n",
              "    .dataframe tbody tr th {\n",
              "        vertical-align: top;\n",
              "    }\n",
              "\n",
              "    .dataframe thead th {\n",
              "        text-align: right;\n",
              "    }\n",
              "</style>\n",
              "<table border=\"1\" class=\"dataframe\">\n",
              "  <thead>\n",
              "    <tr style=\"text-align: right;\">\n",
              "      <th></th>\n",
              "      <th>DateTime</th>\n",
              "      <th>사용자</th>\n",
              "      <th>세션</th>\n",
              "      <th>신규방문자</th>\n",
              "      <th>페이지뷰</th>\n",
              "    </tr>\n",
              "  </thead>\n",
              "  <tbody>\n",
              "    <tr>\n",
              "      <th>0</th>\n",
              "      <td>2020-11-09</td>\n",
              "      <td>2686</td>\n",
              "      <td>2746</td>\n",
              "      <td>650</td>\n",
              "      <td>66874</td>\n",
              "    </tr>\n",
              "    <tr>\n",
              "      <th>1</th>\n",
              "      <td>2020-11-10</td>\n",
              "      <td>3217</td>\n",
              "      <td>3285</td>\n",
              "      <td>848</td>\n",
              "      <td>81832</td>\n",
              "    </tr>\n",
              "    <tr>\n",
              "      <th>2</th>\n",
              "      <td>2020-11-11</td>\n",
              "      <td>2795</td>\n",
              "      <td>2813</td>\n",
              "      <td>722</td>\n",
              "      <td>69366</td>\n",
              "    </tr>\n",
              "    <tr>\n",
              "      <th>3</th>\n",
              "      <td>2020-11-12</td>\n",
              "      <td>1923</td>\n",
              "      <td>1922</td>\n",
              "      <td>460</td>\n",
              "      <td>45137</td>\n",
              "    </tr>\n",
              "    <tr>\n",
              "      <th>4</th>\n",
              "      <td>2020-11-13</td>\n",
              "      <td>1362</td>\n",
              "      <td>1287</td>\n",
              "      <td>287</td>\n",
              "      <td>26111</td>\n",
              "    </tr>\n",
              "    <tr>\n",
              "      <th>...</th>\n",
              "      <td>...</td>\n",
              "      <td>...</td>\n",
              "      <td>...</td>\n",
              "      <td>...</td>\n",
              "      <td>...</td>\n",
              "    </tr>\n",
              "    <tr>\n",
              "      <th>56</th>\n",
              "      <td>2021-01-04</td>\n",
              "      <td>2280</td>\n",
              "      <td>2186</td>\n",
              "      <td>544</td>\n",
              "      <td>52778</td>\n",
              "    </tr>\n",
              "    <tr>\n",
              "      <th>57</th>\n",
              "      <td>2021-01-05</td>\n",
              "      <td>1893</td>\n",
              "      <td>1803</td>\n",
              "      <td>428</td>\n",
              "      <td>41187</td>\n",
              "    </tr>\n",
              "    <tr>\n",
              "      <th>58</th>\n",
              "      <td>2021-01-06</td>\n",
              "      <td>1895</td>\n",
              "      <td>1798</td>\n",
              "      <td>416</td>\n",
              "      <td>40527</td>\n",
              "    </tr>\n",
              "    <tr>\n",
              "      <th>59</th>\n",
              "      <td>2021-01-07</td>\n",
              "      <td>2355</td>\n",
              "      <td>2274</td>\n",
              "      <td>546</td>\n",
              "      <td>54143</td>\n",
              "    </tr>\n",
              "    <tr>\n",
              "      <th>60</th>\n",
              "      <td>2021-01-08</td>\n",
              "      <td>2952</td>\n",
              "      <td>2893</td>\n",
              "      <td>738</td>\n",
              "      <td>71303</td>\n",
              "    </tr>\n",
              "  </tbody>\n",
              "</table>\n",
              "<p>61 rows × 5 columns</p>\n",
              "</div>"
            ],
            "text/plain": [
              "      DateTime   사용자    세션  신규방문자   페이지뷰\n",
              "0   2020-11-09  2686  2746    650  66874\n",
              "1   2020-11-10  3217  3285    848  81832\n",
              "2   2020-11-11  2795  2813    722  69366\n",
              "3   2020-11-12  1923  1922    460  45137\n",
              "4   2020-11-13  1362  1287    287  26111\n",
              "..         ...   ...   ...    ...    ...\n",
              "56  2021-01-04  2280  2186    544  52778\n",
              "57  2021-01-05  1893  1803    428  41187\n",
              "58  2021-01-06  1895  1798    416  40527\n",
              "59  2021-01-07  2355  2274    546  54143\n",
              "60  2021-01-08  2952  2893    738  71303\n",
              "\n",
              "[61 rows x 5 columns]"
            ]
          },
          "metadata": {
            "tags": []
          },
          "execution_count": 15
        }
      ]
    },
    {
      "cell_type": "code",
      "metadata": {
        "colab": {
          "base_uri": "https://localhost:8080/",
          "height": 419
        },
        "id": "JrhkElOLt9vs",
        "outputId": "2bd0a9a5-1329-481e-d313-d0e391ffc486"
      },
      "source": [
        "# 예측 및 제출파일 생성\r\n",
        "# submission = pd.read_csv(\"/content/drive/MyDrive/Colab Notebooks/LSTM_pytorch(Dacon)/input/submission.csv\", encoding = 'euc-kr')\r\n",
        "# last_month = torch.tensor(window_x[-1,:,:][np.newaxis,...]).float().to(device)\r\n",
        "for start in range((len(submission) - output_window)//7 + 2):\r\n",
        "    start = start * 7\r\n",
        "    next_week = model(last_month)\r\n",
        "    last_month = torch.cat([last_month[-7:], next_week], axis = 1)\r\n",
        "    \r\n",
        "    pred_week = next_week.cpu().detach().numpy().reshape(output_window,4)\r\n",
        "    pred_week = pred_week * size.values + mini.values\r\n",
        "    pred_week = pred_week.astype(int)\r\n",
        "    \r\n",
        "    if start/7 == (len(submission) - output_window)//7 + 1:\r\n",
        "        submission.iloc[start :, 1:] = pred_week[-submission.iloc[start :, 1:].shape[0]:,:]\r\n",
        "    else:\r\n",
        "        submission.iloc[start : start + output_window, 1:] = pred_week\r\n",
        "submission"
      ],
      "execution_count": 14,
      "outputs": [
        {
          "output_type": "execute_result",
          "data": {
            "text/html": [
              "<div>\n",
              "<style scoped>\n",
              "    .dataframe tbody tr th:only-of-type {\n",
              "        vertical-align: middle;\n",
              "    }\n",
              "\n",
              "    .dataframe tbody tr th {\n",
              "        vertical-align: top;\n",
              "    }\n",
              "\n",
              "    .dataframe thead th {\n",
              "        text-align: right;\n",
              "    }\n",
              "</style>\n",
              "<table border=\"1\" class=\"dataframe\">\n",
              "  <thead>\n",
              "    <tr style=\"text-align: right;\">\n",
              "      <th></th>\n",
              "      <th>DateTime</th>\n",
              "      <th>사용자</th>\n",
              "      <th>세션</th>\n",
              "      <th>신규방문자</th>\n",
              "      <th>페이지뷰</th>\n",
              "    </tr>\n",
              "  </thead>\n",
              "  <tbody>\n",
              "    <tr>\n",
              "      <th>0</th>\n",
              "      <td>2020-11-09</td>\n",
              "      <td>3274</td>\n",
              "      <td>3210</td>\n",
              "      <td>829</td>\n",
              "      <td>79114</td>\n",
              "    </tr>\n",
              "    <tr>\n",
              "      <th>1</th>\n",
              "      <td>2020-11-10</td>\n",
              "      <td>2970</td>\n",
              "      <td>2873</td>\n",
              "      <td>735</td>\n",
              "      <td>70120</td>\n",
              "    </tr>\n",
              "    <tr>\n",
              "      <th>2</th>\n",
              "      <td>2020-11-11</td>\n",
              "      <td>2334</td>\n",
              "      <td>2259</td>\n",
              "      <td>556</td>\n",
              "      <td>53380</td>\n",
              "    </tr>\n",
              "    <tr>\n",
              "      <th>3</th>\n",
              "      <td>2020-11-12</td>\n",
              "      <td>1847</td>\n",
              "      <td>1802</td>\n",
              "      <td>423</td>\n",
              "      <td>39671</td>\n",
              "    </tr>\n",
              "    <tr>\n",
              "      <th>4</th>\n",
              "      <td>2020-11-13</td>\n",
              "      <td>1866</td>\n",
              "      <td>1827</td>\n",
              "      <td>414</td>\n",
              "      <td>39793</td>\n",
              "    </tr>\n",
              "    <tr>\n",
              "      <th>...</th>\n",
              "      <td>...</td>\n",
              "      <td>...</td>\n",
              "      <td>...</td>\n",
              "      <td>...</td>\n",
              "      <td>...</td>\n",
              "    </tr>\n",
              "    <tr>\n",
              "      <th>56</th>\n",
              "      <td>2021-01-04</td>\n",
              "      <td>2256</td>\n",
              "      <td>2285</td>\n",
              "      <td>559</td>\n",
              "      <td>57347</td>\n",
              "    </tr>\n",
              "    <tr>\n",
              "      <th>57</th>\n",
              "      <td>2021-01-05</td>\n",
              "      <td>2103</td>\n",
              "      <td>2176</td>\n",
              "      <td>522</td>\n",
              "      <td>53609</td>\n",
              "    </tr>\n",
              "    <tr>\n",
              "      <th>58</th>\n",
              "      <td>2021-01-06</td>\n",
              "      <td>2517</td>\n",
              "      <td>2619</td>\n",
              "      <td>645</td>\n",
              "      <td>65851</td>\n",
              "    </tr>\n",
              "    <tr>\n",
              "      <th>59</th>\n",
              "      <td>2021-01-07</td>\n",
              "      <td>3127</td>\n",
              "      <td>3240</td>\n",
              "      <td>833</td>\n",
              "      <td>82795</td>\n",
              "    </tr>\n",
              "    <tr>\n",
              "      <th>60</th>\n",
              "      <td>2021-01-08</td>\n",
              "      <td>3398</td>\n",
              "      <td>3484</td>\n",
              "      <td>914</td>\n",
              "      <td>89628</td>\n",
              "    </tr>\n",
              "  </tbody>\n",
              "</table>\n",
              "<p>61 rows × 5 columns</p>\n",
              "</div>"
            ],
            "text/plain": [
              "      DateTime   사용자    세션  신규방문자   페이지뷰\n",
              "0   2020-11-09  3274  3210    829  79114\n",
              "1   2020-11-10  2970  2873    735  70120\n",
              "2   2020-11-11  2334  2259    556  53380\n",
              "3   2020-11-12  1847  1802    423  39671\n",
              "4   2020-11-13  1866  1827    414  39793\n",
              "..         ...   ...   ...    ...    ...\n",
              "56  2021-01-04  2256  2285    559  57347\n",
              "57  2021-01-05  2103  2176    522  53609\n",
              "58  2021-01-06  2517  2619    645  65851\n",
              "59  2021-01-07  3127  3240    833  82795\n",
              "60  2021-01-08  3398  3484    914  89628\n",
              "\n",
              "[61 rows x 5 columns]"
            ]
          },
          "metadata": {
            "tags": []
          },
          "execution_count": 14
        }
      ]
    },
    {
      "cell_type": "code",
      "metadata": {
        "id": "fiWtJ1DDt9x-"
      },
      "source": [
        "submission.to_csv('/content/drive/MyDrive/Colab Notebooks/LSTM_pytorch(Dacon)/input/제출1_GRU6.csv', index = False, encoding = 'euc-kr')"
      ],
      "execution_count": 16,
      "outputs": []
    },
    {
      "cell_type": "code",
      "metadata": {
        "id": "Fcvux642t90U"
      },
      "source": [
        ""
      ],
      "execution_count": null,
      "outputs": []
    },
    {
      "cell_type": "code",
      "metadata": {
        "id": "WyrGlx44t95X"
      },
      "source": [
        "last_month = torch.tensor(window_x[-1,:,:][np.newaxis,...]).float().to(device)"
      ],
      "execution_count": 44,
      "outputs": []
    },
    {
      "cell_type": "code",
      "metadata": {
        "colab": {
          "base_uri": "https://localhost:8080/"
        },
        "id": "5465G6eASMbe",
        "outputId": "0aadf319-77f2-45a2-b681-5361b7432714"
      },
      "source": [
        "last_month"
      ],
      "execution_count": 45,
      "outputs": [
        {
          "output_type": "execute_result",
          "data": {
            "text/plain": [
              "tensor([[[1.7700e+02, 1.6600e+02, 4.0000e+01, 4.0460e+03],\n",
              "         [1.4900e+02, 1.3800e+02, 2.1000e+01, 3.3930e+03],\n",
              "         [1.2800e+02, 1.2900e+02, 3.2000e+01, 3.5970e+03],\n",
              "         [1.2100e+02, 1.1800e+02, 3.0000e+01, 2.9140e+03],\n",
              "         [1.4500e+02, 1.3800e+02, 2.7000e+01, 2.7160e+03],\n",
              "         [1.6300e+02, 1.6200e+02, 2.7000e+01, 2.4030e+03],\n",
              "         [1.2900e+02, 1.1900e+02, 2.7000e+01, 2.9460e+03],\n",
              "         [1.5000e+02, 1.4900e+02, 3.1000e+01, 3.3650e+03],\n",
              "         [1.2900e+02, 1.3300e+02, 2.2000e+01, 2.5710e+03],\n",
              "         [9.1000e+01, 8.3000e+01, 1.6000e+01, 1.8230e+03],\n",
              "         [6.2000e+01, 5.5000e+01, 1.2000e+01, 1.2710e+03],\n",
              "         [3.0000e+01, 2.8000e+01, 8.0000e+00, 3.4500e+02],\n",
              "         [1.7000e+01, 1.8000e+01, 1.0000e+00, 1.4800e+02],\n",
              "         [1.9000e+01, 2.0000e+01, 5.0000e+00, 2.7500e+02],\n",
              "         [1.7000e+01, 1.6000e+01, 7.0000e+00, 1.7000e+02],\n",
              "         [1.6000e+01, 1.5000e+01, 3.0000e+00, 1.5700e+02],\n",
              "         [2.2000e+01, 2.5000e+01, 7.0000e+00, 2.5200e+02],\n",
              "         [4.3000e+01, 4.6000e+01, 1.1000e+01, 6.4000e+02],\n",
              "         [9.0000e+01, 9.2000e+01, 2.2000e+01, 1.3740e+03],\n",
              "         [1.1300e+02, 1.1400e+02, 3.1000e+01, 1.7890e+03],\n",
              "         [1.1200e+02, 1.0200e+02, 3.0000e+01, 2.0210e+03],\n",
              "         [1.3200e+02, 1.3000e+02, 3.2000e+01, 2.2420e+03],\n",
              "         [1.3000e+02, 1.2900e+02, 2.8000e+01, 1.8430e+03],\n",
              "         [1.7400e+02, 1.8100e+02, 3.4000e+01, 4.1910e+03]]], device='cuda:0')"
            ]
          },
          "metadata": {
            "tags": []
          },
          "execution_count": 45
        }
      ]
    },
    {
      "cell_type": "code",
      "metadata": {
        "id": "huUo7ubSSMdq"
      },
      "source": [
        ""
      ],
      "execution_count": null,
      "outputs": []
    },
    {
      "cell_type": "code",
      "metadata": {
        "id": "P6JP7Qt-SMf7"
      },
      "source": [
        ""
      ],
      "execution_count": null,
      "outputs": []
    },
    {
      "cell_type": "code",
      "metadata": {
        "id": "PxOKySYTSMh9"
      },
      "source": [
        ""
      ],
      "execution_count": null,
      "outputs": []
    },
    {
      "cell_type": "code",
      "metadata": {
        "id": "7h9YurwPSMkT"
      },
      "source": [
        ""
      ],
      "execution_count": null,
      "outputs": []
    },
    {
      "cell_type": "code",
      "metadata": {
        "id": "kEdczY1BSMmR"
      },
      "source": [
        ""
      ],
      "execution_count": null,
      "outputs": []
    }
  ]
}