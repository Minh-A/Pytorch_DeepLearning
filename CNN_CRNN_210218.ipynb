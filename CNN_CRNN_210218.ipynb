{
  "nbformat": 4,
  "nbformat_minor": 0,
  "metadata": {
    "colab": {
      "name": "210218_CNN.ipynb",
      "provenance": [],
      "collapsed_sections": [],
      "toc_visible": true,
      "mount_file_id": "1KyR3f0ie6syGnxLUC5AKI-ST_7umxw_b",
      "authorship_tag": "ABX9TyNcEbM5z/2jwev10ABQ4hlF",
      "include_colab_link": true
    },
    "kernelspec": {
      "name": "python3",
      "display_name": "Python 3"
    },
    "accelerator": "GPU"
  },
  "cells": [
    {
      "cell_type": "markdown",
      "metadata": {
        "id": "view-in-github",
        "colab_type": "text"
      },
      "source": [
        "<a href=\"https://colab.research.google.com/github/Minh-A/Pytorch_DeepLearning/blob/main/CNN_CRNN_210218.ipynb\" target=\"_parent\"><img src=\"https://colab.research.google.com/assets/colab-badge.svg\" alt=\"Open In Colab\"/></a>"
      ]
    },
    {
      "cell_type": "markdown",
      "metadata": {
        "id": "M2ftyyOYpE7p"
      },
      "source": [
        "라이브러리"
      ]
    },
    {
      "cell_type": "code",
      "metadata": {
        "colab": {
          "base_uri": "https://localhost:8080/"
        },
        "id": "B-elcrDMQUzo",
        "outputId": "d3c93c51-f702-443e-ab6a-cf1924da6840"
      },
      "source": [
        "# 파이토치 라이브러리 임포트\r\n",
        "import pandas as pd\r\n",
        "import numpy as np\r\n",
        "import warnings\r\n",
        "warnings.filterwarnings(action='ignore')\r\n",
        "import torch\r\n",
        "import torch.nn as nn\r\n",
        "import torch.nn.functional as F\r\n",
        "\r\n",
        "import torchvision\r\n",
        "import torchvision.transforms as transforms\r\n",
        "from torch.utils.data import Dataset,DataLoader, TensorDataset\r\n",
        "from torch.autograd import Variable  # 자동미분기능 제공\r\n",
        "import torch.optim as optim\r\n",
        "\r\n",
        "np.random.seed(777)\r\n",
        "torch.manual_seed(777)\r\n",
        "\r\n",
        "device = torch.device(\"cuda:0\" if torch.cuda.is_available() else \"cpu\")  # GPU, CPU 선택\r\n",
        "print('CPU? GPU? : ', device)"
      ],
      "execution_count": null,
      "outputs": [
        {
          "output_type": "stream",
          "text": [
            "CPU? GPU? :  cuda:0\n"
          ],
          "name": "stdout"
        }
      ]
    },
    {
      "cell_type": "code",
      "metadata": {
        "colab": {
          "base_uri": "https://localhost:8080/"
        },
        "id": "cevihtKen7nz",
        "outputId": "3415c36b-d893-4389-d2e1-c33d2e924a2a"
      },
      "source": [
        "# 구글드라이브 연결\r\n",
        "from google.colab import drive\r\n",
        "drive.mount('/content/drive')"
      ],
      "execution_count": null,
      "outputs": [
        {
          "output_type": "stream",
          "text": [
            "Drive already mounted at /content/drive; to attempt to forcibly remount, call drive.mount(\"/content/drive\", force_remount=True).\n"
          ],
          "name": "stdout"
        }
      ]
    },
    {
      "cell_type": "markdown",
      "metadata": {
        "id": "-_LRLHKd2pF5"
      },
      "source": [
        "# CNN "
      ]
    },
    {
      "cell_type": "markdown",
      "metadata": {
        "id": "8z-llxXMpDlw"
      },
      "source": [
        "데이터 불러오기"
      ]
    },
    {
      "cell_type": "code",
      "metadata": {
        "colab": {
          "base_uri": "https://localhost:8080/",
          "height": 419
        },
        "id": "jbLmLHCJilZE",
        "outputId": "bdebd005-d9d3-4601-9067-8fd5144e36a7"
      },
      "source": [
        "# 온도 데이터 불러오기\r\n",
        "tem = pd.read_csv('/content/drive/MyDrive/Colab Notebooks/pytorch 책/file/time_series/ta_20210108214059.csv', skiprows=[0,1,2,3,4,5], encoding=\"cp949\")\r\n",
        "\r\n",
        "# 결측치 평균값으로 통일\r\n",
        "tem.loc[tem.isna().iloc[:,4] == True, '최고기온(℃)'] = round(((tem.iloc[1014,4] + tem.iloc[1016,4]) / 2),2)  \r\n",
        "\r\n",
        "tem"
      ],
      "execution_count": null,
      "outputs": [
        {
          "output_type": "execute_result",
          "data": {
            "text/html": [
              "<div>\n",
              "<style scoped>\n",
              "    .dataframe tbody tr th:only-of-type {\n",
              "        vertical-align: middle;\n",
              "    }\n",
              "\n",
              "    .dataframe tbody tr th {\n",
              "        vertical-align: top;\n",
              "    }\n",
              "\n",
              "    .dataframe thead th {\n",
              "        text-align: right;\n",
              "    }\n",
              "</style>\n",
              "<table border=\"1\" class=\"dataframe\">\n",
              "  <thead>\n",
              "    <tr style=\"text-align: right;\">\n",
              "      <th></th>\n",
              "      <th>날짜</th>\n",
              "      <th>지점</th>\n",
              "      <th>평균기온(℃)</th>\n",
              "      <th>최저기온(℃)</th>\n",
              "      <th>최고기온(℃)</th>\n",
              "    </tr>\n",
              "  </thead>\n",
              "  <tbody>\n",
              "    <tr>\n",
              "      <th>0</th>\n",
              "      <td>2015-01-01</td>\n",
              "      <td>108</td>\n",
              "      <td>-7.7</td>\n",
              "      <td>-9.8</td>\n",
              "      <td>-4.3</td>\n",
              "    </tr>\n",
              "    <tr>\n",
              "      <th>1</th>\n",
              "      <td>2015-01-02</td>\n",
              "      <td>108</td>\n",
              "      <td>-6.0</td>\n",
              "      <td>-9.0</td>\n",
              "      <td>-1.9</td>\n",
              "    </tr>\n",
              "    <tr>\n",
              "      <th>2</th>\n",
              "      <td>2015-01-03</td>\n",
              "      <td>108</td>\n",
              "      <td>-2.7</td>\n",
              "      <td>-9.2</td>\n",
              "      <td>3.1</td>\n",
              "    </tr>\n",
              "    <tr>\n",
              "      <th>3</th>\n",
              "      <td>2015-01-04</td>\n",
              "      <td>108</td>\n",
              "      <td>2.5</td>\n",
              "      <td>0.2</td>\n",
              "      <td>8.5</td>\n",
              "    </tr>\n",
              "    <tr>\n",
              "      <th>4</th>\n",
              "      <td>2015-01-05</td>\n",
              "      <td>108</td>\n",
              "      <td>3.7</td>\n",
              "      <td>-1.1</td>\n",
              "      <td>7.9</td>\n",
              "    </tr>\n",
              "    <tr>\n",
              "      <th>...</th>\n",
              "      <td>...</td>\n",
              "      <td>...</td>\n",
              "      <td>...</td>\n",
              "      <td>...</td>\n",
              "      <td>...</td>\n",
              "    </tr>\n",
              "    <tr>\n",
              "      <th>2187</th>\n",
              "      <td>2020-12-27</td>\n",
              "      <td>108</td>\n",
              "      <td>5.8</td>\n",
              "      <td>1.4</td>\n",
              "      <td>10.0</td>\n",
              "    </tr>\n",
              "    <tr>\n",
              "      <th>2188</th>\n",
              "      <td>2020-12-28</td>\n",
              "      <td>108</td>\n",
              "      <td>6.7</td>\n",
              "      <td>4.2</td>\n",
              "      <td>11.4</td>\n",
              "    </tr>\n",
              "    <tr>\n",
              "      <th>2189</th>\n",
              "      <td>2020-12-29</td>\n",
              "      <td>108</td>\n",
              "      <td>0.1</td>\n",
              "      <td>-6.2</td>\n",
              "      <td>4.3</td>\n",
              "    </tr>\n",
              "    <tr>\n",
              "      <th>2190</th>\n",
              "      <td>2020-12-30</td>\n",
              "      <td>108</td>\n",
              "      <td>-10.9</td>\n",
              "      <td>-12.9</td>\n",
              "      <td>-6.2</td>\n",
              "    </tr>\n",
              "    <tr>\n",
              "      <th>2191</th>\n",
              "      <td>2020-12-31</td>\n",
              "      <td>108</td>\n",
              "      <td>-8.9</td>\n",
              "      <td>-12.9</td>\n",
              "      <td>-5.0</td>\n",
              "    </tr>\n",
              "  </tbody>\n",
              "</table>\n",
              "<p>2192 rows × 5 columns</p>\n",
              "</div>"
            ],
            "text/plain": [
              "              날짜   지점  평균기온(℃)  최저기온(℃)  최고기온(℃)\n",
              "0     2015-01-01  108     -7.7     -9.8     -4.3\n",
              "1     2015-01-02  108     -6.0     -9.0     -1.9\n",
              "2     2015-01-03  108     -2.7     -9.2      3.1\n",
              "3     2015-01-04  108      2.5      0.2      8.5\n",
              "4     2015-01-05  108      3.7     -1.1      7.9\n",
              "...          ...  ...      ...      ...      ...\n",
              "2187  2020-12-27  108      5.8      1.4     10.0\n",
              "2188  2020-12-28  108      6.7      4.2     11.4\n",
              "2189  2020-12-29  108      0.1     -6.2      4.3\n",
              "2190  2020-12-30  108    -10.9    -12.9     -6.2\n",
              "2191  2020-12-31  108     -8.9    -12.9     -5.0\n",
              "\n",
              "[2192 rows x 5 columns]"
            ]
          },
          "metadata": {
            "tags": []
          },
          "execution_count": 3
        }
      ]
    },
    {
      "cell_type": "code",
      "metadata": {
        "id": "ZmoR8Ts9jhi1"
      },
      "source": [
        "# 훈련, 테스트 만들기\r\n",
        "train = tem.iloc[:-365,2:]\r\n",
        "test = tem.iloc[-365:,2:]"
      ],
      "execution_count": null,
      "outputs": []
    },
    {
      "cell_type": "markdown",
      "metadata": {
        "id": "KRbmfU3Vou-X"
      },
      "source": [
        "데이터 전처리\r\n",
        "> CNN 데이터 사이즈\r\n",
        "* 합성곱 층: 전체 데이터 사이즈 - 필터 사이즈 +1\r\n",
        "* 합성곱의 마지막층에는 +1이 필요없음 => 그냥 나오니까\r\n",
        "* 풀링 층: 2로 설정하면 나누기 2\r\n",
        "* 반올림은 없고 내림만 있음\r\n",
        "\r\n",
        "> 필터 수에 따른 데이터 사이즈 정리\r\n",
        "* 필터 수가\r\n",
        "* 홀수라면 +1때문에 짝수로 됨\r\n",
        "* 짝수라면 홀수가 되며, 전체 데이터 셋에서 +3을 해주어야 함"
      ]
    },
    {
      "cell_type": "code",
      "metadata": {
        "id": "oIP7XakPilTh"
      },
      "source": [
        "# 배치 사이즈\r\n",
        "input_window = 1457       # 모델에 들어가는 날짜, 슬라이딩 윈도우의 간격\r\n",
        "output_window = 365       # 모델을 통해 예측한 날짜\r\n",
        "\r\n",
        "# 행렬을 먼저 만듬\r\n",
        "window_x = np.zeros((train.shape[0] - (input_window + output_window), input_window, 3))  # 전체 데이터, 들어갈 데이터, 컬럼수\r\n",
        "window_y = np.zeros((train.shape[0] - (input_window + output_window), output_window, 3))\r\n",
        "\r\n",
        "# 슬라이딩 윈도우 생성\r\n",
        "for start in range(train.shape[0] - (input_window + output_window)):\r\n",
        "    end = start + input_window \r\n",
        "\r\n",
        "    window_x[start,:, :] = train.iloc[start : end , : ].values   # X 데이터셋 만들기\r\n",
        "    window_y[start,:, :] = train.iloc[end   : end + output_window, : ].values   # 예측할 Y 데이터셋 (훈련시)\r\n",
        "\r\n",
        "# 훈련 데이터 텐서 변환\r\n",
        "train_x = torch.from_numpy(window_x).float().to(device)\r\n",
        "train_y = torch.from_numpy(window_y).float().to(device)"
      ],
      "execution_count": null,
      "outputs": []
    },
    {
      "cell_type": "code",
      "metadata": {
        "colab": {
          "base_uri": "https://localhost:8080/"
        },
        "id": "IE7-BttfYtEp",
        "outputId": "81e2a806-1900-4775-937d-0caa0384e2ce"
      },
      "source": [
        "train_x.shape   # 전체 데이터의 길이, 배치 사이즈, 인풋 사이즈 (seq_len x batch_size x input_size)"
      ],
      "execution_count": null,
      "outputs": [
        {
          "output_type": "execute_result",
          "data": {
            "text/plain": [
              "torch.Size([5, 1457, 3])"
            ]
          },
          "metadata": {
            "tags": []
          },
          "execution_count": 6
        }
      ]
    },
    {
      "cell_type": "code",
      "metadata": {
        "colab": {
          "base_uri": "https://localhost:8080/"
        },
        "id": "Bp3TMQzpY4-7",
        "outputId": "c57cfa8a-42ea-45fe-ad84-c1a80982e68a"
      },
      "source": [
        "train_y.shape"
      ],
      "execution_count": null,
      "outputs": [
        {
          "output_type": "execute_result",
          "data": {
            "text/plain": [
              "torch.Size([5, 365, 3])"
            ]
          },
          "metadata": {
            "tags": []
          },
          "execution_count": 7
        }
      ]
    },
    {
      "cell_type": "markdown",
      "metadata": {
        "id": "pazsZFL-p7hM"
      },
      "source": [
        "## CNN 모델"
      ]
    },
    {
      "cell_type": "code",
      "metadata": {
        "colab": {
          "base_uri": "https://localhost:8080/"
        },
        "id": "Xll3hbRaC9ys",
        "outputId": "ad0c74c4-34e4-4917-be80-e8c2c91cb4d4"
      },
      "source": [
        "# CNN Model\r\n",
        "\r\n",
        "class CNN(nn.Module):\r\n",
        "    def __init__(self, input_size, hidden_size):\r\n",
        "        super(CNN, self).__init__()\r\n",
        "        self.input_size = input_size\r\n",
        "        self.hidden_size = hidden_size\r\n",
        "\r\n",
        "        self.c1 = nn.Conv1d(input_size, hidden_size, 365)\r\n",
        "        # self.p1 = nn.AvgPool1d(2)\r\n",
        "\r\n",
        "        self.c2 = nn.Conv1d(hidden_size, hidden_size, 365)\r\n",
        "        # self.p2 = nn.AvgPool1d(2)\r\n",
        "\r\n",
        "        self.c3 = nn.Conv1d(hidden_size, hidden_size, 365)\r\n",
        "\r\n",
        "        self.out = nn.Linear(hidden_size, 3)\r\n",
        "\r\n",
        "\r\n",
        "    def forward(self, inputs):\r\n",
        "\r\n",
        "        # Turn (seq_len x batch_size x input_size) into (batch_size x input_size x seq_len) for CNN\r\n",
        "        inputs = inputs.transpose(1, 2)  # \"3행 730열\"로 732개의 데이터를 생성\r\n",
        "\r\n",
        "        c = self.c1(inputs)\r\n",
        "        # c = self.p1(c)\r\n",
        "        c = self.c2(c)\r\n",
        "        # c = self.p2(c)\r\n",
        "\r\n",
        "        p = self.c3(c)\r\n",
        "        p = p.transpose(2, 1)        \r\n",
        "\r\n",
        "        p = self.out(p[:,-365:, :])\r\n",
        "        return p.view(-1,365,3)\r\n",
        "\r\n",
        "\r\n",
        "model_cnn = CNN(input_size = 3, hidden_size = 64).to(device)  # to(device)를 통해 GPU로\r\n",
        "model_cnn"
      ],
      "execution_count": null,
      "outputs": [
        {
          "output_type": "execute_result",
          "data": {
            "text/plain": [
              "CNN(\n",
              "  (c1): Conv1d(3, 64, kernel_size=(365,), stride=(1,))\n",
              "  (c2): Conv1d(64, 64, kernel_size=(365,), stride=(1,))\n",
              "  (c3): Conv1d(64, 64, kernel_size=(365,), stride=(1,))\n",
              "  (out): Linear(in_features=64, out_features=3, bias=True)\n",
              ")"
            ]
          },
          "metadata": {
            "tags": []
          },
          "execution_count": 8
        }
      ]
    },
    {
      "cell_type": "code",
      "metadata": {
        "colab": {
          "base_uri": "https://localhost:8080/"
        },
        "id": "jJEbdCc-DIpT",
        "outputId": "88727029-33e4-4498-ea3b-45beeb52c6d8"
      },
      "source": [
        "# 모형 학습\r\n",
        "\r\n",
        "# 최적화 담당\r\n",
        "optimizer = optim.Adam(model_cnn.parameters(), lr = 0.0001)  # Adam 경사하강법을 사용\r\n",
        "# Learning Rate는 큰 사이즈일 경우 매우 작게 조정?!\r\n",
        "\r\n",
        "criterion = nn.MSELoss()\r\n",
        "\r\n",
        "for epoch in range(2000):\r\n",
        "  total_loss = 0\r\n",
        "  optimizer.zero_grad()  # 경사초기화\r\n",
        "  output = model_cnn(train_x)  # 순전파 계산\r\n",
        "  loss = criterion(output, train_y)  # 오차 계산\r\n",
        "\r\n",
        "  \r\n",
        "  loss.backward()  # 역전파 계산\r\n",
        "  optimizer.step()  #가중치 업데이트\r\n",
        "\r\n",
        "  total_loss += loss.data  # 누적오차 계산\r\n",
        "  \r\n",
        "  # 50회 반복마다 누적 오차 계산\r\n",
        "  if (epoch+1) % 100 == 0:\r\n",
        "    print(epoch+1, float(total_loss))\r\n"
      ],
      "execution_count": null,
      "outputs": [
        {
          "output_type": "stream",
          "text": [
            "100 7.434145450592041\n",
            "200 5.603446006774902\n",
            "300 4.1416778564453125\n",
            "400 2.975938558578491\n",
            "500 2.0890052318573\n",
            "600 1.7882513999938965\n",
            "700 1.1765937805175781\n",
            "800 0.949294924736023\n",
            "900 0.7787045240402222\n",
            "1000 0.6409567594528198\n",
            "1100 0.5272826552391052\n",
            "1200 0.4332432746887207\n",
            "1300 0.35548290610313416\n",
            "1400 0.29106613993644714\n",
            "1500 0.23748797178268433\n",
            "1600 0.19276738166809082\n",
            "1700 0.1554287225008011\n",
            "1800 0.12487258017063141\n",
            "1900 0.4151085913181305\n",
            "2000 0.07841586321592331\n"
          ],
          "name": "stdout"
        }
      ]
    },
    {
      "cell_type": "code",
      "metadata": {
        "colab": {
          "base_uri": "https://localhost:8080/",
          "height": 455
        },
        "id": "J3yAkWptNSvp",
        "outputId": "80f89236-8e20-456c-cda6-beb1f61ffa79"
      },
      "source": [
        "# 모델 예측\r\n",
        "\r\n",
        "last_month = train.values[np.newaxis,...]  # 데이터 365일만\r\n",
        "last_month = torch.tensor(last_month).float().to(device)  # 데이터를 토치화를 하여, GPU로 보냄\r\n",
        "\r\n",
        "cnn_pre = []  # 저장하오\r\n",
        "\r\n",
        "for start in range(1):  # 30일씩 3번 예측\r\n",
        "    \r\n",
        "    next_week = model_cnn(last_month)  # 365일 데이터로 5일을 예측\r\n",
        "\r\n",
        "    last_month = torch.cat([last_month, next_week], axis = 1)  # 훈련데이터에 예측값을 더해 또 예측\r\n",
        "\r\n",
        "    pred_week = next_week.detach().cpu().numpy().reshape(output_window,3)  # 예측한것 CPU, 넘파이로 (30,3)로 재배열\r\n",
        "\r\n",
        "    cnn_pre.append(pred_week)  # 예측한거 저장하오\r\n",
        "\r\n",
        "\r\n",
        "# 형식 변환 후, 데이터 프레임으로\r\n",
        "cnn_pre = np.array(cnn_pre).reshape(365,3)\r\n",
        "cnn_pre = pd.DataFrame(cnn_pre)\r\n",
        "cnn_pre = round(cnn_pre,1)\r\n",
        "\r\n",
        "print('365일 예측!! \\n')\r\n",
        "cnn_pre"
      ],
      "execution_count": null,
      "outputs": [
        {
          "output_type": "stream",
          "text": [
            "365일 예측!! \n",
            "\n"
          ],
          "name": "stdout"
        },
        {
          "output_type": "execute_result",
          "data": {
            "text/html": [
              "<div>\n",
              "<style scoped>\n",
              "    .dataframe tbody tr th:only-of-type {\n",
              "        vertical-align: middle;\n",
              "    }\n",
              "\n",
              "    .dataframe tbody tr th {\n",
              "        vertical-align: top;\n",
              "    }\n",
              "\n",
              "    .dataframe thead th {\n",
              "        text-align: right;\n",
              "    }\n",
              "</style>\n",
              "<table border=\"1\" class=\"dataframe\">\n",
              "  <thead>\n",
              "    <tr style=\"text-align: right;\">\n",
              "      <th></th>\n",
              "      <th>0</th>\n",
              "      <th>1</th>\n",
              "      <th>2</th>\n",
              "    </tr>\n",
              "  </thead>\n",
              "  <tbody>\n",
              "    <tr>\n",
              "      <th>0</th>\n",
              "      <td>-2.7</td>\n",
              "      <td>-7.4</td>\n",
              "      <td>1.2</td>\n",
              "    </tr>\n",
              "    <tr>\n",
              "      <th>1</th>\n",
              "      <td>-3.7</td>\n",
              "      <td>-7.3</td>\n",
              "      <td>0.5</td>\n",
              "    </tr>\n",
              "    <tr>\n",
              "      <th>2</th>\n",
              "      <td>-3.6</td>\n",
              "      <td>-7.5</td>\n",
              "      <td>1.7</td>\n",
              "    </tr>\n",
              "    <tr>\n",
              "      <th>3</th>\n",
              "      <td>-1.8</td>\n",
              "      <td>-4.3</td>\n",
              "      <td>1.8</td>\n",
              "    </tr>\n",
              "    <tr>\n",
              "      <th>4</th>\n",
              "      <td>-1.8</td>\n",
              "      <td>-3.7</td>\n",
              "      <td>0.9</td>\n",
              "    </tr>\n",
              "    <tr>\n",
              "      <th>...</th>\n",
              "      <td>...</td>\n",
              "      <td>...</td>\n",
              "      <td>...</td>\n",
              "    </tr>\n",
              "    <tr>\n",
              "      <th>360</th>\n",
              "      <td>-0.0</td>\n",
              "      <td>-4.0</td>\n",
              "      <td>4.5</td>\n",
              "    </tr>\n",
              "    <tr>\n",
              "      <th>361</th>\n",
              "      <td>-0.9</td>\n",
              "      <td>-5.3</td>\n",
              "      <td>4.0</td>\n",
              "    </tr>\n",
              "    <tr>\n",
              "      <th>362</th>\n",
              "      <td>-1.9</td>\n",
              "      <td>-6.9</td>\n",
              "      <td>3.5</td>\n",
              "    </tr>\n",
              "    <tr>\n",
              "      <th>363</th>\n",
              "      <td>-2.3</td>\n",
              "      <td>-6.7</td>\n",
              "      <td>2.1</td>\n",
              "    </tr>\n",
              "    <tr>\n",
              "      <th>364</th>\n",
              "      <td>-2.2</td>\n",
              "      <td>-4.7</td>\n",
              "      <td>2.4</td>\n",
              "    </tr>\n",
              "  </tbody>\n",
              "</table>\n",
              "<p>365 rows × 3 columns</p>\n",
              "</div>"
            ],
            "text/plain": [
              "       0    1    2\n",
              "0   -2.7 -7.4  1.2\n",
              "1   -3.7 -7.3  0.5\n",
              "2   -3.6 -7.5  1.7\n",
              "3   -1.8 -4.3  1.8\n",
              "4   -1.8 -3.7  0.9\n",
              "..   ...  ...  ...\n",
              "360 -0.0 -4.0  4.5\n",
              "361 -0.9 -5.3  4.0\n",
              "362 -1.9 -6.9  3.5\n",
              "363 -2.3 -6.7  2.1\n",
              "364 -2.2 -4.7  2.4\n",
              "\n",
              "[365 rows x 3 columns]"
            ]
          },
          "metadata": {
            "tags": []
          },
          "execution_count": 10
        }
      ]
    },
    {
      "cell_type": "markdown",
      "metadata": {
        "id": "LYZF6PTbZMfw"
      },
      "source": [
        "예측 그래프"
      ]
    },
    {
      "cell_type": "code",
      "metadata": {
        "colab": {
          "base_uri": "https://localhost:8080/",
          "height": 504
        },
        "id": "gyOKXiGkmMdb",
        "outputId": "53e9cf28-8fac-4b37-e1f0-9f51b0be1b3c"
      },
      "source": [
        "# 365일 커널임\r\n",
        "import matplotlib.pyplot as plt\r\n",
        "\r\n",
        "pre = cnn_pre.loc[:,2]\r\n",
        "real = test.iloc[:,2].reset_index(drop = True)\r\n",
        "\r\n",
        "fig = plt.figure(figsize=(8,8))  ## 캔버스 생성\r\n",
        "fig.set_facecolor('white')       ## 캔버스 색상 설정\r\n",
        "ax = fig.add_subplot()           ## 그림 뼈대(프레임) 생성\r\n",
        "\r\n",
        "# 그래프 생성\r\n",
        "ax.plot(pre, marker='o',label='CNN')\r\n",
        "\r\n",
        "ax.plot(real, marker='o',label='REAL') \r\n",
        "\r\n",
        "ax.legend() ## 범례\r\n",
        " \r\n",
        "plt.title('Highest Temperature (Kernel_size 365)',fontsize=20) ## 타이틀 설정\r\n",
        "plt.show()"
      ],
      "execution_count": null,
      "outputs": [
        {
          "output_type": "display_data",
          "data": {
            "image/png": "[encoded data removed]",
            "text/plain": [
              "<Figure size 576x576 with 1 Axes>"
            ]
          },
          "metadata": {
            "tags": []
          }
        }
      ]
    },
    {
      "cell_type": "markdown",
      "metadata": {
        "id": "m-3dUhaQdLl-"
      },
      "source": [
        "커널 비교 그래프"
      ]
    },
    {
      "cell_type": "code",
      "metadata": {
        "colab": {
          "base_uri": "https://localhost:8080/",
          "height": 612
        },
        "id": "Nzt8NLmQNSow",
        "outputId": "d6aa598b-af5e-45d5-b53e-b3b3047d0399"
      },
      "source": [
        "# 60일 커널임\r\n",
        "import matplotlib.pyplot as plt\r\n",
        "\r\n",
        "pre = cnn_pre.loc[:,2]\r\n",
        "real = test.iloc[:,2].reset_index(drop = True)\r\n",
        "\r\n",
        "fig = plt.figure(figsize=(10,10))  ## 캔버스 생성\r\n",
        "fig.set_facecolor('white')       ## 캔버스 색상 설정\r\n",
        "ax = fig.add_subplot()           ## 그림 뼈대(프레임) 생성\r\n",
        "\r\n",
        "# 그래프 생성\r\n",
        "ax.plot(pre, marker='o',label='CNN')\r\n",
        "\r\n",
        "ax.plot(real, marker='o',label='REAL') \r\n",
        "\r\n",
        "ax.legend() ## 범례\r\n",
        " \r\n",
        "plt.title('Highest Temperature (Kernel_size 60)',fontsize=20) ## 타이틀 설정\r\n",
        "plt.show()"
      ],
      "execution_count": null,
      "outputs": [
        {
          "output_type": "display_data",
          "data": {
            "image/png": "[encoded data removed]",
            "text/plain": [
              "<Figure size 720x720 with 1 Axes>"
            ]
          },
          "metadata": {
            "tags": []
          }
        }
      ]
    },
    {
      "cell_type": "markdown",
      "metadata": {
        "id": "axX767SAdGr6"
      },
      "source": [
        "3D 그래프"
      ]
    },
    {
      "cell_type": "code",
      "metadata": {
        "colab": {
          "base_uri": "https://localhost:8080/",
          "height": 419
        },
        "id": "k8gKQZw0cGBe",
        "outputId": "a983ba29-ad13-4c8b-b598-a5a3f6b67d99"
      },
      "source": [
        "# 데이터 전처리\r\n",
        "real1 = test.copy().reset_index(drop = True)\r\n",
        "pre1 = cnn_pre.copy().reset_index(drop = True)\r\n",
        "pre1.columns = ['최고기온(℃)',\t'최저기온(℃)',\t'평균기온(℃)']\r\n",
        "\r\n",
        "# 실제는 0, 예측은 1\r\n",
        "real1['3'] = 'real'\r\n",
        "pre1['3'] = 'pre'\r\n",
        "\r\n",
        "# 데이터 합치기\r\n",
        "data_3d = real1.append(pre1).reset_index(drop = True)\r\n",
        "data_3d"
      ],
      "execution_count": null,
      "outputs": [
        {
          "output_type": "execute_result",
          "data": {
            "text/html": [
              "<div>\n",
              "<style scoped>\n",
              "    .dataframe tbody tr th:only-of-type {\n",
              "        vertical-align: middle;\n",
              "    }\n",
              "\n",
              "    .dataframe tbody tr th {\n",
              "        vertical-align: top;\n",
              "    }\n",
              "\n",
              "    .dataframe thead th {\n",
              "        text-align: right;\n",
              "    }\n",
              "</style>\n",
              "<table border=\"1\" class=\"dataframe\">\n",
              "  <thead>\n",
              "    <tr style=\"text-align: right;\">\n",
              "      <th></th>\n",
              "      <th>평균기온(℃)</th>\n",
              "      <th>최저기온(℃)</th>\n",
              "      <th>최고기온(℃)</th>\n",
              "      <th>3</th>\n",
              "    </tr>\n",
              "  </thead>\n",
              "  <tbody>\n",
              "    <tr>\n",
              "      <th>0</th>\n",
              "      <td>1.0</td>\n",
              "      <td>-0.7</td>\n",
              "      <td>3.8</td>\n",
              "      <td>real</td>\n",
              "    </tr>\n",
              "    <tr>\n",
              "      <th>1</th>\n",
              "      <td>-0.1</td>\n",
              "      <td>-3.4</td>\n",
              "      <td>4.6</td>\n",
              "      <td>real</td>\n",
              "    </tr>\n",
              "    <tr>\n",
              "      <th>2</th>\n",
              "      <td>1.2</td>\n",
              "      <td>-2.8</td>\n",
              "      <td>6.1</td>\n",
              "      <td>real</td>\n",
              "    </tr>\n",
              "    <tr>\n",
              "      <th>3</th>\n",
              "      <td>1.3</td>\n",
              "      <td>-3.2</td>\n",
              "      <td>6.6</td>\n",
              "      <td>real</td>\n",
              "    </tr>\n",
              "    <tr>\n",
              "      <th>4</th>\n",
              "      <td>3.1</td>\n",
              "      <td>0.6</td>\n",
              "      <td>4.6</td>\n",
              "      <td>real</td>\n",
              "    </tr>\n",
              "    <tr>\n",
              "      <th>...</th>\n",
              "      <td>...</td>\n",
              "      <td>...</td>\n",
              "      <td>...</td>\n",
              "      <td>...</td>\n",
              "    </tr>\n",
              "    <tr>\n",
              "      <th>725</th>\n",
              "      <td>4.5</td>\n",
              "      <td>-4.0</td>\n",
              "      <td>-0.0</td>\n",
              "      <td>pre</td>\n",
              "    </tr>\n",
              "    <tr>\n",
              "      <th>726</th>\n",
              "      <td>4.0</td>\n",
              "      <td>-5.3</td>\n",
              "      <td>-0.9</td>\n",
              "      <td>pre</td>\n",
              "    </tr>\n",
              "    <tr>\n",
              "      <th>727</th>\n",
              "      <td>3.5</td>\n",
              "      <td>-6.9</td>\n",
              "      <td>-1.9</td>\n",
              "      <td>pre</td>\n",
              "    </tr>\n",
              "    <tr>\n",
              "      <th>728</th>\n",
              "      <td>2.1</td>\n",
              "      <td>-6.7</td>\n",
              "      <td>-2.3</td>\n",
              "      <td>pre</td>\n",
              "    </tr>\n",
              "    <tr>\n",
              "      <th>729</th>\n",
              "      <td>2.4</td>\n",
              "      <td>-4.7</td>\n",
              "      <td>-2.2</td>\n",
              "      <td>pre</td>\n",
              "    </tr>\n",
              "  </tbody>\n",
              "</table>\n",
              "<p>730 rows × 4 columns</p>\n",
              "</div>"
            ],
            "text/plain": [
              "     평균기온(℃)  최저기온(℃)  최고기온(℃)     3\n",
              "0        1.0     -0.7      3.8  real\n",
              "1       -0.1     -3.4      4.6  real\n",
              "2        1.2     -2.8      6.1  real\n",
              "3        1.3     -3.2      6.6  real\n",
              "4        3.1      0.6      4.6  real\n",
              "..       ...      ...      ...   ...\n",
              "725      4.5     -4.0     -0.0   pre\n",
              "726      4.0     -5.3     -0.9   pre\n",
              "727      3.5     -6.9     -1.9   pre\n",
              "728      2.1     -6.7     -2.3   pre\n",
              "729      2.4     -4.7     -2.2   pre\n",
              "\n",
              "[730 rows x 4 columns]"
            ]
          },
          "metadata": {
            "tags": []
          },
          "execution_count": 91
        }
      ]
    },
    {
      "cell_type": "code",
      "metadata": {
        "id": "4WQIRArj2oOS",
        "colab": {
          "base_uri": "https://localhost:8080/",
          "height": 578
        },
        "outputId": "442a5c23-70a9-4b48-b594-56ab18896a08"
      },
      "source": [
        "# 3D 그래프 확인\r\n",
        "import plotly.express as px\r\n",
        "\r\n",
        "print('\\n 3D 그래프')\r\n",
        "\r\n",
        "fig = px.scatter_3d(\r\n",
        "    data_3d.iloc[:,0:3], x= '평균기온(℃)', y= '최저기온(℃)', z= '최고기온(℃)',\r\n",
        "    title='Real VS CNN Pre',\r\n",
        "    color= data_3d['3'],\r\n",
        "    labels={\"평균기온(℃)\": 'Avg', \"최저기온(℃)\": 'Min', \"최고기온(℃)\": 'Max'}\r\n",
        ")\r\n",
        "\r\n",
        "fig.update_traces(marker=dict(size=5, line=dict(width=10,color='Black')), selector=dict(mode='markers'))  # 점 사이즈 결정\r\n",
        "\r\n",
        "fig.update_layout(margin=dict(l=30, r=30, t=30, b=30))  # 그래프 사이즈 결정\r\n",
        "\r\n",
        "fig.show()"
      ],
      "execution_count": null,
      "outputs": [
        {
          "output_type": "stream",
          "text": [
            "\n",
            " 3D 그래프\n"
          ],
          "name": "stdout"
        },
        {
          "output_type": "display_data",
          "data": {
            "text/html": [
              "<html>\n",
              "<head><meta charset=\"utf-8\" /></head>\n",
              "<body>\n",
              "    <div>\n",
              "            <script src=\"https://cdnjs.cloudflare.com/ajax/libs/mathjax/2.7.5/MathJax.js?config=TeX-AMS-MML_SVG\"></script><script type=\"text/javascript\">if (window.MathJax) {MathJax.Hub.Config({SVG: {font: \"STIX-Web\"}});}</script>\n",
              "                <script type=\"text/javascript\">window.PlotlyConfig = {MathJaxConfig: 'local'};</script>\n",
              "        <script src=\"https://cdn.plot.ly/plotly-latest.min.js\"></script>    \n",
              "            <div id=\"10dc0394-2d13-4b14-b90d-fa0fb57fcbe4\" class=\"plotly-graph-div\" style=\"height:525px; width:100%;\"></div>\n",
              "            <script type=\"text/javascript\">\n",
              "                \n",
              "                    window.PLOTLYENV=window.PLOTLYENV || {};\n",
              "                    \n",
              "                if (document.getElementById(\"10dc0394-2d13-4b14-b90d-fa0fb57fcbe4\")) {\n",
              "                    Plotly.newPlot(\n",
              "                        '10dc0394-2d13-4b14-b90d-fa0fb57fcbe4',\n",
              "                        [{\"hoverlabel\": {\"namelength\": 0}, \"hovertemplate\": \"color=real<br>Avg=%{x}<br>Min=%{y}<br>Max=%{z}\", \"legendgroup\": \"color=real\", \"marker\": {\"color\": \"#636efa\", \"line\": {\"color\": \"Black\", \"width\": 10}, \"size\": 5, \"symbol\": \"circle\"}, \"mode\": \"markers\", \"name\": \"color=real\", \"scene\": \"scene\", \"showlegend\": true, \"type\": \"scatter3d\", \"x\": [1.0, -0.1, 1.2, 1.3, 3.1, 6.3, 2.4, -1.2, -0.6, -0.1, -1.0, -2.9, -2.3, -2.7, -1.7, -0.6, 0.3, 1.9, 0.7, -0.4, 3.0, 4.6, 2.8, 4.3, 5.5, 5.9, 6.8, 6.0, 5.2, 3.9, 2.6, 1.5, -0.4, -1.6, -8.3, -6.4, -1.7, -0.1, -0.5, 4.0, 6.8, 7.4, 6.5, 8.1, 9.8, -1.4, -5.9, -4.1, 1.0, 4.6, 6.7, 4.0, 2.5, 7.0, 6.7, 6.4, 6.1, 4.5, 7.7, 5.8, 3.4, 4.8, 2.2, 1.4, 3.7, 7.0, 9.3, 11.1, 6.4, 3.8, 6.8, 4.9, 3.6, 4.0, 3.6, 6.6, 10.0, 9.1, 8.8, 12.8, 11.0, 10.6, 11.4, 12.5, 14.8, 11.9, 7.7, 8.7, 10.2, 11.9, 11.3, 9.3, 10.0, 8.9, 7.2, 9.3, 10.6, 9.4, 8.9, 10.7, 9.9, 9.9, 12.4, 13.0, 13.2, 16.0, 12.5, 13.5, 12.3, 10.0, 7.4, 6.0, 7.9, 9.9, 13.1, 12.3, 12.9, 13.9, 14.9, 17.1, 20.2, 20.3, 21.8, 20.2, 16.0, 19.4, 20.7, 19.9, 14.2, 14.4, 16.5, 14.3, 16.1, 19.3, 16.1, 16.7, 19.1, 19.1, 13.0, 14.4, 17.4, 18.5, 20.1, 17.1, 16.6, 16.2, 17.4, 18.7, 20.7, 22.6, 21.2, 19.7, 17.9, 22.0, 21.9, 23.0, 24.6, 22.7, 25.0, 26.7, 25.8, 26.1, 24.7, 26.9, 24.0, 23.0, 24.4, 24.3, 23.4, 24.7, 24.9, 26.1, 28.6, 27.3, 22.3, 21.6, 21.8, 24.1, 25.2, 23.8, 20.1, 21.1, 24.2, 25.5, 24.2, 23.8, 25.6, 24.1, 25.5, 27.5, 24.5, 25.8, 23.5, 18.7, 20.3, 23.4, 25.0, 26.0, 26.1, 24.0, 23.8, 25.0, 23.7, 21.1, 22.5, 24.3, 25.4, 24.3, 24.4, 23.7, 25.3, 26.2, 25.3, 24.9, 25.0, 27.0, 26.5, 24.1, 24.3, 24.2, 24.9, 26.5, 24.6, 27.2, 28.0, 27.1, 26.1, 27.4, 28.2, 27.5, 27.1, 27.7, 26.6, 24.3, 25.3, 27.8, 29.9, 30.2, 27.1, 27.3, 26.8, 26.8, 26.4, 26.6, 24.3, 22.7, 23.3, 23.3, 21.7, 19.2, 23.4, 21.1, 22.8, 22.4, 20.2, 21.5, 21.3, 23.0, 22.5, 21.3, 21.5, 21.2, 19.7, 19.1, 20.2, 19.2, 20.6, 20.1, 19.3, 20.4, 20.7, 19.6, 19.6, 18.8, 19.2, 19.9, 16.6, 13.3, 14.2, 16.0, 17.2, 17.2, 16.9, 16.9, 16.2, 13.6, 12.8, 11.7, 11.8, 13.1, 13.6, 15.1, 15.2, 14.1, 13.5, 8.6, 8.7, 11.8, 12.9, 14.0, 13.8, 10.8, 11.9, 13.6, 13.7, 10.8, 5.1, 4.9, 9.6, 13.5, 14.6, 8.5, 5.5, 7.7, 9.3, 10.4, 12.2, 12.5, 11.1, 12.4, 15.9, 16.6, 13.6, 2.8, 6.5, 5.6, 1.7, 2.9, 4.6, 5.6, 4.1, -0.1, -0.6, -0.2, 1.1, 2.4, 0.7, -0.6, 2.1, 4.5, 3.4, -0.5, 1.5, 5.8, 5.3, 2.3, -1.1, -7.7, -8.3, -8.3, -4.9, -2.1, -5.1, -3.7, -1.0, 2.0, 4.5, 2.6, -0.8, 2.2, 5.8, 6.7, 0.1, -10.9, -8.9], \"y\": [-0.7, -3.4, -2.8, -3.2, 0.6, 4.2, -0.4, -3.1, -4.3, -2.6, -3.5, -4.7, -5.7, -6.4, -5.5, -4.8, -4.1, -0.4, -3.3, -5.6, -0.1, 0.0, -1.3, 0.6, -0.2, 4.8, 4.3, 3.2, 1.4, 1.4, -1.2, -2.1, -2.9, -6.0, -11.0, -11.8, -7.2, -2.3, -5.6, -0.7, -0.5, 6.5, 4.9, 3.2, 6.2, -4.3, -7.1, -8.3, -4.4, -0.6, 2.1, 0.0, -2.5, 0.8, 4.7, 2.8, 1.3, 3.6, 4.5, 3.2, 0.0, 0.3, -1.3, -2.8, -2.5, 1.3, 2.3, 4.8, 3.2, 0.0, 0.2, -0.1, -2.7, 0.2, -2.1, 3.1, 2.7, 5.8, 3.1, 7.9, 6.1, 5.4, 5.3, 6.1, 8.1, 6.7, 4.5, 1.3, 4.3, 4.7, 6.0, 3.4, 5.3, 5.0, 1.9, 2.9, 6.0, 5.2, 4.3, 5.8, 6.2, 4.4, 4.3, 7.6, 7.2, 8.9, 10.4, 8.5, 9.5, 7.6, 4.8, 4.1, 2.9, 4.1, 9.9, 6.8, 8.7, 7.8, 9.3, 9.3, 16.4, 18.0, 17.0, 14.8, 13.1, 11.1, 14.9, 14.3, 12.7, 12.8, 12.4, 10.5, 10.2, 12.4, 14.1, 15.0, 14.6, 13.2, 10.1, 9.2, 10.9, 14.8, 16.6, 14.3, 13.7, 12.7, 11.8, 14.2, 14.6, 16.5, 17.6, 16.6, 14.8, 17.6, 19.7, 18.4, 19.2, 19.2, 19.8, 20.3, 22.5, 21.7, 21.6, 20.6, 20.1, 18.2, 20.0, 20.2, 20.3, 21.1, 20.7, 19.5, 21.7, 23.2, 19.9, 20.1, 19.2, 20.4, 21.5, 20.6, 18.4, 18.1, 20.4, 21.6, 20.4, 19.9, 21.8, 22.1, 21.3, 21.8, 22.7, 22.2, 21.7, 17.7, 17.2, 18.9, 20.4, 21.5, 22.8, 20.6, 22.4, 21.4, 22.6, 18.5, 18.7, 22.3, 21.6, 22.9, 22.7, 22.6, 23.4, 22.8, 24.3, 23.5, 23.9, 25.0, 25.5, 22.9, 22.6, 22.7, 23.7, 24.7, 22.4, 23.5, 26.3, 26.5, 25.0, 25.3, 26.1, 24.0, 23.6, 25.0, 25.2, 21.7, 21.5, 23.7, 26.0, 27.0, 25.6, 26.0, 25.5, 24.4, 23.8, 23.8, 22.6, 20.0, 19.9, 19.2, 19.5, 17.5, 20.6, 19.0, 18.8, 19.2, 18.1, 16.7, 17.6, 18.9, 21.3, 20.1, 18.1, 17.6, 15.6, 13.6, 15.5, 15.2, 16.8, 16.6, 14.8, 14.9, 15.7, 15.3, 16.2, 15.6, 16.3, 18.3, 10.6, 8.5, 9.3, 9.9, 12.1, 12.4, 12.3, 12.7, 12.1, 8.6, 8.5, 6.5, 8.6, 8.7, 7.2, 9.8, 9.9, 11.8, 8.4, 5.4, 3.2, 5.4, 8.0, 9.0, 8.6, 5.5, 5.8, 8.5, 11.6, 7.9, 2.7, 0.2, 3.4, 9.9, 12.2, 3.1, 0.7, 3.5, 3.5, 4.6, 8.5, 6.8, 8.2, 7.5, 11.7, 14.8, 6.9, 0.3, -0.3, 1.5, -1.5, 0.2, 0.0, 1.9, 0.6, -2.3, -3.6, -3.6, -3.6, 0.5, -2.3, -4.6, -2.2, 1.2, -0.7, -3.5, -4.1, 3.2, 2.6, -0.3, -6.0, -9.7, -11.1, -11.2, -11.1, -6.4, -9.6, -8.2, -6.0, -2.5, -0.4, -2.0, -4.7, -2.1, 1.4, 4.2, -6.2, -12.9, -12.9], \"z\": [3.8, 4.6, 6.1, 6.6, 4.6, 7.7, 8.9, 2.0, 4.2, 3.9, 2.8, 0.2, 2.6, 2.2, 3.2, 4.9, 5.9, 5.3, 5.5, 5.5, 7.8, 9.9, 7.4, 8.8, 11.9, 7.5, 9.9, 9.6, 10.4, 8.9, 7.6, 5.3, 3.0, 3.9, -4.9, 0.4, 2.2, 3.7, 4.1, 9.6, 14.6, 8.2, 8.7, 14.7, 15.6, 7.7, -3.9, 1.3, 6.4, 10.8, 10.9, 7.9, 8.0, 12.2, 9.4, 10.4, 12.5, 5.9, 13.0, 10.1, 7.6, 10.5, 4.6, 6.3, 10.1, 14.2, 16.9, 17.6, 10.8, 8.3, 13.3, 8.7, 8.6, 8.5, 9.1, 12.3, 17.0, 12.1, 14.0, 19.5, 16.5, 17.0, 17.9, 19.2, 20.6, 15.8, 12.8, 16.1, 16.9, 18.6, 17.4, 15.5, 16.3, 13.3, 13.7, 16.1, 16.8, 14.2, 14.7, 16.8, 16.0, 15.6, 20.4, 19.6, 20.2, 23.8, 15.4, 19.6, 15.5, 13.1, 10.4, 8.3, 12.8, 14.3, 17.1, 19.0, 18.3, 19.9, 21.0, 23.4, 26.2, 23.9, 27.4, 25.3, 19.3, 27.6, 26.5, 27.3, 16.8, 16.6, 22.0, 18.9, 21.8, 25.4, 20.2, 20.3, 24.9, 26.8, 17.1, 20.1, 22.9, 22.7, 25.0, 20.2, 21.3, 22.9, 23.9, 23.4, 27.6, 30.0, 28.0, 24.5, 21.8, 28.4, 26.5, 28.7, 30.9, 29.2, 32.0, 32.8, 32.1, 31.6, 27.6, 33.5, 28.8, 28.6, 30.7, 30.3, 27.3, 30.0, 29.7, 32.7, 35.4, 31.0, 26.3, 23.4, 25.7, 29.6, 30.1, 26.5, 23.1, 24.3, 29.8, 30.6, 29.5, 27.6, 30.9, 28.1, 30.4, 32.9, 27.7, 30.2, 26.0, 21.7, 24.3, 28.7, 29.7, 31.6, 31.0, 26.6, 26.6, 30.5, 25.7, 22.6, 26.8, 29.0, 29.6, 25.5, 26.4, 24.9, 28.4, 29.6, 26.9, 26.4, 26.3, 29.4, 29.1, 26.0, 26.1, 26.1, 25.8, 29.5, 27.3, 31.3, 30.3, 28.0, 27.0, 30.8, 32.2, 31.9, 31.4, 31.7, 29.2, 27.6, 29.9, 32.0, 34.5, 34.5, 28.6, 29.7, 29.0, 30.6, 30.0, 29.5, 26.4, 25.6, 27.5, 27.3, 24.4, 20.6, 26.5, 25.3, 27.0, 27.1, 23.2, 26.6, 24.9, 27.7, 24.9, 23.6, 25.8, 26.2, 24.9, 25.3, 25.6, 23.8, 25.4, 25.4, 24.8, 25.8, 26.5, 23.9, 25.7, 23.6, 21.9, 23.2, 21.8, 18.4, 19.7, 22.0, 23.1, 23.3, 21.5, 20.8, 21.3, 18.4, 18.0, 18.5, 15.4, 18.6, 20.2, 21.3, 21.7, 17.3, 18.2, 13.3, 14.0, 18.2, 19.0, 19.4, 18.2, 16.1, 19.6, 18.2, 15.0, 15.6, 8.6, 10.8, 15.9, 17.2, 18.1, 12.4, 8.9, 12.9, 16.5, 17.7, 17.6, 19.3, 14.9, 18.3, 20.0, 18.7, 19.1, 7.0, 12.8, 9.1, 5.9, 6.4, 9.5, 10.9, 7.7, 2.8, 2.6, 4.3, 6.7, 6.1, 4.2, 4.4, 6.6, 9.1, 6.3, 4.1, 6.2, 9.3, 9.4, 6.1, 2.0, -5.0, -4.6, -3.9, 0.8, 1.8, -1.2, 1.1, 4.7, 7.2, 8.5, 6.1, 3.5, 8.0, 10.0, 11.4, 4.3, -6.2, -5.0]}, {\"hoverlabel\": {\"namelength\": 0}, \"hovertemplate\": \"color=pre<br>Avg=%{x}<br>Min=%{y}<br>Max=%{z}\", \"legendgroup\": \"color=pre\", \"marker\": {\"color\": \"#EF553B\", \"line\": {\"color\": \"Black\", \"width\": 10}, \"size\": 5, \"symbol\": \"circle\"}, \"mode\": \"markers\", \"name\": \"color=pre\", \"scene\": \"scene\", \"showlegend\": true, \"type\": \"scatter3d\", \"x\": [1.2000000476837158, 0.5, 1.7000000476837158, 1.7999999523162842, 0.8999999761581421, 1.2000000476837158, 0.699999988079071, 0.699999988079071, 0.30000001192092896, 1.7000000476837158, 2.700000047683716, 3.0, 6.300000190734863, 5.300000190734863, 4.0, 3.5, -1.2999999523162842, -0.20000000298023224, 4.099999904632568, 6.800000190734863, 7.0, 5.599999904632568, 3.700000047683716, 1.2000000476837158, 1.5, 0.800000011920929, 0.8999999761581421, 2.299999952316284, 4.400000095367432, 3.799999952316284, 3.5, 3.700000047683716, 6.800000190734863, 6.400000095367432, 3.299999952316284, 2.700000047683716, 3.9000000953674316, 5.400000095367432, 5.699999809265137, 6.0, 6.5, 4.199999809265137, 0.5, 2.4000000953674316, 4.900000095367432, 4.599999904632568, 5.300000190734863, 2.299999952316284, 1.7000000476837158, 2.5, 3.0999999046325684, 3.0999999046325684, 2.200000047683716, 5.0, 8.399999618530273, 9.199999809265137, 9.600000381469727, 8.699999809265137, 8.800000190734863, 5.199999809265137, 6.400000095367432, 11.699999809265137, 16.0, 18.600000381469727, 15.300000190734863, 15.899999618530273, 16.100000381469727, 16.0, 16.899999618530273, 15.800000190734863, 14.5, 14.300000190734863, 14.600000381469727, 15.399999618530273, 14.899999618530273, 14.5, 15.600000381469727, 14.699999809265137, 11.600000381469727, 12.399999618530273, 14.199999809265137, 14.600000381469727, 14.100000381469727, 14.399999618530273, 15.100000381469727, 13.800000190734863, 14.100000381469727, 14.800000190734863, 14.800000190734863, 16.0, 17.399999618530273, 16.799999237060547, 17.200000762939453, 14.699999809265137, 15.300000190734863, 14.300000190734863, 14.699999809265137, 16.200000762939453, 17.5, 19.200000762939453, 17.100000381469727, 17.5, 19.0, 17.5, 18.100000381469727, 19.5, 22.5, 23.0, 20.399999618530273, 20.899999618530273, 19.100000381469727, 19.0, 21.299999237060547, 22.799999237060547, 24.399999618530273, 23.299999237060547, 24.200000762939453, 23.200000762939453, 23.299999237060547, 22.299999237060547, 21.600000381469727, 21.299999237060547, 25.200000762939453, 25.299999237060547, 24.899999618530273, 22.700000762939453, 21.100000381469727, 17.399999618530273, 17.799999237060547, 22.0, 24.399999618530273, 25.899999618530273, 25.700000762939453, 25.899999618530273, 25.399999618530273, 27.0, 25.100000381469727, 25.600000381469727, 28.100000381469727, 27.5, 27.399999618530273, 29.799999237060547, 27.100000381469727, 26.0, 25.399999618530273, 26.5, 28.799999237060547, 29.399999618530273, 30.899999618530273, 29.799999237060547, 25.600000381469727, 25.600000381469727, 25.700000762939453, 26.299999237060547, 25.799999237060547, 24.600000381469727, 26.700000762939453, 27.5, 29.0, 29.899999618530273, 28.600000381469727, 24.899999618530273, 21.700000762939453, 21.600000381469727, 25.100000381469727, 26.0, 26.0, 28.299999237060547, 30.100000381469727, 26.5, 25.700000762939453, 27.399999618530273, 28.0, 28.399999618530273, 29.200000762939453, 29.600000381469727, 29.899999618530273, 26.600000381469727, 25.600000381469727, 26.299999237060547, 27.5, 27.700000762939453, 28.799999237060547, 30.0, 32.599998474121094, 31.899999618530273, 30.5, 29.0, 30.600000381469727, 29.399999618530273, 31.600000381469727, 32.099998474121094, 32.20000076293945, 30.100000381469727, 30.700000762939453, 31.700000762939453, 31.100000381469727, 28.899999618530273, 28.0, 28.399999618530273, 28.700000762939453, 29.700000762939453, 30.399999618530273, 30.799999237060547, 30.600000381469727, 28.600000381469727, 26.299999237060547, 28.700000762939453, 29.799999237060547, 29.100000381469727, 28.100000381469727, 25.700000762939453, 25.200000762939453, 27.100000381469727, 29.600000381469727, 30.0, 29.600000381469727, 30.700000762939453, 29.100000381469727, 30.799999237060547, 31.0, 28.799999237060547, 26.799999237060547, 28.799999237060547, 35.29999923706055, 40.0, 38.79999923706055, 36.29999923706055, 35.29999923706055, 35.099998474121094, 32.20000076293945, 32.0, 33.099998474121094, 34.70000076293945, 32.70000076293945, 28.5, 27.0, 25.700000762939453, 28.200000762939453, 31.5, 33.599998474121094, 30.100000381469727, 28.600000381469727, 30.299999237060547, 31.0, 28.899999618530273, 27.200000762939453, 27.799999237060547, 28.0, 28.799999237060547, 28.0, 25.200000762939453, 24.600000381469727, 24.799999237060547, 23.100000381469727, 22.600000381469727, 24.0, 25.899999618530273, 30.299999237060547, 28.899999618530273, 28.5, 29.399999618530273, 28.899999618530273, 29.200000762939453, 26.100000381469727, 25.0, 23.899999618530273, 25.399999618530273, 30.399999618530273, 33.29999923706055, 34.5, 28.5, 23.299999237060547, 24.5, 24.899999618530273, 28.100000381469727, 28.799999237060547, 27.899999618530273, 26.0, 25.600000381469727, 26.0, 24.0, 24.700000762939453, 23.0, 22.600000381469727, 19.899999618530273, 20.0, 20.200000762939453, 18.0, 13.5, 12.600000381469727, 11.699999809265137, 13.899999618530273, 15.0, 13.699999809265137, 12.800000190734863, 11.399999618530273, 11.199999809265137, 14.899999618530273, 15.399999618530273, 14.399999618530273, 15.5, 15.899999618530273, 11.0, 9.699999809265137, 12.899999618530273, 11.300000190734863, 11.100000381469727, 11.699999809265137, 9.699999809265137, 12.399999618530273, 14.600000381469727, 13.100000381469727, 12.0, 9.800000190734863, 8.699999809265137, 9.399999618530273, 10.100000381469727, 10.199999809265137, 13.5, 11.5, 10.300000190734863, 5.699999809265137, 2.5, 2.700000047683716, 5.300000190734863, 2.299999952316284, 4.099999904632568, 4.599999904632568, 4.300000190734863, 4.599999904632568, 4.599999904632568, 5.599999904632568, 4.699999809265137, 4.599999904632568, 3.799999952316284, 6.300000190734863, 5.699999809265137, 4.400000095367432, 4.599999904632568, 2.5, 2.9000000953674316, 3.5, 4.199999809265137, 4.199999809265137, 3.700000047683716, 1.600000023841858, 2.5, 2.200000047683716, 3.299999952316284, 4.400000095367432, 7.699999809265137, 7.5, 8.399999618530273, 6.300000190734863, 4.5, 7.0, 5.599999904632568, 1.7999999523162842, 3.5, 4.5, 4.0, 3.5, 2.0999999046325684, 2.4000000953674316], \"y\": [-7.400000095367432, -7.300000190734863, -7.5, -4.300000190734863, -3.700000047683716, -5.599999904632568, -5.099999904632568, -5.800000190734863, -8.0, -7.800000190734863, -7.199999809265137, -6.0, -2.5, -3.299999952316284, -5.300000190734863, -7.300000190734863, -8.300000190734863, -10.5, -9.199999809265137, -4.199999809265137, -2.299999952316284, -2.299999952316284, -2.299999952316284, -5.099999904632568, -6.400000095367432, -5.699999809265137, -5.699999809265137, -6.599999904632568, -6.900000095367432, -6.300000190734863, -4.800000190734863, -4.599999904632568, -3.4000000953674316, -3.4000000953674316, -3.799999952316284, -5.099999904632568, -6.099999904632568, -5.199999809265137, -4.400000095367432, -5.5, -5.699999809265137, -6.800000190734863, -5.900000095367432, -5.300000190734863, -4.800000190734863, -3.200000047683716, -3.700000047683716, -5.300000190734863, -4.900000095367432, -3.4000000953674316, -4.099999904632568, -2.200000047683716, -3.700000047683716, -3.5, -0.800000011920929, 1.0, -1.399999976158142, -2.5, -0.8999999761581421, -3.200000047683716, -3.200000047683716, -0.5, 1.899999976158142, 3.5999999046325684, 3.4000000953674316, 3.200000047683716, 4.199999809265137, 4.900000095367432, 4.300000190734863, 3.299999952316284, 2.4000000953674316, 3.700000047683716, 3.299999952316284, 3.0, 4.0, 2.9000000953674316, 2.4000000953674316, 3.0, 2.0999999046325684, 1.5, 1.899999976158142, 2.200000047683716, 1.0, 1.100000023841858, 2.0999999046325684, 1.2000000476837158, 1.2999999523162842, 3.5, 3.4000000953674316, 5.5, 7.900000095367432, 5.900000095367432, 3.9000000953674316, 5.099999904632568, 7.5, 7.5, 6.099999904632568, 6.900000095367432, 5.900000095367432, 5.900000095367432, 5.5, 5.699999809265137, 5.900000095367432, 6.599999904632568, 7.699999809265137, 8.300000190734863, 9.899999618530273, 10.100000381469727, 10.199999809265137, 8.800000190734863, 7.900000095367432, 7.800000190734863, 8.199999809265137, 10.399999618530273, 10.300000190734863, 11.100000381469727, 12.100000381469727, 11.699999809265137, 10.600000381469727, 10.0, 10.600000381469727, 11.399999618530273, 12.800000190734863, 12.800000190734863, 12.899999618530273, 13.100000381469727, 12.5, 10.899999618530273, 9.100000381469727, 11.899999618530273, 14.600000381469727, 12.100000381469727, 11.899999618530273, 14.5, 13.100000381469727, 11.199999809265137, 13.399999618530273, 13.100000381469727, 15.300000190734863, 16.700000762939453, 18.200000762939453, 18.600000381469727, 16.299999237060547, 15.399999618530273, 16.899999618530273, 18.299999237060547, 18.100000381469727, 18.899999618530273, 20.200000762939453, 19.899999618530273, 19.600000381469727, 17.5, 18.200000762939453, 16.799999237060547, 15.5, 14.899999618530273, 15.5, 17.899999618530273, 18.100000381469727, 20.5, 19.100000381469727, 16.399999618530273, 15.199999809265137, 15.300000190734863, 16.700000762939453, 20.200000762939453, 21.299999237060547, 18.299999237060547, 19.600000381469727, 21.700000762939453, 19.100000381469727, 19.0, 20.5, 20.799999237060547, 19.5, 21.0, 21.299999237060547, 19.600000381469727, 17.600000381469727, 17.5, 19.799999237060547, 21.799999237060547, 22.200000762939453, 22.100000381469727, 22.0, 23.100000381469727, 20.399999618530273, 18.600000381469727, 21.5, 23.5, 23.200000762939453, 24.299999237060547, 23.799999237060547, 21.5, 22.5, 25.0, 25.700000762939453, 22.399999618530273, 20.700000762939453, 19.399999618530273, 20.299999237060547, 21.899999618530273, 22.100000381469727, 20.5, 20.399999618530273, 20.200000762939453, 21.100000381469727, 23.399999618530273, 24.200000762939453, 21.700000762939453, 20.0, 21.0, 21.899999618530273, 22.299999237060547, 22.100000381469727, 22.399999618530273, 21.899999618530273, 24.700000762939453, 25.0, 22.799999237060547, 22.799999237060547, 23.0, 21.700000762939453, 21.399999618530273, 26.299999237060547, 28.899999618530273, 27.399999618530273, 26.299999237060547, 23.899999618530273, 23.5, 23.799999237060547, 24.200000762939453, 24.399999618530273, 24.700000762939453, 22.899999618530273, 23.899999618530273, 21.899999618530273, 18.899999618530273, 17.700000762939453, 19.200000762939453, 21.399999618530273, 22.700000762939453, 20.5, 19.0, 20.0, 19.799999237060547, 19.700000762939453, 21.299999237060547, 20.299999237060547, 20.100000381469727, 21.600000381469727, 19.200000762939453, 19.299999237060547, 19.0, 18.299999237060547, 16.899999618530273, 16.899999618530273, 18.399999618530273, 19.200000762939453, 19.200000762939453, 18.899999618530273, 20.0, 20.200000762939453, 20.299999237060547, 19.200000762939453, 18.899999618530273, 18.200000762939453, 19.600000381469727, 21.200000762939453, 22.0, 22.100000381469727, 17.399999618530273, 15.5, 15.0, 17.100000381469727, 19.399999618530273, 20.299999237060547, 17.799999237060547, 15.399999618530273, 15.699999809265137, 14.5, 14.399999618530273, 12.800000190734863, 12.800000190734863, 13.100000381469727, 11.699999809265137, 12.899999618530273, 12.300000190734863, 9.600000381469727, 8.300000190734863, 7.400000095367432, 7.800000190734863, 8.199999809265137, 8.5, 7.599999904632568, 6.800000190734863, 5.900000095367432, 5.099999904632568, 6.300000190734863, 6.900000095367432, 7.0, 7.5, 8.399999618530273, 5.800000190734863, 3.9000000953674316, 5.5, 4.599999904632568, 3.299999952316284, 3.799999952316284, 4.900000095367432, 4.599999904632568, 5.900000095367432, 5.199999809265137, 3.9000000953674316, 4.0, 1.899999976158142, 1.899999976158142, 1.5, 1.5, 2.299999952316284, 4.0, 3.0999999046325684, 0.4000000059604645, -4.599999904632568, -6.0, -3.799999952316284, -3.0, -3.200000047683716, -1.7000000476837158, -2.299999952316284, -4.199999809265137, -4.0, -2.299999952316284, -0.800000011920929, -2.4000000953674316, -3.799999952316284, -3.0999999046325684, -2.5999999046325684, -3.799999952316284, -3.5999999046325684, -5.0, -6.900000095367432, -6.900000095367432, -7.099999904632568, -5.699999809265137, -6.099999904632568, -6.099999904632568, -6.5, -5.0, -4.5, -5.400000095367432, -2.799999952316284, -1.399999976158142, -1.0, -1.7999999523162842, -4.400000095367432, -7.0, -3.799999952316284, -2.799999952316284, -4.400000095367432, -4.0, -5.300000190734863, -6.900000095367432, -6.699999809265137, -4.699999809265137], \"z\": [-2.700000047683716, -3.700000047683716, -3.5999999046325684, -1.7999999523162842, -1.7999999523162842, -2.4000000953674316, -2.9000000953674316, -3.799999952316284, -5.300000190734863, -4.699999809265137, -2.5999999046325684, -2.200000047683716, 1.2000000476837158, 1.100000023841858, -0.8999999761581421, -2.0999999046325684, -4.599999904632568, -6.199999809265137, -3.4000000953674316, 0.800000011920929, 1.399999976158142, 0.800000011920929, -0.10000000149011612, -2.200000047683716, -3.299999952316284, -3.299999952316284, -3.4000000953674316, -2.9000000953674316, -2.200000047683716, -2.200000047683716, -1.7999999523162842, -1.100000023841858, 0.5, 0.699999988079071, -1.2999999523162842, -1.600000023841858, -1.399999976158142, -1.399999976158142, -0.20000000298023224, 0.0, -0.800000011920929, -2.5999999046325684, -3.700000047683716, -2.5, -0.6000000238418579, -0.6000000238418579, -0.8999999761581421, -2.9000000953674316, -2.9000000953674316, -1.7999999523162842, -1.399999976158142, -0.699999988079071, -1.7000000476837158, -0.10000000149011612, 3.0, 3.9000000953674316, 2.4000000953674316, 2.0999999046325684, 2.5, -0.5, -0.30000001192092896, 3.5999999046325684, 8.100000381469727, 9.300000190734863, 7.800000190734863, 7.699999809265137, 8.0, 8.300000190734863, 9.300000190734863, 8.800000190734863, 7.400000095367432, 8.100000381469727, 7.5, 8.199999809265137, 8.899999618530273, 8.199999809265137, 8.399999618530273, 7.800000190734863, 5.800000190734863, 5.099999904632568, 7.300000190734863, 7.5, 5.699999809265137, 5.699999809265137, 6.599999904632568, 6.0, 5.800000190734863, 7.699999809265137, 8.5, 9.600000381469727, 11.300000190734863, 10.699999809265137, 9.899999618530273, 9.100000381469727, 10.800000190734863, 10.100000381469727, 9.800000190734863, 10.699999809265137, 11.0, 11.199999809265137, 10.100000381469727, 10.5, 11.100000381469727, 11.399999618530273, 12.199999809265137, 12.800000190734863, 15.100000381469727, 15.899999618530273, 14.0, 13.800000190734863, 13.100000381469727, 13.100000381469727, 13.899999618530273, 15.100000381469727, 16.100000381469727, 16.5, 16.899999618530273, 16.299999237060547, 16.200000762939453, 15.600000381469727, 15.5, 15.100000381469727, 17.100000381469727, 17.799999237060547, 17.899999618530273, 16.700000762939453, 16.399999618530273, 13.899999618530273, 13.300000190734863, 16.0, 19.200000762939453, 18.299999237060547, 18.0, 18.799999237060547, 18.100000381469727, 18.200000762939453, 18.200000762939453, 19.0, 21.200000762939453, 21.0, 20.5, 22.600000381469727, 21.200000762939453, 20.0, 20.200000762939453, 21.899999618530273, 22.5, 23.700000762939453, 24.899999618530273, 24.700000762939453, 23.0, 21.399999618530273, 22.0, 22.5, 21.100000381469727, 19.700000762939453, 20.899999618530273, 21.299999237060547, 22.299999237060547, 23.399999618530273, 22.5, 19.899999618530273, 17.899999618530273, 18.0, 20.600000381469727, 22.700000762939453, 23.0, 22.600000381469727, 24.399999618530273, 23.600000381469727, 21.899999618530273, 22.600000381469727, 23.0, 23.0, 23.0, 23.799999237060547, 24.299999237060547, 22.399999618530273, 21.100000381469727, 21.200000762939453, 23.100000381469727, 24.299999237060547, 24.600000381469727, 25.200000762939453, 26.700000762939453, 27.0, 24.600000381469727, 23.299999237060547, 25.399999618530273, 25.799999237060547, 26.299999237060547, 26.799999237060547, 26.5, 24.399999618530273, 25.200000762939453, 27.299999237060547, 26.799999237060547, 25.5, 24.100000381469727, 23.600000381469727, 24.299999237060547, 24.5, 25.299999237060547, 25.0, 24.700000762939453, 23.299999237060547, 22.799999237060547, 24.899999618530273, 24.899999618530273, 23.0, 21.899999618530273, 21.899999618530273, 21.700000762939453, 22.399999618530273, 23.700000762939453, 24.5, 24.700000762939453, 26.100000381469727, 25.200000762939453, 24.899999618530273, 25.200000762939453, 24.5, 22.700000762939453, 23.600000381469727, 28.700000762939453, 31.700000762939453, 31.0, 28.799999237060547, 27.399999618530273, 27.5, 26.5, 26.799999237060547, 27.600000381469727, 28.600000381469727, 26.600000381469727, 24.799999237060547, 23.100000381469727, 21.399999618530273, 22.200000762939453, 24.799999237060547, 26.299999237060547, 25.100000381469727, 23.600000381469727, 24.299999237060547, 25.299999237060547, 23.600000381469727, 22.399999618530273, 23.399999618530273, 23.399999618530273, 23.899999618530273, 23.600000381469727, 21.700000762939453, 20.899999618530273, 20.899999618530273, 20.0, 18.899999618530273, 19.700000762939453, 21.399999618530273, 23.600000381469727, 23.299999237060547, 23.799999237060547, 24.600000381469727, 24.100000381469727, 24.299999237060547, 22.600000381469727, 21.5, 20.100000381469727, 21.799999237060547, 24.899999618530273, 26.600000381469727, 26.200000762939453, 21.399999618530273, 18.5, 19.100000381469727, 20.399999618530273, 22.899999618530273, 24.5, 22.399999618530273, 20.399999618530273, 21.0, 20.399999618530273, 19.200000762939453, 18.0, 17.899999618530273, 16.700000762939453, 14.399999618530273, 15.399999618530273, 15.800000190734863, 14.0, 10.800000190734863, 9.800000190734863, 9.899999618530273, 10.899999618530273, 11.899999618530273, 10.899999618530273, 10.199999809265137, 8.5, 7.900000095367432, 10.199999809265137, 10.699999809265137, 9.800000190734863, 10.699999809265137, 11.0, 7.5, 6.199999809265137, 9.0, 7.900000095367432, 6.800000190734863, 7.5, 6.800000190734863, 7.900000095367432, 9.600000381469727, 8.800000190734863, 8.100000381469727, 6.699999809265137, 5.599999904632568, 5.800000190734863, 5.599999904632568, 5.599999904632568, 7.400000095367432, 7.699999809265137, 6.400000095367432, 2.5999999046325684, -1.5, -2.299999952316284, -0.10000000149011612, -0.8999999761581421, -0.699999988079071, 0.699999988079071, 0.699999988079071, 0.0, -0.4000000059604645, 0.699999988079071, 1.399999976158142, 0.8999999761581421, 0.4000000059604645, 1.600000023841858, 1.5, 0.699999988079071, 0.20000000298023224, -1.5, -2.9000000953674316, -2.700000047683716, -3.0999999046325684, -2.299999952316284, -2.5999999046325684, -3.700000047683716, -3.0999999046325684, -1.7000000476837158, -1.600000023841858, -1.5, 1.5, 1.7999999523162842, 2.200000047683716, 1.2999999523162842, -0.30000001192092896, -0.4000000059604645, 0.4000000059604645, -1.100000023841858, -0.800000011920929, -0.0, -0.8999999761581421, -1.899999976158142, -2.299999952316284, -2.200000047683716]}],\n",
              "                        {\"legend\": {\"tracegroupgap\": 0}, \"margin\": {\"b\": 30, \"l\": 30, \"r\": 30, \"t\": 30}, \"scene\": {\"domain\": {\"x\": [0.0, 1.0], \"y\": [0.0, 1.0]}, \"xaxis\": {\"title\": {\"text\": \"Avg\"}}, \"yaxis\": {\"title\": {\"text\": \"Min\"}}, \"zaxis\": {\"title\": {\"text\": \"Max\"}}}, \"template\": {\"data\": {\"bar\": [{\"error_x\": {\"color\": \"#2a3f5f\"}, \"error_y\": {\"color\": \"#2a3f5f\"}, \"marker\": {\"line\": {\"color\": \"#E5ECF6\", \"width\": 0.5}}, \"type\": \"bar\"}], \"barpolar\": [{\"marker\": {\"line\": {\"color\": \"#E5ECF6\", \"width\": 0.5}}, \"type\": \"barpolar\"}], \"carpet\": [{\"aaxis\": {\"endlinecolor\": \"#2a3f5f\", \"gridcolor\": \"white\", \"linecolor\": \"white\", \"minorgridcolor\": \"white\", \"startlinecolor\": \"#2a3f5f\"}, \"baxis\": {\"endlinecolor\": \"#2a3f5f\", \"gridcolor\": \"white\", \"linecolor\": \"white\", \"minorgridcolor\": \"white\", \"startlinecolor\": \"#2a3f5f\"}, \"type\": \"carpet\"}], \"choropleth\": [{\"colorbar\": {\"outlinewidth\": 0, \"ticks\": \"\"}, \"type\": \"choropleth\"}], \"contour\": [{\"colorbar\": {\"outlinewidth\": 0, \"ticks\": \"\"}, \"colorscale\": [[0.0, \"#0d0887\"], [0.1111111111111111, \"#46039f\"], [0.2222222222222222, \"#7201a8\"], [0.3333333333333333, \"#9c179e\"], [0.4444444444444444, \"#bd3786\"], [0.5555555555555556, \"#d8576b\"], [0.6666666666666666, \"#ed7953\"], [0.7777777777777778, \"#fb9f3a\"], [0.8888888888888888, \"#fdca26\"], [1.0, \"#f0f921\"]], \"type\": \"contour\"}], \"contourcarpet\": [{\"colorbar\": {\"outlinewidth\": 0, \"ticks\": \"\"}, \"type\": \"contourcarpet\"}], \"heatmap\": [{\"colorbar\": {\"outlinewidth\": 0, \"ticks\": \"\"}, \"colorscale\": [[0.0, \"#0d0887\"], [0.1111111111111111, \"#46039f\"], [0.2222222222222222, \"#7201a8\"], [0.3333333333333333, \"#9c179e\"], [0.4444444444444444, \"#bd3786\"], [0.5555555555555556, \"#d8576b\"], [0.6666666666666666, \"#ed7953\"], [0.7777777777777778, \"#fb9f3a\"], [0.8888888888888888, \"#fdca26\"], [1.0, \"#f0f921\"]], \"type\": \"heatmap\"}], \"heatmapgl\": [{\"colorbar\": {\"outlinewidth\": 0, \"ticks\": \"\"}, \"colorscale\": [[0.0, \"#0d0887\"], [0.1111111111111111, \"#46039f\"], [0.2222222222222222, \"#7201a8\"], [0.3333333333333333, \"#9c179e\"], [0.4444444444444444, \"#bd3786\"], [0.5555555555555556, \"#d8576b\"], [0.6666666666666666, \"#ed7953\"], [0.7777777777777778, \"#fb9f3a\"], [0.8888888888888888, \"#fdca26\"], [1.0, \"#f0f921\"]], \"type\": \"heatmapgl\"}], \"histogram\": [{\"marker\": {\"colorbar\": {\"outlinewidth\": 0, \"ticks\": \"\"}}, \"type\": \"histogram\"}], \"histogram2d\": [{\"colorbar\": {\"outlinewidth\": 0, \"ticks\": \"\"}, \"colorscale\": [[0.0, \"#0d0887\"], [0.1111111111111111, \"#46039f\"], [0.2222222222222222, \"#7201a8\"], [0.3333333333333333, \"#9c179e\"], [0.4444444444444444, \"#bd3786\"], [0.5555555555555556, \"#d8576b\"], [0.6666666666666666, \"#ed7953\"], [0.7777777777777778, \"#fb9f3a\"], [0.8888888888888888, \"#fdca26\"], [1.0, \"#f0f921\"]], \"type\": \"histogram2d\"}], \"histogram2dcontour\": [{\"colorbar\": {\"outlinewidth\": 0, \"ticks\": \"\"}, \"colorscale\": [[0.0, \"#0d0887\"], [0.1111111111111111, \"#46039f\"], [0.2222222222222222, \"#7201a8\"], [0.3333333333333333, \"#9c179e\"], [0.4444444444444444, \"#bd3786\"], [0.5555555555555556, \"#d8576b\"], [0.6666666666666666, \"#ed7953\"], [0.7777777777777778, \"#fb9f3a\"], [0.8888888888888888, \"#fdca26\"], [1.0, \"#f0f921\"]], \"type\": \"histogram2dcontour\"}], \"mesh3d\": [{\"colorbar\": {\"outlinewidth\": 0, \"ticks\": \"\"}, \"type\": \"mesh3d\"}], \"parcoords\": [{\"line\": {\"colorbar\": {\"outlinewidth\": 0, \"ticks\": \"\"}}, \"type\": \"parcoords\"}], \"pie\": [{\"automargin\": true, \"type\": \"pie\"}], \"scatter\": [{\"marker\": {\"colorbar\": {\"outlinewidth\": 0, \"ticks\": \"\"}}, \"type\": \"scatter\"}], \"scatter3d\": [{\"line\": {\"colorbar\": {\"outlinewidth\": 0, \"ticks\": \"\"}}, \"marker\": {\"colorbar\": {\"outlinewidth\": 0, \"ticks\": \"\"}}, \"type\": \"scatter3d\"}], \"scattercarpet\": [{\"marker\": {\"colorbar\": {\"outlinewidth\": 0, \"ticks\": \"\"}}, \"type\": \"scattercarpet\"}], \"scattergeo\": [{\"marker\": {\"colorbar\": {\"outlinewidth\": 0, \"ticks\": \"\"}}, \"type\": \"scattergeo\"}], \"scattergl\": [{\"marker\": {\"colorbar\": {\"outlinewidth\": 0, \"ticks\": \"\"}}, \"type\": \"scattergl\"}], \"scattermapbox\": [{\"marker\": {\"colorbar\": {\"outlinewidth\": 0, \"ticks\": \"\"}}, \"type\": \"scattermapbox\"}], \"scatterpolar\": [{\"marker\": {\"colorbar\": {\"outlinewidth\": 0, \"ticks\": \"\"}}, \"type\": \"scatterpolar\"}], \"scatterpolargl\": [{\"marker\": {\"colorbar\": {\"outlinewidth\": 0, \"ticks\": \"\"}}, \"type\": \"scatterpolargl\"}], \"scatterternary\": [{\"marker\": {\"colorbar\": {\"outlinewidth\": 0, \"ticks\": \"\"}}, \"type\": \"scatterternary\"}], \"surface\": [{\"colorbar\": {\"outlinewidth\": 0, \"ticks\": \"\"}, \"colorscale\": [[0.0, \"#0d0887\"], [0.1111111111111111, \"#46039f\"], [0.2222222222222222, \"#7201a8\"], [0.3333333333333333, \"#9c179e\"], [0.4444444444444444, \"#bd3786\"], [0.5555555555555556, \"#d8576b\"], [0.6666666666666666, \"#ed7953\"], [0.7777777777777778, \"#fb9f3a\"], [0.8888888888888888, \"#fdca26\"], [1.0, \"#f0f921\"]], \"type\": \"surface\"}], \"table\": [{\"cells\": {\"fill\": {\"color\": \"#EBF0F8\"}, \"line\": {\"color\": \"white\"}}, \"header\": {\"fill\": {\"color\": \"#C8D4E3\"}, \"line\": {\"color\": \"white\"}}, \"type\": \"table\"}]}, \"layout\": {\"annotationdefaults\": {\"arrowcolor\": \"#2a3f5f\", \"arrowhead\": 0, \"arrowwidth\": 1}, \"coloraxis\": {\"colorbar\": {\"outlinewidth\": 0, \"ticks\": \"\"}}, \"colorscale\": {\"diverging\": [[0, \"#8e0152\"], [0.1, \"#c51b7d\"], [0.2, \"#de77ae\"], [0.3, \"#f1b6da\"], [0.4, \"#fde0ef\"], [0.5, \"#f7f7f7\"], [0.6, \"#e6f5d0\"], [0.7, \"#b8e186\"], [0.8, \"#7fbc41\"], [0.9, \"#4d9221\"], [1, \"#276419\"]], \"sequential\": [[0.0, \"#0d0887\"], [0.1111111111111111, \"#46039f\"], [0.2222222222222222, \"#7201a8\"], [0.3333333333333333, \"#9c179e\"], [0.4444444444444444, \"#bd3786\"], [0.5555555555555556, \"#d8576b\"], [0.6666666666666666, \"#ed7953\"], [0.7777777777777778, \"#fb9f3a\"], [0.8888888888888888, \"#fdca26\"], [1.0, \"#f0f921\"]], \"sequentialminus\": [[0.0, \"#0d0887\"], [0.1111111111111111, \"#46039f\"], [0.2222222222222222, \"#7201a8\"], [0.3333333333333333, \"#9c179e\"], [0.4444444444444444, \"#bd3786\"], [0.5555555555555556, \"#d8576b\"], [0.6666666666666666, \"#ed7953\"], [0.7777777777777778, \"#fb9f3a\"], [0.8888888888888888, \"#fdca26\"], [1.0, \"#f0f921\"]]}, \"colorway\": [\"#636efa\", \"#EF553B\", \"#00cc96\", \"#ab63fa\", \"#FFA15A\", \"#19d3f3\", \"#FF6692\", \"#B6E880\", \"#FF97FF\", \"#FECB52\"], \"font\": {\"color\": \"#2a3f5f\"}, \"geo\": {\"bgcolor\": \"white\", \"lakecolor\": \"white\", \"landcolor\": \"#E5ECF6\", \"showlakes\": true, \"showland\": true, \"subunitcolor\": \"white\"}, \"hoverlabel\": {\"align\": \"left\"}, \"hovermode\": \"closest\", \"mapbox\": {\"style\": \"light\"}, \"paper_bgcolor\": \"white\", \"plot_bgcolor\": \"#E5ECF6\", \"polar\": {\"angularaxis\": {\"gridcolor\": \"white\", \"linecolor\": \"white\", \"ticks\": \"\"}, \"bgcolor\": \"#E5ECF6\", \"radialaxis\": {\"gridcolor\": \"white\", \"linecolor\": \"white\", \"ticks\": \"\"}}, \"scene\": {\"xaxis\": {\"backgroundcolor\": \"#E5ECF6\", \"gridcolor\": \"white\", \"gridwidth\": 2, \"linecolor\": \"white\", \"showbackground\": true, \"ticks\": \"\", \"zerolinecolor\": \"white\"}, \"yaxis\": {\"backgroundcolor\": \"#E5ECF6\", \"gridcolor\": \"white\", \"gridwidth\": 2, \"linecolor\": \"white\", \"showbackground\": true, \"ticks\": \"\", \"zerolinecolor\": \"white\"}, \"zaxis\": {\"backgroundcolor\": \"#E5ECF6\", \"gridcolor\": \"white\", \"gridwidth\": 2, \"linecolor\": \"white\", \"showbackground\": true, \"ticks\": \"\", \"zerolinecolor\": \"white\"}}, \"shapedefaults\": {\"line\": {\"color\": \"#2a3f5f\"}}, \"ternary\": {\"aaxis\": {\"gridcolor\": \"white\", \"linecolor\": \"white\", \"ticks\": \"\"}, \"baxis\": {\"gridcolor\": \"white\", \"linecolor\": \"white\", \"ticks\": \"\"}, \"bgcolor\": \"#E5ECF6\", \"caxis\": {\"gridcolor\": \"white\", \"linecolor\": \"white\", \"ticks\": \"\"}}, \"title\": {\"x\": 0.05}, \"xaxis\": {\"automargin\": true, \"gridcolor\": \"white\", \"linecolor\": \"white\", \"ticks\": \"\", \"title\": {\"standoff\": 15}, \"zerolinecolor\": \"white\", \"zerolinewidth\": 2}, \"yaxis\": {\"automargin\": true, \"gridcolor\": \"white\", \"linecolor\": \"white\", \"ticks\": \"\", \"title\": {\"standoff\": 15}, \"zerolinecolor\": \"white\", \"zerolinewidth\": 2}}}, \"title\": {\"text\": \"Real VS CNN Pre\"}},\n",
              "                        {\"responsive\": true}\n",
              "                    ).then(function(){\n",
              "                            \n",
              "var gd = document.getElementById('10dc0394-2d13-4b14-b90d-fa0fb57fcbe4');\n",
              "var x = new MutationObserver(function (mutations, observer) {{\n",
              "        var display = window.getComputedStyle(gd).display;\n",
              "        if (!display || display === 'none') {{\n",
              "            console.log([gd, 'removed!']);\n",
              "            Plotly.purge(gd);\n",
              "            observer.disconnect();\n",
              "        }}\n",
              "}});\n",
              "\n",
              "// Listen for the removal of the full notebook cells\n",
              "var notebookContainer = gd.closest('#notebook-container');\n",
              "if (notebookContainer) {{\n",
              "    x.observe(notebookContainer, {childList: true});\n",
              "}}\n",
              "\n",
              "// Listen for the clearing of the current output cell\n",
              "var outputEl = gd.closest('.output');\n",
              "if (outputEl) {{\n",
              "    x.observe(outputEl, {childList: true});\n",
              "}}\n",
              "\n",
              "                        })\n",
              "                };\n",
              "                \n",
              "            </script>\n",
              "        </div>\n",
              "</body>\n",
              "</html>"
            ]
          },
          "metadata": {
            "tags": []
          }
        }
      ]
    },
    {
      "cell_type": "markdown",
      "metadata": {
        "id": "8ZqRasfS2zfT"
      },
      "source": [
        "# CRNN"
      ]
    },
    {
      "cell_type": "code",
      "metadata": {
        "colab": {
          "base_uri": "https://localhost:8080/",
          "height": 419
        },
        "id": "d5YpfbKib88m",
        "outputId": "b1901b75-6dbd-46dd-e1d8-0d8497ff1646"
      },
      "source": [
        "# 코로나 데이터 불러오기\r\n",
        "cov = pd.read_csv('/content/drive/MyDrive/Colab Notebooks/pytorch 책/file/covid/covid_19_data.csv')\r\n",
        "cov"
      ],
      "execution_count": null,
      "outputs": [
        {
          "output_type": "execute_result",
          "data": {
            "text/html": [
              "<div>\n",
              "<style scoped>\n",
              "    .dataframe tbody tr th:only-of-type {\n",
              "        vertical-align: middle;\n",
              "    }\n",
              "\n",
              "    .dataframe tbody tr th {\n",
              "        vertical-align: top;\n",
              "    }\n",
              "\n",
              "    .dataframe thead th {\n",
              "        text-align: right;\n",
              "    }\n",
              "</style>\n",
              "<table border=\"1\" class=\"dataframe\">\n",
              "  <thead>\n",
              "    <tr style=\"text-align: right;\">\n",
              "      <th></th>\n",
              "      <th>SNo</th>\n",
              "      <th>ObservationDate</th>\n",
              "      <th>Province/State</th>\n",
              "      <th>Country/Region</th>\n",
              "      <th>Last Update</th>\n",
              "      <th>Confirmed</th>\n",
              "      <th>Deaths</th>\n",
              "      <th>Recovered</th>\n",
              "    </tr>\n",
              "  </thead>\n",
              "  <tbody>\n",
              "    <tr>\n",
              "      <th>0</th>\n",
              "      <td>1</td>\n",
              "      <td>01/22/2020</td>\n",
              "      <td>Anhui</td>\n",
              "      <td>Mainland China</td>\n",
              "      <td>1/22/2020 17:00</td>\n",
              "      <td>1.0</td>\n",
              "      <td>0.0</td>\n",
              "      <td>0.0</td>\n",
              "    </tr>\n",
              "    <tr>\n",
              "      <th>1</th>\n",
              "      <td>2</td>\n",
              "      <td>01/22/2020</td>\n",
              "      <td>Beijing</td>\n",
              "      <td>Mainland China</td>\n",
              "      <td>1/22/2020 17:00</td>\n",
              "      <td>14.0</td>\n",
              "      <td>0.0</td>\n",
              "      <td>0.0</td>\n",
              "    </tr>\n",
              "    <tr>\n",
              "      <th>2</th>\n",
              "      <td>3</td>\n",
              "      <td>01/22/2020</td>\n",
              "      <td>Chongqing</td>\n",
              "      <td>Mainland China</td>\n",
              "      <td>1/22/2020 17:00</td>\n",
              "      <td>6.0</td>\n",
              "      <td>0.0</td>\n",
              "      <td>0.0</td>\n",
              "    </tr>\n",
              "    <tr>\n",
              "      <th>3</th>\n",
              "      <td>4</td>\n",
              "      <td>01/22/2020</td>\n",
              "      <td>Fujian</td>\n",
              "      <td>Mainland China</td>\n",
              "      <td>1/22/2020 17:00</td>\n",
              "      <td>1.0</td>\n",
              "      <td>0.0</td>\n",
              "      <td>0.0</td>\n",
              "    </tr>\n",
              "    <tr>\n",
              "      <th>4</th>\n",
              "      <td>5</td>\n",
              "      <td>01/22/2020</td>\n",
              "      <td>Gansu</td>\n",
              "      <td>Mainland China</td>\n",
              "      <td>1/22/2020 17:00</td>\n",
              "      <td>0.0</td>\n",
              "      <td>0.0</td>\n",
              "      <td>0.0</td>\n",
              "    </tr>\n",
              "    <tr>\n",
              "      <th>...</th>\n",
              "      <td>...</td>\n",
              "      <td>...</td>\n",
              "      <td>...</td>\n",
              "      <td>...</td>\n",
              "      <td>...</td>\n",
              "      <td>...</td>\n",
              "      <td>...</td>\n",
              "      <td>...</td>\n",
              "    </tr>\n",
              "    <tr>\n",
              "      <th>172475</th>\n",
              "      <td>172476</td>\n",
              "      <td>12/06/2020</td>\n",
              "      <td>Zaporizhia Oblast</td>\n",
              "      <td>Ukraine</td>\n",
              "      <td>2020-12-07 05:26:14</td>\n",
              "      <td>36539.0</td>\n",
              "      <td>337.0</td>\n",
              "      <td>6556.0</td>\n",
              "    </tr>\n",
              "    <tr>\n",
              "      <th>172476</th>\n",
              "      <td>172477</td>\n",
              "      <td>12/06/2020</td>\n",
              "      <td>Zeeland</td>\n",
              "      <td>Netherlands</td>\n",
              "      <td>2020-12-07 05:26:14</td>\n",
              "      <td>6710.0</td>\n",
              "      <td>104.0</td>\n",
              "      <td>0.0</td>\n",
              "    </tr>\n",
              "    <tr>\n",
              "      <th>172477</th>\n",
              "      <td>172478</td>\n",
              "      <td>12/06/2020</td>\n",
              "      <td>Zhejiang</td>\n",
              "      <td>Mainland China</td>\n",
              "      <td>2020-12-07 05:26:14</td>\n",
              "      <td>1295.0</td>\n",
              "      <td>1.0</td>\n",
              "      <td>1288.0</td>\n",
              "    </tr>\n",
              "    <tr>\n",
              "      <th>172478</th>\n",
              "      <td>172479</td>\n",
              "      <td>12/06/2020</td>\n",
              "      <td>Zhytomyr Oblast</td>\n",
              "      <td>Ukraine</td>\n",
              "      <td>2020-12-07 05:26:14</td>\n",
              "      <td>31967.0</td>\n",
              "      <td>531.0</td>\n",
              "      <td>22263.0</td>\n",
              "    </tr>\n",
              "    <tr>\n",
              "      <th>172479</th>\n",
              "      <td>172480</td>\n",
              "      <td>12/06/2020</td>\n",
              "      <td>Zuid-Holland</td>\n",
              "      <td>Netherlands</td>\n",
              "      <td>2020-12-07 05:26:14</td>\n",
              "      <td>154813.0</td>\n",
              "      <td>2414.0</td>\n",
              "      <td>0.0</td>\n",
              "    </tr>\n",
              "  </tbody>\n",
              "</table>\n",
              "<p>172480 rows × 8 columns</p>\n",
              "</div>"
            ],
            "text/plain": [
              "           SNo ObservationDate     Province/State  ... Confirmed  Deaths  Recovered\n",
              "0            1      01/22/2020              Anhui  ...       1.0     0.0        0.0\n",
              "1            2      01/22/2020            Beijing  ...      14.0     0.0        0.0\n",
              "2            3      01/22/2020          Chongqing  ...       6.0     0.0        0.0\n",
              "3            4      01/22/2020             Fujian  ...       1.0     0.0        0.0\n",
              "4            5      01/22/2020              Gansu  ...       0.0     0.0        0.0\n",
              "...        ...             ...                ...  ...       ...     ...        ...\n",
              "172475  172476      12/06/2020  Zaporizhia Oblast  ...   36539.0   337.0     6556.0\n",
              "172476  172477      12/06/2020            Zeeland  ...    6710.0   104.0        0.0\n",
              "172477  172478      12/06/2020           Zhejiang  ...    1295.0     1.0     1288.0\n",
              "172478  172479      12/06/2020    Zhytomyr Oblast  ...   31967.0   531.0    22263.0\n",
              "172479  172480      12/06/2020       Zuid-Holland  ...  154813.0  2414.0        0.0\n",
              "\n",
              "[172480 rows x 8 columns]"
            ]
          },
          "metadata": {
            "tags": []
          },
          "execution_count": 11
        }
      ]
    },
    {
      "cell_type": "markdown",
      "metadata": {
        "id": "w9wJiGKT5Af6"
      },
      "source": [
        "Confirmed는 확진자수, Deaths는 사망자수, 그리고 Recovered는 완치자수를 의미"
      ]
    },
    {
      "cell_type": "code",
      "metadata": {
        "id": "WHB-tQGkb85d"
      },
      "source": [
        "# 데이터 전처리\r\n",
        "conf = cov[cov['Country/Region']=='South Korea'].iloc[:,5].reset_index(drop = True)\r\n",
        "conf = pd.DataFrame(conf)\r\n",
        "\r\n",
        "# 훈련, 테스트 만들기\r\n",
        "train = conf[50:-50]\r\n",
        "test = conf[-50:]"
      ],
      "execution_count": null,
      "outputs": []
    },
    {
      "cell_type": "code",
      "metadata": {
        "colab": {
          "base_uri": "https://localhost:8080/",
          "height": 283
        },
        "id": "XqP2Tfbg1mdb",
        "outputId": "76d43a83-f360-466c-8cb5-9a14a590532a"
      },
      "source": [
        "import matplotlib.pyplot as plt\r\n",
        "plt.plot(train)"
      ],
      "execution_count": null,
      "outputs": [
        {
          "output_type": "execute_result",
          "data": {
            "text/plain": [
              "[<matplotlib.lines.Line2D at 0x7ffae41b46a0>]"
            ]
          },
          "metadata": {
            "tags": []
          },
          "execution_count": 16
        },
        {
          "output_type": "display_data",
          "data": {
            "image/png": "[encoded data removed]",
            "text/plain": [
              "<Figure size 432x288 with 1 Axes>"
            ]
          },
          "metadata": {
            "tags": [],
            "needs_background": "light"
          }
        }
      ]
    },
    {
      "cell_type": "markdown",
      "metadata": {
        "id": "asqVcgmO8Z6O"
      },
      "source": [
        "윈도우 생성"
      ]
    },
    {
      "cell_type": "code",
      "metadata": {
        "colab": {
          "base_uri": "https://localhost:8080/"
        },
        "id": "OholuVTH7JDE",
        "outputId": "ea2c7c75-ed1a-4a6e-9fcc-9a11cf0f3369"
      },
      "source": [
        "# 배치 사이즈\r\n",
        "input_window = 30       # 모델에 들어가는 날짜, 슬라이딩 윈도우의 간격\r\n",
        "output_window = 5       # 모델을 통해 예측한 날짜\r\n",
        "\r\n",
        "# 행렬을 먼저 만듬\r\n",
        "window_x = np.zeros((train.shape[0] - (input_window + output_window), input_window, 1))  # 전체 데이터, 들어갈 데이터, 컬럼수\r\n",
        "window_y = np.zeros((train.shape[0] - (input_window + output_window), output_window, 1))\r\n",
        "\r\n",
        "# 슬라이딩 윈도우 생성\r\n",
        "for start in range(train.shape[0] - (input_window + output_window)):\r\n",
        "    end = start + input_window \r\n",
        "\r\n",
        "    window_x[start,:, :] = train.iloc[start : end , : ].values   # X 데이터셋 만들기\r\n",
        "    window_y[start,:, :] = train.iloc[end   : end + output_window, : ].values   # 예측할 Y 데이터셋 (훈련시)\r\n",
        "\r\n",
        "# 훈련 데이터 텐서 변환\r\n",
        "train_x = torch.from_numpy(window_x).float().to(device)\r\n",
        "train_y = torch.from_numpy(window_y).float().to(device)\r\n",
        "\r\n",
        "print(train_x.shape, train_y.shape)"
      ],
      "execution_count": null,
      "outputs": [
        {
          "output_type": "stream",
          "text": [
            "torch.Size([185, 30, 1]) torch.Size([185, 5, 1])\n"
          ],
          "name": "stdout"
        }
      ]
    },
    {
      "cell_type": "markdown",
      "metadata": {
        "id": "Oj0YA-9votr0"
      },
      "source": [
        "## CLSTM 모델"
      ]
    },
    {
      "cell_type": "code",
      "metadata": {
        "colab": {
          "base_uri": "https://localhost:8080/"
        },
        "id": "aZhp7SyrXrGB",
        "outputId": "80c72ee7-a4b3-41f4-b5f8-fb5c0761e35d"
      },
      "source": [
        "model_clstm(train_x).shape"
      ],
      "execution_count": null,
      "outputs": [
        {
          "output_type": "execute_result",
          "data": {
            "text/plain": [
              "torch.Size([185, 29, 3])"
            ]
          },
          "metadata": {
            "tags": []
          },
          "execution_count": 51
        }
      ]
    },
    {
      "cell_type": "code",
      "metadata": {
        "id": "HlBE3-KdXq9z"
      },
      "source": [
        ""
      ],
      "execution_count": null,
      "outputs": []
    },
    {
      "cell_type": "code",
      "metadata": {
        "colab": {
          "base_uri": "https://localhost:8080/"
        },
        "id": "KkAGs9_G7I7L",
        "outputId": "7b060dab-2ac8-42eb-8a97-a4c8e6f538bd"
      },
      "source": [
        "# Model 생성\r\n",
        "\r\n",
        "class CLSTM(nn.Module):\r\n",
        "    def __init__(self, hidden_size):\r\n",
        "        super(CLSTM, self).__init__()\r\n",
        "        self.hidden_size = hidden_size\r\n",
        "\r\n",
        "        self.c1 = nn.Conv1d(1, 3, 2)  # 커널 사이즈는 2\r\n",
        "        # self.p1 = nn.AvgPool1d(2)\r\n",
        "        # self.c2 = nn.Conv1d(hidden_size, hidden_size, 2)\r\n",
        "  \r\n",
        "\r\n",
        "        self.lstm = nn.LSTM(3, hidden_size, batch_first=True,\r\n",
        "                            num_layers = 2)\r\n",
        "        \r\n",
        "        self.out = nn.Linear(hidden_size, 1)\r\n",
        "\r\n",
        "\r\n",
        "    def forward(self, inputs):\r\n",
        "\r\n",
        "        # Turn (seq_len x batch_size x input_size) into (batch_size x input_size x seq_len) for CNN\r\n",
        "        inputs = inputs.transpose(1, 2)\r\n",
        "\r\n",
        "        # Run through Conv1d and Pool1d layers\r\n",
        "        p = self.c1(inputs)\r\n",
        "        # c = self.p1(c)\r\n",
        "        # p = self.c2(c)\r\n",
        "\r\n",
        "        # Turn (batch_size x hidden_size x seq_len) back into (seq_len x batch_size x hidden_size) for RNN\r\n",
        "        p = p.transpose(2, 1)\r\n",
        "\r\n",
        "        time, _ = self.lstm(p)\r\n",
        "        time = self.out(time[:,-5:, :])\r\n",
        "\r\n",
        "        return time.view(-1,5,1)\r\n",
        "        # return p\r\n",
        "\r\n",
        "\r\n",
        "model_clstm = CLSTM(hidden_size = 32).to(device)  # to(device)를 통해 GPU로\r\n",
        "model_clstm"
      ],
      "execution_count": null,
      "outputs": [
        {
          "output_type": "execute_result",
          "data": {
            "text/plain": [
              "CLSTM(\n",
              "  (c1): Conv1d(1, 3, kernel_size=(2,), stride=(1,))\n",
              "  (lstm): LSTM(3, 32, num_layers=2, batch_first=True)\n",
              "  (out): Linear(in_features=32, out_features=1, bias=True)\n",
              ")"
            ]
          },
          "metadata": {
            "tags": []
          },
          "execution_count": 53
        }
      ]
    },
    {
      "cell_type": "code",
      "metadata": {
        "colab": {
          "base_uri": "https://localhost:8080/"
        },
        "id": "RqYUWUu2QnsN",
        "outputId": "0a1926b1-3fec-4e5f-f1a8-365a281e74ea"
      },
      "source": [
        "# 모형 학습\r\n",
        "\r\n",
        "# 최적화 담당\r\n",
        "optimizer = optim.Adam(model_clstm.parameters(), lr = 0.1)  # Adam 경사하강법을 사용\r\n",
        "criterion = nn.MSELoss()\r\n",
        "\r\n",
        "for epoch in range(2000):\r\n",
        "  total_loss = 0\r\n",
        "  optimizer.zero_grad()  # 경사초기화\r\n",
        "  output = model_clstm(train_x)  # 순전파 계산\r\n",
        "  loss = criterion(output, train_y)  # 오차 계산\r\n",
        "  \r\n",
        "  loss.backward()  # 역전파 계산\r\n",
        "  optimizer.step()  #가중치 업데이트\r\n",
        "\r\n",
        "  total_loss += loss.data  # 누적오차 계산\r\n",
        "  \r\n",
        "  # 50회 반복마다 누적 오차 계산\r\n",
        "  if (epoch+1) % 100 == 0:\r\n",
        "    print(epoch+1, float(total_loss))"
      ],
      "execution_count": null,
      "outputs": [
        {
          "output_type": "stream",
          "text": [
            "100 254388256.0\n",
            "200 249555360.0\n",
            "300 244805760.0\n",
            "400 240132560.0\n",
            "500 235532576.0\n",
            "600 231003808.0\n",
            "700 226544560.0\n",
            "800 222153312.0\n",
            "900 217828816.0\n",
            "1000 213569712.0\n",
            "1100 209374880.0\n",
            "1200 205243184.0\n",
            "1300 201173568.0\n",
            "1400 197165056.0\n",
            "1500 193216608.0\n",
            "1600 189327408.0\n",
            "1700 185496480.0\n",
            "1800 181723024.0\n",
            "1900 178006192.0\n",
            "2000 174345312.0\n"
          ],
          "name": "stdout"
        }
      ]
    },
    {
      "cell_type": "code",
      "metadata": {
        "id": "FDS9JUZpYMOT",
        "colab": {
          "base_uri": "https://localhost:8080/",
          "height": 240
        },
        "outputId": "c5a78fda-52d6-4030-9d14-0ca59a7f403d"
      },
      "source": [
        "# 모델 예측\r\n",
        "\r\n",
        "last_month = train.values[np.newaxis,...]  # 데이터 365일만\r\n",
        "last_month = torch.tensor(last_month).float().to(device)  # 데이터를 토치화를 하여, GPU로 보냄\r\n",
        "\r\n",
        "clstm_pre = []  # 저장하오\r\n",
        "\r\n",
        "for start in range(10):  # 30일씩 3번 예측\r\n",
        "    \r\n",
        "    next_week = model_clstm(last_month)  # 365일 데이터로 5일을 예측\r\n",
        "\r\n",
        "    last_month = torch.cat([last_month, next_week], axis = 1)  # 훈련데이터에 예측값을 더해 또 예측\r\n",
        "\r\n",
        "    pred_week = next_week.detach().cpu().numpy().reshape(output_window,1)  # 예측한것 CPU, 넘파이로 (30,3)로 재배열\r\n",
        "\r\n",
        "    clstm_pre.append(pred_week)  # 예측한거 저장하오\r\n",
        "\r\n",
        "\r\n",
        "# 형식 변환 후, 데이터 프레임으로\r\n",
        "clstm_pre = np.array(clstm_pre).reshape(50,1)\r\n",
        "clstm_pre = pd.DataFrame(clstm_pre)\r\n",
        "clstm_pre = round(clstm_pre,1)\r\n",
        "\r\n",
        "print('365일 예측!! \\n')\r\n",
        "clstm_pre.tail()"
      ],
      "execution_count": null,
      "outputs": [
        {
          "output_type": "stream",
          "text": [
            "365일 예측!! \n",
            "\n"
          ],
          "name": "stdout"
        },
        {
          "output_type": "execute_result",
          "data": {
            "text/html": [
              "<div>\n",
              "<style scoped>\n",
              "    .dataframe tbody tr th:only-of-type {\n",
              "        vertical-align: middle;\n",
              "    }\n",
              "\n",
              "    .dataframe tbody tr th {\n",
              "        vertical-align: top;\n",
              "    }\n",
              "\n",
              "    .dataframe thead th {\n",
              "        text-align: right;\n",
              "    }\n",
              "</style>\n",
              "<table border=\"1\" class=\"dataframe\">\n",
              "  <thead>\n",
              "    <tr style=\"text-align: right;\">\n",
              "      <th></th>\n",
              "      <th>0</th>\n",
              "    </tr>\n",
              "  </thead>\n",
              "  <tbody>\n",
              "    <tr>\n",
              "      <th>45</th>\n",
              "      <td>607.200012</td>\n",
              "    </tr>\n",
              "    <tr>\n",
              "      <th>46</th>\n",
              "      <td>607.200012</td>\n",
              "    </tr>\n",
              "    <tr>\n",
              "      <th>47</th>\n",
              "      <td>607.200012</td>\n",
              "    </tr>\n",
              "    <tr>\n",
              "      <th>48</th>\n",
              "      <td>607.200012</td>\n",
              "    </tr>\n",
              "    <tr>\n",
              "      <th>49</th>\n",
              "      <td>607.200012</td>\n",
              "    </tr>\n",
              "  </tbody>\n",
              "</table>\n",
              "</div>"
            ],
            "text/plain": [
              "             0\n",
              "45  607.200012\n",
              "46  607.200012\n",
              "47  607.200012\n",
              "48  607.200012\n",
              "49  607.200012"
            ]
          },
          "metadata": {
            "tags": []
          },
          "execution_count": 261
        }
      ]
    },
    {
      "cell_type": "markdown",
      "metadata": {
        "id": "HfxL9Vir0HWl"
      },
      "source": [
        "그래프"
      ]
    },
    {
      "cell_type": "code",
      "metadata": {
        "colab": {
          "base_uri": "https://localhost:8080/",
          "height": 504
        },
        "id": "SOGAlYzUXXTk",
        "outputId": "e5db3cdd-e906-4df8-cdbc-25a1ad3dce4b"
      },
      "source": [
        "# 확진자 예측 그래프\r\n",
        "import matplotlib.pyplot as plt\r\n",
        "\r\n",
        "pre = clstm_pre\r\n",
        "real = test.reset_index(drop = True)\r\n",
        "\r\n",
        "fig = plt.figure(figsize=(8,8))  ## 캔버스 생성\r\n",
        "fig.set_facecolor('white')       ## 캔버스 색상 설정\r\n",
        "ax = fig.add_subplot()           ## 그림 뼈대(프레임) 생성\r\n",
        "\r\n",
        "# 그래프 생성\r\n",
        "ax.plot(pre, marker='o',label='CLSTM')\r\n",
        "\r\n",
        "ax.plot(real, marker='o',label='REAL') \r\n",
        "\r\n",
        "ax.legend() ## 범례\r\n",
        " \r\n",
        "plt.title('Confirmed',fontsize=20) ## 타이틀 설정\r\n",
        "plt.show()"
      ],
      "execution_count": null,
      "outputs": [
        {
          "output_type": "display_data",
          "data": {
            "image/png": "[encoded data removed]",
            "text/plain": [
              "<Figure size 576x576 with 1 Axes>"
            ]
          },
          "metadata": {
            "tags": []
          }
        }
      ]
    },
    {
      "cell_type": "code",
      "metadata": {
        "id": "qCtpX9bEXXQH"
      },
      "source": [
        ""
      ],
      "execution_count": null,
      "outputs": []
    },
    {
      "cell_type": "code",
      "metadata": {
        "id": "-T871IosXXM5"
      },
      "source": [
        ""
      ],
      "execution_count": null,
      "outputs": []
    },
    {
      "cell_type": "code",
      "metadata": {
        "id": "0tSfEWIzb82c"
      },
      "source": [
        ""
      ],
      "execution_count": null,
      "outputs": []
    },
    {
      "cell_type": "code",
      "metadata": {
        "id": "mrbDIfNiYMR-"
      },
      "source": [
        ""
      ],
      "execution_count": null,
      "outputs": []
    },
    {
      "cell_type": "code",
      "metadata": {
        "id": "7ggYtRDTC9r6"
      },
      "source": [
        ""
      ],
      "execution_count": null,
      "outputs": []
    },
    {
      "cell_type": "code",
      "metadata": {
        "id": "AfSvs6lyNWo2"
      },
      "source": [
        ""
      ],
      "execution_count": null,
      "outputs": []
    },
    {
      "cell_type": "code",
      "metadata": {
        "id": "niAPAh3LsU9m"
      },
      "source": [
        ""
      ],
      "execution_count": null,
      "outputs": []
    },
    {
      "cell_type": "code",
      "metadata": {
        "id": "hivCVnkzqAqJ"
      },
      "source": [
        ""
      ],
      "execution_count": null,
      "outputs": []
    },
    {
      "cell_type": "code",
      "metadata": {
        "id": "gkgAGm2_qAnQ"
      },
      "source": [
        ""
      ],
      "execution_count": null,
      "outputs": []
    },
    {
      "cell_type": "code",
      "metadata": {
        "id": "27J5FrGsqAkc"
      },
      "source": [
        ""
      ],
      "execution_count": null,
      "outputs": []
    },
    {
      "cell_type": "code",
      "metadata": {
        "id": "uI_kY2vwqAhG"
      },
      "source": [
        ""
      ],
      "execution_count": null,
      "outputs": []
    },
    {
      "cell_type": "code",
      "metadata": {
        "id": "rLK0CaRfqAef"
      },
      "source": [
        ""
      ],
      "execution_count": null,
      "outputs": []
    },
    {
      "cell_type": "code",
      "metadata": {
        "id": "vJQ1CHlKmWf-"
      },
      "source": [
        ""
      ],
      "execution_count": null,
      "outputs": []
    }
  ]
}