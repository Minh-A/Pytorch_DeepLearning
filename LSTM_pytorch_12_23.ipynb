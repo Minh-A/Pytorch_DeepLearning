{
  "nbformat": 4,
  "nbformat_minor": 0,
  "metadata": {
    "colab": {
      "name": "LSTM_pytorch.ipynb",
      "provenance": [],
      "collapsed_sections": [],
      "authorship_tag": "ABX9TyOL7hAhMUk0Td52J4YwbKy/",
      "include_colab_link": true
    },
    "kernelspec": {
      "name": "python3",
      "display_name": "Python 3"
    },
    "accelerator": "GPU"
  },
  "cells": [
    {
      "cell_type": "markdown",
      "metadata": {
        "id": "view-in-github",
        "colab_type": "text"
      },
      "source": [
        "<a href=\"https://colab.research.google.com/github/Minh-A/Pytorch_DeepLearning/blob/main/LSTM_pytorch_12_23.ipynb\" target=\"_parent\"><img src=\"https://colab.research.google.com/assets/colab-badge.svg\" alt=\"Open In Colab\"/></a>"
      ]
    },
    {
      "cell_type": "markdown",
      "metadata": {
        "id": "Y_8ei1RXuJ9H"
      },
      "source": [
        "# Library"
      ]
    },
    {
      "cell_type": "code",
      "metadata": {
        "colab": {
          "base_uri": "https://localhost:8080/"
        },
        "id": "i8Z9rgdPu2Vp",
        "outputId": "a73c94bb-7dd4-457b-e0d2-356b5df1381a"
      },
      "source": [
        "# 구글드라이브 연결\r\n",
        "from google.colab import drive\r\n",
        "drive.mount('/content/drive')"
      ],
      "execution_count": 1,
      "outputs": [
        {
          "output_type": "stream",
          "text": [
            "Mounted at /content/drive\n"
          ],
          "name": "stdout"
        }
      ]
    },
    {
      "cell_type": "code",
      "metadata": {
        "id": "xzzhI5Mgt5Il"
      },
      "source": [
        "import pandas as pd\r\n",
        "import numpy as np\r\n",
        "import warnings\r\n",
        "warnings.filterwarnings(action='ignore')\r\n",
        "import torch\r\n",
        "import torch.nn as nn\r\n",
        "import torch.nn.functional as F\r\n",
        "import torchvision\r\n",
        "import torchvision.transforms as transforms\r\n",
        "from torch.utils.data import Dataset,DataLoader\r\n",
        "import torch.optim as optim\r\n",
        "torch.manual_seed(1015) ###### <- 이거 뭐냐?\r\n",
        "\r\n",
        "# define 'device' to upload tensor in gpu\r\n",
        "device = torch.device(\"cuda:0\" if torch.cuda.is_available() else \"cpu\")\r\n",
        "\r\n",
        "#시간을 계산하는 함수\r\n",
        "import time, datetime\r\n",
        "def clock(start):\r\n",
        "    sec = time.time() - start #현재시간 - 시스템초기시간\r\n",
        "    times = str(datetime.timedelta(seconds = sec)).split(\".\") # 시간:분:초로 변환\r\n",
        "    times = times[0]\r\n",
        "    return times"
      ],
      "execution_count": 2,
      "outputs": []
    },
    {
      "cell_type": "markdown",
      "metadata": {
        "id": "muM3grbHuNgS"
      },
      "source": [
        "# Data Load"
      ]
    },
    {
      "cell_type": "code",
      "metadata": {
        "id": "fMN_EN3St9ma"
      },
      "source": [
        "train = pd.read_csv(\"/content/drive/MyDrive/Colab Notebooks/LSTM_pytorch(Dacon)/input/train.csv\", encoding = 'euc-kr')\r\n",
        "train['DateTime'] = pd.to_datetime(train.DateTime)  # 데이터 타입을 object에서 datetime으로\r\n",
        "train['date'] = train.DateTime.dt.date  # 날짜만 뽑음\r\n",
        "train  = train.groupby('date').sum().reset_index()  # 날짜별로 묶음"
      ],
      "execution_count": 3,
      "outputs": []
    },
    {
      "cell_type": "code",
      "metadata": {
        "colab": {
          "base_uri": "https://localhost:8080/",
          "height": 419
        },
        "id": "HsydKfrIvkwl",
        "outputId": "9ae00cb4-a179-4b2d-bf50-680102b4008e"
      },
      "source": [
        "train"
      ],
      "execution_count": 4,
      "outputs": [
        {
          "output_type": "execute_result",
          "data": {
            "text/html": [
              "<div>\n",
              "<style scoped>\n",
              "    .dataframe tbody tr th:only-of-type {\n",
              "        vertical-align: middle;\n",
              "    }\n",
              "\n",
              "    .dataframe tbody tr th {\n",
              "        vertical-align: top;\n",
              "    }\n",
              "\n",
              "    .dataframe thead th {\n",
              "        text-align: right;\n",
              "    }\n",
              "</style>\n",
              "<table border=\"1\" class=\"dataframe\">\n",
              "  <thead>\n",
              "    <tr style=\"text-align: right;\">\n",
              "      <th></th>\n",
              "      <th>date</th>\n",
              "      <th>사용자</th>\n",
              "      <th>세션</th>\n",
              "      <th>신규방문자</th>\n",
              "      <th>페이지뷰</th>\n",
              "    </tr>\n",
              "  </thead>\n",
              "  <tbody>\n",
              "    <tr>\n",
              "      <th>0</th>\n",
              "      <td>2018-09-09</td>\n",
              "      <td>281</td>\n",
              "      <td>266</td>\n",
              "      <td>73</td>\n",
              "      <td>1826</td>\n",
              "    </tr>\n",
              "    <tr>\n",
              "      <th>1</th>\n",
              "      <td>2018-09-10</td>\n",
              "      <td>264</td>\n",
              "      <td>247</td>\n",
              "      <td>51</td>\n",
              "      <td>2092</td>\n",
              "    </tr>\n",
              "    <tr>\n",
              "      <th>2</th>\n",
              "      <td>2018-09-11</td>\n",
              "      <td>329</td>\n",
              "      <td>310</td>\n",
              "      <td>58</td>\n",
              "      <td>1998</td>\n",
              "    </tr>\n",
              "    <tr>\n",
              "      <th>3</th>\n",
              "      <td>2018-09-12</td>\n",
              "      <td>300</td>\n",
              "      <td>287</td>\n",
              "      <td>45</td>\n",
              "      <td>2595</td>\n",
              "    </tr>\n",
              "    <tr>\n",
              "      <th>4</th>\n",
              "      <td>2018-09-13</td>\n",
              "      <td>378</td>\n",
              "      <td>344</td>\n",
              "      <td>50</td>\n",
              "      <td>3845</td>\n",
              "    </tr>\n",
              "    <tr>\n",
              "      <th>...</th>\n",
              "      <td>...</td>\n",
              "      <td>...</td>\n",
              "      <td>...</td>\n",
              "      <td>...</td>\n",
              "      <td>...</td>\n",
              "    </tr>\n",
              "    <tr>\n",
              "      <th>787</th>\n",
              "      <td>2020-11-04</td>\n",
              "      <td>4516</td>\n",
              "      <td>4472</td>\n",
              "      <td>1196</td>\n",
              "      <td>112683</td>\n",
              "    </tr>\n",
              "    <tr>\n",
              "      <th>788</th>\n",
              "      <td>2020-11-05</td>\n",
              "      <td>4155</td>\n",
              "      <td>4037</td>\n",
              "      <td>1044</td>\n",
              "      <td>102901</td>\n",
              "    </tr>\n",
              "    <tr>\n",
              "      <th>789</th>\n",
              "      <td>2020-11-06</td>\n",
              "      <td>3663</td>\n",
              "      <td>3576</td>\n",
              "      <td>825</td>\n",
              "      <td>88015</td>\n",
              "    </tr>\n",
              "    <tr>\n",
              "      <th>790</th>\n",
              "      <td>2020-11-07</td>\n",
              "      <td>2472</td>\n",
              "      <td>2417</td>\n",
              "      <td>531</td>\n",
              "      <td>57386</td>\n",
              "    </tr>\n",
              "    <tr>\n",
              "      <th>791</th>\n",
              "      <td>2020-11-08</td>\n",
              "      <td>2492</td>\n",
              "      <td>2420</td>\n",
              "      <td>522</td>\n",
              "      <td>50486</td>\n",
              "    </tr>\n",
              "  </tbody>\n",
              "</table>\n",
              "<p>792 rows × 5 columns</p>\n",
              "</div>"
            ],
            "text/plain": [
              "           date   사용자    세션  신규방문자    페이지뷰\n",
              "0    2018-09-09   281   266     73    1826\n",
              "1    2018-09-10   264   247     51    2092\n",
              "2    2018-09-11   329   310     58    1998\n",
              "3    2018-09-12   300   287     45    2595\n",
              "4    2018-09-13   378   344     50    3845\n",
              "..          ...   ...   ...    ...     ...\n",
              "787  2020-11-04  4516  4472   1196  112683\n",
              "788  2020-11-05  4155  4037   1044  102901\n",
              "789  2020-11-06  3663  3576    825   88015\n",
              "790  2020-11-07  2472  2417    531   57386\n",
              "791  2020-11-08  2492  2420    522   50486\n",
              "\n",
              "[792 rows x 5 columns]"
            ]
          },
          "metadata": {
            "tags": []
          },
          "execution_count": 4
        }
      ]
    },
    {
      "cell_type": "markdown",
      "metadata": {
        "id": "7AU-G9yUuS4k"
      },
      "source": [
        "# Data Preprocessing"
      ]
    },
    {
      "cell_type": "code",
      "metadata": {
        "id": "BPCqI-MPt9os"
      },
      "source": [
        "# scaling\r\n",
        "mini = train.iloc[:,1:].min()\r\n",
        "size = train.iloc[:,1:].max() - train.iloc[:,1:].min()\r\n",
        "train.iloc[:,1:] = (train.iloc[:,1:] -  mini) / size\r\n",
        "\r\n",
        "input_window = 30\r\n",
        "output_window = 7\r\n",
        "\r\n",
        "window_x = np.zeros((train.shape[0] - (input_window + output_window), input_window, 4))\r\n",
        "window_y = np.zeros((train.shape[0] - (input_window + output_window), output_window, 4))\r\n",
        "\r\n",
        "for start in range(train.shape[0] - (input_window + output_window)):\r\n",
        "    end = start + input_window    \r\n",
        "    window_x[start,:, :] = train.iloc[start : end                , 1: ].values\r\n",
        "    window_y[start,:, :] = train.iloc[end   : end + output_window, 1: ].values"
      ],
      "execution_count": 5,
      "outputs": []
    },
    {
      "cell_type": "markdown",
      "metadata": {
        "id": "NBX3BvLwuYYU"
      },
      "source": [
        "# Model"
      ]
    },
    {
      "cell_type": "code",
      "metadata": {
        "id": "FvcbfrNot9qy"
      },
      "source": [
        "# Model 생성\r\n",
        "class LSTM(nn.Module):\r\n",
        "    def __init__(self, input_size, hidden_size):\r\n",
        "        super(LSTM, self).__init__()\r\n",
        "        self.hidden_size = hidden_size\r\n",
        "        self.lstm = nn.LSTM(input_size = input_size,\r\n",
        "                            hidden_size = hidden_size,\r\n",
        "                            batch_first=True)\r\n",
        "        self.hidden_lstm = nn.LSTM(input_size = hidden_size,\r\n",
        "                                   hidden_size = hidden_size,\r\n",
        "                                   batch_first=True)\r\n",
        "        \r\n",
        "        self.time_fc = nn.Linear(hidden_size, 4)\r\n",
        "    \r\n",
        "    def forward(self, x_time):\r\n",
        "    \r\n",
        "        out_time, _ = self.lstm(x_time)\r\n",
        "        out_time, _ = self.hidden_lstm(out_time)\r\n",
        "        out_time, _ = self.hidden_lstm(out_time)\r\n",
        "        out_time, _ = self.hidden_lstm(out_time)\r\n",
        "        \r\n",
        "        \r\n",
        "        out_time = self.time_fc(out_time[:,-7:, :])\r\n",
        "        \r\n",
        "        return out_time.view(-1,7,4)\r\n",
        "    \r\n",
        "model = LSTM(input_size = 4, hidden_size = 30).to(device)"
      ],
      "execution_count": 6,
      "outputs": []
    },
    {
      "cell_type": "code",
      "metadata": {
        "colab": {
          "base_uri": "https://localhost:8080/"
        },
        "id": "YemjTUtFqpBF",
        "outputId": "056e8e16-d30f-4228-ae11-87b168afb76a"
      },
      "source": [
        "print(model)"
      ],
      "execution_count": 8,
      "outputs": [
        {
          "output_type": "stream",
          "text": [
            "LSTM(\n",
            "  (lstm): LSTM(4, 30, batch_first=True)\n",
            "  (hidden_lstm): LSTM(30, 30, batch_first=True)\n",
            "  (time_fc): Linear(in_features=30, out_features=4, bias=True)\n",
            ")\n"
          ],
          "name": "stdout"
        }
      ]
    },
    {
      "cell_type": "code",
      "metadata": {
        "colab": {
          "base_uri": "https://localhost:8080/"
        },
        "id": "ayq-ibs56cx1",
        "outputId": "903df441-c6b8-426f-e168-741e3d5e323a"
      },
      "source": [
        "print(window_x.shape)\r\n",
        "print(window_y.shape)"
      ],
      "execution_count": 9,
      "outputs": [
        {
          "output_type": "stream",
          "text": [
            "(755, 30, 4)\n",
            "(755, 7, 4)\n"
          ],
          "name": "stdout"
        }
      ]
    },
    {
      "cell_type": "code",
      "metadata": {
        "colab": {
          "base_uri": "https://localhost:8080/"
        },
        "id": "VXYtZwu4t9tS",
        "outputId": "53d935cc-6c7d-4c0b-fd47-8cef79082d46"
      },
      "source": [
        "# Model학습\r\n",
        "window_x = torch.tensor(window_x).float().to(device)\r\n",
        "window_y = torch.tensor(window_y).float().to(device)\r\n",
        "\r\n",
        "# Train model\r\n",
        "optimizer = torch.optim.Adam(model.parameters(), lr = 1e-2)\r\n",
        "criterion = nn.MSELoss(size_average = True)\r\n",
        "num_epochs  = 500\r\n",
        "train_error = []\r\n",
        "for t in range(num_epochs):\r\n",
        "    train_pred = model(window_x)\r\n",
        "    loss = criterion(train_pred, window_y) ### trend\r\n",
        "    train_error.append(loss)\r\n",
        "    \r\n",
        "    optimizer.zero_grad()\r\n",
        "    loss.backward()\r\n",
        "    optimizer.step()\r\n",
        "    if t % 10 == 0 and t !=0:\r\n",
        "        print(f\"{t} Epochs train MSE: {loss.item():1.5f}\")"
      ],
      "execution_count": 10,
      "outputs": [
        {
          "output_type": "stream",
          "text": [
            "10 Epochs train MSE: 0.02835\n",
            "20 Epochs train MSE: 0.01247\n",
            "30 Epochs train MSE: 0.01194\n",
            "40 Epochs train MSE: 0.00882\n",
            "50 Epochs train MSE: 0.00821\n",
            "60 Epochs train MSE: 0.00813\n",
            "70 Epochs train MSE: 0.00802\n",
            "80 Epochs train MSE: 0.00795\n",
            "90 Epochs train MSE: 0.00786\n",
            "100 Epochs train MSE: 0.00776\n",
            "110 Epochs train MSE: 0.00755\n",
            "120 Epochs train MSE: 0.00709\n",
            "130 Epochs train MSE: 0.00646\n",
            "140 Epochs train MSE: 0.00647\n",
            "150 Epochs train MSE: 0.00667\n",
            "160 Epochs train MSE: 0.00626\n",
            "170 Epochs train MSE: 0.00591\n",
            "180 Epochs train MSE: 0.00571\n",
            "190 Epochs train MSE: 0.00555\n",
            "200 Epochs train MSE: 0.00548\n",
            "210 Epochs train MSE: 0.00541\n",
            "220 Epochs train MSE: 0.00530\n",
            "230 Epochs train MSE: 0.00624\n",
            "240 Epochs train MSE: 0.00527\n",
            "250 Epochs train MSE: 0.00507\n",
            "260 Epochs train MSE: 0.00486\n",
            "270 Epochs train MSE: 0.00913\n",
            "280 Epochs train MSE: 0.00610\n",
            "290 Epochs train MSE: 0.00538\n",
            "300 Epochs train MSE: 0.00517\n",
            "310 Epochs train MSE: 0.00496\n",
            "320 Epochs train MSE: 0.00482\n",
            "330 Epochs train MSE: 0.00469\n",
            "340 Epochs train MSE: 0.00453\n",
            "350 Epochs train MSE: 0.00432\n",
            "360 Epochs train MSE: 0.00408\n",
            "370 Epochs train MSE: 0.00464\n",
            "380 Epochs train MSE: 0.00399\n",
            "390 Epochs train MSE: 0.00434\n",
            "400 Epochs train MSE: 0.00380\n",
            "410 Epochs train MSE: 0.00330\n",
            "420 Epochs train MSE: 0.00360\n",
            "430 Epochs train MSE: 0.00312\n",
            "440 Epochs train MSE: 0.00278\n",
            "450 Epochs train MSE: 0.00255\n",
            "460 Epochs train MSE: 0.00254\n",
            "470 Epochs train MSE: 0.00310\n",
            "480 Epochs train MSE: 0.00266\n",
            "490 Epochs train MSE: 0.00231\n"
          ],
          "name": "stdout"
        }
      ]
    },
    {
      "cell_type": "markdown",
      "metadata": {
        "id": "CpLq-U-Fubmh"
      },
      "source": [
        "# Prediction & CSV "
      ]
    },
    {
      "cell_type": "code",
      "metadata": {
        "colab": {
          "base_uri": "https://localhost:8080/"
        },
        "id": "jkpt3Dcd7G7Q",
        "outputId": "1d2561d5-a703-4ef8-ce05-018736ec7116"
      },
      "source": [
        "train_pred"
      ],
      "execution_count": 11,
      "outputs": [
        {
          "output_type": "execute_result",
          "data": {
            "text/plain": [
              "tensor([[[0.0423, 0.0432, 0.0428, 0.0060],\n",
              "         [0.0415, 0.0422, 0.0418, 0.0054],\n",
              "         [0.0408, 0.0413, 0.0409, 0.0048],\n",
              "         ...,\n",
              "         [0.0402, 0.0404, 0.0405, 0.0042],\n",
              "         [0.0406, 0.0407, 0.0411, 0.0045],\n",
              "         [0.0393, 0.0394, 0.0396, 0.0035]],\n",
              "\n",
              "        [[0.0418, 0.0425, 0.0420, 0.0056],\n",
              "         [0.0410, 0.0415, 0.0411, 0.0049],\n",
              "         [0.0417, 0.0419, 0.0420, 0.0053],\n",
              "         ...,\n",
              "         [0.0408, 0.0409, 0.0412, 0.0046],\n",
              "         [0.0394, 0.0396, 0.0397, 0.0036],\n",
              "         [0.0384, 0.0384, 0.0383, 0.0029]],\n",
              "\n",
              "        [[0.0412, 0.0419, 0.0413, 0.0051],\n",
              "         [0.0419, 0.0422, 0.0422, 0.0055],\n",
              "         [0.0405, 0.0408, 0.0408, 0.0044],\n",
              "         ...,\n",
              "         [0.0395, 0.0397, 0.0398, 0.0037],\n",
              "         [0.0385, 0.0386, 0.0384, 0.0030],\n",
              "         [0.0389, 0.0388, 0.0388, 0.0032]],\n",
              "\n",
              "        ...,\n",
              "\n",
              "        [[0.5735, 0.5763, 0.4519, 0.4923],\n",
              "         [0.3426, 0.3409, 0.2390, 0.2771],\n",
              "         [0.3035, 0.3015, 0.2078, 0.2535],\n",
              "         ...,\n",
              "         [0.8288, 0.8569, 0.7640, 0.7226],\n",
              "         [0.7855, 0.8066, 0.6674, 0.6587],\n",
              "         [0.8028, 0.8225, 0.6717, 0.6817]],\n",
              "\n",
              "        [[0.3493, 0.3478, 0.2403, 0.2789],\n",
              "         [0.3078, 0.3051, 0.2079, 0.2540],\n",
              "         [0.8303, 0.8312, 0.7220, 0.7162],\n",
              "         ...,\n",
              "         [0.7966, 0.8159, 0.6773, 0.6702],\n",
              "         [0.8135, 0.8338, 0.6821, 0.6940],\n",
              "         [0.7067, 0.7237, 0.5834, 0.6269]],\n",
              "\n",
              "        [[0.3097, 0.3067, 0.2080, 0.2540],\n",
              "         [0.8259, 0.8255, 0.7144, 0.7115],\n",
              "         [0.8279, 0.8478, 0.7509, 0.7187],\n",
              "         ...,\n",
              "         [0.8158, 0.8361, 0.6844, 0.6970],\n",
              "         [0.7083, 0.7255, 0.5849, 0.6289],\n",
              "         [0.3649, 0.3583, 0.2472, 0.2949]]], device='cuda:0',\n",
              "       grad_fn=<ViewBackward>)"
            ]
          },
          "metadata": {
            "tags": []
          },
          "execution_count": 11
        }
      ]
    },
    {
      "cell_type": "code",
      "metadata": {
        "colab": {
          "base_uri": "https://localhost:8080/"
        },
        "id": "3Kc4xgCR7G1B",
        "outputId": "d5378c40-1a14-44f6-f534-3b4a1d4f540c"
      },
      "source": [
        "train_pred.shape"
      ],
      "execution_count": 12,
      "outputs": [
        {
          "output_type": "execute_result",
          "data": {
            "text/plain": [
              "torch.Size([755, 7, 4])"
            ]
          },
          "metadata": {
            "tags": []
          },
          "execution_count": 12
        }
      ]
    },
    {
      "cell_type": "code",
      "metadata": {
        "colab": {
          "base_uri": "https://localhost:8080/"
        },
        "id": "WGguJ-vv7GsP",
        "outputId": "c36e4b23-9a4c-4ea6-d577-f841da44af22"
      },
      "source": [
        "last_month = torch.tensor(window_x[-1,:,:][np.newaxis,...]).float().to(device)\r\n",
        "last_month"
      ],
      "execution_count": 13,
      "outputs": [
        {
          "output_type": "execute_result",
          "data": {
            "text/plain": [
              "tensor([[[0.2719, 0.2669, 0.1604, 0.2021],\n",
              "         [0.2902, 0.2849, 0.1710, 0.2242],\n",
              "         [0.3109, 0.3047, 0.2118, 0.2249],\n",
              "         [0.5704, 0.5557, 0.4414, 0.4659],\n",
              "         [0.5141, 0.5053, 0.3686, 0.4430],\n",
              "         [0.5595, 0.5477, 0.4509, 0.4565],\n",
              "         [0.4957, 0.4869, 0.3331, 0.3698],\n",
              "         [0.3836, 0.3669, 0.1947, 0.3030],\n",
              "         [0.3415, 0.3404, 0.2308, 0.2975],\n",
              "         [0.3063, 0.2978, 0.1964, 0.2278],\n",
              "         [0.4685, 0.4599, 0.3550, 0.3588],\n",
              "         [0.5034, 0.5016, 0.4237, 0.3637],\n",
              "         [0.4473, 0.4466, 0.3515, 0.3213],\n",
              "         [0.3982, 0.3958, 0.3325, 0.2804],\n",
              "         [0.3867, 0.3769, 0.2805, 0.2870],\n",
              "         [0.3005, 0.2969, 0.2751, 0.1814],\n",
              "         [0.3762, 0.3712, 0.3639, 0.2516],\n",
              "         [0.4886, 0.4849, 0.3923, 0.3579],\n",
              "         [0.5981, 0.6036, 0.6379, 0.5542],\n",
              "         [0.4883, 0.4845, 0.4178, 0.4242],\n",
              "         [0.5132, 0.5131, 0.4627, 0.4058],\n",
              "         [0.4320, 0.4223, 0.3320, 0.3416],\n",
              "         [0.3345, 0.3289, 0.2491, 0.2403],\n",
              "         [0.2994, 0.2969, 0.1882, 0.2504],\n",
              "         [0.5942, 0.5755, 0.4574, 0.5109],\n",
              "         [0.6149, 0.6040, 0.4828, 0.4987],\n",
              "         [0.6299, 0.6184, 0.4787, 0.5629],\n",
              "         [0.7297, 0.7307, 0.5450, 0.6938],\n",
              "         [0.5979, 0.5840, 0.4231, 0.5801],\n",
              "         [0.3701, 0.3745, 0.2639, 0.3301]]], device='cuda:0')"
            ]
          },
          "metadata": {
            "tags": []
          },
          "execution_count": 13
        }
      ]
    },
    {
      "cell_type": "code",
      "metadata": {
        "colab": {
          "base_uri": "https://localhost:8080/"
        },
        "id": "-F2wHKu17snt",
        "outputId": "ea935790-df02-4e90-9f04-b92889e79f21"
      },
      "source": [
        "last_month.shape"
      ],
      "execution_count": 14,
      "outputs": [
        {
          "output_type": "execute_result",
          "data": {
            "text/plain": [
              "torch.Size([1, 30, 4])"
            ]
          },
          "metadata": {
            "tags": []
          },
          "execution_count": 14
        }
      ]
    },
    {
      "cell_type": "code",
      "metadata": {
        "id": "pf0SGeNI7z2z"
      },
      "source": [
        "submission = pd.read_csv(\"/content/drive/MyDrive/Colab Notebooks/LSTM_pytorch(Dacon)/input/submission.csv\", encoding = 'euc-kr')\r\n",
        "last_month = torch.tensor(window_x[-1,:,:][np.newaxis,...]).float().to(device)"
      ],
      "execution_count": 49,
      "outputs": []
    },
    {
      "cell_type": "code",
      "metadata": {
        "colab": {
          "base_uri": "https://localhost:8080/",
          "height": 419
        },
        "id": "FzzikHmm-kgy",
        "outputId": "93f3203c-1bf9-462f-eb00-6205885c43e4"
      },
      "source": [
        "submission"
      ],
      "execution_count": 50,
      "outputs": [
        {
          "output_type": "execute_result",
          "data": {
            "text/html": [
              "<div>\n",
              "<style scoped>\n",
              "    .dataframe tbody tr th:only-of-type {\n",
              "        vertical-align: middle;\n",
              "    }\n",
              "\n",
              "    .dataframe tbody tr th {\n",
              "        vertical-align: top;\n",
              "    }\n",
              "\n",
              "    .dataframe thead th {\n",
              "        text-align: right;\n",
              "    }\n",
              "</style>\n",
              "<table border=\"1\" class=\"dataframe\">\n",
              "  <thead>\n",
              "    <tr style=\"text-align: right;\">\n",
              "      <th></th>\n",
              "      <th>DateTime</th>\n",
              "      <th>사용자</th>\n",
              "      <th>세션</th>\n",
              "      <th>신규방문자</th>\n",
              "      <th>페이지뷰</th>\n",
              "    </tr>\n",
              "  </thead>\n",
              "  <tbody>\n",
              "    <tr>\n",
              "      <th>0</th>\n",
              "      <td>2020-11-09</td>\n",
              "      <td>0</td>\n",
              "      <td>0</td>\n",
              "      <td>0</td>\n",
              "      <td>0</td>\n",
              "    </tr>\n",
              "    <tr>\n",
              "      <th>1</th>\n",
              "      <td>2020-11-10</td>\n",
              "      <td>0</td>\n",
              "      <td>0</td>\n",
              "      <td>0</td>\n",
              "      <td>0</td>\n",
              "    </tr>\n",
              "    <tr>\n",
              "      <th>2</th>\n",
              "      <td>2020-11-11</td>\n",
              "      <td>0</td>\n",
              "      <td>0</td>\n",
              "      <td>0</td>\n",
              "      <td>0</td>\n",
              "    </tr>\n",
              "    <tr>\n",
              "      <th>3</th>\n",
              "      <td>2020-11-12</td>\n",
              "      <td>0</td>\n",
              "      <td>0</td>\n",
              "      <td>0</td>\n",
              "      <td>0</td>\n",
              "    </tr>\n",
              "    <tr>\n",
              "      <th>4</th>\n",
              "      <td>2020-11-13</td>\n",
              "      <td>0</td>\n",
              "      <td>0</td>\n",
              "      <td>0</td>\n",
              "      <td>0</td>\n",
              "    </tr>\n",
              "    <tr>\n",
              "      <th>...</th>\n",
              "      <td>...</td>\n",
              "      <td>...</td>\n",
              "      <td>...</td>\n",
              "      <td>...</td>\n",
              "      <td>...</td>\n",
              "    </tr>\n",
              "    <tr>\n",
              "      <th>56</th>\n",
              "      <td>2021-01-04</td>\n",
              "      <td>0</td>\n",
              "      <td>0</td>\n",
              "      <td>0</td>\n",
              "      <td>0</td>\n",
              "    </tr>\n",
              "    <tr>\n",
              "      <th>57</th>\n",
              "      <td>2021-01-05</td>\n",
              "      <td>0</td>\n",
              "      <td>0</td>\n",
              "      <td>0</td>\n",
              "      <td>0</td>\n",
              "    </tr>\n",
              "    <tr>\n",
              "      <th>58</th>\n",
              "      <td>2021-01-06</td>\n",
              "      <td>0</td>\n",
              "      <td>0</td>\n",
              "      <td>0</td>\n",
              "      <td>0</td>\n",
              "    </tr>\n",
              "    <tr>\n",
              "      <th>59</th>\n",
              "      <td>2021-01-07</td>\n",
              "      <td>0</td>\n",
              "      <td>0</td>\n",
              "      <td>0</td>\n",
              "      <td>0</td>\n",
              "    </tr>\n",
              "    <tr>\n",
              "      <th>60</th>\n",
              "      <td>2021-01-08</td>\n",
              "      <td>0</td>\n",
              "      <td>0</td>\n",
              "      <td>0</td>\n",
              "      <td>0</td>\n",
              "    </tr>\n",
              "  </tbody>\n",
              "</table>\n",
              "<p>61 rows × 5 columns</p>\n",
              "</div>"
            ],
            "text/plain": [
              "      DateTime  사용자  세션  신규방문자  페이지뷰\n",
              "0   2020-11-09    0   0      0     0\n",
              "1   2020-11-10    0   0      0     0\n",
              "2   2020-11-11    0   0      0     0\n",
              "3   2020-11-12    0   0      0     0\n",
              "4   2020-11-13    0   0      0     0\n",
              "..         ...  ...  ..    ...   ...\n",
              "56  2021-01-04    0   0      0     0\n",
              "57  2021-01-05    0   0      0     0\n",
              "58  2021-01-06    0   0      0     0\n",
              "59  2021-01-07    0   0      0     0\n",
              "60  2021-01-08    0   0      0     0\n",
              "\n",
              "[61 rows x 5 columns]"
            ]
          },
          "metadata": {
            "tags": []
          },
          "execution_count": 50
        }
      ]
    },
    {
      "cell_type": "code",
      "metadata": {
        "colab": {
          "base_uri": "https://localhost:8080/"
        },
        "id": "izARQOku75Fy",
        "outputId": "ffd44759-ee4e-47be-d078-960111a929a9"
      },
      "source": [
        "model(last_month)"
      ],
      "execution_count": 51,
      "outputs": [
        {
          "output_type": "execute_result",
          "data": {
            "text/plain": [
              "tensor([[[0.3109, 0.3075, 0.2104, 0.2576],\n",
              "         [0.8317, 0.8310, 0.7240, 0.7188],\n",
              "         [0.8340, 0.8556, 0.7645, 0.7274],\n",
              "         [0.8019, 0.8213, 0.6864, 0.6791],\n",
              "         [0.8205, 0.8413, 0.6917, 0.7049],\n",
              "         [0.7203, 0.7382, 0.5990, 0.6443],\n",
              "         [0.3676, 0.3605, 0.2497, 0.3002]]], device='cuda:0',\n",
              "       grad_fn=<ViewBackward>)"
            ]
          },
          "metadata": {
            "tags": []
          },
          "execution_count": 51
        }
      ]
    },
    {
      "cell_type": "code",
      "metadata": {
        "id": "2YpfXVAY8BPi"
      },
      "source": [
        "next_week = model(last_month)\r\n",
        "last_month = torch.cat([last_month[-7:], next_week], axis = 1)"
      ],
      "execution_count": 52,
      "outputs": []
    },
    {
      "cell_type": "code",
      "metadata": {
        "colab": {
          "base_uri": "https://localhost:8080/"
        },
        "id": "pydExcTb8Ef2",
        "outputId": "ca68ea05-7dfc-471f-84d5-bde9cfc25814"
      },
      "source": [
        "last_month"
      ],
      "execution_count": 53,
      "outputs": [
        {
          "output_type": "execute_result",
          "data": {
            "text/plain": [
              "tensor([[[0.2719, 0.2669, 0.1604, 0.2021],\n",
              "         [0.2902, 0.2849, 0.1710, 0.2242],\n",
              "         [0.3109, 0.3047, 0.2118, 0.2249],\n",
              "         [0.5704, 0.5557, 0.4414, 0.4659],\n",
              "         [0.5141, 0.5053, 0.3686, 0.4430],\n",
              "         [0.5595, 0.5477, 0.4509, 0.4565],\n",
              "         [0.4957, 0.4869, 0.3331, 0.3698],\n",
              "         [0.3836, 0.3669, 0.1947, 0.3030],\n",
              "         [0.3415, 0.3404, 0.2308, 0.2975],\n",
              "         [0.3063, 0.2978, 0.1964, 0.2278],\n",
              "         [0.4685, 0.4599, 0.3550, 0.3588],\n",
              "         [0.5034, 0.5016, 0.4237, 0.3637],\n",
              "         [0.4473, 0.4466, 0.3515, 0.3213],\n",
              "         [0.3982, 0.3958, 0.3325, 0.2804],\n",
              "         [0.3867, 0.3769, 0.2805, 0.2870],\n",
              "         [0.3005, 0.2969, 0.2751, 0.1814],\n",
              "         [0.3762, 0.3712, 0.3639, 0.2516],\n",
              "         [0.4886, 0.4849, 0.3923, 0.3579],\n",
              "         [0.5981, 0.6036, 0.6379, 0.5542],\n",
              "         [0.4883, 0.4845, 0.4178, 0.4242],\n",
              "         [0.5132, 0.5131, 0.4627, 0.4058],\n",
              "         [0.4320, 0.4223, 0.3320, 0.3416],\n",
              "         [0.3345, 0.3289, 0.2491, 0.2403],\n",
              "         [0.2994, 0.2969, 0.1882, 0.2504],\n",
              "         [0.5942, 0.5755, 0.4574, 0.5109],\n",
              "         [0.6149, 0.6040, 0.4828, 0.4987],\n",
              "         [0.6299, 0.6184, 0.4787, 0.5629],\n",
              "         [0.7297, 0.7307, 0.5450, 0.6938],\n",
              "         [0.5979, 0.5840, 0.4231, 0.5801],\n",
              "         [0.3701, 0.3745, 0.2639, 0.3301],\n",
              "         [0.3109, 0.3075, 0.2104, 0.2576],\n",
              "         [0.8317, 0.8310, 0.7240, 0.7188],\n",
              "         [0.8340, 0.8556, 0.7645, 0.7274],\n",
              "         [0.8019, 0.8213, 0.6864, 0.6791],\n",
              "         [0.8205, 0.8413, 0.6917, 0.7049],\n",
              "         [0.7203, 0.7382, 0.5990, 0.6443],\n",
              "         [0.3676, 0.3605, 0.2497, 0.3002]]], device='cuda:0',\n",
              "       grad_fn=<CatBackward>)"
            ]
          },
          "metadata": {
            "tags": []
          },
          "execution_count": 53
        }
      ]
    },
    {
      "cell_type": "code",
      "metadata": {
        "colab": {
          "base_uri": "https://localhost:8080/"
        },
        "id": "5XuL7F3C8JhK",
        "outputId": "611e5873-1ebe-4beb-db60-cef4360ec4ad"
      },
      "source": [
        "pred_week = next_week.cpu().detach().numpy().reshape(output_window,4)\r\n",
        "pred_week = pred_week * size.values + mini.values\r\n",
        "pred_week = pred_week.astype(int)\r\n",
        "\r\n",
        "print(pred_week)"
      ],
      "execution_count": 54,
      "outputs": [
        {
          "output_type": "stream",
          "text": [
            "[[  1684   1661    356  40045]\n",
            " [  4506   4487   1224 111733]\n",
            " [  4518   4620   1293 113067]\n",
            " [  4344   4435   1161 105551]\n",
            " [  4445   4543   1169 109567]\n",
            " [  3902   3986   1013 100150]\n",
            " [  1992   1947    422  46656]]\n"
          ],
          "name": "stdout"
        }
      ]
    },
    {
      "cell_type": "code",
      "metadata": {
        "colab": {
          "base_uri": "https://localhost:8080/"
        },
        "id": "IlhHhkfI-YBn",
        "outputId": "fe34c7d3-5c26-4146-f705-6aa82cfb06a2"
      },
      "source": [
        "pred_week.shape"
      ],
      "execution_count": 55,
      "outputs": [
        {
          "output_type": "execute_result",
          "data": {
            "text/plain": [
              "(7, 4)"
            ]
          },
          "metadata": {
            "tags": []
          },
          "execution_count": 55
        }
      ]
    },
    {
      "cell_type": "code",
      "metadata": {
        "colab": {
          "base_uri": "https://localhost:8080/"
        },
        "id": "9iQmFYQy8TXI",
        "outputId": "02f94d5a-d531-4dc7-dc4b-466184366796"
      },
      "source": [
        "(len(submission) - output_window)//7 + 1"
      ],
      "execution_count": 56,
      "outputs": [
        {
          "output_type": "execute_result",
          "data": {
            "text/plain": [
              "8"
            ]
          },
          "metadata": {
            "tags": []
          },
          "execution_count": 56
        }
      ]
    },
    {
      "cell_type": "code",
      "metadata": {
        "colab": {
          "base_uri": "https://localhost:8080/"
        },
        "id": "WoFqn-u28JXP",
        "outputId": "dfb897be-f329-4951-ec6f-eb01c501a345"
      },
      "source": [
        "len(submission)"
      ],
      "execution_count": 57,
      "outputs": [
        {
          "output_type": "execute_result",
          "data": {
            "text/plain": [
              "61"
            ]
          },
          "metadata": {
            "tags": []
          },
          "execution_count": 57
        }
      ]
    },
    {
      "cell_type": "code",
      "metadata": {
        "colab": {
          "base_uri": "https://localhost:8080/"
        },
        "id": "7BmHf_SY-6HV",
        "outputId": "5ceb9e95-26fc-4a0f-93cc-a9e12c398941"
      },
      "source": [
        "# output_window는 일주일인 7일을 의미\r\n",
        "output_window"
      ],
      "execution_count": 58,
      "outputs": [
        {
          "output_type": "execute_result",
          "data": {
            "text/plain": [
              "7"
            ]
          },
          "metadata": {
            "tags": []
          },
          "execution_count": 58
        }
      ]
    },
    {
      "cell_type": "code",
      "metadata": {
        "colab": {
          "base_uri": "https://localhost:8080/",
          "height": 581
        },
        "id": "JrhkElOLt9vs",
        "outputId": "26391978-30a8-491c-c9b9-a041c0d0917e"
      },
      "source": [
        "# 예측 및 제출파일 생성\r\n",
        "# submission = pd.read_csv(\"/content/drive/MyDrive/Colab Notebooks/LSTM_pytorch(Dacon)/input/submission.csv\", encoding = 'euc-kr')\r\n",
        "# last_month = torch.tensor(window_x[-1,:,:][np.newaxis,...]).float().to(device)\r\n",
        "for start in range((len(submission) - output_window)//7 + 2):\r\n",
        "    start = start * 7\r\n",
        "    print(start)\r\n",
        "    next_week = model(last_month)\r\n",
        "    last_month = torch.cat([last_month[-7:], next_week], axis = 1)\r\n",
        "    \r\n",
        "    pred_week = next_week.cpu().detach().numpy().reshape(output_window,4)\r\n",
        "    pred_week = pred_week * size.values + mini.values\r\n",
        "    pred_week = pred_week.astype(int)\r\n",
        "    \r\n",
        "    if start/7 == (len(submission) - output_window)//7 + 1:\r\n",
        "        submission.iloc[start :, 1:] = pred_week[-submission.iloc[start :, 1:].shape[0]:,:]\r\n",
        "    else:\r\n",
        "        submission.iloc[start : start + output_window, 1:] = pred_week\r\n",
        "submission"
      ],
      "execution_count": 59,
      "outputs": [
        {
          "output_type": "stream",
          "text": [
            "0\n",
            "7\n",
            "14\n",
            "21\n",
            "28\n",
            "35\n",
            "42\n",
            "49\n",
            "56\n"
          ],
          "name": "stdout"
        },
        {
          "output_type": "execute_result",
          "data": {
            "text/html": [
              "<div>\n",
              "<style scoped>\n",
              "    .dataframe tbody tr th:only-of-type {\n",
              "        vertical-align: middle;\n",
              "    }\n",
              "\n",
              "    .dataframe tbody tr th {\n",
              "        vertical-align: top;\n",
              "    }\n",
              "\n",
              "    .dataframe thead th {\n",
              "        text-align: right;\n",
              "    }\n",
              "</style>\n",
              "<table border=\"1\" class=\"dataframe\">\n",
              "  <thead>\n",
              "    <tr style=\"text-align: right;\">\n",
              "      <th></th>\n",
              "      <th>DateTime</th>\n",
              "      <th>사용자</th>\n",
              "      <th>세션</th>\n",
              "      <th>신규방문자</th>\n",
              "      <th>페이지뷰</th>\n",
              "    </tr>\n",
              "  </thead>\n",
              "  <tbody>\n",
              "    <tr>\n",
              "      <th>0</th>\n",
              "      <td>2020-11-09</td>\n",
              "      <td>1796</td>\n",
              "      <td>1755</td>\n",
              "      <td>379</td>\n",
              "      <td>44250</td>\n",
              "    </tr>\n",
              "    <tr>\n",
              "      <th>1</th>\n",
              "      <td>2020-11-10</td>\n",
              "      <td>3979</td>\n",
              "      <td>3913</td>\n",
              "      <td>1037</td>\n",
              "      <td>105128</td>\n",
              "    </tr>\n",
              "    <tr>\n",
              "      <th>2</th>\n",
              "      <td>2020-11-11</td>\n",
              "      <td>3804</td>\n",
              "      <td>3789</td>\n",
              "      <td>1019</td>\n",
              "      <td>98884</td>\n",
              "    </tr>\n",
              "    <tr>\n",
              "      <th>3</th>\n",
              "      <td>2020-11-12</td>\n",
              "      <td>3520</td>\n",
              "      <td>3558</td>\n",
              "      <td>916</td>\n",
              "      <td>88109</td>\n",
              "    </tr>\n",
              "    <tr>\n",
              "      <th>4</th>\n",
              "      <td>2020-11-13</td>\n",
              "      <td>3162</td>\n",
              "      <td>3229</td>\n",
              "      <td>811</td>\n",
              "      <td>80104</td>\n",
              "    </tr>\n",
              "    <tr>\n",
              "      <th>...</th>\n",
              "      <td>...</td>\n",
              "      <td>...</td>\n",
              "      <td>...</td>\n",
              "      <td>...</td>\n",
              "      <td>...</td>\n",
              "    </tr>\n",
              "    <tr>\n",
              "      <th>56</th>\n",
              "      <td>2021-01-04</td>\n",
              "      <td>3455</td>\n",
              "      <td>3591</td>\n",
              "      <td>885</td>\n",
              "      <td>84135</td>\n",
              "    </tr>\n",
              "    <tr>\n",
              "      <th>57</th>\n",
              "      <td>2021-01-05</td>\n",
              "      <td>3069</td>\n",
              "      <td>3127</td>\n",
              "      <td>721</td>\n",
              "      <td>70538</td>\n",
              "    </tr>\n",
              "    <tr>\n",
              "      <th>58</th>\n",
              "      <td>2021-01-06</td>\n",
              "      <td>3088</td>\n",
              "      <td>3121</td>\n",
              "      <td>732</td>\n",
              "      <td>73360</td>\n",
              "    </tr>\n",
              "    <tr>\n",
              "      <th>59</th>\n",
              "      <td>2021-01-07</td>\n",
              "      <td>1883</td>\n",
              "      <td>1845</td>\n",
              "      <td>373</td>\n",
              "      <td>42193</td>\n",
              "    </tr>\n",
              "    <tr>\n",
              "      <th>60</th>\n",
              "      <td>2021-01-08</td>\n",
              "      <td>1787</td>\n",
              "      <td>1738</td>\n",
              "      <td>357</td>\n",
              "      <td>41858</td>\n",
              "    </tr>\n",
              "  </tbody>\n",
              "</table>\n",
              "<p>61 rows × 5 columns</p>\n",
              "</div>"
            ],
            "text/plain": [
              "      DateTime   사용자    세션  신규방문자    페이지뷰\n",
              "0   2020-11-09  1796  1755    379   44250\n",
              "1   2020-11-10  3979  3913   1037  105128\n",
              "2   2020-11-11  3804  3789   1019   98884\n",
              "3   2020-11-12  3520  3558    916   88109\n",
              "4   2020-11-13  3162  3229    811   80104\n",
              "..         ...   ...   ...    ...     ...\n",
              "56  2021-01-04  3455  3591    885   84135\n",
              "57  2021-01-05  3069  3127    721   70538\n",
              "58  2021-01-06  3088  3121    732   73360\n",
              "59  2021-01-07  1883  1845    373   42193\n",
              "60  2021-01-08  1787  1738    357   41858\n",
              "\n",
              "[61 rows x 5 columns]"
            ]
          },
          "metadata": {
            "tags": []
          },
          "execution_count": 59
        }
      ]
    },
    {
      "cell_type": "code",
      "metadata": {
        "id": "fiWtJ1DDt9x-"
      },
      "source": [
        "submission.to_csv('/content/drive/MyDrive/Colab Notebooks/LSTM_pytorch(Dacon)/input/제출1.csv', index = False, encoding = 'euc-kr')"
      ],
      "execution_count": 60,
      "outputs": []
    },
    {
      "cell_type": "code",
      "metadata": {
        "id": "Fcvux642t90U"
      },
      "source": [
        ""
      ],
      "execution_count": null,
      "outputs": []
    },
    {
      "cell_type": "code",
      "metadata": {
        "id": "mJ5bCz-ut92m"
      },
      "source": [
        ""
      ],
      "execution_count": null,
      "outputs": []
    },
    {
      "cell_type": "code",
      "metadata": {
        "id": "WyrGlx44t95X"
      },
      "source": [
        ""
      ],
      "execution_count": null,
      "outputs": []
    }
  ]
}